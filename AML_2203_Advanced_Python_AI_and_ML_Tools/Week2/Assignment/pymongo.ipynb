{
 "cells": [
  {
   "cell_type": "code",
   "execution_count": 3,
   "metadata": {},
   "outputs": [
    {
     "name": "stdout",
     "output_type": "stream",
     "text": [
      "Collecting pymongo\n",
      "  Downloading pymongo-4.0.1-cp38-cp38-macosx_10_9_x86_64.whl (351 kB)\n",
      "\u001b[K     |████████████████████████████████| 351 kB 2.8 MB/s eta 0:00:01\n",
      "\u001b[?25hInstalling collected packages: pymongo\n",
      "Successfully installed pymongo-4.0.1\n",
      "Note: you may need to restart the kernel to use updated packages.\n"
     ]
    }
   ],
   "source": [
    "pip install pymongo"
   ]
  },
  {
   "cell_type": "code",
   "execution_count": 4,
   "metadata": {},
   "outputs": [],
   "source": [
    "import pymongo"
   ]
  },
  {
   "cell_type": "code",
   "execution_count": 5,
   "metadata": {},
   "outputs": [
    {
     "name": "stdout",
     "output_type": "stream",
     "text": [
      "Connection Successful\n"
     ]
    }
   ],
   "source": [
    "client = pymongo.MongoClient(\"mongodb://127.0.0.1:27017\")\n",
    "print(\"Connection Successful\")"
   ]
  },
  {
   "cell_type": "code",
   "execution_count": 7,
   "metadata": {},
   "outputs": [
    {
     "data": {
      "text/plain": [
       "['BigSafarHotel',\n",
       " 'acme',\n",
       " 'admin',\n",
       " 'chat',\n",
       " 'chatcosey',\n",
       " 'checkdb',\n",
       " 'cmscart',\n",
       " 'config',\n",
       " 'local',\n",
       " 'movie-bag',\n",
       " 'newtemp',\n",
       " 'node_passport',\n",
       " 'tender-build']"
      ]
     },
     "execution_count": 7,
     "metadata": {},
     "output_type": "execute_result"
    }
   ],
   "source": [
    "client.list_database_names()"
   ]
  },
  {
   "cell_type": "code",
   "execution_count": 18,
   "metadata": {},
   "outputs": [],
   "source": [
    "db_name = \"fruit_db\"\n",
    "fruit_db = client[db_name]\n",
    "collection_name = \"fruits\"\n",
    "fruit_collection = fruit_db[collection_name]"
   ]
  },
  {
   "cell_type": "code",
   "execution_count": 19,
   "metadata": {},
   "outputs": [
    {
     "data": {
      "text/plain": [
       "<pymongo.results.InsertManyResult at 0x7fc3fe1fa580>"
      ]
     },
     "execution_count": 19,
     "metadata": {},
     "output_type": "execute_result"
    }
   ],
   "source": [
    "# Create Operation\n",
    "fruit_docs =[{\"fruit\": \"Apple\",    \"size\": \"Large\",    \"color\": \"Red\"},\n",
    "               {\"fruit\": \"Mango\",    \"size\": \"Medium\",    \"color\": \"Yellow\"},\n",
    "{\"fruit\": \"Guava\",    \"size\": \"small\",    \"color\": \"Green\"}]\n",
    "\n",
    "fruit_collection.insert_many(fruit_docs)"
   ]
  },
  {
   "cell_type": "code",
   "execution_count": 20,
   "metadata": {},
   "outputs": [],
   "source": [
    "query1 = {'fruit':'Apple'}\n",
    "res = fruit_collection.find_one(query1)"
   ]
  },
  {
   "cell_type": "code",
   "execution_count": 21,
   "metadata": {},
   "outputs": [
    {
     "data": {
      "text/plain": [
       "{'_id': ObjectId('61fdd5b6e61dff66bab685a3'),\n",
       " 'fruit': 'Apple',\n",
       " 'size': 'Large',\n",
       " 'color': 'Red'}"
      ]
     },
     "execution_count": 21,
     "metadata": {},
     "output_type": "execute_result"
    }
   ],
   "source": [
    "# Read operation\n",
    "res"
   ]
  },
  {
   "cell_type": "code",
   "execution_count": 22,
   "metadata": {},
   "outputs": [
    {
     "data": {
      "text/plain": [
       "<pymongo.results.UpdateResult at 0x7fc3fe323140>"
      ]
     },
     "execution_count": 22,
     "metadata": {},
     "output_type": "execute_result"
    }
   ],
   "source": [
    "# Update\n",
    "query_old = {\"fruit\":\"Apple\"}\n",
    "query_new = {'$set':{\"fruit\": \"Mango\"}}\n",
    "res1 = fruit_collection.update_one(query_old, query_new)\n",
    "res1\n"
   ]
  },
  {
   "cell_type": "code",
   "execution_count": 23,
   "metadata": {},
   "outputs": [],
   "source": [
    "# Delete Operation\n",
    "query_del ={\"fruit\":\"Mango\"}\n",
    "res2 = fruit_collection.delete_one(query_del)"
   ]
  },
  {
   "cell_type": "code",
   "execution_count": 24,
   "metadata": {},
   "outputs": [
    {
     "data": {
      "text/plain": [
       "<pymongo.results.DeleteResult at 0x7fc3fe3300c0>"
      ]
     },
     "execution_count": 24,
     "metadata": {},
     "output_type": "execute_result"
    }
   ],
   "source": [
    "res2"
   ]
  },
  {
   "cell_type": "code",
   "execution_count": null,
   "metadata": {},
   "outputs": [],
   "source": []
  }
 ],
 "metadata": {
  "kernelspec": {
   "display_name": "Python 3",
   "language": "python",
   "name": "python3"
  },
  "language_info": {
   "codemirror_mode": {
    "name": "ipython",
    "version": 3
   },
   "file_extension": ".py",
   "mimetype": "text/x-python",
   "name": "python",
   "nbconvert_exporter": "python",
   "pygments_lexer": "ipython3",
   "version": "3.8.3"
  }
 },
 "nbformat": 4,
 "nbformat_minor": 4
}
