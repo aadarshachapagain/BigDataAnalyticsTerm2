{
 "cells": [
  {
   "cell_type": "markdown",
   "metadata": {},
   "source": [
    "## Name: Aadarsha Chapagain\n",
    "## Student Id: c0825975\n"
   ]
  },
  {
   "cell_type": "code",
   "execution_count": 1,
   "metadata": {
    "colab": {
     "base_uri": "https://localhost:8080/"
    },
    "id": "oe4zjEKGaUCU",
    "outputId": "acb2b155-3009-4b4f-cfac-f1855c057a69"
   },
   "outputs": [
    {
     "name": "stdout",
     "output_type": "stream",
     "text": [
      "['Hello', 'everyone', 'Welcome', 'to', 'Word', 'Tokenization']\n"
     ]
    }
   ],
   "source": [
    "from sklearn.feature_extraction.text import CountVectorizer\n",
    "text = \"Hello everyone. Welcome to Word Tokenization\"\n",
    "vectorizer = CountVectorizer()\n",
    "tokenizer = vectorizer.build_tokenizer()\n",
    "tokens = tokenizer(text)\n",
    "print(tokens)"
   ]
  },
  {
   "cell_type": "code",
   "execution_count": 2,
   "metadata": {
    "colab": {
     "base_uri": "https://localhost:8080/"
    },
    "id": "yiy5RNVm7S-y",
    "outputId": "98f9d04b-4ab5-4543-f3d5-04012412e079"
   },
   "outputs": [
    {
     "name": "stdout",
     "output_type": "stream",
     "text": [
      "['be', 'some', 'always', 'yourselves', 'whereupon', 'she', 'seem', 'are', 'more', 'else', 'between', 'describe', 'was', 'cry', 'in', 'formerly', 'nor', 'themselves', 'noone', 'should', 'within', 'wherein', 'himself', 'indeed', 'been', 'whole', 'why', 'hers', 'beforehand', 'while', 'keep', 'etc', 'still', 'former', 'hasnt', 'six', 'meanwhile', 'there', 'con', 'where', 'even', 'except', 'both', 'twenty', 'side', 'upon', 'further', 'do', 'ourselves', 'become', 'seems', 'being', 'mill', 'twelve', 'had', 'how', 'before', 'everyone', 'them', 'have', 'whether', 'has', 'thru', 'out', 'get', 'well', 'call', 'bill', 'eleven', 'first', 'cannot', 'fifty', 'last', 'amoungst', 'alone', 'sincere', 'sixty', 'during', 'would', 'my', 'system', 'four', 'other', 'with', 'each', 'hence', 'below', 'everywhere', 'otherwise', 'then', 'moreover', 'bottom', 'thereafter', 'interest', 'whatever', 'own', 'find', 'ten', 'until', 'him', 'will', 'another', 'hereby', 'but', 'now', 'than', 'found', 'amongst', 'enough', 'about', 'along', 'her', 'which', 'may', 'take', 'this', 'who', 'once', 'for', 'herself', 'empty', 'that', 'beside', 'around', 'after', 'could', 'our', 'whose', 'such', 'one', 'co', 'un', 'ever', 'whereas', 'mine', 'me', 'done', 'rather', 'yet', 'anything', 'were', 'towards', 'least', 'of', 'might', 'hereafter', 'together', 'however', 'anyone', 'becoming', 'due', 'front', 'no', 'latter', 'give', 'cant', 'eg', 'part', 'since', 'de', 'and', 'not', 'nothing', 'beyond', 'none', 'ie', 'therefore', 'because', 'though', 're', 'toward', 'sometime', 'whoever', 'less', 'or', 'his', 'whence', 'mostly', 'into', 'few', 'up', 'your', 'only', 'inc', 'across', 'somehow', 'seemed', 'either', 'onto', 'among', 'fifteen', 'via', 'myself', 'off', 'sometimes', 'behind', 'also', 'all', 'he', 'much', 'go', 'whom', 'must', 'those', 'its', 'yours', 'anywhere', 'what', 'ltd', 'put', 'ours', 'serious', 'afterwards', 'never', 'from', 'couldnt', 'please', 'amount', 'although', 'you', 'nobody', 'often', 'an', 'is', 'per', 'eight', 'down', 'by', 'hereupon', 'if', 'itself', 'these', 'when', 'very', 'something', 'someone', 'others', 'neither', 'thence', 'the', 'wherever', 'became', 'two', 'fire', 'show', 'to', 'i', 'nine', 'can', 'at', 'detail', 'anyway', 'five', 'seeming', 'already', 'thin', 'thus', 'whereafter', 'almost', 'over', 'thereby', 'latterly', 'they', 'a', 'thereupon', 'third', 'next', 'nowhere', 'as', 'hundred', 'their', 'again', 'everything', 'above', 'top', 'here', 'move', 'whereby', 'most', 'every', 'same', 'therein', 'perhaps', 'herein', 'throughout', 'am', 'made', 'whenever', 'fill', 'against', 'any', 'full', 'without', 'thick', 'see', 'besides', 'yourself', 'forty', 'anyhow', 'three', 'back', 'elsewhere', 'us', 'name', 'becomes', 'we', 'many', 'under', 'so', 'namely', 'nevertheless', 'through', 'on', 'too', 'whither', 'somewhere', 'several', 'it']\n"
     ]
    }
   ],
   "source": [
    "from sklearn.feature_extraction import _stop_words\n",
    "StopWords = list(_stop_words.ENGLISH_STOP_WORDS)\n",
    "print(StopWords)"
   ]
  },
  {
   "cell_type": "code",
   "execution_count": 3,
   "metadata": {
    "colab": {
     "base_uri": "https://localhost:8080/"
    },
    "id": "9yyt48FhS8nL",
    "outputId": "49c447fb-5c20-481d-bb8e-c8034857b19b"
   },
   "outputs": [
    {
     "name": "stdout",
     "output_type": "stream",
     "text": [
      "['There', 'was', 'no', 'chance', 'for', 'any', 'character', 'development', 'they', 'were', 'busy']\n",
      "['There', 'chance', 'character', 'development', 'busy']\n"
     ]
    }
   ],
   "source": [
    "from sklearn.feature_extraction.text import CountVectorizer\n",
    "from sklearn.feature_extraction import _stop_words\n",
    "text = \"There was no chance for any character development they were busy\"\n",
    "StopWords = list(_stop_words.ENGLISH_STOP_WORDS)\n",
    "vectorizer = CountVectorizer()\n",
    "tokenizer = vectorizer.build_tokenizer()\n",
    "words = tokenizer(text)\n",
    "result = [] \n",
    "for w in words:\n",
    "    if w not in StopWords:\n",
    "        result.append(w)\n",
    "print(words)\n",
    "print(result)"
   ]
  },
  {
   "cell_type": "code",
   "execution_count": 4,
   "metadata": {
    "colab": {
     "base_uri": "https://localhost:8080/"
    },
    "id": "BquSsnkAaJeB",
    "outputId": "3fe9ff66-7a69-42be-cdff-c2b39ad16bf4"
   },
   "outputs": [
    {
     "name": "stdout",
     "output_type": "stream",
     "text": [
      "21\n",
      "{'movie': 15, 'awful': 1, 'movies': 16, 'wasn': 20, 'continuous': 7, 'minute': 13, 'fight': 11, 'monster': 14, 'chance': 5, 'character': 6, 'development': 9, 'busy': 4, 'running': 17, 'sword': 18, 'emotional': 10, 'attachment': 0, 'big': 3, 'bad': 2, 'machine': 12, 'wanted': 19, 'destroy': 8}\n",
      "[[0 1 0 0 0 0 0 0 0 0 0 0 0 0 0 1 1 0 0 0 0]\n",
      " [0 0 0 0 0 0 0 1 0 0 0 1 0 1 1 0 0 0 0 0 2]\n",
      " [0 0 0 0 1 1 1 0 0 1 0 1 0 0 0 0 0 1 1 0 0]\n",
      " [1 0 1 1 0 0 0 0 1 0 1 0 1 0 0 0 0 0 0 1 0]]\n"
     ]
    }
   ],
   "source": [
    "from sklearn.feature_extraction.text import CountVectorizer\n",
    "from sklearn.feature_extraction import _stop_words\n",
    "text = [\"this movie made it into one of my top ten most awful movies\", \n",
    "        \"there wasn't a continuous minute where there wasn't a fight with one monster or another\",\n",
    "        \"there was no chance for any character development they were too busy running from one sword fight to another\", \n",
    "        \"i had no emotional attachment except to the big bad machine that wanted to destroy them\"]\n",
    "StopWords = list(_stop_words.ENGLISH_STOP_WORDS)\n",
    "vectorizer = CountVectorizer(stop_words=StopWords)\n",
    "vectorizer.fit(text)\n",
    "print(len(vectorizer.vocabulary_))\n",
    "print(vectorizer.vocabulary_)\n",
    "vectors = vectorizer.transform(text)\n",
    "print(vectors.toarray())"
   ]
  },
  {
   "cell_type": "code",
   "execution_count": 5,
   "metadata": {
    "colab": {
     "base_uri": "https://localhost:8080/"
    },
    "id": "3TObOrnZZE9j",
    "outputId": "14455cd4-6067-4979-ada2-1a6f86b43728"
   },
   "outputs": [
    {
     "name": "stdout",
     "output_type": "stream",
     "text": [
      "\n",
      "idf values:\n",
      "data : 1.5108256237659907\n",
      "language : 1.916290731874155\n",
      "natural : 1.5108256237659907\n",
      "nlp : 1.916290731874155\n",
      "processing : 1.5108256237659907\n"
     ]
    }
   ],
   "source": [
    "# import required module\n",
    "from sklearn.feature_extraction.text import TfidfVectorizer\n",
    "data = ['Natural Language Processing','Natural data','NLP','Data Processing']\n",
    "tfidf = TfidfVectorizer()\n",
    "# get tf-df values\n",
    "result = tfidf.fit_transform(data)\n",
    "# get idf values\n",
    "print('\\nidf values:')\n",
    "for ele1, ele2 in zip(tfidf.get_feature_names(), tfidf.idf_):\n",
    "    print(ele1, ':', ele2)"
   ]
  },
  {
   "cell_type": "code",
   "execution_count": 6,
   "metadata": {
    "colab": {
     "base_uri": "https://localhost:8080/"
    },
    "id": "vYKU0h0hd8Fx",
    "outputId": "fa5bd638-b507-4153-d95e-48007538973d"
   },
   "outputs": [
    {
     "name": "stdout",
     "output_type": "stream",
     "text": [
      "\n",
      "Word indexes:\n",
      "{'natural': 2, 'language': 1, 'processing': 4, 'data': 0, 'nlp': 3}\n",
      "\n",
      "tf-idf values in matrix form:\n",
      "[[0.         0.66767854 0.52640543 0.         0.52640543]\n",
      " [0.70710678 0.         0.70710678 0.         0.        ]\n",
      " [0.         0.         0.         1.         0.        ]\n",
      " [0.70710678 0.         0.         0.         0.70710678]]\n"
     ]
    }
   ],
   "source": [
    "# get indexing\n",
    "print('\\nWord indexes:')\n",
    "print(tfidf.vocabulary_)\n",
    "  \n",
    "print('\\ntf-idf values in matrix form:')\n",
    "print(result.toarray())"
   ]
  },
  {
   "cell_type": "code",
   "execution_count": 7,
   "metadata": {
    "colab": {
     "base_uri": "https://localhost:8080/"
    },
    "id": "UWrnHSfYd_jh",
    "outputId": "8a82050c-58e1-443e-a10f-c2a54b607281"
   },
   "outputs": [
    {
     "name": "stdout",
     "output_type": "stream",
     "text": [
      "Porter Stemmer : \n",
      "program  :  program\n",
      "programs  :  program\n",
      "programmer  :  programm\n",
      "programming  :  program\n",
      "destabilize  :  destabil\n",
      "\n",
      " Lancaster Stemmer : \n",
      "program  :  program\n",
      "programs  :  program\n",
      "programmer  :  program\n",
      "programming  :  program\n",
      "destabilize  :  dest\n"
     ]
    }
   ],
   "source": [
    "from nltk.stem import PorterStemmer\n",
    "from nltk.stem import LancasterStemmer\n",
    "ps =  PorterStemmer()\n",
    "ls = LancasterStemmer()\n",
    "words = [\"program\", \"programs\", \"programmer\", \"programming\", \"destabilize\"]\n",
    "print('Porter Stemmer : ')\n",
    "for w in words:\n",
    "  print(w,\" : \",ps.stem(w))\n",
    "print('\\n Lancaster Stemmer : ')\n",
    "for w in words:\n",
    "  print(w,\" : \",ls.stem(w))"
   ]
  },
  {
   "cell_type": "code",
   "execution_count": 8,
   "metadata": {
    "colab": {
     "base_uri": "https://localhost:8080/"
    },
    "id": "4nRdZnNJf3hX",
    "outputId": "e1cc6793-75ec-40e2-d3d3-f0aae4912f68"
   },
   "outputs": [
    {
     "name": "stdout",
     "output_type": "stream",
     "text": [
      "['destabil', 'program', 'programm']\n"
     ]
    }
   ],
   "source": [
    "from sklearn.feature_extraction.text import CountVectorizer\n",
    "from nltk.stem import PorterStemmer\n",
    "\n",
    "stemmer = PorterStemmer()\n",
    "analyzer = CountVectorizer().build_analyzer()\n",
    "words = [\"program\", \"programs\", \"programmer\", \"programming\", \"destabilize\"]\n",
    "\n",
    "def stemmed_words(doc):\n",
    "    return (stemmer.stem(w) for w in analyzer(doc))\n",
    "\n",
    "stem_vectorizer = CountVectorizer(analyzer=stemmed_words)\n",
    "stem_vectorizer.fit_transform(words)\n",
    "print(stem_vectorizer.get_feature_names())"
   ]
  },
  {
   "cell_type": "code",
   "execution_count": null,
   "metadata": {
    "id": "dxAOtN9hgWoy"
   },
   "outputs": [],
   "source": []
  }
 ],
 "metadata": {
  "colab": {
   "collapsed_sections": [],
   "name": "Textual Data Handling with sklearn.ipynb",
   "provenance": []
  },
  "kernelspec": {
   "display_name": "Python 3 (ipykernel)",
   "language": "python",
   "name": "python3"
  },
  "language_info": {
   "codemirror_mode": {
    "name": "ipython",
    "version": 3
   },
   "file_extension": ".py",
   "mimetype": "text/x-python",
   "name": "python",
   "nbconvert_exporter": "python",
   "pygments_lexer": "ipython3",
   "version": "3.9.7"
  }
 },
 "nbformat": 4,
 "nbformat_minor": 1
}
