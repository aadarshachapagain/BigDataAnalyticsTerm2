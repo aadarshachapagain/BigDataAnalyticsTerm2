{
  "cells": [
    {
      "cell_type": "markdown",
      "metadata": {
        "id": "ujR9d4lKEmS6"
      },
      "source": [
        "## Importing Libraries"
      ]
    },
    {
      "cell_type": "code",
      "execution_count": 3,
      "metadata": {
        "id": "EFPGwlShEmTC"
      },
      "outputs": [],
      "source": [
        "import numpy as np\n",
        "import matplotlib.pyplot as plt\n",
        "import pandas as pd"
      ]
    },
    {
      "cell_type": "markdown",
      "source": [
        "https://www.kaggle.com/kamleshsam/student-scores"
      ],
      "metadata": {
        "id": "yoeLhfn-4VeM"
      }
    },
    {
      "cell_type": "markdown",
      "metadata": {
        "id": "3C4Sf-XBEmTE"
      },
      "source": [
        "## Datasets"
      ]
    },
    {
      "cell_type": "code",
      "execution_count": 4,
      "metadata": {
        "id": "upk6-NlrEmTG"
      },
      "outputs": [],
      "source": [
        "# dataset = pd.read_csv('/content/sample_data/student_scores.csv')\n",
        "dataset = pd.read_csv('/content/sample_data/student_scores.csv')"
      ]
    },
    {
      "cell_type": "code",
      "execution_count": 5,
      "metadata": {
        "id": "Ph6TEGmAEmTG",
        "colab": {
          "base_uri": "https://localhost:8080/",
          "height": 865
        },
        "outputId": "b7b08221-10c0-4565-c530-305a83ccaa89"
      },
      "outputs": [
        {
          "output_type": "execute_result",
          "data": {
            "text/html": [
              "\n",
              "  <div id=\"df-6d00e55f-e94a-4187-a8b3-57202f8922d1\">\n",
              "    <div class=\"colab-df-container\">\n",
              "      <div>\n",
              "<style scoped>\n",
              "    .dataframe tbody tr th:only-of-type {\n",
              "        vertical-align: middle;\n",
              "    }\n",
              "\n",
              "    .dataframe tbody tr th {\n",
              "        vertical-align: top;\n",
              "    }\n",
              "\n",
              "    .dataframe thead th {\n",
              "        text-align: right;\n",
              "    }\n",
              "</style>\n",
              "<table border=\"1\" class=\"dataframe\">\n",
              "  <thead>\n",
              "    <tr style=\"text-align: right;\">\n",
              "      <th></th>\n",
              "      <th>Hour (x)</th>\n",
              "      <th>Score (y)</th>\n",
              "    </tr>\n",
              "  </thead>\n",
              "  <tbody>\n",
              "    <tr>\n",
              "      <th>0</th>\n",
              "      <td>2.500</td>\n",
              "      <td>21.00</td>\n",
              "    </tr>\n",
              "    <tr>\n",
              "      <th>1</th>\n",
              "      <td>5.100</td>\n",
              "      <td>47.00</td>\n",
              "    </tr>\n",
              "    <tr>\n",
              "      <th>2</th>\n",
              "      <td>3.200</td>\n",
              "      <td>27.00</td>\n",
              "    </tr>\n",
              "    <tr>\n",
              "      <th>3</th>\n",
              "      <td>8.500</td>\n",
              "      <td>75.00</td>\n",
              "    </tr>\n",
              "    <tr>\n",
              "      <th>4</th>\n",
              "      <td>3.500</td>\n",
              "      <td>30.00</td>\n",
              "    </tr>\n",
              "    <tr>\n",
              "      <th>5</th>\n",
              "      <td>1.500</td>\n",
              "      <td>20.00</td>\n",
              "    </tr>\n",
              "    <tr>\n",
              "      <th>6</th>\n",
              "      <td>9.200</td>\n",
              "      <td>88.00</td>\n",
              "    </tr>\n",
              "    <tr>\n",
              "      <th>7</th>\n",
              "      <td>5.500</td>\n",
              "      <td>60.00</td>\n",
              "    </tr>\n",
              "    <tr>\n",
              "      <th>8</th>\n",
              "      <td>8.300</td>\n",
              "      <td>81.00</td>\n",
              "    </tr>\n",
              "    <tr>\n",
              "      <th>9</th>\n",
              "      <td>2.700</td>\n",
              "      <td>25.00</td>\n",
              "    </tr>\n",
              "    <tr>\n",
              "      <th>10</th>\n",
              "      <td>7.700</td>\n",
              "      <td>85.00</td>\n",
              "    </tr>\n",
              "    <tr>\n",
              "      <th>11</th>\n",
              "      <td>5.900</td>\n",
              "      <td>62.00</td>\n",
              "    </tr>\n",
              "    <tr>\n",
              "      <th>12</th>\n",
              "      <td>4.500</td>\n",
              "      <td>41.00</td>\n",
              "    </tr>\n",
              "    <tr>\n",
              "      <th>13</th>\n",
              "      <td>3.300</td>\n",
              "      <td>42.00</td>\n",
              "    </tr>\n",
              "    <tr>\n",
              "      <th>14</th>\n",
              "      <td>1.100</td>\n",
              "      <td>17.00</td>\n",
              "    </tr>\n",
              "    <tr>\n",
              "      <th>15</th>\n",
              "      <td>8.900</td>\n",
              "      <td>95.00</td>\n",
              "    </tr>\n",
              "    <tr>\n",
              "      <th>16</th>\n",
              "      <td>2.500</td>\n",
              "      <td>30.00</td>\n",
              "    </tr>\n",
              "    <tr>\n",
              "      <th>17</th>\n",
              "      <td>1.900</td>\n",
              "      <td>24.00</td>\n",
              "    </tr>\n",
              "    <tr>\n",
              "      <th>18</th>\n",
              "      <td>6.100</td>\n",
              "      <td>67.00</td>\n",
              "    </tr>\n",
              "    <tr>\n",
              "      <th>19</th>\n",
              "      <td>7.400</td>\n",
              "      <td>69.00</td>\n",
              "    </tr>\n",
              "    <tr>\n",
              "      <th>20</th>\n",
              "      <td>2.700</td>\n",
              "      <td>30.00</td>\n",
              "    </tr>\n",
              "    <tr>\n",
              "      <th>21</th>\n",
              "      <td>4.800</td>\n",
              "      <td>54.00</td>\n",
              "    </tr>\n",
              "    <tr>\n",
              "      <th>22</th>\n",
              "      <td>3.800</td>\n",
              "      <td>35.00</td>\n",
              "    </tr>\n",
              "    <tr>\n",
              "      <th>23</th>\n",
              "      <td>6.900</td>\n",
              "      <td>76.00</td>\n",
              "    </tr>\n",
              "    <tr>\n",
              "      <th>24</th>\n",
              "      <td>7.800</td>\n",
              "      <td>86.00</td>\n",
              "    </tr>\n",
              "    <tr>\n",
              "      <th>25</th>\n",
              "      <td>5.012</td>\n",
              "      <td>51.48</td>\n",
              "    </tr>\n",
              "  </tbody>\n",
              "</table>\n",
              "</div>\n",
              "      <button class=\"colab-df-convert\" onclick=\"convertToInteractive('df-6d00e55f-e94a-4187-a8b3-57202f8922d1')\"\n",
              "              title=\"Convert this dataframe to an interactive table.\"\n",
              "              style=\"display:none;\">\n",
              "        \n",
              "  <svg xmlns=\"http://www.w3.org/2000/svg\" height=\"24px\"viewBox=\"0 0 24 24\"\n",
              "       width=\"24px\">\n",
              "    <path d=\"M0 0h24v24H0V0z\" fill=\"none\"/>\n",
              "    <path d=\"M18.56 5.44l.94 2.06.94-2.06 2.06-.94-2.06-.94-.94-2.06-.94 2.06-2.06.94zm-11 1L8.5 8.5l.94-2.06 2.06-.94-2.06-.94L8.5 2.5l-.94 2.06-2.06.94zm10 10l.94 2.06.94-2.06 2.06-.94-2.06-.94-.94-2.06-.94 2.06-2.06.94z\"/><path d=\"M17.41 7.96l-1.37-1.37c-.4-.4-.92-.59-1.43-.59-.52 0-1.04.2-1.43.59L10.3 9.45l-7.72 7.72c-.78.78-.78 2.05 0 2.83L4 21.41c.39.39.9.59 1.41.59.51 0 1.02-.2 1.41-.59l7.78-7.78 2.81-2.81c.8-.78.8-2.07 0-2.86zM5.41 20L4 18.59l7.72-7.72 1.47 1.35L5.41 20z\"/>\n",
              "  </svg>\n",
              "      </button>\n",
              "      \n",
              "  <style>\n",
              "    .colab-df-container {\n",
              "      display:flex;\n",
              "      flex-wrap:wrap;\n",
              "      gap: 12px;\n",
              "    }\n",
              "\n",
              "    .colab-df-convert {\n",
              "      background-color: #E8F0FE;\n",
              "      border: none;\n",
              "      border-radius: 50%;\n",
              "      cursor: pointer;\n",
              "      display: none;\n",
              "      fill: #1967D2;\n",
              "      height: 32px;\n",
              "      padding: 0 0 0 0;\n",
              "      width: 32px;\n",
              "    }\n",
              "\n",
              "    .colab-df-convert:hover {\n",
              "      background-color: #E2EBFA;\n",
              "      box-shadow: 0px 1px 2px rgba(60, 64, 67, 0.3), 0px 1px 3px 1px rgba(60, 64, 67, 0.15);\n",
              "      fill: #174EA6;\n",
              "    }\n",
              "\n",
              "    [theme=dark] .colab-df-convert {\n",
              "      background-color: #3B4455;\n",
              "      fill: #D2E3FC;\n",
              "    }\n",
              "\n",
              "    [theme=dark] .colab-df-convert:hover {\n",
              "      background-color: #434B5C;\n",
              "      box-shadow: 0px 1px 3px 1px rgba(0, 0, 0, 0.15);\n",
              "      filter: drop-shadow(0px 1px 2px rgba(0, 0, 0, 0.3));\n",
              "      fill: #FFFFFF;\n",
              "    }\n",
              "  </style>\n",
              "\n",
              "      <script>\n",
              "        const buttonEl =\n",
              "          document.querySelector('#df-6d00e55f-e94a-4187-a8b3-57202f8922d1 button.colab-df-convert');\n",
              "        buttonEl.style.display =\n",
              "          google.colab.kernel.accessAllowed ? 'block' : 'none';\n",
              "\n",
              "        async function convertToInteractive(key) {\n",
              "          const element = document.querySelector('#df-6d00e55f-e94a-4187-a8b3-57202f8922d1');\n",
              "          const dataTable =\n",
              "            await google.colab.kernel.invokeFunction('convertToInteractive',\n",
              "                                                     [key], {});\n",
              "          if (!dataTable) return;\n",
              "\n",
              "          const docLinkHtml = 'Like what you see? Visit the ' +\n",
              "            '<a target=\"_blank\" href=https://colab.research.google.com/notebooks/data_table.ipynb>data table notebook</a>'\n",
              "            + ' to learn more about interactive tables.';\n",
              "          element.innerHTML = '';\n",
              "          dataTable['output_type'] = 'display_data';\n",
              "          await google.colab.output.renderOutput(dataTable, element);\n",
              "          const docLink = document.createElement('div');\n",
              "          docLink.innerHTML = docLinkHtml;\n",
              "          element.appendChild(docLink);\n",
              "        }\n",
              "      </script>\n",
              "    </div>\n",
              "  </div>\n",
              "  "
            ],
            "text/plain": [
              "    Hour (x)  Score (y)\n",
              "0      2.500      21.00\n",
              "1      5.100      47.00\n",
              "2      3.200      27.00\n",
              "3      8.500      75.00\n",
              "4      3.500      30.00\n",
              "5      1.500      20.00\n",
              "6      9.200      88.00\n",
              "7      5.500      60.00\n",
              "8      8.300      81.00\n",
              "9      2.700      25.00\n",
              "10     7.700      85.00\n",
              "11     5.900      62.00\n",
              "12     4.500      41.00\n",
              "13     3.300      42.00\n",
              "14     1.100      17.00\n",
              "15     8.900      95.00\n",
              "16     2.500      30.00\n",
              "17     1.900      24.00\n",
              "18     6.100      67.00\n",
              "19     7.400      69.00\n",
              "20     2.700      30.00\n",
              "21     4.800      54.00\n",
              "22     3.800      35.00\n",
              "23     6.900      76.00\n",
              "24     7.800      86.00\n",
              "25     5.012      51.48"
            ]
          },
          "metadata": {},
          "execution_count": 5
        }
      ],
      "source": [
        "dataset"
      ]
    },
    {
      "cell_type": "markdown",
      "metadata": {
        "id": "5S4ed8uNEmTI"
      },
      "source": [
        "## Features and Labels"
      ]
    },
    {
      "cell_type": "code",
      "execution_count": 6,
      "metadata": {
        "id": "MCHWeDHcEmTJ"
      },
      "outputs": [],
      "source": [
        "X = dataset['Hour (x)'].values"
      ]
    },
    {
      "cell_type": "code",
      "execution_count": 7,
      "metadata": {
        "id": "nUP-7L8qEmTK"
      },
      "outputs": [],
      "source": [
        "y = dataset['Score (y)'].values"
      ]
    },
    {
      "cell_type": "code",
      "execution_count": 8,
      "metadata": {
        "id": "XyZ_UzdCEmTL",
        "colab": {
          "base_uri": "https://localhost:8080/",
          "height": 282
        },
        "outputId": "bf7b2ecd-669d-4405-f8e6-5e95a1921b44"
      },
      "outputs": [
        {
          "output_type": "execute_result",
          "data": {
            "text/plain": [
              "<matplotlib.collections.PathCollection at 0x7f9dc2988310>"
            ]
          },
          "metadata": {},
          "execution_count": 8
        },
        {
          "output_type": "display_data",
          "data": {
            "image/png": "[encoded data removed]",
            "text/plain": [
              "<Figure size 432x288 with 1 Axes>"
            ]
          },
          "metadata": {
            "needs_background": "light"
          }
        }
      ],
      "source": [
        "plt.scatter(X, y, color = 'blue')"
      ]
    },
    {
      "cell_type": "code",
      "execution_count": 9,
      "metadata": {
        "id": "u0I6qgHyEmTM",
        "colab": {
          "base_uri": "https://localhost:8080/"
        },
        "outputId": "2e63471f-083c-49cf-94e5-1b463dbfdff1"
      },
      "outputs": [
        {
          "output_type": "stream",
          "name": "stdout",
          "text": [
            "[2.5   5.1   3.2   8.5   3.5   1.5   9.2   5.5   8.3   2.7   7.7   5.9\n",
            " 4.5   3.3   1.1   8.9   2.5   1.9   6.1   7.4   2.7   4.8   3.8   6.9\n",
            " 7.8   5.012]\n"
          ]
        }
      ],
      "source": [
        "print(X)"
      ]
    },
    {
      "cell_type": "code",
      "execution_count": 10,
      "metadata": {
        "id": "YN8sDCQfEmTN",
        "colab": {
          "base_uri": "https://localhost:8080/"
        },
        "outputId": "15ddf517-e1c4-45ff-a02b-66903a2e4a7e"
      },
      "outputs": [
        {
          "output_type": "stream",
          "name": "stdout",
          "text": [
            "[21.   47.   27.   75.   30.   20.   88.   60.   81.   25.   85.   62.\n",
            " 41.   42.   17.   95.   30.   24.   67.   69.   30.   54.   35.   76.\n",
            " 86.   51.48]\n"
          ]
        }
      ],
      "source": [
        "print(y)"
      ]
    },
    {
      "cell_type": "code",
      "execution_count": 11,
      "metadata": {
        "id": "CUJgWoYpEmTP"
      },
      "outputs": [],
      "source": [
        "y=y.reshape(len(y),1)\n",
        "X=X.reshape(len(y),1)"
      ]
    },
    {
      "cell_type": "markdown",
      "metadata": {
        "id": "xtodxg78EmTQ"
      },
      "source": [
        "## Splitting the dataset"
      ]
    },
    {
      "cell_type": "code",
      "execution_count": 12,
      "metadata": {
        "id": "SxjV22k2EmTQ"
      },
      "outputs": [],
      "source": [
        "from sklearn.model_selection import train_test_split"
      ]
    },
    {
      "cell_type": "code",
      "execution_count": 13,
      "metadata": {
        "id": "JACOsqwwEmTQ"
      },
      "outputs": [],
      "source": [
        "X_train, X_test, y_train, y_test = train_test_split(X, y, test_size = 1/3, random_state = 2)"
      ]
    },
    {
      "cell_type": "code",
      "execution_count": 14,
      "metadata": {
        "id": "APTZKdQGEmTR",
        "colab": {
          "base_uri": "https://localhost:8080/"
        },
        "outputId": "5a8da4c4-819a-453f-8ef6-6dd89d59ad5f"
      },
      "outputs": [
        {
          "output_type": "stream",
          "name": "stdout",
          "text": [
            "[[6.9  ]\n",
            " [1.1  ]\n",
            " [3.5  ]\n",
            " [7.7  ]\n",
            " [1.5  ]\n",
            " [7.4  ]\n",
            " [5.1  ]\n",
            " [3.2  ]\n",
            " [5.5  ]\n",
            " [3.8  ]\n",
            " [4.8  ]\n",
            " [6.1  ]\n",
            " [5.9  ]\n",
            " [5.012]\n",
            " [3.3  ]\n",
            " [8.9  ]\n",
            " [8.3  ]]\n"
          ]
        }
      ],
      "source": [
        "print(X_train)"
      ]
    },
    {
      "cell_type": "code",
      "execution_count": 15,
      "metadata": {
        "id": "r3yTC9iGEmTR",
        "colab": {
          "base_uri": "https://localhost:8080/"
        },
        "outputId": "04d4835c-9bc9-42da-c19c-6f305be253dd"
      },
      "outputs": [
        {
          "output_type": "stream",
          "name": "stdout",
          "text": [
            "[[76.  ]\n",
            " [17.  ]\n",
            " [30.  ]\n",
            " [85.  ]\n",
            " [20.  ]\n",
            " [69.  ]\n",
            " [47.  ]\n",
            " [27.  ]\n",
            " [60.  ]\n",
            " [35.  ]\n",
            " [54.  ]\n",
            " [67.  ]\n",
            " [62.  ]\n",
            " [51.48]\n",
            " [42.  ]\n",
            " [95.  ]\n",
            " [81.  ]]\n"
          ]
        }
      ],
      "source": [
        "print(y_train)"
      ]
    },
    {
      "cell_type": "code",
      "execution_count": 16,
      "metadata": {
        "id": "XRFWHxtsEmTS",
        "colab": {
          "base_uri": "https://localhost:8080/"
        },
        "outputId": "316a165f-859d-4cbe-efac-4dd5526eb80d"
      },
      "outputs": [
        {
          "output_type": "stream",
          "name": "stdout",
          "text": [
            "[[7.8]\n",
            " [2.5]\n",
            " [2.7]\n",
            " [2.7]\n",
            " [2.5]\n",
            " [4.5]\n",
            " [9.2]\n",
            " [8.5]\n",
            " [1.9]]\n"
          ]
        }
      ],
      "source": [
        "print(X_test)"
      ]
    },
    {
      "cell_type": "code",
      "execution_count": 17,
      "metadata": {
        "id": "v6_kEV-PEmTS",
        "colab": {
          "base_uri": "https://localhost:8080/"
        },
        "outputId": "38bb6870-e1f4-4473-8bbd-51f99ba21bf9"
      },
      "outputs": [
        {
          "output_type": "stream",
          "name": "stdout",
          "text": [
            "[[86.]\n",
            " [21.]\n",
            " [25.]\n",
            " [30.]\n",
            " [30.]\n",
            " [41.]\n",
            " [88.]\n",
            " [75.]\n",
            " [24.]]\n"
          ]
        }
      ],
      "source": [
        "print(y_test)"
      ]
    },
    {
      "cell_type": "code",
      "execution_count": 18,
      "metadata": {
        "id": "OBGHbSTsEmTT",
        "colab": {
          "base_uri": "https://localhost:8080/"
        },
        "outputId": "b31f808c-4e81-4a4f-ceeb-cb755e8ace9c"
      },
      "outputs": [
        {
          "output_type": "execute_result",
          "data": {
            "text/plain": [
              "(17, 1)"
            ]
          },
          "metadata": {},
          "execution_count": 18
        }
      ],
      "source": [
        "X_train.shape"
      ]
    },
    {
      "cell_type": "markdown",
      "metadata": {
        "id": "IzIWaUIhEmTT"
      },
      "source": [
        "## Model Setup"
      ]
    },
    {
      "cell_type": "code",
      "execution_count": 19,
      "metadata": {
        "id": "BUqRfMijEmTU"
      },
      "outputs": [],
      "source": [
        "from sklearn.linear_model import LinearRegression"
      ]
    },
    {
      "cell_type": "code",
      "execution_count": 20,
      "metadata": {
        "id": "ORv0xoS0EmTU"
      },
      "outputs": [],
      "source": [
        "model = LinearRegression()"
      ]
    },
    {
      "cell_type": "markdown",
      "metadata": {
        "id": "htXY50bJEmTU"
      },
      "source": [
        "## Training"
      ]
    },
    {
      "cell_type": "code",
      "execution_count": 21,
      "metadata": {
        "id": "nZfl2tRuEmTU",
        "colab": {
          "base_uri": "https://localhost:8080/"
        },
        "outputId": "7a4ea7af-ac8e-4f4c-da1d-fec85ed70ca5"
      },
      "outputs": [
        {
          "output_type": "execute_result",
          "data": {
            "text/plain": [
              "LinearRegression()"
            ]
          },
          "metadata": {},
          "execution_count": 21
        }
      ],
      "source": [
        "model.fit(X_train, y_train)"
      ]
    },
    {
      "cell_type": "code",
      "execution_count": 22,
      "metadata": {
        "id": "fAn2S_hoEmTX",
        "colab": {
          "base_uri": "https://localhost:8080/"
        },
        "outputId": "bea9cd4c-7f41-407f-a38a-d402d04e3ccf"
      },
      "outputs": [
        {
          "output_type": "execute_result",
          "data": {
            "text/plain": [
              "array([[10.08578922]])"
            ]
          },
          "metadata": {},
          "execution_count": 22
        }
      ],
      "source": [
        "model.coef_"
      ]
    },
    {
      "cell_type": "code",
      "execution_count": 23,
      "metadata": {
        "id": "CmXZxmhMEmTX",
        "colab": {
          "base_uri": "https://localhost:8080/"
        },
        "outputId": "e1682324-a5ea-477a-c7f0-b4b82c074557"
      },
      "outputs": [
        {
          "output_type": "execute_result",
          "data": {
            "text/plain": [
              "array([1.81232466])"
            ]
          },
          "metadata": {},
          "execution_count": 23
        }
      ],
      "source": [
        "model.intercept_"
      ]
    },
    {
      "cell_type": "markdown",
      "metadata": {
        "id": "acwIc2IiEmTX"
      },
      "source": [
        "So, Equation will be,\n",
        "\n",
        "Score = 10.08578922*Hour + 1.81232466"
      ]
    },
    {
      "cell_type": "markdown",
      "metadata": {
        "id": "ijOkros7EmTY"
      },
      "source": [
        "## Evaluating Model"
      ]
    },
    {
      "cell_type": "code",
      "execution_count": 24,
      "metadata": {
        "id": "MM48dBSfEmTY",
        "colab": {
          "base_uri": "https://localhost:8080/"
        },
        "outputId": "6c8b365f-2b2b-4c8a-a02f-09b15c5688c0"
      },
      "outputs": [
        {
          "output_type": "stream",
          "name": "stdout",
          "text": [
            "0.9506711382541375\n"
          ]
        }
      ],
      "source": [
        "print(model.score(X, y))"
      ]
    },
    {
      "cell_type": "markdown",
      "metadata": {
        "id": "yFT5IuCcEmTa"
      },
      "source": [
        "## Predicting on Test data"
      ]
    },
    {
      "cell_type": "code",
      "execution_count": 25,
      "metadata": {
        "id": "rR_OYrhXEmTb"
      },
      "outputs": [],
      "source": [
        "y_pred = model.predict(X_test)"
      ]
    },
    {
      "cell_type": "code",
      "execution_count": 26,
      "metadata": {
        "id": "QhrrBfLkEmTZ"
      },
      "outputs": [],
      "source": [
        "from sklearn.metrics import r2_score"
      ]
    },
    {
      "cell_type": "code",
      "execution_count": 27,
      "metadata": {
        "id": "-tRWSDrdEmTa",
        "colab": {
          "base_uri": "https://localhost:8080/"
        },
        "outputId": "98de347c-d433-4b45-eba6-7231c06a0bfe"
      },
      "outputs": [
        {
          "output_type": "execute_result",
          "data": {
            "text/plain": [
              "0.9457182905802487"
            ]
          },
          "metadata": {},
          "execution_count": 27
        }
      ],
      "source": [
        "r2_score(y_test, y_pred)"
      ]
    },
    {
      "cell_type": "markdown",
      "metadata": {
        "id": "VRNTxjP0EmTb"
      },
      "source": [
        "## Visualisation"
      ]
    },
    {
      "cell_type": "code",
      "execution_count": 28,
      "metadata": {
        "id": "DDxNOr3nEmTb",
        "colab": {
          "base_uri": "https://localhost:8080/",
          "height": 513
        },
        "outputId": "872c7f87-56ab-4a68-d0b3-584af248da38"
      },
      "outputs": [
        {
          "output_type": "display_data",
          "data": {
            "image/png": "[encoded data removed]",
            "text/plain": [
              "<Figure size 720x576 with 1 Axes>"
            ]
          },
          "metadata": {
            "needs_background": "light"
          }
        }
      ],
      "source": [
        "plt.figure(figsize=(10, 8))\n",
        "plt.scatter(X_train, y_train, color = 'blue')\n",
        "plt.plot(X_train, model.predict(X_train), color = 'green')\n",
        "plt.title('Training data')\n",
        "plt.xlabel('Hour')\n",
        "plt.ylabel('Score')\n",
        "plt.show()"
      ]
    },
    {
      "cell_type": "code",
      "execution_count": 29,
      "metadata": {
        "id": "ec3O3slqEmTc",
        "colab": {
          "base_uri": "https://localhost:8080/",
          "height": 513
        },
        "outputId": "0d3fe5ec-06b8-457f-f196-fbede453bb7c"
      },
      "outputs": [
        {
          "output_type": "display_data",
          "data": {
            "image/png": "[encoded data removed]",
            "text/plain": [
              "<Figure size 720x576 with 1 Axes>"
            ]
          },
          "metadata": {
            "needs_background": "light"
          }
        }
      ],
      "source": [
        "plt.figure(figsize=(10, 8))\n",
        "plt.scatter(X_test, y_test, color = 'blue')\n",
        "plt.plot(X_train, model.predict(X_train), color = 'green')\n",
        "plt.title('Test data')\n",
        "plt.xlabel('Hour')\n",
        "plt.ylabel('Score')\n",
        "plt.show()"
      ]
    },
    {
      "cell_type": "markdown",
      "metadata": {
        "id": "JdfK-ZrdEmTc"
      },
      "source": [
        "## Predicting on single value"
      ]
    },
    {
      "cell_type": "code",
      "execution_count": 30,
      "metadata": {
        "id": "62ZsPvq3EmTc"
      },
      "outputs": [],
      "source": [
        "y1 = model.predict([[4.5]])  #search on google for population of india in 2021"
      ]
    },
    {
      "cell_type": "code",
      "execution_count": 31,
      "metadata": {
        "id": "Jm5n2FGfEmTd",
        "colab": {
          "base_uri": "https://localhost:8080/"
        },
        "outputId": "cda4d9fd-0447-439f-9204-2aff6d5fdf96"
      },
      "outputs": [
        {
          "output_type": "stream",
          "name": "stdout",
          "text": [
            "[47.19837615]\n"
          ]
        }
      ],
      "source": [
        "print(y1[0])  #list value  "
      ]
    }
  ],
  "metadata": {
    "kernelspec": {
      "display_name": "Python 3",
      "language": "python",
      "name": "python3"
    },
    "language_info": {
      "codemirror_mode": {
        "name": "ipython",
        "version": 3
      },
      "file_extension": ".py",
      "mimetype": "text/x-python",
      "name": "python",
      "nbconvert_exporter": "python",
      "pygments_lexer": "ipython3",
      "version": "3.8.3"
    },
    "colab": {
      "name": "PML_SimpleLinearRegression_Student_score.ipynb",
      "provenance": [],
      "collapsed_sections": [
        "xtodxg78EmTQ",
        "IzIWaUIhEmTT",
        "htXY50bJEmTU",
        "ijOkros7EmTY",
        "yFT5IuCcEmTa",
        "VRNTxjP0EmTb"
      ]
    }
  },
  "nbformat": 4,
  "nbformat_minor": 0
}