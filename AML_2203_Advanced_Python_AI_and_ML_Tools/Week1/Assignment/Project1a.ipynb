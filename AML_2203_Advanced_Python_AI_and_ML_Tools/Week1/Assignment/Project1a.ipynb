{
 "cells": [
  {
   "cell_type": "markdown",
   "id": "900dd18c",
   "metadata": {},
   "source": [
    "## 1.Import an XML file using python"
   ]
  },
  {
   "attachments": {},
   "cell_type": "markdown",
   "id": "e00902f1",
   "metadata": {},
   "source": [
    "1. \n",
    "\"We have the following structure for books.xml and the code was designed to parse this particular XML file only\"\n",
    "<books>\n",
    "<book>\n",
    "        <author>Gambardella, Matthew</author>\n",
    "        <title>XML Developer's Guide</title>\n",
    "        <genre>Computer</genre>\n",
    "        <price discount=\"0.15\">44.95</price>\n",
    "        <publish_date>2000-10-01</publish_date>\n",
    "        <description>An in-depth look at creating applications with XML.</description>\n",
    "</book>\n",
    "</books>"
   ]
  },
  {
   "cell_type": "code",
   "execution_count": 52,
   "id": "7e5596e8",
   "metadata": {},
   "outputs": [
    {
     "data": {
      "text/html": [
       "<div>\n",
       "<style scoped>\n",
       "    .dataframe tbody tr th:only-of-type {\n",
       "        vertical-align: middle;\n",
       "    }\n",
       "\n",
       "    .dataframe tbody tr th {\n",
       "        vertical-align: top;\n",
       "    }\n",
       "\n",
       "    .dataframe thead th {\n",
       "        text-align: right;\n",
       "    }\n",
       "</style>\n",
       "<table border=\"1\" class=\"dataframe\">\n",
       "  <thead>\n",
       "    <tr style=\"text-align: right;\">\n",
       "      <th></th>\n",
       "      <th>author</th>\n",
       "      <th>title</th>\n",
       "      <th>genre</th>\n",
       "      <th>price</th>\n",
       "    </tr>\n",
       "  </thead>\n",
       "  <tbody>\n",
       "    <tr>\n",
       "      <th>0</th>\n",
       "      <td>Gambardella, Matthew</td>\n",
       "      <td>XML Developer's Guide</td>\n",
       "      <td>Computer</td>\n",
       "      <td>44.95</td>\n",
       "    </tr>\n",
       "    <tr>\n",
       "      <th>1</th>\n",
       "      <td>Corets, Eva</td>\n",
       "      <td>Maeve Ascendant</td>\n",
       "      <td>Fantasy</td>\n",
       "      <td>5.95</td>\n",
       "    </tr>\n",
       "    <tr>\n",
       "      <th>2</th>\n",
       "      <td>Ralls, Kim</td>\n",
       "      <td>Midnight Rain</td>\n",
       "      <td>Fantasy</td>\n",
       "      <td>5.95</td>\n",
       "    </tr>\n",
       "    <tr>\n",
       "      <th>3</th>\n",
       "      <td>Randall, Cynthia</td>\n",
       "      <td>Lover Birds</td>\n",
       "      <td>Romance</td>\n",
       "      <td>4.95</td>\n",
       "    </tr>\n",
       "    <tr>\n",
       "      <th>4</th>\n",
       "      <td>Thurman, Paula</td>\n",
       "      <td>Splish Splash</td>\n",
       "      <td>Romance</td>\n",
       "      <td>4.95</td>\n",
       "    </tr>\n",
       "    <tr>\n",
       "      <th>5</th>\n",
       "      <td>Knorr, Stefan</td>\n",
       "      <td>Creepy Crawlies</td>\n",
       "      <td>Horror</td>\n",
       "      <td>4.95</td>\n",
       "    </tr>\n",
       "    <tr>\n",
       "      <th>6</th>\n",
       "      <td>Kress, Peter</td>\n",
       "      <td>Paradox Lost</td>\n",
       "      <td>Science Fiction</td>\n",
       "      <td>6.95</td>\n",
       "    </tr>\n",
       "    <tr>\n",
       "      <th>7</th>\n",
       "      <td>O'Brien, Tim</td>\n",
       "      <td>Microsoft .NET: The Programming Bible</td>\n",
       "      <td>Computer</td>\n",
       "      <td>36.95</td>\n",
       "    </tr>\n",
       "    <tr>\n",
       "      <th>8</th>\n",
       "      <td>Galos, Mike</td>\n",
       "      <td>Visual Studio 7: A Comprehensive Guide</td>\n",
       "      <td>Computer</td>\n",
       "      <td>49.95</td>\n",
       "    </tr>\n",
       "  </tbody>\n",
       "</table>\n",
       "</div>"
      ],
      "text/plain": [
       "                 author                                   title  \\\n",
       "0  Gambardella, Matthew                   XML Developer's Guide   \n",
       "1           Corets, Eva                         Maeve Ascendant   \n",
       "2            Ralls, Kim                           Midnight Rain   \n",
       "3      Randall, Cynthia                             Lover Birds   \n",
       "4        Thurman, Paula                           Splish Splash   \n",
       "5         Knorr, Stefan                         Creepy Crawlies   \n",
       "6          Kress, Peter                            Paradox Lost   \n",
       "7          O'Brien, Tim   Microsoft .NET: The Programming Bible   \n",
       "8           Galos, Mike  Visual Studio 7: A Comprehensive Guide   \n",
       "\n",
       "             genre  price  \n",
       "0         Computer  44.95  \n",
       "1          Fantasy   5.95  \n",
       "2          Fantasy   5.95  \n",
       "3          Romance   4.95  \n",
       "4          Romance   4.95  \n",
       "5           Horror   4.95  \n",
       "6  Science Fiction   6.95  \n",
       "7         Computer  36.95  \n",
       "8         Computer  49.95  "
      ]
     },
     "execution_count": 52,
     "metadata": {},
     "output_type": "execute_result"
    }
   ],
   "source": [
    "import pandas as pd\n",
    "import xml.etree.ElementTree as et\n",
    "\n",
    "def parse_XML(xml_file, df_cols): \n",
    "    \n",
    "    \"\"\"Parse the input XML file and store the result in a pandas \n",
    "    DataFrame with the given columns. \n",
    "    \n",
    "    The first element of df_cols is supposed to be the identifier \n",
    "    variable, which is an attribute of each node element in the \n",
    "    XML data; other features will be parsed from the text content \n",
    "    of each sub-element. \n",
    "    *Args\n",
    "    * xml_file\" -> path of file\n",
    "    *df_cols -> name of the node of the xml file\n",
    "    \"\"\"\n",
    "    \n",
    "    xtree = et.parse(xml_file)\n",
    "    xroot = xtree.getroot()\n",
    "    rows = []\n",
    "    \n",
    "#   iterating through each node\n",
    "    for node in xroot: \n",
    "        res = []\n",
    "        for el in df_cols[0:]: \n",
    "            if node is not None and node.find(el) is not None:\n",
    "                res.append(node.find(el).text)\n",
    "            else: \n",
    "                res.append(None)\n",
    "#                 dictionary implementation as column name as key and text  as valus\n",
    "        rows.append({df_cols[i]: res[i] \n",
    "                     for i, _ in enumerate(df_cols)})\n",
    "    \n",
    "    out_df = pd.DataFrame(rows, columns=df_cols)\n",
    "        \n",
    "    return out_df\n",
    "\n",
    "# function\n",
    "parse_XML(\"books.xml\", [\"author\", \"title\", \"genre\", \"price\"])"
   ]
  },
  {
   "cell_type": "code",
   "execution_count": null,
   "id": "cc044856",
   "metadata": {},
   "outputs": [],
   "source": []
  },
  {
   "cell_type": "markdown",
   "id": "f78b7476",
   "metadata": {},
   "source": [
    "## 3.Import the breast cancer dataset from sklearn library and attach the target variable data to the features data and store it in a JSON file\n"
   ]
  },
  {
   "cell_type": "code",
   "execution_count": 53,
   "id": "e412d8ac",
   "metadata": {},
   "outputs": [],
   "source": [
    "import sklearn.datasets\n",
    "import pandas as pd\n",
    "data = sklearn.datasets.load_breast_cancer()\n",
    "# load Sklearm datasets to pandas dataframe\n",
    "df = pd.DataFrame(data.data, columns=data.feature_names)\n",
    "# attach the target variable data to the features data\n",
    "df['target'] =data.target\n",
    "# store it in a JSON file\n",
    "df.to_json('./breast_cancer.json', orient='index')"
   ]
  },
  {
   "cell_type": "code",
   "execution_count": 41,
   "id": "2cedc2f5",
   "metadata": {},
   "outputs": [],
   "source": [
    "\n"
   ]
  },
  {
   "cell_type": "markdown",
   "id": "b5c6aa13",
   "metadata": {},
   "source": [
    "## 4. Make a regression dataset (500) with 7 features while having 4 informative features and store them on disk in a csv file\n"
   ]
  },
  {
   "cell_type": "code",
   "execution_count": 54,
   "id": "0c432008",
   "metadata": {},
   "outputs": [
    {
     "data": {
      "image/png": "[encoded data removed]",
      "text/plain": [
       "<Figure size 432x216 with 2 Axes>"
      ]
     },
     "metadata": {
      "needs_background": "light"
     },
     "output_type": "display_data"
    }
   ],
   "source": [
    "import numpy as np\n",
    "from sklearn import datasets\n",
    "import pandas as pd\n",
    "import seaborn as sns\n",
    "import matplotlib.pyplot as plt\n",
    "x,y = datasets.make_regression(n_samples=500,n_features=7, n_informative=2, random_state=42)\n",
    "df = pd.DataFrame(x)\n",
    "df.columns = ['ftre1','ftre2','ftre3','ftre4','ftre5','ftre6','ftre7']\n",
    "df['target'] = y\n",
    "corr =df.corr()\n",
    "f,ax = plt.subplots(figsize=(6,3))\n",
    "mask= np.triu(np.ones_like(corr,dtype=bool))\n",
    "cmap = sns.diverging_palette(230,20,as_cmap=True)\n",
    "sns.heatmap(corr, annot=True, mask =mask,cmap=cmap)\n",
    "# Storing Dataframe into CSV.\n",
    "df.to_csv('./regression_dataset.csv')\n"
   ]
  },
  {
   "cell_type": "code",
   "execution_count": null,
   "id": "11ac00fe",
   "metadata": {},
   "outputs": [],
   "source": []
  }
 ],
 "metadata": {
  "kernelspec": {
   "display_name": "Python 3",
   "language": "python",
   "name": "python3"
  },
  "language_info": {
   "codemirror_mode": {
    "name": "ipython",
    "version": 3
   },
   "file_extension": ".py",
   "mimetype": "text/x-python",
   "name": "python",
   "nbconvert_exporter": "python",
   "pygments_lexer": "ipython3",
   "version": "3.8.8"
  }
 },
 "nbformat": 4,
 "nbformat_minor": 5
}
