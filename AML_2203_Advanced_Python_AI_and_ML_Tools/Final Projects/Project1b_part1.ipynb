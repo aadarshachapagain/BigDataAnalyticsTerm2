{
 "cells": [
  {
   "cell_type": "code",
   "execution_count": 3,
   "id": "ee091930",
   "metadata": {},
   "outputs": [
    {
     "data": {
      "text/plain": [
       "['SQL Server',\n",
       " 'PostgreSQL ANSI(x64)',\n",
       " 'PostgreSQL Unicode(x64)',\n",
       " 'SQL Server Native Client 11.0',\n",
       " 'SQL Server Native Client RDA 11.0',\n",
       " 'ODBC Driver 17 for SQL Server',\n",
       " 'Microsoft Access Driver (*.mdb, *.accdb)',\n",
       " 'Microsoft Excel Driver (*.xls, *.xlsx, *.xlsm, *.xlsb)',\n",
       " 'Microsoft Access Text Driver (*.txt, *.csv)']"
      ]
     },
     "execution_count": 3,
     "metadata": {},
     "output_type": "execute_result"
    }
   ],
   "source": [
    "import pyodbc\n",
    "pyodbc.drivers()\n"
   ]
  },
  {
   "cell_type": "code",
   "execution_count": 17,
   "id": "4891a089",
   "metadata": {},
   "outputs": [],
   "source": [
    "import pyodbc \n",
    "\n",
    "conn = pyodbc.connect('Driver={ODBC Driver 17 for SQL Server};'\n",
    "                      'Server=LAPTOP-B09T49TN;'\n",
    "                      'Database=AdventureWorksDW2014;'\n",
    "                      'Trusted_Connection=yes;')"
   ]
  },
  {
   "cell_type": "code",
   "execution_count": 19,
   "id": "3b2b2b99",
   "metadata": {},
   "outputs": [],
   "source": [
    "# Create Operation\n",
    "query1 = \"Create table driver(driver_id varchar(100), driver_name varchar(200),age int)\"\n",
    "cursor = conn.cursor();\n",
    "cursor.execute(query1);"
   ]
  },
  {
   "cell_type": "code",
   "execution_count": 20,
   "id": "f278c883",
   "metadata": {},
   "outputs": [
    {
     "data": {
      "text/plain": [
       "[]"
      ]
     },
     "execution_count": 20,
     "metadata": {},
     "output_type": "execute_result"
    }
   ],
   "source": [
    "#Read Operation\n",
    "query2 =\"Select * from driver\"\n",
    "cursor.execute(query2);\n",
    "data1 = cursor.fetchall()\n",
    "data1\n"
   ]
  },
  {
   "cell_type": "code",
   "execution_count": 27,
   "id": "d2ab69e8",
   "metadata": {},
   "outputs": [
    {
     "data": {
      "text/plain": [
       "<pyodbc.Cursor at 0x2d5d3ba91b0>"
      ]
     },
     "execution_count": 27,
     "metadata": {},
     "output_type": "execute_result"
    }
   ],
   "source": [
    "# insert Operation\n",
    "query3 =\"insert into driver values ('d_1','Eric', 45)\"\n",
    "query4=\"insert into driver values ('d_2','Talia', 18)\"\n",
    "query5 =\"insert into driver values ('d_3','Kayden', 19)\"\n",
    "cursor.execute(query3)\n",
    "cursor.execute(query4)\n",
    "cursor.execute(query5)\n",
    "\n"
   ]
  },
  {
   "cell_type": "code",
   "execution_count": 28,
   "id": "fde7dbc7",
   "metadata": {},
   "outputs": [
    {
     "data": {
      "text/plain": [
       "[('d_1', 'Eric', 45), ('d_2', 'Talia', 18), ('d_3', 'Kayden', 19)]"
      ]
     },
     "execution_count": 28,
     "metadata": {},
     "output_type": "execute_result"
    }
   ],
   "source": [
    "#Read Operation\n",
    "query2 =\"Select * from driver\"\n",
    "cursor.execute(query2);\n",
    "data1 = cursor.fetchall()\n",
    "data1"
   ]
  },
  {
   "cell_type": "code",
   "execution_count": 29,
   "id": "d2559d00",
   "metadata": {},
   "outputs": [
    {
     "data": {
      "text/plain": [
       "[('d_1', 'paul', 45), ('d_2', 'Talia', 18), ('d_3', 'Kayden', 19)]"
      ]
     },
     "execution_count": 29,
     "metadata": {},
     "output_type": "execute_result"
    }
   ],
   "source": [
    "# Update Operation\n",
    "query7=\"update driver set driver_name='paul' where driver_id='d_1' \"\n",
    "cursor.execute(query7)\n",
    "query8 =\"Select * from driver\"\n",
    "cursor.execute(query8);\n",
    "data2 = cursor.fetchall()\n",
    "data2"
   ]
  },
  {
   "cell_type": "code",
   "execution_count": 30,
   "id": "c1908bc9",
   "metadata": {},
   "outputs": [
    {
     "data": {
      "text/plain": [
       "[('d_2', 'Talia', 18), ('d_3', 'Kayden', 19)]"
      ]
     },
     "execution_count": 30,
     "metadata": {},
     "output_type": "execute_result"
    }
   ],
   "source": [
    "# Delete Operation\n",
    "query9 = \"delete from driver where driver_id='d_1'\"\n",
    "cursor.execute(query9);\n",
    "query10 =\"Select * from driver\"\n",
    "cursor.execute(query10);\n",
    "data3 = cursor.fetchall()\n",
    "data3"
   ]
  },
  {
   "cell_type": "code",
   "execution_count": null,
   "id": "c6042855",
   "metadata": {},
   "outputs": [],
   "source": []
  }
 ],
 "metadata": {
  "kernelspec": {
   "display_name": "Python 3 (ipykernel)",
   "language": "python",
   "name": "python3"
  },
  "language_info": {
   "codemirror_mode": {
    "name": "ipython",
    "version": 3
   },
   "file_extension": ".py",
   "mimetype": "text/x-python",
   "name": "python",
   "nbconvert_exporter": "python",
   "pygments_lexer": "ipython3",
   "version": "3.9.7"
  }
 },
 "nbformat": 4,
 "nbformat_minor": 5
}
