{
 "cells": [
  {
   "cell_type": "code",
   "execution_count": null,
   "metadata": {
    "colab": {
     "base_uri": "https://localhost:8080/"
    },
    "executionInfo": {
     "elapsed": 164,
     "status": "ok",
     "timestamp": 1645721334316,
     "user": {
      "displayName": "Aadarsha Chapagain",
      "photoUrl": "https://lh3.googleusercontent.com/a-/AOh14GiXyanFR0l-mf45uBpuf6mgSU4wRMY6KXZYvGGczA=s64",
      "userId": "15043241338584547831"
     },
     "user_tz": 300
    },
    "id": "WYJaLry4_Qvh",
    "outputId": "a6a9a87b-80f3-4156-ed29-816dede29793"
   },
   "outputs": [
    {
     "data": {
      "text/plain": [
       "5.0"
      ]
     },
     "execution_count": 2,
     "metadata": {},
     "output_type": "execute_result"
    }
   ],
   "source": [
    "# i)\tCreate a one dimensional array (vector) iterate through all the elements and find the mean of the vector.\n",
    "# importing numpy\n",
    "import numpy as np\n",
    "\n",
    "# creating a one-Dimensional list (Horizontal)\n",
    "first_list = [2, 3, 5,7,8]\n",
    "\n",
    "# vector as row using the first list\n",
    "first_vector = np.array(first_list)\n",
    "sum =0\n",
    "for a in first_vector:\n",
    "  sum += a\n",
    "mean = sum/len(first_vector)\n",
    "mean"
   ]
  },
  {
   "cell_type": "code",
   "execution_count": null,
   "metadata": {
    "colab": {
     "base_uri": "https://localhost:8080/"
    },
    "executionInfo": {
     "elapsed": 183,
     "status": "ok",
     "timestamp": 1645721338147,
     "user": {
      "displayName": "Aadarsha Chapagain",
      "photoUrl": "https://lh3.googleusercontent.com/a-/AOh14GiXyanFR0l-mf45uBpuf6mgSU4wRMY6KXZYvGGczA=s64",
      "userId": "15043241338584547831"
     },
     "user_tz": 300
    },
    "id": "SON0pEYWB7Fs",
    "outputId": "9e317ebf-26aa-40dd-deb5-578771461cf5"
   },
   "outputs": [
    {
     "data": {
      "text/plain": [
       "15"
      ]
     },
     "execution_count": 3,
     "metadata": {},
     "output_type": "execute_result"
    }
   ],
   "source": [
    "# ii)\tCreate a 3X3 array and find the sum of all elements in the second column\n",
    "three_three =np.array([(1,2,3),(4,5,6),(7,8,9)])\n",
    "three_three\n",
    "sum =0\n",
    "for row in three_three:\n",
    "  sum += row[1]\n",
    "sum"
   ]
  },
  {
   "cell_type": "code",
   "execution_count": null,
   "metadata": {
    "colab": {
     "base_uri": "https://localhost:8080/"
    },
    "executionInfo": {
     "elapsed": 145,
     "status": "ok",
     "timestamp": 1645721341211,
     "user": {
      "displayName": "Aadarsha Chapagain",
      "photoUrl": "https://lh3.googleusercontent.com/a-/AOh14GiXyanFR0l-mf45uBpuf6mgSU4wRMY6KXZYvGGczA=s64",
      "userId": "15043241338584547831"
     },
     "user_tz": 300
    },
    "id": "hiwWA4G9DJFu",
    "outputId": "79ca2ecd-99a5-431f-bb57-76e69fcf608e"
   },
   "outputs": [
    {
     "name": "stdout",
     "output_type": "stream",
     "text": [
      "Using Ones:\n",
      " [[1.]\n",
      " [1.]\n",
      " [1.]\n",
      " [1.]]\n",
      "---------------------------\n",
      "Using Zero:\n",
      " [0. 0. 0. 0. 0. 0. 0.]\n",
      "---------------------------\n",
      "Using Arrange:\n",
      " [ 0  1  2  3  4  5  6  7  8  9 10 11 12 13 14 15 16 17 18 19]\n",
      "---------------------------\n",
      "Using Full:\n",
      " [[3 3 3 3 3]\n",
      " [3 3 3 3 3]]\n",
      "---------------------------\n",
      "Using eye:\n",
      " [[1. 0. 0.]\n",
      " [0. 1. 0.]\n",
      " [0. 0. 1.]]\n",
      "---------------------------\n"
     ]
    }
   ],
   "source": [
    "# iii)\tCreate array using other standard methods like ones and empty by taking the zeros as reference\n",
    "# ones\n",
    "ones_array = np.ones((4, 1))\n",
    "print(\"Using Ones:\\n\",ones_array)\n",
    "print(\"---------------------------\")\n",
    "# Zeros\n",
    "zero_array = np.zeros(7)\n",
    "print(\"Using Zero:\\n\",zero_array)\n",
    "print(\"---------------------------\")\n",
    "# arrange \n",
    "arrange_arr  = np.arange(20)\n",
    "print(\"Using Arrange:\\n\",arrange_arr)\n",
    "print(\"---------------------------\")\n",
    "# full\n",
    "full_arr = np.full((2,5), 3)\n",
    "print(\"Using Full:\\n\",full_arr)\n",
    "print(\"---------------------------\")\n",
    "# EYE\n",
    "eye_arr  = np.eye(3,3)\n",
    "print(\"Using eye:\\n\",eye_arr)\n",
    "print(\"---------------------------\")\n"
   ]
  },
  {
   "cell_type": "code",
   "execution_count": null,
   "metadata": {
    "colab": {
     "base_uri": "https://localhost:8080/"
    },
    "executionInfo": {
     "elapsed": 177,
     "status": "ok",
     "timestamp": 1645721434131,
     "user": {
      "displayName": "Aadarsha Chapagain",
      "photoUrl": "https://lh3.googleusercontent.com/a-/AOh14GiXyanFR0l-mf45uBpuf6mgSU4wRMY6KXZYvGGczA=s64",
      "userId": "15043241338584547831"
     },
     "user_tz": 300
    },
    "id": "FKza6zWwVhIh",
    "outputId": "2e6a5b48-1279-4fbc-ab6c-9e07261d478e"
   },
   "outputs": [
    {
     "name": "stdout",
     "output_type": "stream",
     "text": [
      "Eye Array:\n",
      " [[ 0  1  2  3]\n",
      " [ 4  5  6  7]\n",
      " [ 8  9 10 11]\n",
      " [12 13 14 15]]\n",
      "-------------------------\n",
      "Diagonale Element:  [ 0  5 10 15]\n",
      "-------------------------------\n",
      "Sum of Diagonale Element:  30\n",
      "-------------------------------\n"
     ]
    }
   ],
   "source": [
    "# 2.i)\tGet the diagonal elements and calculate the sum of all the diagonal elements.\n",
    "diag_arr = np.arange(16).reshape((4, 4))\n",
    "\n",
    "print(\"Eye Array:\\n\",diag_arr)\n",
    "print(\"-------------------------\")\n",
    "# get daigonal element\n",
    "diag_elem = diag_arr.diagonal()\n",
    "print(\"Diagonale Element: \",diag_elem)\n",
    "print(\"-------------------------------\")\n",
    "# sum of diagonal element \n",
    "sum_diag_elem = np.sum(diag_elem)\n",
    "print(\"Sum of Diagonale Element: \",sum_diag_elem)\n",
    "print(\"-------------------------------\")\n",
    "\n"
   ]
  },
  {
   "cell_type": "code",
   "execution_count": null,
   "metadata": {
    "colab": {
     "base_uri": "https://localhost:8080/"
    },
    "executionInfo": {
     "elapsed": 4,
     "status": "ok",
     "timestamp": 1645721972551,
     "user": {
      "displayName": "Aadarsha Chapagain",
      "photoUrl": "https://lh3.googleusercontent.com/a-/AOh14GiXyanFR0l-mf45uBpuf6mgSU4wRMY6KXZYvGGczA=s64",
      "userId": "15043241338584547831"
     },
     "user_tz": 300
    },
    "id": "jN-3RlYxWcBe",
    "outputId": "76cb3095-95f5-4263-a472-ccfaa2cff748"
   },
   "outputs": [
    {
     "name": "stdout",
     "output_type": "stream",
     "text": [
      "Matxix:\n",
      " [[ 0  1  2  3]\n",
      " [ 4  5  6  7]\n",
      " [ 8  9 10 11]\n",
      " [12 13 14 15]]\n",
      "-------------------------------\n",
      "Row Wise Mean: [6. 7. 8. 9.]\n",
      "Column Wise Mean: [ 1.5  5.5  9.5 13.5]\n",
      "-------------------------------\n"
     ]
    }
   ],
   "source": [
    "# 2.ii)\tCalculate the column wise and row wise mean of the created matrix\n",
    "diag_arr = np.arange(16).reshape((4, 4))\n",
    "print(\"Matxix:\\n\",diag_arr)\n",
    "row_mean =np.mean(diag_arr,axis=0)\n",
    "print(\"-------------------------------\")\n",
    "print(\"Row Wise Mean:\",row_mean)\n",
    "\n",
    "\n",
    "column_mean =np.mean(diag_arr,axis=1)\n",
    "print(\"Column Wise Mean:\",column_mean)\n",
    "print(\"-------------------------------\")"
   ]
  },
  {
   "cell_type": "markdown",
   "metadata": {
    "id": "Ig6s1FdfrVoh"
   },
   "source": [
    "3.Can we reshape the array into any shape? If not, then what are the cases?\n",
    "\n",
    "Answer:We can reshape any array into any shape as long as the elements required for reshaping are equal in both shapes. Interestingly, we are allowed to have one “unknown” dimension. What that means is that you don’t have to specify an example number for one of the dimensions in the reshape method."
   ]
  },
  {
   "cell_type": "code",
   "execution_count": null,
   "metadata": {
    "colab": {
     "base_uri": "https://localhost:8080/"
    },
    "executionInfo": {
     "elapsed": 126,
     "status": "ok",
     "timestamp": 1645722431133,
     "user": {
      "displayName": "Aadarsha Chapagain",
      "photoUrl": "https://lh3.googleusercontent.com/a-/AOh14GiXyanFR0l-mf45uBpuf6mgSU4wRMY6KXZYvGGczA=s64",
      "userId": "15043241338584547831"
     },
     "user_tz": 300
    },
    "id": "CT1ml_V3rqBr",
    "outputId": "69f818ce-4a16-45ac-9e91-d4643aa3ee11"
   },
   "outputs": [
    {
     "name": "stdout",
     "output_type": "stream",
     "text": [
      "ar_6:  [0 1 2 3 4 5]\n",
      "-----------------------\n",
      "Reshape 3*2:\n",
      " [[0 1 2]\n",
      " [3 4 5]]\n",
      "Reshape 2 *3:\n",
      " [[0 1]\n",
      " [2 3]\n",
      " [4 5]]\n",
      "Reshape 6 *1\n",
      " [[0 1 2 3 4 5]]\n",
      "Reshape 1 *6\n",
      " [[0]\n",
      " [1]\n",
      " [2]\n",
      " [3]\n",
      " [4]\n",
      " [5]]\n"
     ]
    }
   ],
   "source": [
    "# 4. Use arange and create a sequence of 6 numbers and try to reshape into all the possible ways and combinations\n",
    "ar_6=np.arange(6)\n",
    "print(\"ar_6: \",ar_6)\n",
    "print(\"-----------------------\")\n",
    "print(\"Reshape 3*2:\\n\",ar_6.reshape(2,3))\n",
    "print(\"Reshape 2 *3:\\n\",ar_6.reshape(3,2))\n",
    "print(\"Reshape 6 *1\\n\",ar_6.reshape(1,6))\n",
    "print(\"Reshape 1 *6\\n\",ar_6.reshape(6,-1))\n"
   ]
  },
  {
   "cell_type": "code",
   "execution_count": null,
   "metadata": {
    "id": "iUqB2Kq8r-0W"
   },
   "outputs": [],
   "source": []
  }
 ],
 "metadata": {
  "colab": {
   "authorship_tag": "ABX9TyPBusWldSqY6Lc+CpRag6Fb",
   "collapsed_sections": [],
   "name": "AML_2203_week3_Project1c.ipynb",
   "provenance": []
  },
  "kernelspec": {
   "display_name": "Python 3 (ipykernel)",
   "language": "python",
   "name": "python3"
  },
  "language_info": {
   "codemirror_mode": {
    "name": "ipython",
    "version": 3
   },
   "file_extension": ".py",
   "mimetype": "text/x-python",
   "name": "python",
   "nbconvert_exporter": "python",
   "pygments_lexer": "ipython3",
   "version": "3.9.7"
  }
 },
 "nbformat": 4,
 "nbformat_minor": 1
}
