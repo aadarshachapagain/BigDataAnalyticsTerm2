{
  "nbformat": 4,
  "nbformat_minor": 0,
  "metadata": {
    "colab": {
      "name": "PCA.ipynb",
      "provenance": [],
      "collapsed_sections": []
    },
    "kernelspec": {
      "name": "python3",
      "display_name": "Python 3"
    },
    "language_info": {
      "name": "python"
    }
  },
  "cells": [
    {
      "cell_type": "markdown",
      "source": [
        "Manual Implementation"
      ],
      "metadata": {
        "id": "TnD7HM7vsHNJ"
      }
    },
    {
      "cell_type": "code",
      "source": [
        "from numpy import array\n",
        "from numpy import mean\n",
        "from numpy import cov\n",
        "from numpy.linalg import eig\n",
        "# define a matrix\n",
        "A = array([[9, 2], [4, 4], [8, 6]])\n",
        "print(A)\n",
        "# calculate the mean of each column\n",
        "M = mean(A.T, axis=1)\n",
        "print(M)\n",
        "# center columns by subtracting column means\n",
        "C = A - M\n",
        "print(C)\n",
        "# calculate covariance matrix of centered matrix\n",
        "V = cov(C.T)\n",
        "print(V)\n",
        "# eigendecomposition of covariance matrix\n",
        "values, vectors = eig(V)\n",
        "print(vectors)\n",
        "print(values)\n",
        "# project data\n",
        "P = vectors.T.dot(C.T)\n",
        "print(P.T)"
      ],
      "metadata": {
        "colab": {
          "base_uri": "https://localhost:8080/"
        },
        "id": "OnDxu4b6sE3S",
        "outputId": "98f1a99d-010f-47db-b0b1-196d0c3d051c"
      },
      "execution_count": 1,
      "outputs": [
        {
          "output_type": "stream",
          "name": "stdout",
          "text": [
            "[[9 2]\n",
            " [4 4]\n",
            " [8 6]]\n",
            "[7. 4.]\n",
            "[[ 2. -2.]\n",
            " [-3.  0.]\n",
            " [ 1.  2.]]\n",
            "[[ 7. -1.]\n",
            " [-1.  4.]]\n",
            "[[ 0.95709203  0.28978415]\n",
            " [-0.28978415  0.95709203]]\n",
            "[7.30277564 3.69722436]\n",
            "[[ 2.49375235 -1.33461576]\n",
            " [-2.87127608 -0.86935245]\n",
            " [ 0.37752373  2.2039682 ]]\n"
          ]
        }
      ]
    },
    {
      "cell_type": "markdown",
      "source": [
        "PCA Implementation"
      ],
      "metadata": {
        "id": "b96wEnkksTfy"
      }
    },
    {
      "cell_type": "code",
      "execution_count": 2,
      "metadata": {
        "id": "F8-WSaHe7lKY",
        "outputId": "0b3d32c4-7f5e-469d-b47a-b51f4e80cc65",
        "colab": {
          "base_uri": "https://localhost:8080/"
        }
      },
      "outputs": [
        {
          "output_type": "stream",
          "name": "stdout",
          "text": [
            "[[9 2]\n",
            " [4 4]\n",
            " [8 6]]\n",
            "[[-0.95709203  0.28978415]\n",
            " [ 0.28978415  0.95709203]]\n",
            "[7.30277564 3.69722436]\n",
            "[[-2.49375235 -1.33461576]\n",
            " [ 2.87127608 -0.86935245]\n",
            " [-0.37752373  2.2039682 ]]\n"
          ]
        }
      ],
      "source": [
        "# Principal Component Analysis\n",
        "from numpy import array\n",
        "from sklearn.decomposition import PCA\n",
        "# define a matrix\n",
        "A = array([[9, 2], [4, 4], [8, 6]])\n",
        "print(A)\n",
        "# create the PCA instance\n",
        "pca = PCA(2)\n",
        "# fit on data\n",
        "pca.fit(A)\n",
        "# access values and vectors\n",
        "print(pca.components_)\n",
        "print(pca.explained_variance_)\n",
        "# transform data\n",
        "B = pca.transform(A)\n",
        "print(B)"
      ]
    }
  ]
}