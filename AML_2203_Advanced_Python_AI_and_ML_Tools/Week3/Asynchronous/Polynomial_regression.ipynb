{
  "nbformat": 4,
  "nbformat_minor": 0,
  "metadata": {
    "colab": {
      "name": "Polynomial_regression.ipynb",
      "provenance": []
    },
    "kernelspec": {
      "name": "python3",
      "display_name": "Python 3"
    },
    "language_info": {
      "name": "python"
    }
  },
  "cells": [
    {
      "cell_type": "code",
      "execution_count": 2,
      "metadata": {
        "colab": {
          "base_uri": "https://localhost:8080/",
          "height": 283
        },
        "id": "GQ3E0JNaQ7sz",
        "outputId": "66941445-bcf5-4f70-d86e-338ea877367b"
      },
      "outputs": [
        {
          "output_type": "execute_result",
          "data": {
            "text/plain": [
              "397.49460292430075"
            ]
          },
          "metadata": {},
          "execution_count": 2
        },
        {
          "output_type": "display_data",
          "data": {
            "image/png": "[encoded data removed]",
            "text/plain": [
              "<Figure size 432x288 with 1 Axes>"
            ]
          },
          "metadata": {
            "needs_background": "light"
          }
        }
      ],
      "source": [
        "# Import required libraries:\n",
        "import numpy as np\n",
        "import matplotlib.pyplot as plt\n",
        "# Generate datapoints:\n",
        "x = np.arange(-6,6,0.09)\n",
        "y_noise = 20 * np.random.normal(size = len(x))\n",
        "y = 1*(x**3) + 1*(x**2) + 1*x + 3+y_noise\n",
        "plt.scatter(x,y)\n",
        "# Make polynomial data:\n",
        "x1 = x\n",
        "x2 = np.power(x1,2)\n",
        "x3 = np.power(x1,3)\n",
        "n = len(x1)\n",
        "# Reshaping data:\n",
        "x1_new = np.reshape(x1,(n,1))\n",
        "x2_new = np.reshape(x2,(n,1))\n",
        "x3_new = np.reshape(x3,(n,1))\n",
        "# First column of matrix X:\n",
        "x_bias = np.ones((n,1))\n",
        "# Form the complete x matrix:\n",
        "x_new = np.append(x_bias,x1_new,axis=1)\n",
        "x_new = np.append(x_new,x2_new,axis=1)\n",
        "x_new = np.append(x_new,x3_new,axis=1)\n",
        "# Finding transpose:\n",
        "x_new_transpose = np.transpose(x_new)\n",
        "# Finding dot product of original and transposed matrix :\n",
        "x_new_transpose_dot_x_new = x_new_transpose.dot(x_new)\n",
        "# Finding Inverse:\n",
        "temp_1 = np.linalg.inv(x_new_transpose_dot_x_new)# Finding the dot product of transposed x and y :\n",
        "temp_2 = x_new_transpose.dot(y)\n",
        "# Finding coefficients:\n",
        "theta = temp_1.dot(temp_2)\n",
        "theta\n",
        "# Store coefficient values in different variables:\n",
        "beta_0 = theta[0]\n",
        "beta_1 = theta[1]\n",
        "beta_2 = theta[2]\n",
        "beta_3 = theta[3]\n",
        "# Plot the polynomial curve:\n",
        "plt.scatter(x,y)\n",
        "plt.plot(x,beta_0 + beta_1*x1 + beta_2*x2 + beta_3*x3,c=\"red\")\n",
        "# Prediction function:\n",
        "def prediction(x1,x2,x3,beta_0,beta_1,beta_2,beta_3):\n",
        " y_pred = beta_0 + beta_1*x1 + beta_2*x2 + beta_3*x3\n",
        " return y_pred\n",
        " \n",
        "# Making predictions:\n",
        "pred = prediction(x1,x2,x3,beta_0,beta_1,beta_2,beta_3)\n",
        " \n",
        "# Calculate accuracy of model:\n",
        "def err(y_pred,y):\n",
        " var = (y - y_pred)\n",
        " var = var*var\n",
        " n = len(var)\n",
        " MSE = var.sum()\n",
        " MSE = MSE/n\n",
        " \n",
        " return MSE\n",
        "# Calculating the error:\n",
        "error = err(pred,y)\n",
        "error"
      ]
    },
    {
      "cell_type": "code",
      "source": [
        ""
      ],
      "metadata": {
        "id": "aj6wZTstRLt_"
      },
      "execution_count": null,
      "outputs": []
    }
  ]
}