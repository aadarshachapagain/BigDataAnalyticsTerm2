{
 "cells": [
  {
   "cell_type": "code",
   "execution_count": 1,
   "id": "2576594b",
   "metadata": {},
   "outputs": [],
   "source": [
    "\n",
    "import pandas as pd\n"
   ]
  },
  {
   "cell_type": "code",
   "execution_count": 2,
   "id": "892a5965",
   "metadata": {},
   "outputs": [],
   "source": [
    "# Import a data set; country_wise_latest.csv(covid data set)\n",
    "df = pd.read_csv('country_wise_latest.csv')"
   ]
  },
  {
   "cell_type": "code",
   "execution_count": 3,
   "id": "8fa92a93",
   "metadata": {},
   "outputs": [
    {
     "data": {
      "text/plain": [
       "Confirmed                 8.813094e+04\n",
       "Deaths                    3.497519e+03\n",
       "Recovered                 5.063148e+04\n",
       "Active                    3.400194e+04\n",
       "New cases                 1.222957e+03\n",
       "New deaths                2.895722e+01\n",
       "New recovered             9.338128e+02\n",
       "Deaths / 100 Cases        3.019519e+00\n",
       "Recovered / 100 Cases     6.482053e+01\n",
       "Deaths / 100 Recovered             inf\n",
       "Confirmed last week       7.868248e+04\n",
       "1 week change             9.448460e+03\n",
       "1 week % increase         1.360620e+01\n",
       "dtype: float64"
      ]
     },
     "execution_count": 3,
     "metadata": {},
     "output_type": "execute_result"
    }
   ],
   "source": [
    "# 1.Find out mean for  all numerical  variables.\n",
    "df.mean()"
   ]
  },
  {
   "cell_type": "code",
   "execution_count": 4,
   "id": "e8277beb",
   "metadata": {},
   "outputs": [
    {
     "data": {
      "text/plain": [
       "32920.5325443787"
      ]
     },
     "execution_count": 4,
     "metadata": {},
     "output_type": "execute_result"
    }
   ],
   "source": [
    "from scipy import stats\n",
    "\n",
    "# 2.Find out trimmed mean for all numerical variable\n",
    "#calculate 5% trimmed mean of points\n",
    "stats.trim_mean(df.Confirmed, 0.05) "
   ]
  },
  {
   "cell_type": "code",
   "execution_count": 5,
   "id": "2fe65690",
   "metadata": {},
   "outputs": [
    {
     "data": {
      "text/plain": [
       "Confirmed                 5059.00\n",
       "Deaths                     108.00\n",
       "Recovered                 2815.00\n",
       "Active                    1600.00\n",
       "New cases                   49.00\n",
       "New deaths                   1.00\n",
       "New recovered               22.00\n",
       "Deaths / 100 Cases           2.15\n",
       "Recovered / 100 Cases       71.32\n",
       "Deaths / 100 Recovered       3.62\n",
       "Confirmed last week       5020.00\n",
       "1 week change              432.00\n",
       "1 week % increase            6.89\n",
       "dtype: float64"
      ]
     },
     "execution_count": 5,
     "metadata": {},
     "output_type": "execute_result"
    }
   ],
   "source": [
    "#3. Find median for all numerical variables.\n",
    "df.median()"
   ]
  },
  {
   "cell_type": "code",
   "execution_count": 6,
   "id": "ae86ec54",
   "metadata": {},
   "outputs": [
    {
     "data": {
      "text/plain": [
       "Confirmed                 383318.663831\n",
       "Deaths                     14100.002482\n",
       "Recovered                 190188.189643\n",
       "Active                    213326.173371\n",
       "New cases                   5710.374790\n",
       "New deaths                   120.037173\n",
       "New recovered               4197.719635\n",
       "Deaths / 100 Cases             3.454302\n",
       "Recovered / 100 Cases         26.287694\n",
       "Deaths / 100 Recovered              NaN\n",
       "Confirmed last week       338273.676567\n",
       "1 week change              47491.127684\n",
       "1 week % increase             24.509838\n",
       "dtype: float64"
      ]
     },
     "execution_count": 6,
     "metadata": {},
     "output_type": "execute_result"
    }
   ],
   "source": [
    "#4 Find out standard deviation for all numerical variables.\n",
    "df.std()"
   ]
  },
  {
   "cell_type": "code",
   "execution_count": 7,
   "id": "2d86fa89",
   "metadata": {},
   "outputs": [
    {
     "name": "stdout",
     "output_type": "stream",
     "text": [
      "IQR for Confirmed =39346.5\n",
      "IQR for Deaths =715.5\n",
      "IQR for Recovered =21979.5\n",
      "IQR for Active =9007.5\n",
      "IQR for New cases =415.5\n",
      "IQR for New deaths =6.0\n",
      "IQR for New recovered =221.0\n",
      "IQR for Deaths / 100 Cases =2.93\n",
      "IQR for Recovered / 100 Cases =38.11500000000001\n",
      "IQR for Deaths / 100 Recovered =4.99\n",
      "IQR for Confirmed last week =36029.0\n",
      "IQR for 1 week change =3123.0\n",
      "IQR for 1 week % increase =14.08\n"
     ]
    }
   ],
   "source": [
    "# 5.Find out IQR(Interquartile range) for all numerical variables\n",
    "\n",
    "import numpy as np\n",
    "# get all numerical columns\n",
    "numerical_columns = df.select_dtypes(include=np.number)\n",
    "for col in numerical_columns:\n",
    "#     first quantile\n",
    "    Q1 = df[col].quantile(0.25)\n",
    "#     third Quantile\n",
    "    Q3 = df[col].quantile(0.75)\n",
    "#     interquantile range\n",
    "    IQR = Q3 - Q1\n",
    "    print('IQR for {col} ={IQR}'.format(col=col,IQR=IQR))\n",
    "\n"
   ]
  },
  {
   "cell_type": "code",
   "execution_count": 8,
   "id": "78859ee7",
   "metadata": {},
   "outputs": [
    {
     "name": "stdout",
     "output_type": "stream",
     "text": [
      "Percentile for Confirmed =5059.0\n",
      "Percentile for Deaths =108.0\n",
      "Percentile for Recovered =2815.0\n",
      "Percentile for Active =1600.0\n",
      "Percentile for New cases =49.0\n",
      "Percentile for New deaths =1.0\n",
      "Percentile for New recovered =22.0\n",
      "Percentile for Deaths / 100 Cases =2.15\n",
      "Percentile for Recovered / 100 Cases =71.32\n",
      "Percentile for Deaths / 100 Recovered =3.62\n",
      "Percentile for Confirmed last week =5020.0\n",
      "Percentile for 1 week change =432.0\n",
      "Percentile for 1 week % increase =6.89\n"
     ]
    }
   ],
   "source": [
    "# 6. Find out 50%th Pecentile for for all numerical variables.\n",
    "for col in numerical_columns:\n",
    "#     first quantile\n",
    "    percentile = df[col].quantile(0.50)\n",
    "    print('Percentile for {col} ={percentile}'.format(col=col,percentile=percentile))"
   ]
  },
  {
   "cell_type": "code",
   "execution_count": 9,
   "id": "9fdfb640",
   "metadata": {},
   "outputs": [
    {
     "data": {
      "text/plain": [
       "<AxesSubplot:title={'center':'Deaths'}, xlabel='WHO Region'>"
      ]
     },
     "execution_count": 9,
     "metadata": {},
     "output_type": "execute_result"
    },
    {
     "data": {
      "image/png": "[encoded data removed]",
      "text/plain": [
       "<Figure size 432x288 with 1 Axes>"
      ]
     },
     "metadata": {
      "needs_background": "light"
     },
     "output_type": "display_data"
    }
   ],
   "source": [
    "# 7.Create box plots for each country .(select any 2 countries)\n",
    "import matplotlib.pyplot as plt \n",
    "%matplotlib inline\n",
    "df.boxplot(by ='WHO Region', column =['Deaths'], grid = False)"
   ]
  },
  {
   "cell_type": "code",
   "execution_count": 25,
   "id": "00b03f66",
   "metadata": {},
   "outputs": [
    {
     "data": {
      "text/plain": [
       "(array([178.,   2.,   2.,   0.,   2.,   2.,   0.,   0.,   1.]),\n",
       " array([   0.        ,  119.55555556,  239.11111111,  358.66666667,\n",
       "         478.22222222,  597.77777778,  717.33333333,  836.88888889,\n",
       "         956.44444444, 1076.        ]),\n",
       " <BarContainer object of 9 artists>)"
      ]
     },
     "execution_count": 25,
     "metadata": {},
     "output_type": "execute_result"
    },
    {
     "data": {
      "image/png": "[encoded data removed]",
      "text/plain": [
       "<Figure size 432x288 with 1 Axes>"
      ]
     },
     "metadata": {
      "needs_background": "light"
     },
     "output_type": "display_data"
    }
   ],
   "source": [
    "# 8.Create histograms for each contry. (select any 2 countries)\n",
    "# hist = df['v1'].hist(by=df['c'])\n",
    "import matplotlib.pyplot as plt\n",
    "plt.hist(df['New deaths'], bins=9)\n",
    "\n"
   ]
  },
  {
   "cell_type": "code",
   "execution_count": 24,
   "id": "eaa84f39",
   "metadata": {},
   "outputs": [
    {
     "data": {
      "text/plain": [
       "array([[<AxesSubplot:title={'center':'Africa'}>,\n",
       "        <AxesSubplot:title={'center':'Americas'}>],\n",
       "       [<AxesSubplot:title={'center':'Eastern Mediterranean'}>,\n",
       "        <AxesSubplot:title={'center':'Europe'}>],\n",
       "       [<AxesSubplot:title={'center':'South-East Asia'}>,\n",
       "        <AxesSubplot:title={'center':'Western Pacific'}>]], dtype=object)"
      ]
     },
     "execution_count": 24,
     "metadata": {},
     "output_type": "execute_result"
    },
    {
     "data": {
      "image/png": "[encoded data removed]",
      "text/plain": [
       "<Figure size 1080x720 with 6 Axes>"
      ]
     },
     "metadata": {
      "needs_background": "light"
     },
     "output_type": "display_data"
    }
   ],
   "source": [
    "\n",
    "df.hist(by='WHO Region',\n",
    "       column='Deaths',\n",
    "       figsize=[15, 10])"
   ]
  },
  {
   "cell_type": "code",
   "execution_count": 11,
   "id": "598f53e7",
   "metadata": {},
   "outputs": [],
   "source": [
    "# 9 Create bar chats for each country.\n",
    "import matplotlib.pyplot as plt \n",
    "%matplotlib inline\n",
    "\n",
    "deaths_afg =int(df[df['Country/Region'] == 'Afghanistan']['Deaths'])\n",
    "deaths_india =int(df[df['Country/Region'] == 'India']['Deaths'])\n"
   ]
  },
  {
   "cell_type": "code",
   "execution_count": 12,
   "id": "1e7d5b25",
   "metadata": {},
   "outputs": [
    {
     "data": {
      "image/png": "[encoded data removed]",
      "text/plain": [
       "<Figure size 432x288 with 1 Axes>"
      ]
     },
     "metadata": {
      "needs_background": "light"
     },
     "output_type": "display_data"
    }
   ],
   "source": [
    "\n",
    "deaths_array =[deaths_india,deaths_afg]\n",
    "index =['India','Afghanistan']\n",
    "dg = pd.DataFrame({'Deaths': deaths_array}, index=index)\n",
    "ax = dg.plot.bar(rot=0)"
   ]
  },
  {
   "cell_type": "code",
   "execution_count": 16,
   "id": "fcbed131",
   "metadata": {},
   "outputs": [
    {
     "name": "stdout",
     "output_type": "stream",
     "text": [
      "Death in Afghanistan: 1269\n",
      "Deaths in India: 33408\n"
     ]
    }
   ],
   "source": [
    "print(\"Death in Afghanistan:\",deaths_afg)\n",
    "print(\"Deaths in India:\",deaths_india)"
   ]
  },
  {
   "cell_type": "code",
   "execution_count": 15,
   "id": "a034866a",
   "metadata": {},
   "outputs": [
    {
     "data": {
      "text/html": [
       "<div>\n",
       "<style scoped>\n",
       "    .dataframe tbody tr th:only-of-type {\n",
       "        vertical-align: middle;\n",
       "    }\n",
       "\n",
       "    .dataframe tbody tr th {\n",
       "        vertical-align: top;\n",
       "    }\n",
       "\n",
       "    .dataframe thead th {\n",
       "        text-align: right;\n",
       "    }\n",
       "</style>\n",
       "<table border=\"1\" class=\"dataframe\">\n",
       "  <thead>\n",
       "    <tr style=\"text-align: right;\">\n",
       "      <th></th>\n",
       "      <th>Confirmed</th>\n",
       "      <th>Deaths</th>\n",
       "      <th>Recovered</th>\n",
       "      <th>Active</th>\n",
       "      <th>New cases</th>\n",
       "      <th>New deaths</th>\n",
       "      <th>New recovered</th>\n",
       "      <th>Deaths / 100 Cases</th>\n",
       "      <th>Recovered / 100 Cases</th>\n",
       "      <th>Deaths / 100 Recovered</th>\n",
       "      <th>Confirmed last week</th>\n",
       "      <th>1 week change</th>\n",
       "      <th>1 week % increase</th>\n",
       "    </tr>\n",
       "  </thead>\n",
       "  <tbody>\n",
       "    <tr>\n",
       "      <th>Confirmed</th>\n",
       "      <td>1.000000</td>\n",
       "      <td>0.934698</td>\n",
       "      <td>0.906377</td>\n",
       "      <td>0.927018</td>\n",
       "      <td>0.909720</td>\n",
       "      <td>0.871683</td>\n",
       "      <td>0.859252</td>\n",
       "      <td>0.063550</td>\n",
       "      <td>-0.064815</td>\n",
       "      <td>0.025175</td>\n",
       "      <td>0.999127</td>\n",
       "      <td>0.954710</td>\n",
       "      <td>-0.010161</td>\n",
       "    </tr>\n",
       "    <tr>\n",
       "      <th>Deaths</th>\n",
       "      <td>0.934698</td>\n",
       "      <td>1.000000</td>\n",
       "      <td>0.832098</td>\n",
       "      <td>0.871586</td>\n",
       "      <td>0.806975</td>\n",
       "      <td>0.814161</td>\n",
       "      <td>0.765114</td>\n",
       "      <td>0.251565</td>\n",
       "      <td>-0.114529</td>\n",
       "      <td>0.169006</td>\n",
       "      <td>0.939082</td>\n",
       "      <td>0.855330</td>\n",
       "      <td>-0.034708</td>\n",
       "    </tr>\n",
       "    <tr>\n",
       "      <th>Recovered</th>\n",
       "      <td>0.906377</td>\n",
       "      <td>0.832098</td>\n",
       "      <td>1.000000</td>\n",
       "      <td>0.682103</td>\n",
       "      <td>0.818942</td>\n",
       "      <td>0.820338</td>\n",
       "      <td>0.919203</td>\n",
       "      <td>0.048438</td>\n",
       "      <td>0.026610</td>\n",
       "      <td>-0.027277</td>\n",
       "      <td>0.899312</td>\n",
       "      <td>0.910013</td>\n",
       "      <td>-0.013697</td>\n",
       "    </tr>\n",
       "    <tr>\n",
       "      <th>Active</th>\n",
       "      <td>0.927018</td>\n",
       "      <td>0.871586</td>\n",
       "      <td>0.682103</td>\n",
       "      <td>1.000000</td>\n",
       "      <td>0.851190</td>\n",
       "      <td>0.781123</td>\n",
       "      <td>0.673887</td>\n",
       "      <td>0.054380</td>\n",
       "      <td>-0.132618</td>\n",
       "      <td>0.058386</td>\n",
       "      <td>0.931459</td>\n",
       "      <td>0.847642</td>\n",
       "      <td>-0.003752</td>\n",
       "    </tr>\n",
       "    <tr>\n",
       "      <th>New cases</th>\n",
       "      <td>0.909720</td>\n",
       "      <td>0.806975</td>\n",
       "      <td>0.818942</td>\n",
       "      <td>0.851190</td>\n",
       "      <td>1.000000</td>\n",
       "      <td>0.935947</td>\n",
       "      <td>0.914765</td>\n",
       "      <td>0.020104</td>\n",
       "      <td>-0.078666</td>\n",
       "      <td>-0.011637</td>\n",
       "      <td>0.896084</td>\n",
       "      <td>0.959993</td>\n",
       "      <td>0.030791</td>\n",
       "    </tr>\n",
       "    <tr>\n",
       "      <th>New deaths</th>\n",
       "      <td>0.871683</td>\n",
       "      <td>0.814161</td>\n",
       "      <td>0.820338</td>\n",
       "      <td>0.781123</td>\n",
       "      <td>0.935947</td>\n",
       "      <td>1.000000</td>\n",
       "      <td>0.889234</td>\n",
       "      <td>0.060399</td>\n",
       "      <td>-0.062792</td>\n",
       "      <td>-0.020750</td>\n",
       "      <td>0.862118</td>\n",
       "      <td>0.894915</td>\n",
       "      <td>0.025293</td>\n",
       "    </tr>\n",
       "    <tr>\n",
       "      <th>New recovered</th>\n",
       "      <td>0.859252</td>\n",
       "      <td>0.765114</td>\n",
       "      <td>0.919203</td>\n",
       "      <td>0.673887</td>\n",
       "      <td>0.914765</td>\n",
       "      <td>0.889234</td>\n",
       "      <td>1.000000</td>\n",
       "      <td>0.017090</td>\n",
       "      <td>-0.024293</td>\n",
       "      <td>-0.023340</td>\n",
       "      <td>0.839692</td>\n",
       "      <td>0.954321</td>\n",
       "      <td>0.032662</td>\n",
       "    </tr>\n",
       "    <tr>\n",
       "      <th>Deaths / 100 Cases</th>\n",
       "      <td>0.063550</td>\n",
       "      <td>0.251565</td>\n",
       "      <td>0.048438</td>\n",
       "      <td>0.054380</td>\n",
       "      <td>0.020104</td>\n",
       "      <td>0.060399</td>\n",
       "      <td>0.017090</td>\n",
       "      <td>1.000000</td>\n",
       "      <td>-0.168920</td>\n",
       "      <td>0.334594</td>\n",
       "      <td>0.069894</td>\n",
       "      <td>0.015095</td>\n",
       "      <td>-0.134534</td>\n",
       "    </tr>\n",
       "    <tr>\n",
       "      <th>Recovered / 100 Cases</th>\n",
       "      <td>-0.064815</td>\n",
       "      <td>-0.114529</td>\n",
       "      <td>0.026610</td>\n",
       "      <td>-0.132618</td>\n",
       "      <td>-0.078666</td>\n",
       "      <td>-0.062792</td>\n",
       "      <td>-0.024293</td>\n",
       "      <td>-0.168920</td>\n",
       "      <td>1.000000</td>\n",
       "      <td>-0.295381</td>\n",
       "      <td>-0.064600</td>\n",
       "      <td>-0.063013</td>\n",
       "      <td>-0.394254</td>\n",
       "    </tr>\n",
       "    <tr>\n",
       "      <th>Deaths / 100 Recovered</th>\n",
       "      <td>0.025175</td>\n",
       "      <td>0.169006</td>\n",
       "      <td>-0.027277</td>\n",
       "      <td>0.058386</td>\n",
       "      <td>-0.011637</td>\n",
       "      <td>-0.020750</td>\n",
       "      <td>-0.023340</td>\n",
       "      <td>0.334594</td>\n",
       "      <td>-0.295381</td>\n",
       "      <td>1.000000</td>\n",
       "      <td>0.030460</td>\n",
       "      <td>-0.013763</td>\n",
       "      <td>-0.049083</td>\n",
       "    </tr>\n",
       "    <tr>\n",
       "      <th>Confirmed last week</th>\n",
       "      <td>0.999127</td>\n",
       "      <td>0.939082</td>\n",
       "      <td>0.899312</td>\n",
       "      <td>0.931459</td>\n",
       "      <td>0.896084</td>\n",
       "      <td>0.862118</td>\n",
       "      <td>0.839692</td>\n",
       "      <td>0.069894</td>\n",
       "      <td>-0.064600</td>\n",
       "      <td>0.030460</td>\n",
       "      <td>1.000000</td>\n",
       "      <td>0.941448</td>\n",
       "      <td>-0.015247</td>\n",
       "    </tr>\n",
       "    <tr>\n",
       "      <th>1 week change</th>\n",
       "      <td>0.954710</td>\n",
       "      <td>0.855330</td>\n",
       "      <td>0.910013</td>\n",
       "      <td>0.847642</td>\n",
       "      <td>0.959993</td>\n",
       "      <td>0.894915</td>\n",
       "      <td>0.954321</td>\n",
       "      <td>0.015095</td>\n",
       "      <td>-0.063013</td>\n",
       "      <td>-0.013763</td>\n",
       "      <td>0.941448</td>\n",
       "      <td>1.000000</td>\n",
       "      <td>0.026594</td>\n",
       "    </tr>\n",
       "    <tr>\n",
       "      <th>1 week % increase</th>\n",
       "      <td>-0.010161</td>\n",
       "      <td>-0.034708</td>\n",
       "      <td>-0.013697</td>\n",
       "      <td>-0.003752</td>\n",
       "      <td>0.030791</td>\n",
       "      <td>0.025293</td>\n",
       "      <td>0.032662</td>\n",
       "      <td>-0.134534</td>\n",
       "      <td>-0.394254</td>\n",
       "      <td>-0.049083</td>\n",
       "      <td>-0.015247</td>\n",
       "      <td>0.026594</td>\n",
       "      <td>1.000000</td>\n",
       "    </tr>\n",
       "  </tbody>\n",
       "</table>\n",
       "</div>"
      ],
      "text/plain": [
       "                        Confirmed    Deaths  Recovered    Active  New cases  \\\n",
       "Confirmed                1.000000  0.934698   0.906377  0.927018   0.909720   \n",
       "Deaths                   0.934698  1.000000   0.832098  0.871586   0.806975   \n",
       "Recovered                0.906377  0.832098   1.000000  0.682103   0.818942   \n",
       "Active                   0.927018  0.871586   0.682103  1.000000   0.851190   \n",
       "New cases                0.909720  0.806975   0.818942  0.851190   1.000000   \n",
       "New deaths               0.871683  0.814161   0.820338  0.781123   0.935947   \n",
       "New recovered            0.859252  0.765114   0.919203  0.673887   0.914765   \n",
       "Deaths / 100 Cases       0.063550  0.251565   0.048438  0.054380   0.020104   \n",
       "Recovered / 100 Cases   -0.064815 -0.114529   0.026610 -0.132618  -0.078666   \n",
       "Deaths / 100 Recovered   0.025175  0.169006  -0.027277  0.058386  -0.011637   \n",
       "Confirmed last week      0.999127  0.939082   0.899312  0.931459   0.896084   \n",
       "1 week change            0.954710  0.855330   0.910013  0.847642   0.959993   \n",
       "1 week % increase       -0.010161 -0.034708  -0.013697 -0.003752   0.030791   \n",
       "\n",
       "                        New deaths  New recovered  Deaths / 100 Cases  \\\n",
       "Confirmed                 0.871683       0.859252            0.063550   \n",
       "Deaths                    0.814161       0.765114            0.251565   \n",
       "Recovered                 0.820338       0.919203            0.048438   \n",
       "Active                    0.781123       0.673887            0.054380   \n",
       "New cases                 0.935947       0.914765            0.020104   \n",
       "New deaths                1.000000       0.889234            0.060399   \n",
       "New recovered             0.889234       1.000000            0.017090   \n",
       "Deaths / 100 Cases        0.060399       0.017090            1.000000   \n",
       "Recovered / 100 Cases    -0.062792      -0.024293           -0.168920   \n",
       "Deaths / 100 Recovered   -0.020750      -0.023340            0.334594   \n",
       "Confirmed last week       0.862118       0.839692            0.069894   \n",
       "1 week change             0.894915       0.954321            0.015095   \n",
       "1 week % increase         0.025293       0.032662           -0.134534   \n",
       "\n",
       "                        Recovered / 100 Cases  Deaths / 100 Recovered  \\\n",
       "Confirmed                           -0.064815                0.025175   \n",
       "Deaths                              -0.114529                0.169006   \n",
       "Recovered                            0.026610               -0.027277   \n",
       "Active                              -0.132618                0.058386   \n",
       "New cases                           -0.078666               -0.011637   \n",
       "New deaths                          -0.062792               -0.020750   \n",
       "New recovered                       -0.024293               -0.023340   \n",
       "Deaths / 100 Cases                  -0.168920                0.334594   \n",
       "Recovered / 100 Cases                1.000000               -0.295381   \n",
       "Deaths / 100 Recovered              -0.295381                1.000000   \n",
       "Confirmed last week                 -0.064600                0.030460   \n",
       "1 week change                       -0.063013               -0.013763   \n",
       "1 week % increase                   -0.394254               -0.049083   \n",
       "\n",
       "                        Confirmed last week  1 week change  1 week % increase  \n",
       "Confirmed                          0.999127       0.954710          -0.010161  \n",
       "Deaths                             0.939082       0.855330          -0.034708  \n",
       "Recovered                          0.899312       0.910013          -0.013697  \n",
       "Active                             0.931459       0.847642          -0.003752  \n",
       "New cases                          0.896084       0.959993           0.030791  \n",
       "New deaths                         0.862118       0.894915           0.025293  \n",
       "New recovered                      0.839692       0.954321           0.032662  \n",
       "Deaths / 100 Cases                 0.069894       0.015095          -0.134534  \n",
       "Recovered / 100 Cases             -0.064600      -0.063013          -0.394254  \n",
       "Deaths / 100 Recovered             0.030460      -0.013763          -0.049083  \n",
       "Confirmed last week                1.000000       0.941448          -0.015247  \n",
       "1 week change                      0.941448       1.000000           0.026594  \n",
       "1 week % increase                 -0.015247       0.026594           1.000000  "
      ]
     },
     "execution_count": 15,
     "metadata": {},
     "output_type": "execute_result"
    }
   ],
   "source": [
    "# 10. find the corraltions between variables.\n",
    "df.corr()"
   ]
  },
  {
   "cell_type": "code",
   "execution_count": 18,
   "id": "eb68b66b",
   "metadata": {},
   "outputs": [
    {
     "data": {
      "text/html": [
       "<div>\n",
       "<style scoped>\n",
       "    .dataframe tbody tr th:only-of-type {\n",
       "        vertical-align: middle;\n",
       "    }\n",
       "\n",
       "    .dataframe tbody tr th {\n",
       "        vertical-align: top;\n",
       "    }\n",
       "\n",
       "    .dataframe thead th {\n",
       "        text-align: right;\n",
       "    }\n",
       "</style>\n",
       "<table border=\"1\" class=\"dataframe\">\n",
       "  <thead>\n",
       "    <tr style=\"text-align: right;\">\n",
       "      <th></th>\n",
       "      <th>Country/Region</th>\n",
       "      <th>Confirmed</th>\n",
       "      <th>Deaths</th>\n",
       "      <th>Recovered</th>\n",
       "      <th>Active</th>\n",
       "      <th>New cases</th>\n",
       "      <th>New deaths</th>\n",
       "      <th>New recovered</th>\n",
       "      <th>Deaths / 100 Cases</th>\n",
       "      <th>Recovered / 100 Cases</th>\n",
       "      <th>Deaths / 100 Recovered</th>\n",
       "      <th>Confirmed last week</th>\n",
       "      <th>1 week change</th>\n",
       "      <th>1 week % increase</th>\n",
       "      <th>WHO Region</th>\n",
       "    </tr>\n",
       "  </thead>\n",
       "  <tbody>\n",
       "    <tr>\n",
       "      <th>0</th>\n",
       "      <td>Afghanistan</td>\n",
       "      <td>36263</td>\n",
       "      <td>1269</td>\n",
       "      <td>25198</td>\n",
       "      <td>9796</td>\n",
       "      <td>106</td>\n",
       "      <td>10</td>\n",
       "      <td>18</td>\n",
       "      <td>3.50</td>\n",
       "      <td>69.49</td>\n",
       "      <td>5.04</td>\n",
       "      <td>35526</td>\n",
       "      <td>737</td>\n",
       "      <td>2.07</td>\n",
       "      <td>Eastern Mediterranean</td>\n",
       "    </tr>\n",
       "    <tr>\n",
       "      <th>1</th>\n",
       "      <td>Albania</td>\n",
       "      <td>4880</td>\n",
       "      <td>144</td>\n",
       "      <td>2745</td>\n",
       "      <td>1991</td>\n",
       "      <td>117</td>\n",
       "      <td>6</td>\n",
       "      <td>63</td>\n",
       "      <td>2.95</td>\n",
       "      <td>56.25</td>\n",
       "      <td>5.25</td>\n",
       "      <td>4171</td>\n",
       "      <td>709</td>\n",
       "      <td>17.00</td>\n",
       "      <td>Europe</td>\n",
       "    </tr>\n",
       "    <tr>\n",
       "      <th>2</th>\n",
       "      <td>Algeria</td>\n",
       "      <td>27973</td>\n",
       "      <td>1163</td>\n",
       "      <td>18837</td>\n",
       "      <td>7973</td>\n",
       "      <td>616</td>\n",
       "      <td>8</td>\n",
       "      <td>749</td>\n",
       "      <td>4.16</td>\n",
       "      <td>67.34</td>\n",
       "      <td>6.17</td>\n",
       "      <td>23691</td>\n",
       "      <td>4282</td>\n",
       "      <td>18.07</td>\n",
       "      <td>Africa</td>\n",
       "    </tr>\n",
       "    <tr>\n",
       "      <th>3</th>\n",
       "      <td>Andorra</td>\n",
       "      <td>907</td>\n",
       "      <td>52</td>\n",
       "      <td>803</td>\n",
       "      <td>52</td>\n",
       "      <td>10</td>\n",
       "      <td>0</td>\n",
       "      <td>0</td>\n",
       "      <td>5.73</td>\n",
       "      <td>88.53</td>\n",
       "      <td>6.48</td>\n",
       "      <td>884</td>\n",
       "      <td>23</td>\n",
       "      <td>2.60</td>\n",
       "      <td>Europe</td>\n",
       "    </tr>\n",
       "    <tr>\n",
       "      <th>4</th>\n",
       "      <td>Angola</td>\n",
       "      <td>950</td>\n",
       "      <td>41</td>\n",
       "      <td>242</td>\n",
       "      <td>667</td>\n",
       "      <td>18</td>\n",
       "      <td>1</td>\n",
       "      <td>0</td>\n",
       "      <td>4.32</td>\n",
       "      <td>25.47</td>\n",
       "      <td>16.94</td>\n",
       "      <td>749</td>\n",
       "      <td>201</td>\n",
       "      <td>26.84</td>\n",
       "      <td>Africa</td>\n",
       "    </tr>\n",
       "  </tbody>\n",
       "</table>\n",
       "</div>"
      ],
      "text/plain": [
       "  Country/Region  Confirmed  Deaths  Recovered  Active  New cases  New deaths  \\\n",
       "0    Afghanistan      36263    1269      25198    9796        106          10   \n",
       "1        Albania       4880     144       2745    1991        117           6   \n",
       "2        Algeria      27973    1163      18837    7973        616           8   \n",
       "3        Andorra        907      52        803      52         10           0   \n",
       "4         Angola        950      41        242     667         18           1   \n",
       "\n",
       "   New recovered  Deaths / 100 Cases  Recovered / 100 Cases  \\\n",
       "0             18                3.50                  69.49   \n",
       "1             63                2.95                  56.25   \n",
       "2            749                4.16                  67.34   \n",
       "3              0                5.73                  88.53   \n",
       "4              0                4.32                  25.47   \n",
       "\n",
       "   Deaths / 100 Recovered  Confirmed last week  1 week change  \\\n",
       "0                    5.04                35526            737   \n",
       "1                    5.25                 4171            709   \n",
       "2                    6.17                23691           4282   \n",
       "3                    6.48                  884             23   \n",
       "4                   16.94                  749            201   \n",
       "\n",
       "   1 week % increase             WHO Region  \n",
       "0               2.07  Eastern Mediterranean  \n",
       "1              17.00                 Europe  \n",
       "2              18.07                 Africa  \n",
       "3               2.60                 Europe  \n",
       "4              26.84                 Africa  "
      ]
     },
     "execution_count": 18,
     "metadata": {},
     "output_type": "execute_result"
    }
   ],
   "source": [
    "df.head()\n"
   ]
  },
  {
   "cell_type": "code",
   "execution_count": null,
   "id": "bca434ea",
   "metadata": {},
   "outputs": [],
   "source": []
  }
 ],
 "metadata": {
  "kernelspec": {
   "display_name": "Python 3",
   "language": "python",
   "name": "python3"
  },
  "language_info": {
   "codemirror_mode": {
    "name": "ipython",
    "version": 3
   },
   "file_extension": ".py",
   "mimetype": "text/x-python",
   "name": "python",
   "nbconvert_exporter": "python",
   "pygments_lexer": "ipython3",
   "version": "3.8.8"
  }
 },
 "nbformat": 4,
 "nbformat_minor": 5
}
