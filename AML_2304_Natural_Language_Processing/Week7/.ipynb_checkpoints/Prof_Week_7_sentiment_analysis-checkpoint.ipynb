{
 "cells": [
  {
   "cell_type": "code",
   "execution_count": null,
   "metadata": {
    "id": "LBRZhU8SY0o4"
   },
   "outputs": [],
   "source": [
    "import pandas as pd\n",
    "import re"
   ]
  },
  {
   "cell_type": "markdown",
   "metadata": {
    "id": "jOM0YsXdioRt"
   },
   "source": [
    " ## Text Blob"
   ]
  },
  {
   "cell_type": "code",
   "execution_count": null,
   "metadata": {
    "id": "HIQSg6Z_hyXc"
   },
   "outputs": [],
   "source": [
    "from textblob import TextBlob"
   ]
  },
  {
   "cell_type": "code",
   "execution_count": null,
   "metadata": {
    "colab": {
     "base_uri": "https://localhost:8080/"
    },
    "id": "XZVGWg3u9CZ8",
    "outputId": "ee2a1bb7-6c2a-4562-ee11-329fdd0c85be"
   },
   "outputs": [
    {
     "data": {
      "text/plain": [
       "Sentiment(polarity=0.7, subjectivity=0.6000000000000001)"
      ]
     },
     "execution_count": 6,
     "metadata": {},
     "output_type": "execute_result"
    }
   ],
   "source": [
    "# sample\n",
    "TextBlob(\"I am good\").sentiment"
   ]
  },
  {
   "cell_type": "code",
   "execution_count": null,
   "metadata": {
    "colab": {
     "base_uri": "https://localhost:8080/"
    },
    "id": "RvN0belcwkqC",
    "outputId": "2b0d5c65-7f76-42e8-8574-b4397f7696f2"
   },
   "outputs": [
    {
     "name": "stdout",
     "output_type": "stream",
     "text": [
      "I am happy: Sentiment score, 0.800\n",
      "I am very happy: Sentiment score, 1.000\n",
      "I am HAPPY: Sentiment score, 0.800\n",
      "I am happy but sad too: Sentiment score, 0.150\n",
      "that SUX: Sentiment score, 0.000\n",
      "I am happy!!!!!: Sentiment score, 1.000\n"
     ]
    }
   ],
   "source": [
    "# it accepts single text\n",
    "# for a corpus, we need to run it in a loop\n",
    "\n",
    "# Polarity score ranges from -1 to 1 \n",
    "# -1 means very negative , 0 means nutral and +1 means positive sentiment\n",
    "\n",
    "\n",
    "corpus = ['I am happy','I am very happy', 'I am HAPPY' , 'I am happy but sad too','that SUX' ,'I am happy!!!!!']\n",
    "\n",
    "for text in corpus:\n",
    " score = TextBlob(text).sentiment[0]\n",
    " print (f\"{text}: Sentiment score, {score:0.3f}\")\n"
   ]
  },
  {
   "cell_type": "markdown",
   "metadata": {
    "id": "16ADpx7_nEaD"
   },
   "source": [
    " ## VADER"
   ]
  },
  {
   "cell_type": "code",
   "execution_count": null,
   "metadata": {
    "id": "ZIdUCZD9l34s"
   },
   "outputs": [],
   "source": [
    "# !pip install vaderSentiment\n",
    "from vaderSentiment.vaderSentiment import SentimentIntensityAnalyzer"
   ]
  },
  {
   "cell_type": "code",
   "execution_count": null,
   "metadata": {
    "colab": {
     "base_uri": "https://localhost:8080/"
    },
    "id": "lzYOEMvRnH3l",
    "outputId": "09d24bc3-df07-4b5f-b112-821dcab7a383"
   },
   "outputs": [
    {
     "data": {
      "text/plain": [
       "{'compound': 0.4404, 'neg': 0.0, 'neu': 0.408, 'pos': 0.592}"
      ]
     },
     "execution_count": 9,
     "metadata": {},
     "output_type": "execute_result"
    }
   ],
   "source": [
    "# sample \n",
    "analyzer = SentimentIntensityAnalyzer()\n",
    "analyzer.polarity_scores(\"I am good\")"
   ]
  },
  {
   "cell_type": "code",
   "execution_count": null,
   "metadata": {
    "colab": {
     "base_uri": "https://localhost:8080/"
    },
    "id": "jELM7hQQzi1b",
    "outputId": "fdb33101-2e7a-4fde-95b4-401cef752556"
   },
   "outputs": [
    {
     "name": "stdout",
     "output_type": "stream",
     "text": [
      "I am happy: Sentiment score, 0.572\n",
      "I am very happy: Sentiment score, 0.612\n",
      "I am HAPPY: Sentiment score, 0.663\n",
      "I am :-)  : Sentiment score, 0.318\n",
      "I am happy but sad too: Sentiment score, -0.421\n",
      "that SUX: Sentiment score, -0.499\n",
      "I am happy!!!!!: Sentiment score, 0.707\n"
     ]
    }
   ],
   "source": [
    "# it accepts single text\n",
    "# for a corpus, we need to run it in a loop\n",
    "\n",
    "# compund score ranges from -1 to 1 \n",
    "# -1 means very negative , 0 means nutral and +1 means positive sentiment\n",
    "\n",
    "corpus = ['I am happy','I am very happy', 'I am HAPPY',\"I am :-)\" , 'I am happy but sad too','that SUX','I am happy!!!!!']\n",
    "\n",
    "for text in corpus:\n",
    " score = SentimentIntensityAnalyzer().polarity_scores(text)['compound']\n",
    " print (f\"{text}: Sentiment score, {score:0.3f}\")\n"
   ]
  },
  {
   "cell_type": "markdown",
   "metadata": {
    "id": "XKMNIjjqPZQ3"
   },
   "source": [
    "## Hugging Face Transformers"
   ]
  },
  {
   "cell_type": "code",
   "execution_count": null,
   "metadata": {
    "id": "1_RWrY-bqAqz"
   },
   "outputs": [],
   "source": [
    "# !pip install transformers"
   ]
  },
  {
   "cell_type": "code",
   "execution_count": null,
   "metadata": {
    "id": "hPnbGli0PcrX"
   },
   "outputs": [],
   "source": [
    "# import the pipeline for sentiment analysis\n",
    "from transformers import pipeline\n",
    "classifier = pipeline(\"sentiment-analysis\")"
   ]
  },
  {
   "cell_type": "code",
   "execution_count": null,
   "metadata": {
    "colab": {
     "base_uri": "https://localhost:8080/"
    },
    "id": "lk9KJIYDP4bb",
    "outputId": "b2d0e887-f70f-4450-a4cf-b5137f9398ad"
   },
   "outputs": [
    {
     "data": {
      "text/plain": [
       "[{'label': 'POSITIVE', 'score': 0.9998775720596313}]"
      ]
     },
     "execution_count": 15,
     "metadata": {},
     "output_type": "execute_result"
    }
   ],
   "source": [
    "# sample\n",
    "classifier(['I am great'])"
   ]
  },
  {
   "cell_type": "code",
   "execution_count": null,
   "metadata": {
    "colab": {
     "base_uri": "https://localhost:8080/"
    },
    "id": "dxqkeLznQlCK",
    "outputId": "bbb948d8-0b98-4c2f-be84-bb0b8ed90599"
   },
   "outputs": [
    {
     "name": "stdout",
     "output_type": "stream",
     "text": [
      "I am happy, sentimen: POSITIVE with confidence of 0.999880\n",
      "I am very happy, sentimen: POSITIVE with confidence of 0.999880\n",
      "I am HAPPY, sentimen: POSITIVE with confidence of 0.999880\n",
      "I am happy but sad too, sentimen: POSITIVE with confidence of 0.998172\n",
      "that SUX, sentimen: NEGATIVE with confidence of 0.915623\n",
      "I am :-), sentimen: NEGATIVE with confidence of 0.807895\n",
      "I am happy!!!!!, sentimen: POSITIVE with confidence of 0.999880\n"
     ]
    }
   ],
   "source": [
    "# this accepts a \"list\" of text\n",
    "# It produces a lable and a CONFIDENCE score\n",
    "\n",
    "\n",
    "corpus = ['I am happy','I am very happy', 'I am HAPPY' , 'I am happy but sad too','that SUX',\"I am :-)\",'I am happy!!!!!']\n",
    "\n",
    "sentiments = classifier(corpus)\n",
    "\n",
    "for text,sentiment in zip(corpus,sentiments):\n",
    "  print(f\"{text}, sentimen: {sentiment['label']} with confidence of {sentiment['score']:0.6f}\")\n"
   ]
  },
  {
   "cell_type": "code",
   "execution_count": null,
   "metadata": {
    "id": "bIzWJLGm_Iyh"
   },
   "outputs": [],
   "source": []
  }
 ],
 "metadata": {
  "colab": {
   "collapsed_sections": [
    "jOM0YsXdioRt",
    "16ADpx7_nEaD",
    "XKMNIjjqPZQ3"
   ],
   "name": "Week_7_sentiment analysis.ipynb",
   "provenance": []
  },
  "kernelspec": {
   "display_name": "Python 3",
   "language": "python",
   "name": "python3"
  },
  "language_info": {
   "codemirror_mode": {
    "name": "ipython",
    "version": 3
   },
   "file_extension": ".py",
   "mimetype": "text/x-python",
   "name": "python",
   "nbconvert_exporter": "python",
   "pygments_lexer": "ipython3",
   "version": "3.8.8"
  }
 },
 "nbformat": 4,
 "nbformat_minor": 1
}
