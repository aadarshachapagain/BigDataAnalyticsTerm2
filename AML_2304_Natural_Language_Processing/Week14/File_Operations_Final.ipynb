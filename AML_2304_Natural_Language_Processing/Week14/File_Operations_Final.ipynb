{
 "cells": [
  {
   "cell_type": "code",
   "execution_count": 1,
   "metadata": {
    "id": "wppELu175EX5"
   },
   "outputs": [],
   "source": [
    "path = \"sample.txt\"\n",
    "\n",
    "file1 = open(path,\"r\")\n",
    "file2 = open(r\"sample.txt\",\"r\")"
   ]
  },
  {
   "cell_type": "code",
   "execution_count": 2,
   "metadata": {
    "id": "hs4SSznIKTcs"
   },
   "outputs": [],
   "source": [
    "file2.close()"
   ]
  },
  {
   "cell_type": "code",
   "execution_count": 3,
   "metadata": {
    "colab": {
     "base_uri": "https://localhost:8080/"
    },
    "id": "d-Xs3ChoKVy3",
    "outputId": "d9eb792f-b9a0-4f3f-fdff-4befa12bb43f"
   },
   "outputs": [
    {
     "name": "stdout",
     "output_type": "stream",
     "text": [
      "Output of Read function is \n",
      "Hello\n",
      "\n",
      "Welcome to text file \n",
      "Text file data\n",
      "\n"
     ]
    }
   ],
   "source": [
    "print(\"Output of Read function is \")\n",
    "print(file1.read())"
   ]
  },
  {
   "cell_type": "code",
   "execution_count": 4,
   "metadata": {
    "colab": {
     "base_uri": "https://localhost:8080/"
    },
    "id": "73PdwopYK112",
    "outputId": "4fbe27f6-feae-420b-da74-c41fcd0d833b"
   },
   "outputs": [
    {
     "name": "stdout",
     "output_type": "stream",
     "text": [
      "Output of Readline function is \n",
      "Hello\n",
      "\n",
      "\n"
     ]
    }
   ],
   "source": [
    "# seek(n) takes the file handle to the nth\n",
    "# bite from the beginning.\n",
    "file1.seek(0) \n",
    "  \n",
    "print( \"Output of Readline function is \")\n",
    "print(file1.readline()) \n",
    "print()"
   ]
  },
  {
   "cell_type": "code",
   "execution_count": 5,
   "metadata": {
    "colab": {
     "base_uri": "https://localhost:8080/"
    },
    "id": "TCepi_ZELRvN",
    "outputId": "701d3b97-bac4-4517-f6d3-298e27f525a4"
   },
   "outputs": [
    {
     "name": "stdout",
     "output_type": "stream",
     "text": [
      "Output of Read(9) function is \n",
      "Hello\n",
      "\n",
      "Welcome to text file \n",
      "T\n",
      "\n",
      "Output of Readline(9) function is \n",
      "Hello\n",
      "\n"
     ]
    }
   ],
   "source": [
    "file1.seek(0)\n",
    "# To show difference between read and readline\n",
    "print(\"Output of Read(9) function is \") \n",
    "print(file1.read(30))\n",
    "print()\n",
    "  \n",
    "file1.seek(0)\n",
    "print(\"Output of Readline(9) function is \") \n",
    "print(file1.readline(30))"
   ]
  },
  {
   "cell_type": "code",
   "execution_count": 6,
   "metadata": {
    "colab": {
     "base_uri": "https://localhost:8080/"
    },
    "id": "OJc4X1C4LbV_",
    "outputId": "a8caee66-b0f7-41e5-fcc5-8b3784784a28"
   },
   "outputs": [
    {
     "name": "stdout",
     "output_type": "stream",
     "text": [
      "Output of Readlines function is \n",
      "['Hello\\n', '\\n', 'Welcome to text file \\n', 'Text file data\\n']\n",
      "\n"
     ]
    }
   ],
   "source": [
    "file1.seek(0)\n",
    "# readlines function\n",
    "print(\"Output of Readlines function is \") \n",
    "print(file1.readlines()) \n",
    "print()"
   ]
  },
  {
   "cell_type": "code",
   "execution_count": 7,
   "metadata": {
    "id": "IYSWWvHpLlKm"
   },
   "outputs": [],
   "source": [
    "file1.close()\n",
    "file2 = open(\"sample.txt\",\"a\")\n",
    "L = [\"\\nThis is line four \\n\",\"This is line five \\n\",\"This is line 6 \\n\"] \n",
    "\n",
    "# \\n is placed to indicate EOL (End of Line)\n",
    "file2.writelines(L)\n",
    "file2.close()"
   ]
  },
  {
   "cell_type": "code",
   "execution_count": 8,
   "metadata": {
    "colab": {
     "base_uri": "https://localhost:8080/"
    },
    "id": "M4xHhquxMWRU",
    "outputId": "01b91c3d-0936-42ec-db70-cfe8fff9ac16"
   },
   "outputs": [
    {
     "name": "stdout",
     "output_type": "stream",
     "text": [
      "Hello\n",
      "\n",
      "Welcome to text file \n",
      "Text file data\n",
      "\n",
      "This is line four \n",
      "This is line five \n",
      "This is line 6 \n",
      "\n"
     ]
    }
   ],
   "source": [
    "file2 = open(path,\"r\")\n",
    "print(file2.read())\n",
    "file2.close()"
   ]
  },
  {
   "cell_type": "code",
   "execution_count": 9,
   "metadata": {
    "id": "1nXQocIZMdvl"
   },
   "outputs": [],
   "source": [
    "file1 = open(\"sample.txt\",\"w\")\n",
    "file1.write(\"Hello\\n\")\n",
    "L = [\"\\nWelcome to text file \\n\",\"Text file data\\n\"]\n",
    "file1.writelines(L) "
   ]
  },
  {
   "cell_type": "code",
   "execution_count": 10,
   "metadata": {
    "colab": {
     "base_uri": "https://localhost:8080/"
    },
    "id": "S0ytx3WfNVEw",
    "outputId": "f6dc9a7f-c843-4a33-8f70-bd3049f7f76d"
   },
   "outputs": [
    {
     "name": "stdout",
     "output_type": "stream",
     "text": [
      "Hello\n",
      "\n",
      "Welcome to text file \n",
      "Text file data\n",
      "\n"
     ]
    }
   ],
   "source": [
    "file1.close()\n",
    "file1 = open(\"sample.txt\",\"r\")\n",
    "print(file1.read()) "
   ]
  },
  {
   "cell_type": "code",
   "execution_count": 11,
   "metadata": {
    "colab": {
     "base_uri": "https://localhost:8080/"
    },
    "id": "YvYTyLLP3Cf_",
    "outputId": "44c81719-c729-44ba-b260-7cc231bc63e0"
   },
   "outputs": [
    {
     "name": "stdout",
     "output_type": "stream",
     "text": [
      "Requirement already satisfied: PyPDF2 in c:\\programdata\\anaconda3\\lib\\site-packages (1.26.0)\n",
      "Note: you may need to restart the kernel to use updated packages.\n"
     ]
    }
   ],
   "source": [
    "pip install PyPDF2"
   ]
  },
  {
   "cell_type": "code",
   "execution_count": 12,
   "metadata": {
    "colab": {
     "base_uri": "https://localhost:8080/"
    },
    "id": "bW_8Vm3BODk2",
    "outputId": "cd4a7500-65ca-4aa3-af27-e194e5e668cd"
   },
   "outputs": [
    {
     "name": "stdout",
     "output_type": "stream",
     "text": [
      "{'/Title': 'File Operations in Python', '/Author': 'pedram Habibi', '/CreationDate': \"D:20220306162724-05'00'\", '/ModDate': \"D:20220306162724-05'00'\", '/Producer': 'Microsoft® PowerPoint® for Microsoft 365', '/Creator': 'Microsoft® PowerPoint® for Microsoft 365'}\n",
      "number of pages:  37\n"
     ]
    }
   ],
   "source": [
    "from PyPDF2 import PdfFileReader\n",
    "pdf_path = r\"NLP.pdf\"\n",
    "with open(pdf_path, 'rb') as f:\n",
    "        pdf = PdfFileReader(f)\n",
    "        information = pdf.getDocumentInfo()\n",
    "        number_of_pages = pdf.getNumPages()\n",
    "        print(information)\n",
    "        print(\"number of pages: \",number_of_pages)"
   ]
  },
  {
   "cell_type": "code",
   "execution_count": 13,
   "metadata": {
    "colab": {
     "base_uri": "https://localhost:8080/"
    },
    "id": "_T2buZjj3gwA",
    "outputId": "deedaf69-5cba-4e4c-e1c2-d2e96dbaeb67"
   },
   "outputs": [
    {
     "name": "stdout",
     "output_type": "stream",
     "text": [
      "37\n",
      "Learning outcome\n",
      "\n",
      "10. Demonstrate Files operations in Python  \n",
      "===============================================\n",
      "\n",
      "10.1 Illustrate reading and writing to Text files\n",
      "\n",
      "10.2 Show reading and to PDF files\n",
      "\n"
     ]
    }
   ],
   "source": [
    "import PyPDF2 \n",
    "\n",
    "pdfFileObj = open('NLP.pdf', 'rb')\n",
    "pdfReader = PyPDF2.PdfFileReader(pdfFileObj)\n",
    "print(pdfReader.numPages)\n",
    "pageObj = pdfReader.getPage(1)\n",
    "print(pageObj.extractText())\n",
    "pdfFileObj.close()"
   ]
  },
  {
   "cell_type": "code",
   "execution_count": 14,
   "metadata": {
    "id": "Yut6OZ5D4EPk"
   },
   "outputs": [],
   "source": [
    "from PyPDF2 import PdfFileWriter, PdfFileReader\n",
    "\n",
    "file1 = PdfFileReader(open(\"NLP.pdf\", \"rb\"))\n",
    "output = PdfFileWriter()\n",
    "\n",
    "page1 = file1.getPage(2)\n",
    "page2 = file1.getPage(3)\n",
    "\n",
    "output.addPage(page1)\n",
    "output.addPage(page2)\n",
    "\n",
    "outputStream = open(\"document-output.pdf\", \"wb\")\n",
    "output.write(outputStream)\n",
    "outputStream.close()"
   ]
  },
  {
   "cell_type": "code",
   "execution_count": null,
   "metadata": {
    "id": "KIxXC9rT7kX4"
   },
   "outputs": [],
   "source": []
  }
 ],
 "metadata": {
  "colab": {
   "collapsed_sections": [],
   "name": "File Operations.ipynb",
   "provenance": []
  },
  "kernelspec": {
   "display_name": "Python 3 (ipykernel)",
   "language": "python",
   "name": "python3"
  },
  "language_info": {
   "codemirror_mode": {
    "name": "ipython",
    "version": 3
   },
   "file_extension": ".py",
   "mimetype": "text/x-python",
   "name": "python",
   "nbconvert_exporter": "python",
   "pygments_lexer": "ipython3",
   "version": "3.9.7"
  }
 },
 "nbformat": 4,
 "nbformat_minor": 1
}
