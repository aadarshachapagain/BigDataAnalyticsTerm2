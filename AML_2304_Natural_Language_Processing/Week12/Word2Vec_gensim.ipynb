{
  "nbformat": 4,
  "nbformat_minor": 0,
  "metadata": {
    "colab": {
      "name": "Word2Vec_gensim.ipynb",
      "provenance": [],
      "collapsed_sections": []
    },
    "kernelspec": {
      "name": "python3",
      "display_name": "Python 3"
    },
    "language_info": {
      "name": "python"
    }
  },
  "cells": [
    {
      "cell_type": "markdown",
      "source": [
        "# Some useful articles about Word2Vec"
      ],
      "metadata": {
        "id": "9kMrDQgrRtrw"
      }
    },
    {
      "cell_type": "markdown",
      "source": [
        "https://radimrehurek.com/gensim/models/word2vec.html"
      ],
      "metadata": {
        "id": "F_wYrQ5S5fDZ"
      }
    },
    {
      "cell_type": "markdown",
      "source": [
        "https://towardsdatascience.com/learn-word2vec-by-implementing-it-in-tensorflow-45641adaf2ac"
      ],
      "metadata": {
        "id": "lOMCwz_b5g6v"
      }
    },
    {
      "cell_type": "markdown",
      "source": [
        "http://mccormickml.com/2016/04/19/word2vec-tutorial-the-skip-gram-model/"
      ],
      "metadata": {
        "id": "U1IVJpBcR6zb"
      }
    },
    {
      "cell_type": "code",
      "execution_count": 3,
      "metadata": {
        "id": "OkuRwtv047te"
      },
      "outputs": [],
      "source": [
        "from gensim.models import Word2Vec"
      ]
    },
    {
      "cell_type": "code",
      "source": [
        "common_texts = [[\"He\", \"is\", \"the\", 'king'],[\"the\", \"king\", 'is', 'royal'],[\"She\", \"is\", \"the\",\"queen\"]]"
      ],
      "metadata": {
        "id": "sEc0taPY5FHx"
      },
      "execution_count": 10,
      "outputs": []
    },
    {
      "cell_type": "code",
      "source": [
        "model = Word2Vec(sentences=common_texts, size=6, window=2, min_count=1,sg=1) # skipgram=1, CBOW=0"
      ],
      "metadata": {
        "id": "h137SJlO5I_m"
      },
      "execution_count": 11,
      "outputs": []
    },
    {
      "cell_type": "code",
      "source": [
        "vector = model.wv['king']  # get numpy vector of a word"
      ],
      "metadata": {
        "id": "ZRut5gVD5KeA"
      },
      "execution_count": 12,
      "outputs": []
    },
    {
      "cell_type": "code",
      "source": [
        "vector.shape"
      ],
      "metadata": {
        "colab": {
          "base_uri": "https://localhost:8080/"
        },
        "id": "tcLKDikJ5NhL",
        "outputId": "c0db124e-5e88-4390-ddaf-f55ce44031e7"
      },
      "execution_count": 13,
      "outputs": [
        {
          "output_type": "execute_result",
          "data": {
            "text/plain": [
              "(6,)"
            ]
          },
          "metadata": {},
          "execution_count": 13
        }
      ]
    },
    {
      "cell_type": "code",
      "source": [
        "vector"
      ],
      "metadata": {
        "colab": {
          "base_uri": "https://localhost:8080/"
        },
        "id": "cURR9xsScc9s",
        "outputId": "7ec87557-8822-4248-d614-969f4ac381ac"
      },
      "execution_count": 14,
      "outputs": [
        {
          "output_type": "execute_result",
          "data": {
            "text/plain": [
              "array([-0.03571919,  0.02529394,  0.04117639, -0.0543459 , -0.00230074,\n",
              "       -0.06236653], dtype=float32)"
            ]
          },
          "metadata": {},
          "execution_count": 14
        }
      ]
    },
    {
      "cell_type": "code",
      "source": [
        "model.wv.most_similar('king', topn=3) "
      ],
      "metadata": {
        "colab": {
          "base_uri": "https://localhost:8080/"
        },
        "id": "IF4d2QSl5Oyj",
        "outputId": "8414e9e8-2b72-4a7d-faaa-c532bebb1ed9"
      },
      "execution_count": 15,
      "outputs": [
        {
          "output_type": "execute_result",
          "data": {
            "text/plain": [
              "[('the', 0.9231991171836853),\n",
              " ('queen', 0.7849632501602173),\n",
              " ('is', 0.20940326154232025)]"
            ]
          },
          "metadata": {},
          "execution_count": 15
        }
      ]
    },
    {
      "cell_type": "code",
      "source": [
        "# repeat the last week exercise, only this time, use gensim.... experiment with different diamensions, window sizes and skipgam/CBOW"
      ],
      "metadata": {
        "id": "v-TQaWK03TKu"
      },
      "execution_count": 1,
      "outputs": []
    },
    {
      "cell_type": "code",
      "source": [
        "# visualize the words .....using pca/tsne ... plot them ..."
      ],
      "metadata": {
        "id": "jSdrLoV5SdFw"
      },
      "execution_count": 16,
      "outputs": []
    },
    {
      "cell_type": "code",
      "source": [
        ""
      ],
      "metadata": {
        "id": "76f6Xe2NSkrT"
      },
      "execution_count": null,
      "outputs": []
    }
  ]
}