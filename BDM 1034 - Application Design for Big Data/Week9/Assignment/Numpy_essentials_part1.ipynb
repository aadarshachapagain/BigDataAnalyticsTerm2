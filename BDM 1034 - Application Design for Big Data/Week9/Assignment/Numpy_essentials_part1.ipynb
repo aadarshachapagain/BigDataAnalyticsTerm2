{
 "cells": [
  {
   "cell_type": "markdown",
   "id": "312aab07",
   "metadata": {},
   "source": [
    "# NumPy Essential Training: 1 Foundations of NumPy"
   ]
  },
  {
   "cell_type": "markdown",
   "id": "a48653ca",
   "metadata": {},
   "source": [
    "## Chapter 1 : Overview"
   ]
  },
  {
   "cell_type": "code",
   "execution_count": 1,
   "id": "3e90962e",
   "metadata": {},
   "outputs": [
    {
     "data": {
      "text/plain": [
       "42"
      ]
     },
     "execution_count": 1,
     "metadata": {},
     "output_type": "execute_result"
    }
   ],
   "source": [
    "2+8*5"
   ]
  },
  {
   "cell_type": "markdown",
   "id": "3a816e8d",
   "metadata": {},
   "source": [
    "## Chapter 2 : Numpy array types and creating Numpy Arrays"
   ]
  },
  {
   "cell_type": "markdown",
   "id": "c3361e1e",
   "metadata": {},
   "source": [
    "### Array types and conversions between types"
   ]
  },
  {
   "cell_type": "code",
   "execution_count": 2,
   "id": "baa5467a",
   "metadata": {},
   "outputs": [],
   "source": [
    "import numpy as np"
   ]
  },
  {
   "cell_type": "code",
   "execution_count": 4,
   "id": "3dcdae3e",
   "metadata": {},
   "outputs": [],
   "source": [
    "integers=np.array([10,20,30,40,50])"
   ]
  },
  {
   "cell_type": "code",
   "execution_count": 5,
   "id": "2ed9b219",
   "metadata": {},
   "outputs": [
    {
     "data": {
      "text/plain": [
       "array([10, 20, 30, 40, 50])"
      ]
     },
     "execution_count": 5,
     "metadata": {},
     "output_type": "execute_result"
    }
   ],
   "source": [
    "integers"
   ]
  },
  {
   "cell_type": "code",
   "execution_count": 6,
   "id": "be0d0214",
   "metadata": {},
   "outputs": [
    {
     "data": {
      "text/plain": [
       "10"
      ]
     },
     "execution_count": 6,
     "metadata": {},
     "output_type": "execute_result"
    }
   ],
   "source": [
    "integers[0]"
   ]
  },
  {
   "cell_type": "code",
   "execution_count": 7,
   "id": "3487141b",
   "metadata": {},
   "outputs": [
    {
     "data": {
      "text/plain": [
       "array([20, 20, 30, 40, 50])"
      ]
     },
     "execution_count": 7,
     "metadata": {},
     "output_type": "execute_result"
    }
   ],
   "source": [
    "integers[0]=20\n",
    "integers"
   ]
  },
  {
   "cell_type": "code",
   "execution_count": 8,
   "id": "21496a04",
   "metadata": {},
   "outputs": [
    {
     "data": {
      "text/plain": [
       "array([21, 20, 30, 40, 50])"
      ]
     },
     "execution_count": 8,
     "metadata": {},
     "output_type": "execute_result"
    }
   ],
   "source": [
    "integers[0]=21.5\n",
    "integers"
   ]
  },
  {
   "cell_type": "code",
   "execution_count": 9,
   "id": "355b4b1b",
   "metadata": {},
   "outputs": [
    {
     "data": {
      "text/plain": [
       "dtype('int32')"
      ]
     },
     "execution_count": 9,
     "metadata": {},
     "output_type": "execute_result"
    }
   ],
   "source": [
    "integers.dtype"
   ]
  },
  {
   "cell_type": "code",
   "execution_count": 10,
   "id": "e2cb1928",
   "metadata": {},
   "outputs": [],
   "source": [
    "smallerIntegers=np.array(integers,dtype=np.int8)"
   ]
  },
  {
   "cell_type": "code",
   "execution_count": 12,
   "id": "bba0dfcb",
   "metadata": {},
   "outputs": [
    {
     "data": {
      "text/plain": [
       "array([21, 20, 30, 40, 50], dtype=int8)"
      ]
     },
     "execution_count": 12,
     "metadata": {},
     "output_type": "execute_result"
    }
   ],
   "source": [
    "smallerIntegers"
   ]
  },
  {
   "cell_type": "code",
   "execution_count": 13,
   "id": "be4bdf21",
   "metadata": {},
   "outputs": [
    {
     "data": {
      "text/plain": [
       "20"
      ]
     },
     "execution_count": 13,
     "metadata": {},
     "output_type": "execute_result"
    }
   ],
   "source": [
    "integers.nbytes"
   ]
  },
  {
   "cell_type": "code",
   "execution_count": 14,
   "id": "dd68910c",
   "metadata": {},
   "outputs": [
    {
     "data": {
      "text/plain": [
       "array([ 127, -128, -127], dtype=int8)"
      ]
     },
     "execution_count": 14,
     "metadata": {},
     "output_type": "execute_result"
    }
   ],
   "source": [
    "overflow = np.array([127,128,129], dtype = np.int8)\n",
    "overflow"
   ]
  },
  {
   "cell_type": "code",
   "execution_count": 16,
   "id": "70e9ca10",
   "metadata": {},
   "outputs": [],
   "source": [
    "floats=np.array([1.2,2.3,3.4,5.1,8.3])"
   ]
  },
  {
   "cell_type": "code",
   "execution_count": 17,
   "id": "af8b5a3d",
   "metadata": {},
   "outputs": [
    {
     "data": {
      "text/plain": [
       "array([1.2, 2.3, 3.4, 5.1, 8.3])"
      ]
     },
     "execution_count": 17,
     "metadata": {},
     "output_type": "execute_result"
    }
   ],
   "source": [
    "floats"
   ]
  },
  {
   "cell_type": "code",
   "execution_count": 18,
   "id": "b99a4a69",
   "metadata": {},
   "outputs": [
    {
     "data": {
      "text/plain": [
       "dtype('float64')"
      ]
     },
     "execution_count": 18,
     "metadata": {},
     "output_type": "execute_result"
    }
   ],
   "source": [
    "floats.dtype"
   ]
  },
  {
   "cell_type": "markdown",
   "id": "047c7742",
   "metadata": {},
   "source": [
    "### Multidimensional array"
   ]
  },
  {
   "cell_type": "code",
   "execution_count": 19,
   "id": "13ec9dc2",
   "metadata": {},
   "outputs": [
    {
     "data": {
      "text/plain": [
       "array([[ 1,  2,  3,  4,  5],\n",
       "       [ 6,  7,  8,  9, 10]])"
      ]
     },
     "execution_count": 19,
     "metadata": {},
     "output_type": "execute_result"
    }
   ],
   "source": [
    "nums=np.array([[1,2,3,4,5],[6,7,8,9,10]])\n",
    "nums"
   ]
  },
  {
   "cell_type": "code",
   "execution_count": 21,
   "id": "5af1a321",
   "metadata": {},
   "outputs": [
    {
     "data": {
      "text/plain": [
       "1"
      ]
     },
     "execution_count": 21,
     "metadata": {},
     "output_type": "execute_result"
    }
   ],
   "source": [
    "nums[0,0]"
   ]
  },
  {
   "cell_type": "code",
   "execution_count": 22,
   "id": "2d90b867",
   "metadata": {},
   "outputs": [
    {
     "data": {
      "text/plain": [
       "10"
      ]
     },
     "execution_count": 22,
     "metadata": {},
     "output_type": "execute_result"
    }
   ],
   "source": [
    "nums[1,4]"
   ]
  },
  {
   "cell_type": "code",
   "execution_count": 23,
   "id": "11a5de53",
   "metadata": {},
   "outputs": [
    {
     "data": {
      "text/plain": [
       "2"
      ]
     },
     "execution_count": 23,
     "metadata": {},
     "output_type": "execute_result"
    }
   ],
   "source": [
    "nums.ndim"
   ]
  },
  {
   "cell_type": "code",
   "execution_count": 24,
   "id": "71dd654b",
   "metadata": {},
   "outputs": [],
   "source": [
    "multi_arr=np.array([[[1,2,3],[4,5,6]],[[7,8,9],[10,11,12]]])"
   ]
  },
  {
   "cell_type": "code",
   "execution_count": 25,
   "id": "7dac5b08",
   "metadata": {},
   "outputs": [
    {
     "data": {
      "text/plain": [
       "array([[[ 1,  2,  3],\n",
       "        [ 4,  5,  6]],\n",
       "\n",
       "       [[ 7,  8,  9],\n",
       "        [10, 11, 12]]])"
      ]
     },
     "execution_count": 25,
     "metadata": {},
     "output_type": "execute_result"
    }
   ],
   "source": [
    "multi_arr"
   ]
  },
  {
   "cell_type": "code",
   "execution_count": 26,
   "id": "78d5f560",
   "metadata": {},
   "outputs": [
    {
     "data": {
      "text/plain": [
       "9"
      ]
     },
     "execution_count": 26,
     "metadata": {},
     "output_type": "execute_result"
    }
   ],
   "source": [
    "multi_arr[1,0,2]"
   ]
  },
  {
   "cell_type": "markdown",
   "id": "380c9b23",
   "metadata": {},
   "source": [
    "### Creating arrays from Lists and other Python structures"
   ]
  },
  {
   "cell_type": "code",
   "execution_count": 27,
   "id": "adbd42d2",
   "metadata": {},
   "outputs": [],
   "source": [
    "first_list=[1,2,3,4,5,6,7,8,9,10]"
   ]
  },
  {
   "cell_type": "code",
   "execution_count": 28,
   "id": "5b2adcf1",
   "metadata": {},
   "outputs": [
    {
     "data": {
      "text/plain": [
       "[1, 2, 3, 4, 5, 6, 7, 8, 9, 10]"
      ]
     },
     "execution_count": 28,
     "metadata": {},
     "output_type": "execute_result"
    }
   ],
   "source": [
    "first_list"
   ]
  },
  {
   "cell_type": "code",
   "execution_count": 29,
   "id": "5216a5e7",
   "metadata": {},
   "outputs": [],
   "source": [
    "first_array=np.array(first_list)"
   ]
  },
  {
   "cell_type": "code",
   "execution_count": 30,
   "id": "292cf2dd",
   "metadata": {},
   "outputs": [
    {
     "data": {
      "text/plain": [
       "array([ 1,  2,  3,  4,  5,  6,  7,  8,  9, 10])"
      ]
     },
     "execution_count": 30,
     "metadata": {},
     "output_type": "execute_result"
    }
   ],
   "source": [
    "first_array"
   ]
  },
  {
   "cell_type": "code",
   "execution_count": 32,
   "id": "f4b2a22d",
   "metadata": {},
   "outputs": [],
   "source": [
    "second_list=[1,2,3,-1.23,50,128000.56,4.56]"
   ]
  },
  {
   "cell_type": "code",
   "execution_count": 33,
   "id": "4cbf73bf",
   "metadata": {},
   "outputs": [],
   "source": [
    "second_array=np.array(second_list)"
   ]
  },
  {
   "cell_type": "code",
   "execution_count": 34,
   "id": "4aa6f27c",
   "metadata": {},
   "outputs": [
    {
     "data": {
      "text/plain": [
       "dtype('float64')"
      ]
     },
     "execution_count": 34,
     "metadata": {},
     "output_type": "execute_result"
    }
   ],
   "source": [
    "second_array.dtype"
   ]
  },
  {
   "cell_type": "code",
   "execution_count": 35,
   "id": "7b42b28b",
   "metadata": {},
   "outputs": [],
   "source": [
    "third_list=['Ann',111111,'Peter',111112,'Susan',111113,'John',111114]\n"
   ]
  },
  {
   "cell_type": "code",
   "execution_count": 36,
   "id": "e7e1ba0c",
   "metadata": {},
   "outputs": [],
   "source": [
    "third_array=np.array(third_list)"
   ]
  },
  {
   "cell_type": "code",
   "execution_count": 37,
   "id": "a463abdf",
   "metadata": {},
   "outputs": [
    {
     "data": {
      "text/plain": [
       "array(['Ann', '111111', 'Peter', '111112', 'Susan', '111113', 'John',\n",
       "       '111114'], dtype='<U11')"
      ]
     },
     "execution_count": 37,
     "metadata": {},
     "output_type": "execute_result"
    }
   ],
   "source": [
    "third_array"
   ]
  },
  {
   "cell_type": "code",
   "execution_count": 38,
   "id": "32ccfc21",
   "metadata": {},
   "outputs": [],
   "source": [
    "first_tuple =(5,10,15,20,25,30)"
   ]
  },
  {
   "cell_type": "code",
   "execution_count": 39,
   "id": "1e9292cb",
   "metadata": {},
   "outputs": [
    {
     "data": {
      "text/plain": [
       "array([ 5, 10, 15, 20, 25, 30])"
      ]
     },
     "execution_count": 39,
     "metadata": {},
     "output_type": "execute_result"
    }
   ],
   "source": [
    "array_from_tuple=np.array(first_tuple)\n",
    "array_from_tuple"
   ]
  },
  {
   "cell_type": "code",
   "execution_count": 40,
   "id": "ab78e154",
   "metadata": {},
   "outputs": [
    {
     "data": {
      "text/plain": [
       "dtype('int32')"
      ]
     },
     "execution_count": 40,
     "metadata": {},
     "output_type": "execute_result"
    }
   ],
   "source": [
    "array_from_tuple.dtype"
   ]
  },
  {
   "cell_type": "code",
   "execution_count": 41,
   "id": "afba86fc",
   "metadata": {},
   "outputs": [],
   "source": [
    "multi_dim_list=[[[0,1,2], [3,4,5]], [[6,7,8],[9,10,11]]] "
   ]
  },
  {
   "cell_type": "code",
   "execution_count": 42,
   "id": "95c488d0",
   "metadata": {},
   "outputs": [],
   "source": [
    "arr_from_multi_dim_list=np.array(multi_dim_list)"
   ]
  },
  {
   "cell_type": "code",
   "execution_count": 43,
   "id": "72769bd8",
   "metadata": {},
   "outputs": [
    {
     "data": {
      "text/plain": [
       "array([[[ 0,  1,  2],\n",
       "        [ 3,  4,  5]],\n",
       "\n",
       "       [[ 6,  7,  8],\n",
       "        [ 9, 10, 11]]])"
      ]
     },
     "execution_count": 43,
     "metadata": {},
     "output_type": "execute_result"
    }
   ],
   "source": [
    "arr_from_multi_dim_list"
   ]
  },
  {
   "cell_type": "markdown",
   "id": "87b32fb0",
   "metadata": {},
   "source": [
    "### Intrisic NumPy array creation"
   ]
  },
  {
   "cell_type": "code",
   "execution_count": 44,
   "id": "633764a7",
   "metadata": {},
   "outputs": [
    {
     "data": {
      "text/plain": [
       "array([0, 1, 2, 3, 4, 5, 6, 7, 8, 9])"
      ]
     },
     "execution_count": 44,
     "metadata": {},
     "output_type": "execute_result"
    }
   ],
   "source": [
    "integers_array=np.arange(10)\n",
    "integers_array"
   ]
  },
  {
   "cell_type": "code",
   "execution_count": 45,
   "id": "e636e954",
   "metadata": {},
   "outputs": [
    {
     "data": {
      "text/plain": [
       "array([100, 101, 102, 103, 104, 105, 106, 107, 108, 109, 110, 111, 112,\n",
       "       113, 114, 115, 116, 117, 118, 119, 120, 121, 122, 123, 124, 125,\n",
       "       126, 127, 128, 129])"
      ]
     },
     "execution_count": 45,
     "metadata": {},
     "output_type": "execute_result"
    }
   ],
   "source": [
    "integers_second_array=np.arange(100,130)\n",
    "integers_second_array"
   ]
  },
  {
   "cell_type": "code",
   "execution_count": 47,
   "id": "5a932076",
   "metadata": {},
   "outputs": [
    {
     "data": {
      "text/plain": [
       "array([100, 102, 104, 106, 108, 110, 112, 114, 116, 118, 120, 122, 124,\n",
       "       126, 128, 130, 132, 134, 136, 138, 140, 142, 144, 146, 148, 150])"
      ]
     },
     "execution_count": 47,
     "metadata": {},
     "output_type": "execute_result"
    }
   ],
   "source": [
    "integers_third_array=np.arange(100,151,2)\n",
    "integers_third_array"
   ]
  },
  {
   "cell_type": "code",
   "execution_count": 48,
   "id": "d376e008",
   "metadata": {},
   "outputs": [
    {
     "data": {
      "text/plain": [
       "array([10.        , 10.20408163, 10.40816327, 10.6122449 , 10.81632653,\n",
       "       11.02040816, 11.2244898 , 11.42857143, 11.63265306, 11.83673469,\n",
       "       12.04081633, 12.24489796, 12.44897959, 12.65306122, 12.85714286,\n",
       "       13.06122449, 13.26530612, 13.46938776, 13.67346939, 13.87755102,\n",
       "       14.08163265, 14.28571429, 14.48979592, 14.69387755, 14.89795918,\n",
       "       15.10204082, 15.30612245, 15.51020408, 15.71428571, 15.91836735,\n",
       "       16.12244898, 16.32653061, 16.53061224, 16.73469388, 16.93877551,\n",
       "       17.14285714, 17.34693878, 17.55102041, 17.75510204, 17.95918367,\n",
       "       18.16326531, 18.36734694, 18.57142857, 18.7755102 , 18.97959184,\n",
       "       19.18367347, 19.3877551 , 19.59183673, 19.79591837, 20.        ])"
      ]
     },
     "execution_count": 48,
     "metadata": {},
     "output_type": "execute_result"
    }
   ],
   "source": [
    "first_floats_arr=np.linspace(10,20)\n",
    "first_floats_arr"
   ]
  },
  {
   "cell_type": "code",
   "execution_count": 49,
   "id": "2c8a3d84",
   "metadata": {},
   "outputs": [
    {
     "data": {
      "text/plain": [
       "array([10. , 12.5, 15. , 17.5, 20. ])"
      ]
     },
     "execution_count": 49,
     "metadata": {},
     "output_type": "execute_result"
    }
   ],
   "source": [
    "second_floats_arr=np.linspace(10,20,5)\n",
    "second_floats_arr"
   ]
  },
  {
   "cell_type": "code",
   "execution_count": 50,
   "id": "4d971516",
   "metadata": {},
   "outputs": [
    {
     "data": {
      "text/plain": [
       "array([0.28083474, 0.72100694, 0.49540719, 0.63129895, 0.95275235,\n",
       "       0.95169323, 0.78251022, 0.69581257, 0.00405148, 0.57213105])"
      ]
     },
     "execution_count": 50,
     "metadata": {},
     "output_type": "execute_result"
    }
   ],
   "source": [
    "first_rand_arr=np.random.rand(10)\n",
    "first_rand_arr"
   ]
  },
  {
   "cell_type": "code",
   "execution_count": 51,
   "id": "9b36ec3c",
   "metadata": {},
   "outputs": [
    {
     "data": {
      "text/plain": [
       "array([[0.83787471, 0.95592772, 0.54018326, 0.95119388],\n",
       "       [0.02367659, 0.65404243, 0.63859117, 0.98532049],\n",
       "       [0.48937791, 0.23079885, 0.70746353, 0.07578554],\n",
       "       [0.87183243, 0.54870318, 0.13721802, 0.33023857]])"
      ]
     },
     "execution_count": 51,
     "metadata": {},
     "output_type": "execute_result"
    }
   ],
   "source": [
    "second_rand_arr=np.random.rand(4,4)\n",
    "second_rand_arr"
   ]
  },
  {
   "cell_type": "code",
   "execution_count": 52,
   "id": "41ab9190",
   "metadata": {},
   "outputs": [
    {
     "data": {
      "text/plain": [
       "array([38, 56, 75, 20, 61, 28, 88,  6, 68, 17, 11, 25, 40, 15, 63, 79, 46,\n",
       "       41, 17, 32])"
      ]
     },
     "execution_count": 52,
     "metadata": {},
     "output_type": "execute_result"
    }
   ],
   "source": [
    "third_rand_arr=np.random.randint(0,100,20)\n",
    "third_rand_arr"
   ]
  },
  {
   "cell_type": "markdown",
   "id": "746f7132",
   "metadata": {},
   "source": [
    "### Creating arrays filled with constant values"
   ]
  },
  {
   "cell_type": "code",
   "execution_count": 53,
   "id": "027a4b9c",
   "metadata": {},
   "outputs": [
    {
     "data": {
      "text/plain": [
       "array([0., 0., 0., 0., 0.])"
      ]
     },
     "execution_count": 53,
     "metadata": {},
     "output_type": "execute_result"
    }
   ],
   "source": [
    "first_z_array=np.zeros(5)\n",
    "first_z_array"
   ]
  },
  {
   "cell_type": "code",
   "execution_count": 54,
   "id": "6c7918f8",
   "metadata": {},
   "outputs": [
    {
     "data": {
      "text/plain": [
       "array([[0., 0., 0., 0., 0.],\n",
       "       [0., 0., 0., 0., 0.],\n",
       "       [0., 0., 0., 0., 0.],\n",
       "       [0., 0., 0., 0., 0.]])"
      ]
     },
     "execution_count": 54,
     "metadata": {},
     "output_type": "execute_result"
    }
   ],
   "source": [
    "second_z_array=np.zeros((4,5))\n",
    "second_z_array\n"
   ]
  },
  {
   "cell_type": "code",
   "execution_count": 55,
   "id": "b738f180",
   "metadata": {},
   "outputs": [
    {
     "data": {
      "text/plain": [
       "array([1., 1., 1., 1., 1., 1.])"
      ]
     },
     "execution_count": 55,
     "metadata": {},
     "output_type": "execute_result"
    }
   ],
   "source": [
    "first_ones_array=np.ones(6)\n",
    "first_ones_array"
   ]
  },
  {
   "cell_type": "code",
   "execution_count": 56,
   "id": "fcf31e0f",
   "metadata": {},
   "outputs": [
    {
     "data": {
      "text/plain": [
       "array([[1., 1., 1., 1., 1., 1., 1., 1.],\n",
       "       [1., 1., 1., 1., 1., 1., 1., 1.],\n",
       "       [1., 1., 1., 1., 1., 1., 1., 1.],\n",
       "       [1., 1., 1., 1., 1., 1., 1., 1.],\n",
       "       [1., 1., 1., 1., 1., 1., 1., 1.],\n",
       "       [1., 1., 1., 1., 1., 1., 1., 1.],\n",
       "       [1., 1., 1., 1., 1., 1., 1., 1.]])"
      ]
     },
     "execution_count": 56,
     "metadata": {},
     "output_type": "execute_result"
    }
   ],
   "source": [
    "second_ones_array=np.ones((7,8))\n",
    "second_ones_array"
   ]
  },
  {
   "cell_type": "code",
   "execution_count": 57,
   "id": "3dcf4e00",
   "metadata": {},
   "outputs": [
    {
     "data": {
      "text/plain": [
       "array([[1, 1, 1, 1, 1],\n",
       "       [1, 1, 1, 1, 1],\n",
       "       [1, 1, 1, 1, 1],\n",
       "       [1, 1, 1, 1, 1]])"
      ]
     },
     "execution_count": 57,
     "metadata": {},
     "output_type": "execute_result"
    }
   ],
   "source": [
    "third_ones_array=np.ones((4,5),dtype=int)\n",
    "third_ones_array"
   ]
  },
  {
   "cell_type": "code",
   "execution_count": 58,
   "id": "99cc8f4f",
   "metadata": {},
   "outputs": [
    {
     "data": {
      "text/plain": [
       "array([12, 12, 12, 12, 12, 12, 12, 12, 12, 12])"
      ]
     },
     "execution_count": 58,
     "metadata": {},
     "output_type": "execute_result"
    }
   ],
   "source": [
    "first_fill_array=np.empty(10,dtype=int)\n",
    "first_fill_array.fill(12)\n",
    "first_fill_array"
   ]
  },
  {
   "cell_type": "code",
   "execution_count": 59,
   "id": "2a0bdd83",
   "metadata": {},
   "outputs": [
    {
     "data": {
      "text/plain": [
       "array([10, 10, 10, 10, 10])"
      ]
     },
     "execution_count": 59,
     "metadata": {},
     "output_type": "execute_result"
    }
   ],
   "source": [
    "first_full_array=np.full(5,10)\n",
    "first_full_array"
   ]
  },
  {
   "cell_type": "code",
   "execution_count": 60,
   "id": "c703a7a2",
   "metadata": {},
   "outputs": [
    {
     "data": {
      "text/plain": [
       "array([[8, 8, 8, 8, 8],\n",
       "       [8, 8, 8, 8, 8],\n",
       "       [8, 8, 8, 8, 8],\n",
       "       [8, 8, 8, 8, 8]])"
      ]
     },
     "execution_count": 60,
     "metadata": {},
     "output_type": "execute_result"
    }
   ],
   "source": [
    "second_full_array=np.full((4,5),8)\n",
    "second_full_array"
   ]
  },
  {
   "cell_type": "markdown",
   "id": "3f0c9ffc",
   "metadata": {},
   "source": [
    "###  Finding the shape and size of an array"
   ]
  },
  {
   "cell_type": "code",
   "execution_count": 61,
   "id": "91aa588b",
   "metadata": {},
   "outputs": [
    {
     "data": {
      "text/plain": [
       "array([ 0,  1,  2,  3,  4,  5,  6,  7,  8,  9, 10, 11, 12, 13, 14, 15, 16,\n",
       "       17, 18, 19])"
      ]
     },
     "execution_count": 61,
     "metadata": {},
     "output_type": "execute_result"
    }
   ],
   "source": [
    "first_arr=np.arange(20)\n",
    "first_arr"
   ]
  },
  {
   "cell_type": "code",
   "execution_count": 62,
   "id": "c679ab48",
   "metadata": {},
   "outputs": [
    {
     "data": {
      "text/plain": [
       "array([[ 1.,  2.],\n",
       "       [ 2.,  4.],\n",
       "       [ 3.,  6.],\n",
       "       [ 4.,  8.],\n",
       "       [ 5., 10.],\n",
       "       [ 6., 12.],\n",
       "       [ 7., 14.],\n",
       "       [ 8., 16.],\n",
       "       [ 9., 18.],\n",
       "       [10., 20.]])"
      ]
     },
     "execution_count": 62,
     "metadata": {},
     "output_type": "execute_result"
    }
   ],
   "source": [
    "second_arr=np.linspace((1,2),(10,20),10)\n",
    "second_arr"
   ]
  },
  {
   "cell_type": "code",
   "execution_count": 63,
   "id": "80eeba83",
   "metadata": {},
   "outputs": [
    {
     "data": {
      "text/plain": [
       "array([[[10, 10],\n",
       "        [10, 10]],\n",
       "\n",
       "       [[10, 10],\n",
       "        [10, 10]]])"
      ]
     },
     "execution_count": 63,
     "metadata": {},
     "output_type": "execute_result"
    }
   ],
   "source": [
    "third_arr=np.full((2,2,2),10)\n",
    "third_arr"
   ]
  },
  {
   "cell_type": "code",
   "execution_count": 64,
   "id": "e64a6825",
   "metadata": {},
   "outputs": [
    {
     "data": {
      "text/plain": [
       "(20,)"
      ]
     },
     "execution_count": 64,
     "metadata": {},
     "output_type": "execute_result"
    }
   ],
   "source": [
    "np.shape(first_arr)"
   ]
  },
  {
   "cell_type": "code",
   "execution_count": 65,
   "id": "58dd91bd",
   "metadata": {},
   "outputs": [
    {
     "data": {
      "text/plain": [
       "(10, 2)"
      ]
     },
     "execution_count": 65,
     "metadata": {},
     "output_type": "execute_result"
    }
   ],
   "source": [
    "np.shape(second_arr)"
   ]
  },
  {
   "cell_type": "code",
   "execution_count": 66,
   "id": "7d5de2fe",
   "metadata": {},
   "outputs": [
    {
     "data": {
      "text/plain": [
       "(2, 2, 2)"
      ]
     },
     "execution_count": 66,
     "metadata": {},
     "output_type": "execute_result"
    }
   ],
   "source": [
    "np.shape(third_arr)"
   ]
  },
  {
   "cell_type": "code",
   "execution_count": 67,
   "id": "4a931724",
   "metadata": {},
   "outputs": [
    {
     "data": {
      "text/plain": [
       "20"
      ]
     },
     "execution_count": 67,
     "metadata": {},
     "output_type": "execute_result"
    }
   ],
   "source": [
    "np.size(first_arr)\n"
   ]
  },
  {
   "cell_type": "code",
   "execution_count": 69,
   "id": "b40c13a3",
   "metadata": {},
   "outputs": [
    {
     "data": {
      "text/plain": [
       "20"
      ]
     },
     "execution_count": 69,
     "metadata": {},
     "output_type": "execute_result"
    }
   ],
   "source": [
    "np.size(second_arr)"
   ]
  },
  {
   "cell_type": "code",
   "execution_count": 70,
   "id": "117d61ac",
   "metadata": {},
   "outputs": [
    {
     "data": {
      "text/plain": [
       "8"
      ]
     },
     "execution_count": 70,
     "metadata": {},
     "output_type": "execute_result"
    }
   ],
   "source": [
    "np.size(third_arr)"
   ]
  },
  {
   "cell_type": "markdown",
   "id": "3ab0d9f7",
   "metadata": {},
   "source": [
    "## Chapter 3 : Manipulate Numpy arrays\n"
   ]
  },
  {
   "cell_type": "markdown",
   "id": "2a0b1491",
   "metadata": {},
   "source": [
    "### Adding, removing and sorting elements"
   ]
  },
  {
   "cell_type": "code",
   "execution_count": 71,
   "id": "cbb922ec",
   "metadata": {},
   "outputs": [
    {
     "data": {
      "text/plain": [
       "array([1, 2, 3, 5])"
      ]
     },
     "execution_count": 71,
     "metadata": {},
     "output_type": "execute_result"
    }
   ],
   "source": [
    "first_arr=np.array([1, 2, 3, 5])\n",
    "first_arr"
   ]
  },
  {
   "cell_type": "code",
   "execution_count": 72,
   "id": "efaf5e28",
   "metadata": {},
   "outputs": [
    {
     "data": {
      "text/plain": [
       "array([1, 2, 3, 4, 5])"
      ]
     },
     "execution_count": 72,
     "metadata": {},
     "output_type": "execute_result"
    }
   ],
   "source": [
    "new_first_arr=np.insert(first_arr,3,4)\n",
    "new_first_arr"
   ]
  },
  {
   "cell_type": "code",
   "execution_count": 73,
   "id": "58ea4558",
   "metadata": {},
   "outputs": [
    {
     "data": {
      "text/plain": [
       "array([1, 2, 3, 4])"
      ]
     },
     "execution_count": 73,
     "metadata": {},
     "output_type": "execute_result"
    }
   ],
   "source": [
    "second_arr=np.array([1,2,3,4])\n",
    "second_arr"
   ]
  },
  {
   "cell_type": "code",
   "execution_count": 74,
   "id": "2bff4d2b",
   "metadata": {},
   "outputs": [
    {
     "data": {
      "text/plain": [
       "array([1, 2, 3, 4, 5])"
      ]
     },
     "execution_count": 74,
     "metadata": {},
     "output_type": "execute_result"
    }
   ],
   "source": [
    "new_second_arr=np.append(second_arr,5)\n",
    "new_second_arr"
   ]
  },
  {
   "cell_type": "code",
   "execution_count": 75,
   "id": "7d992f77",
   "metadata": {},
   "outputs": [
    {
     "data": {
      "text/plain": [
       "array([1, 2, 3, 4, 5])"
      ]
     },
     "execution_count": 75,
     "metadata": {},
     "output_type": "execute_result"
    }
   ],
   "source": [
    "third_arr=np.array([1,2,3,4,5])\n",
    "third_arr"
   ]
  },
  {
   "cell_type": "code",
   "execution_count": 76,
   "id": "c56769b4",
   "metadata": {},
   "outputs": [
    {
     "data": {
      "text/plain": [
       "array([1, 2, 3, 4])"
      ]
     },
     "execution_count": 76,
     "metadata": {},
     "output_type": "execute_result"
    }
   ],
   "source": [
    "del_arr=np.delete(third_arr,4)\n",
    "del_arr"
   ]
  },
  {
   "cell_type": "code",
   "execution_count": 77,
   "id": "d30952d8",
   "metadata": {},
   "outputs": [
    {
     "data": {
      "text/plain": [
       "array([15,  0, 19, 12, 16,  6,  6,  9,  7, 11,  2, 12,  4,  2,  0, 14, 16,\n",
       "        3, 17, 15])"
      ]
     },
     "execution_count": 77,
     "metadata": {},
     "output_type": "execute_result"
    }
   ],
   "source": [
    "integers_arr=np.random.randint(0,20,20)\n",
    "integers_arr"
   ]
  },
  {
   "cell_type": "code",
   "execution_count": 78,
   "id": "e3dea91e",
   "metadata": {},
   "outputs": [
    {
     "name": "stdout",
     "output_type": "stream",
     "text": [
      "[ 0  0  2  2  3  4  6  6  7  9 11 12 12 14 15 15 16 16 17 19]\n"
     ]
    }
   ],
   "source": [
    "print(np.sort(integers_arr))"
   ]
  },
  {
   "cell_type": "code",
   "execution_count": 79,
   "id": "aa7ad251",
   "metadata": {},
   "outputs": [
    {
     "data": {
      "text/plain": [
       "array([[3, 2, 5, 7, 4],\n",
       "       [5, 0, 8, 3, 1]])"
      ]
     },
     "execution_count": 79,
     "metadata": {},
     "output_type": "execute_result"
    }
   ],
   "source": [
    "integers_2dim_arr=np.array([[3, 2, 5,7, 4], [5, 0, 8,3, 1]])\n",
    "integers_2dim_arr"
   ]
  },
  {
   "cell_type": "code",
   "execution_count": 80,
   "id": "a1a4e036",
   "metadata": {},
   "outputs": [
    {
     "name": "stdout",
     "output_type": "stream",
     "text": [
      "[[2 3 4 5 7]\n",
      " [0 1 3 5 8]]\n"
     ]
    }
   ],
   "source": [
    "print(np.sort(integers_2dim_arr))"
   ]
  },
  {
   "cell_type": "code",
   "execution_count": 81,
   "id": "62193b6d",
   "metadata": {},
   "outputs": [
    {
     "data": {
      "text/plain": [
       "array(['orange', 'green', 'yellow', 'white', 'black', 'pink', 'blue',\n",
       "       'red'], dtype='<U6')"
      ]
     },
     "execution_count": 81,
     "metadata": {},
     "output_type": "execute_result"
    }
   ],
   "source": [
    "colors=np.array(['orange','green','yellow','white','black','pink','blue','red'])\n",
    "colors"
   ]
  },
  {
   "cell_type": "code",
   "execution_count": 82,
   "id": "96e09370",
   "metadata": {},
   "outputs": [
    {
     "name": "stdout",
     "output_type": "stream",
     "text": [
      "['black' 'blue' 'green' 'orange' 'pink' 'red' 'white' 'yellow']\n"
     ]
    }
   ],
   "source": [
    "print(np.sort(colors))"
   ]
  },
  {
   "cell_type": "markdown",
   "id": "f266023a",
   "metadata": {},
   "source": [
    "### Copies and views"
   ]
  },
  {
   "cell_type": "code",
   "execution_count": 83,
   "id": "0bde56f6",
   "metadata": {},
   "outputs": [
    {
     "data": {
      "text/plain": [
       "array([1111, 1212, 1313, 1414, 1515, 1616, 1717, 1818])"
      ]
     },
     "execution_count": 83,
     "metadata": {},
     "output_type": "execute_result"
    }
   ],
   "source": [
    "students_ids_number=np.array([1111,1212,1313,1414,1515,1616,1717,1818])\n",
    "students_ids_number"
   ]
  },
  {
   "cell_type": "code",
   "execution_count": 84,
   "id": "c9dfcbec",
   "metadata": {},
   "outputs": [
    {
     "name": "stdout",
     "output_type": "stream",
     "text": [
      "id of students_ids_number 1717033159632\n",
      "id of students_ids_number_reg 1717033159632\n"
     ]
    }
   ],
   "source": [
    "students_ids_number_reg=students_ids_number\n",
    "print(\"id of students_ids_number\",id(students_ids_number))\n",
    "print(\"id of students_ids_number_reg\",id(students_ids_number_reg))"
   ]
  },
  {
   "cell_type": "code",
   "execution_count": 85,
   "id": "103d1258",
   "metadata": {},
   "outputs": [
    {
     "name": "stdout",
     "output_type": "stream",
     "text": [
      "[1111 2222 1313 1414 1515 1616 1717 1818]\n",
      "[1111 2222 1313 1414 1515 1616 1717 1818]\n"
     ]
    }
   ],
   "source": [
    "students_ids_number_reg[1]=2222\n",
    "print(students_ids_number)\n",
    "print(students_ids_number_reg)"
   ]
  },
  {
   "cell_type": "code",
   "execution_count": 87,
   "id": "5b1b5a5a",
   "metadata": {},
   "outputs": [
    {
     "name": "stdout",
     "output_type": "stream",
     "text": [
      "[1111 2222 1313 1414 1515 1616 1717 1818]\n"
     ]
    }
   ],
   "source": [
    "students_ids_number_cp=students_ids_number.copy()\n",
    "print(students_ids_number_cp)"
   ]
  },
  {
   "cell_type": "code",
   "execution_count": 88,
   "id": "01cb1259",
   "metadata": {},
   "outputs": [
    {
     "name": "stdout",
     "output_type": "stream",
     "text": [
      "[ True  True  True  True  True  True  True  True]\n"
     ]
    }
   ],
   "source": [
    "print(students_ids_number_cp==students_ids_number)"
   ]
  },
  {
   "cell_type": "code",
   "execution_count": 89,
   "id": "f1fbc0f4",
   "metadata": {},
   "outputs": [
    {
     "name": "stdout",
     "output_type": "stream",
     "text": [
      "id of students_ids_number 1717033159632\n",
      "id of students_ids_number_cp 1717033159440\n"
     ]
    }
   ],
   "source": [
    "print (\"id of students_ids_number\",id(students_ids_number))\n",
    "print(\"id of students_ids_number_cp\",id(students_ids_number_cp))"
   ]
  },
  {
   "cell_type": "code",
   "execution_count": 90,
   "id": "3a61fa56",
   "metadata": {},
   "outputs": [
    {
     "name": "stdout",
     "output_type": "stream",
     "text": [
      "original:  [1000 2222 1313 1414 1515 1616 1717 1818]\n",
      "copy:  [1111 2222 1313 1414 1515 1616 1717 1818]\n"
     ]
    }
   ],
   "source": [
    "students_ids_number[0]=1000\n",
    "print (\"original: \", students_ids_number)\n",
    "print(\"copy: \",students_ids_number_cp)"
   ]
  },
  {
   "cell_type": "code",
   "execution_count": 92,
   "id": "39a15236",
   "metadata": {},
   "outputs": [],
   "source": [
    "students_ids_number_v=students_ids_number.view()"
   ]
  },
  {
   "cell_type": "code",
   "execution_count": 94,
   "id": "38072eb4",
   "metadata": {},
   "outputs": [
    {
     "name": "stdout",
     "output_type": "stream",
     "text": [
      "original:  [2000 2222 1313 1414 1515 1616 1717 1818]\n",
      "view: [2000 2222 1313 1414 1515 1616 1717 1818]\n"
     ]
    }
   ],
   "source": [
    "students_ids_number_v[0]=2000\n",
    "print(\"original: \", students_ids_number)\n",
    "print(\"view:\",students_ids_number_v)"
   ]
  },
  {
   "cell_type": "code",
   "execution_count": 95,
   "id": "790113e7",
   "metadata": {},
   "outputs": [
    {
     "name": "stdout",
     "output_type": "stream",
     "text": [
      "None\n",
      "[2000 2222 1313 1414 1515 1616 1717 1818]\n"
     ]
    }
   ],
   "source": [
    "print(students_ids_number_cp.base)\n",
    "print(students_ids_number_v.base)"
   ]
  },
  {
   "cell_type": "markdown",
   "id": "a18222bf",
   "metadata": {},
   "source": [
    "### Reshaping Arrays "
   ]
  },
  {
   "cell_type": "code",
   "execution_count": 96,
   "id": "c11949d4",
   "metadata": {},
   "outputs": [
    {
     "data": {
      "text/plain": [
       "array([ 1,  2,  3,  4,  5,  6,  7,  8,  9, 10, 11, 12])"
      ]
     },
     "execution_count": 96,
     "metadata": {},
     "output_type": "execute_result"
    }
   ],
   "source": [
    "first_arr=np.arange(1,13)\n",
    "first_arr"
   ]
  },
  {
   "cell_type": "code",
   "execution_count": 97,
   "id": "7e21ae0a",
   "metadata": {},
   "outputs": [
    {
     "data": {
      "text/plain": [
       "array([[ 1,  2,  3,  4],\n",
       "       [ 5,  6,  7,  8],\n",
       "       [ 9, 10, 11, 12]])"
      ]
     },
     "execution_count": 97,
     "metadata": {},
     "output_type": "execute_result"
    }
   ],
   "source": [
    "second_arr=np.reshape(first_arr,(3,4))\n",
    "second_arr"
   ]
  },
  {
   "cell_type": "code",
   "execution_count": 98,
   "id": "dc1679fd",
   "metadata": {},
   "outputs": [
    {
     "data": {
      "text/plain": [
       "array([[ 1,  2],\n",
       "       [ 3,  4],\n",
       "       [ 5,  6],\n",
       "       [ 7,  8],\n",
       "       [ 9, 10],\n",
       "       [11, 12]])"
      ]
     },
     "execution_count": 98,
     "metadata": {},
     "output_type": "execute_result"
    }
   ],
   "source": [
    "third_arr=np.reshape(first_arr,(6,2))\n",
    "third_arr"
   ]
  },
  {
   "cell_type": "code",
   "execution_count": 99,
   "id": "71b3c1b1",
   "metadata": {},
   "outputs": [
    {
     "ename": "ValueError",
     "evalue": "cannot reshape array of size 12 into shape (4,4)",
     "output_type": "error",
     "traceback": [
      "\u001b[1;31m---------------------------------------------------------------------------\u001b[0m",
      "\u001b[1;31mValueError\u001b[0m                                Traceback (most recent call last)",
      "Input \u001b[1;32mIn [99]\u001b[0m, in \u001b[0;36m<module>\u001b[1;34m\u001b[0m\n\u001b[1;32m----> 1\u001b[0m fourth_arr\u001b[38;5;241m=\u001b[39m\u001b[43mnp\u001b[49m\u001b[38;5;241;43m.\u001b[39;49m\u001b[43mreshape\u001b[49m\u001b[43m(\u001b[49m\u001b[43mfirst_arr\u001b[49m\u001b[43m,\u001b[49m\u001b[43m(\u001b[49m\u001b[38;5;241;43m4\u001b[39;49m\u001b[43m,\u001b[49m\u001b[38;5;241;43m4\u001b[39;49m\u001b[43m)\u001b[49m\u001b[43m)\u001b[49m\n",
      "File \u001b[1;32m<__array_function__ internals>:180\u001b[0m, in \u001b[0;36mreshape\u001b[1;34m(*args, **kwargs)\u001b[0m\n",
      "File \u001b[1;32mE:\\Anaconda\\envs\\ApplicationDesignBDM1034\\lib\\site-packages\\numpy\\core\\fromnumeric.py:298\u001b[0m, in \u001b[0;36mreshape\u001b[1;34m(a, newshape, order)\u001b[0m\n\u001b[0;32m    198\u001b[0m \u001b[38;5;129m@array_function_dispatch\u001b[39m(_reshape_dispatcher)\n\u001b[0;32m    199\u001b[0m \u001b[38;5;28;01mdef\u001b[39;00m \u001b[38;5;21mreshape\u001b[39m(a, newshape, order\u001b[38;5;241m=\u001b[39m\u001b[38;5;124m'\u001b[39m\u001b[38;5;124mC\u001b[39m\u001b[38;5;124m'\u001b[39m):\n\u001b[0;32m    200\u001b[0m     \u001b[38;5;124;03m\"\"\"\u001b[39;00m\n\u001b[0;32m    201\u001b[0m \u001b[38;5;124;03m    Gives a new shape to an array without changing its data.\u001b[39;00m\n\u001b[0;32m    202\u001b[0m \n\u001b[1;32m   (...)\u001b[0m\n\u001b[0;32m    296\u001b[0m \u001b[38;5;124;03m           [5, 6]])\u001b[39;00m\n\u001b[0;32m    297\u001b[0m \u001b[38;5;124;03m    \"\"\"\u001b[39;00m\n\u001b[1;32m--> 298\u001b[0m     \u001b[38;5;28;01mreturn\u001b[39;00m \u001b[43m_wrapfunc\u001b[49m\u001b[43m(\u001b[49m\u001b[43ma\u001b[49m\u001b[43m,\u001b[49m\u001b[43m \u001b[49m\u001b[38;5;124;43m'\u001b[39;49m\u001b[38;5;124;43mreshape\u001b[39;49m\u001b[38;5;124;43m'\u001b[39;49m\u001b[43m,\u001b[49m\u001b[43m \u001b[49m\u001b[43mnewshape\u001b[49m\u001b[43m,\u001b[49m\u001b[43m \u001b[49m\u001b[43morder\u001b[49m\u001b[38;5;241;43m=\u001b[39;49m\u001b[43morder\u001b[49m\u001b[43m)\u001b[49m\n",
      "File \u001b[1;32mE:\\Anaconda\\envs\\ApplicationDesignBDM1034\\lib\\site-packages\\numpy\\core\\fromnumeric.py:57\u001b[0m, in \u001b[0;36m_wrapfunc\u001b[1;34m(obj, method, *args, **kwds)\u001b[0m\n\u001b[0;32m     54\u001b[0m     \u001b[38;5;28;01mreturn\u001b[39;00m _wrapit(obj, method, \u001b[38;5;241m*\u001b[39margs, \u001b[38;5;241m*\u001b[39m\u001b[38;5;241m*\u001b[39mkwds)\n\u001b[0;32m     56\u001b[0m \u001b[38;5;28;01mtry\u001b[39;00m:\n\u001b[1;32m---> 57\u001b[0m     \u001b[38;5;28;01mreturn\u001b[39;00m \u001b[43mbound\u001b[49m\u001b[43m(\u001b[49m\u001b[38;5;241;43m*\u001b[39;49m\u001b[43margs\u001b[49m\u001b[43m,\u001b[49m\u001b[43m \u001b[49m\u001b[38;5;241;43m*\u001b[39;49m\u001b[38;5;241;43m*\u001b[39;49m\u001b[43mkwds\u001b[49m\u001b[43m)\u001b[49m\n\u001b[0;32m     58\u001b[0m \u001b[38;5;28;01mexcept\u001b[39;00m \u001b[38;5;167;01mTypeError\u001b[39;00m:\n\u001b[0;32m     59\u001b[0m     \u001b[38;5;66;03m# A TypeError occurs if the object does have such a method in its\u001b[39;00m\n\u001b[0;32m     60\u001b[0m     \u001b[38;5;66;03m# class, but its signature is not identical to that of NumPy's. This\u001b[39;00m\n\u001b[1;32m   (...)\u001b[0m\n\u001b[0;32m     64\u001b[0m     \u001b[38;5;66;03m# Call _wrapit from within the except clause to ensure a potential\u001b[39;00m\n\u001b[0;32m     65\u001b[0m     \u001b[38;5;66;03m# exception has a traceback chain.\u001b[39;00m\n\u001b[0;32m     66\u001b[0m     \u001b[38;5;28;01mreturn\u001b[39;00m _wrapit(obj, method, \u001b[38;5;241m*\u001b[39margs, \u001b[38;5;241m*\u001b[39m\u001b[38;5;241m*\u001b[39mkwds)\n",
      "\u001b[1;31mValueError\u001b[0m: cannot reshape array of size 12 into shape (4,4)"
     ]
    }
   ],
   "source": [
    "fourth_arr=np.reshape(first_arr,(4,4))"
   ]
  },
  {
   "cell_type": "code",
   "execution_count": 100,
   "id": "8ec3e01a",
   "metadata": {},
   "outputs": [
    {
     "name": "stdout",
     "output_type": "stream",
     "text": [
      "[[[ 1  2]\n",
      "  [ 3  4]]\n",
      "\n",
      " [[ 5  6]\n",
      "  [ 7  8]]\n",
      "\n",
      " [[ 9 10]\n",
      "  [11 12]]]\n",
      "Dimensions of fifth_arr is  3\n"
     ]
    }
   ],
   "source": [
    "fifth_arr=np.reshape(first_arr,(3,2,2))\n",
    "print(fifth_arr)\n",
    "print(\"Dimensions of fifth_arr is \",fifth_arr.ndim)"
   ]
  },
  {
   "cell_type": "code",
   "execution_count": 102,
   "id": "50f41f28",
   "metadata": {},
   "outputs": [
    {
     "data": {
      "text/plain": [
       "array([[1, 2],\n",
       "       [3, 4],\n",
       "       [5, 6]])"
      ]
     },
     "execution_count": 102,
     "metadata": {},
     "output_type": "execute_result"
    }
   ],
   "source": [
    "sixth_arr=np.array([[1,2],[3,4],[5,6]])\n",
    "sixth_arr"
   ]
  },
  {
   "cell_type": "code",
   "execution_count": 103,
   "id": "beb4cc7e",
   "metadata": {},
   "outputs": [
    {
     "data": {
      "text/plain": [
       "array([1, 2, 3, 4, 5, 6])"
      ]
     },
     "execution_count": 103,
     "metadata": {},
     "output_type": "execute_result"
    }
   ],
   "source": [
    "seventh_arr_flat=np.reshape(sixth_arr,-1)\n",
    "seventh_arr_flat"
   ]
  },
  {
   "cell_type": "code",
   "execution_count": 104,
   "id": "97078f4f",
   "metadata": {},
   "outputs": [
    {
     "name": "stdout",
     "output_type": "stream",
     "text": [
      "eighth_arr_flat: [1 2 3 4 5 6]\n",
      "ninth_arr_rav: [1 2 3 4 5 6]\n"
     ]
    }
   ],
   "source": [
    "eighth_arr_flat=sixth_arr.flatten()\n",
    "print(\"eighth_arr_flat:\",eighth_arr_flat)\n",
    "ninth_arr_rav=sixth_arr.ravel()\n",
    "print(\"ninth_arr_rav:\",ninth_arr_rav)"
   ]
  },
  {
   "cell_type": "code",
   "execution_count": 106,
   "id": "097306c2",
   "metadata": {},
   "outputs": [],
   "source": [
    "eighth_arr_flat[0]=100"
   ]
  },
  {
   "cell_type": "code",
   "execution_count": 108,
   "id": "97eb6f11",
   "metadata": {},
   "outputs": [],
   "source": [
    "ninth_arr_rav[0]=200"
   ]
  },
  {
   "cell_type": "code",
   "execution_count": 109,
   "id": "5758a975",
   "metadata": {},
   "outputs": [
    {
     "name": "stdout",
     "output_type": "stream",
     "text": [
      "eighth_arr_flat: [100   2   3   4   5   6]\n",
      "ninth_arr_rav: [200   2   3   4   5   6]\n",
      "sixth_arr: [[200   2]\n",
      " [  3   4]\n",
      " [  5   6]]\n"
     ]
    }
   ],
   "source": [
    "print(\"eighth_arr_flat:\",eighth_arr_flat)\n",
    "print(\"ninth_arr_rav:\",ninth_arr_rav)\n",
    "print(\"sixth_arr:\",sixth_arr)"
   ]
  },
  {
   "cell_type": "code",
   "execution_count": 110,
   "id": "caa1416a",
   "metadata": {},
   "outputs": [
    {
     "data": {
      "text/plain": [
       "array([[ 0,  1,  2,  3],\n",
       "       [ 4,  5,  6,  7],\n",
       "       [ 8,  9, 10, 11]])"
      ]
     },
     "execution_count": 110,
     "metadata": {},
     "output_type": "execute_result"
    }
   ],
   "source": [
    "twodim_arr=np.reshape(np.arange(12),(3,4))\n",
    "twodim_arr"
   ]
  },
  {
   "cell_type": "code",
   "execution_count": 111,
   "id": "b1ada85c",
   "metadata": {},
   "outputs": [
    {
     "data": {
      "text/plain": [
       "5"
      ]
     },
     "execution_count": 111,
     "metadata": {},
     "output_type": "execute_result"
    }
   ],
   "source": [
    "twodim_arr[1,1]"
   ]
  },
  {
   "cell_type": "code",
   "execution_count": 112,
   "id": "e6f4c3aa",
   "metadata": {},
   "outputs": [
    {
     "data": {
      "text/plain": [
       "array([4, 5, 6, 7])"
      ]
     },
     "execution_count": 112,
     "metadata": {},
     "output_type": "execute_result"
    }
   ],
   "source": [
    "twodim_arr[1]"
   ]
  },
  {
   "cell_type": "code",
   "execution_count": 113,
   "id": "573a7540",
   "metadata": {},
   "outputs": [
    {
     "data": {
      "text/plain": [
       "array([[[ 0,  1,  2,  3,  4],\n",
       "        [ 5,  6,  7,  8,  9],\n",
       "        [10, 11, 12, 13, 14],\n",
       "        [15, 16, 17, 18, 19]],\n",
       "\n",
       "       [[20, 21, 22, 23, 24],\n",
       "        [25, 26, 27, 28, 29],\n",
       "        [30, 31, 32, 33, 34],\n",
       "        [35, 36, 37, 38, 39]],\n",
       "\n",
       "       [[40, 41, 42, 43, 44],\n",
       "        [45, 46, 47, 48, 49],\n",
       "        [50, 51, 52, 53, 54],\n",
       "        [55, 56, 57, 58, 59]]])"
      ]
     },
     "execution_count": 113,
     "metadata": {},
     "output_type": "execute_result"
    }
   ],
   "source": [
    "threedim_arr=np.reshape(np.arange(3*4*5),(3,4,5))\n",
    "threedim_arr"
   ]
  },
  {
   "cell_type": "code",
   "execution_count": 114,
   "id": "77eb6a7e",
   "metadata": {},
   "outputs": [
    {
     "data": {
      "text/plain": [
       "13"
      ]
     },
     "execution_count": 114,
     "metadata": {},
     "output_type": "execute_result"
    }
   ],
   "source": [
    "threedim_arr[0,2,3]"
   ]
  },
  {
   "cell_type": "code",
   "execution_count": 115,
   "id": "84f1586f",
   "metadata": {},
   "outputs": [
    {
     "data": {
      "text/plain": [
       "59"
      ]
     },
     "execution_count": 115,
     "metadata": {},
     "output_type": "execute_result"
    }
   ],
   "source": [
    "threedim_arr[2,-1,-1]"
   ]
  },
  {
   "cell_type": "code",
   "execution_count": 116,
   "id": "4c7b6470",
   "metadata": {},
   "outputs": [
    {
     "data": {
      "text/plain": [
       "array([0, 1, 2, 3, 4, 5, 6, 7, 8, 9])"
      ]
     },
     "execution_count": 116,
     "metadata": {},
     "output_type": "execute_result"
    }
   ],
   "source": [
    "onedim_arr=np.arange(10)\n",
    "onedim_arr"
   ]
  },
  {
   "cell_type": "code",
   "execution_count": 117,
   "id": "be48bbbf",
   "metadata": {},
   "outputs": [
    {
     "data": {
      "text/plain": [
       "array([2, 3, 4, 5])"
      ]
     },
     "execution_count": 117,
     "metadata": {},
     "output_type": "execute_result"
    }
   ],
   "source": [
    "onedim_arr[2:6]"
   ]
  },
  {
   "cell_type": "code",
   "execution_count": 118,
   "id": "1b3e2242",
   "metadata": {},
   "outputs": [
    {
     "data": {
      "text/plain": [
       "array([0, 1, 2, 3, 4])"
      ]
     },
     "execution_count": 118,
     "metadata": {},
     "output_type": "execute_result"
    }
   ],
   "source": [
    "onedim_arr[:5]"
   ]
  },
  {
   "cell_type": "code",
   "execution_count": 119,
   "id": "f776a410",
   "metadata": {},
   "outputs": [
    {
     "data": {
      "text/plain": [
       "array([7, 8, 9])"
      ]
     },
     "execution_count": 119,
     "metadata": {},
     "output_type": "execute_result"
    }
   ],
   "source": [
    "onedim_arr[-3:]"
   ]
  },
  {
   "cell_type": "code",
   "execution_count": 121,
   "id": "a7fe53a4",
   "metadata": {},
   "outputs": [
    {
     "data": {
      "text/plain": [
       "array([0, 2, 4, 6, 8])"
      ]
     },
     "execution_count": 121,
     "metadata": {},
     "output_type": "execute_result"
    }
   ],
   "source": [
    "onedim_arr[::2]"
   ]
  },
  {
   "cell_type": "code",
   "execution_count": 131,
   "id": "3fe1323a",
   "metadata": {},
   "outputs": [
    {
     "data": {
      "text/plain": [
       "array([[ 0,  1,  2,  3],\n",
       "       [ 4,  5,  6,  7],\n",
       "       [ 8,  9, 10, 11]])"
      ]
     },
     "execution_count": 131,
     "metadata": {},
     "output_type": "execute_result"
    }
   ],
   "source": [
    "twodim_arr"
   ]
  },
  {
   "cell_type": "code",
   "execution_count": 126,
   "id": "7d1fb232",
   "metadata": {},
   "outputs": [
    {
     "data": {
      "text/plain": [
       "array([[ 5,  6,  7],\n",
       "       [ 9, 10, 11]])"
      ]
     },
     "execution_count": 126,
     "metadata": {},
     "output_type": "execute_result"
    }
   ],
   "source": [
    "twodim_arr[1:,1:]"
   ]
  },
  {
   "cell_type": "code",
   "execution_count": 127,
   "id": "2631a334",
   "metadata": {},
   "outputs": [
    {
     "data": {
      "text/plain": [
       "array([4, 5, 6, 7])"
      ]
     },
     "execution_count": 127,
     "metadata": {},
     "output_type": "execute_result"
    }
   ],
   "source": [
    "twodim_arr[1,:]"
   ]
  },
  {
   "cell_type": "code",
   "execution_count": 128,
   "id": "323f031e",
   "metadata": {},
   "outputs": [
    {
     "data": {
      "text/plain": [
       "array([ 2,  6, 10])"
      ]
     },
     "execution_count": 128,
     "metadata": {},
     "output_type": "execute_result"
    }
   ],
   "source": [
    "twodim_arr[:,2]"
   ]
  },
  {
   "cell_type": "markdown",
   "id": "155b1bc1",
   "metadata": {},
   "source": [
    "### Joining and splitting ararys"
   ]
  },
  {
   "cell_type": "code",
   "execution_count": 132,
   "id": "872027e4",
   "metadata": {},
   "outputs": [
    {
     "name": "stdout",
     "output_type": "stream",
     "text": [
      "first_arr [ 1  2  3  4  5  6  7  8  9 10]\n",
      "second_arr [11 12 13 14 15 16 17 18 19 20]\n"
     ]
    }
   ],
   "source": [
    "first_arr=np.arange(1,11)\n",
    "second_arr=np.arange(11,21)\n",
    "print(\"first_arr\",first_arr)\n",
    "print(\"second_arr\",second_arr)"
   ]
  },
  {
   "cell_type": "code",
   "execution_count": 133,
   "id": "e9c7b11c",
   "metadata": {},
   "outputs": [
    {
     "data": {
      "text/plain": [
       "array([ 1,  2,  3,  4,  5,  6,  7,  8,  9, 10, 11, 12, 13, 14, 15, 16, 17,\n",
       "       18, 19, 20])"
      ]
     },
     "execution_count": 133,
     "metadata": {},
     "output_type": "execute_result"
    }
   ],
   "source": [
    "con_arr=np.concatenate((first_arr,second_arr))\n",
    "con_arr"
   ]
  },
  {
   "cell_type": "code",
   "execution_count": 134,
   "id": "979c9a1c",
   "metadata": {},
   "outputs": [
    {
     "data": {
      "text/plain": [
       "array([[ 1,  2,  3,  4,  5],\n",
       "       [ 6,  7,  8,  9, 10]])"
      ]
     },
     "execution_count": 134,
     "metadata": {},
     "output_type": "execute_result"
    }
   ],
   "source": [
    "third_2darr=np.array([[1,2,3,4,5], [6,7,8,9,10]])\n",
    "third_2darr\n"
   ]
  },
  {
   "cell_type": "code",
   "execution_count": 135,
   "id": "1ef0cf3b",
   "metadata": {},
   "outputs": [
    {
     "data": {
      "text/plain": [
       "array([[11, 12, 13, 14, 15],\n",
       "       [16, 17, 18, 19, 20]])"
      ]
     },
     "execution_count": 135,
     "metadata": {},
     "output_type": "execute_result"
    }
   ],
   "source": [
    "fourth_2darr=np.array([[11,12,13,14,15], [16,17,18,19,20]])\n",
    "fourth_2darr"
   ]
  },
  {
   "cell_type": "code",
   "execution_count": 136,
   "id": "1372bb77",
   "metadata": {},
   "outputs": [
    {
     "data": {
      "text/plain": [
       "array([[ 1,  2,  3,  4,  5, 11, 12, 13, 14, 15],\n",
       "       [ 6,  7,  8,  9, 10, 16, 17, 18, 19, 20]])"
      ]
     },
     "execution_count": 136,
     "metadata": {},
     "output_type": "execute_result"
    }
   ],
   "source": [
    "con2d_arr = np.concatenate((third_2darr,fourth_2darr),axis=1)\n",
    "con2d_arr"
   ]
  },
  {
   "cell_type": "code",
   "execution_count": 137,
   "id": "b515bbed",
   "metadata": {},
   "outputs": [
    {
     "data": {
      "text/plain": [
       "array([[ 1,  2,  3,  4,  5,  6,  7,  8,  9, 10],\n",
       "       [11, 12, 13, 14, 15, 16, 17, 18, 19, 20]])"
      ]
     },
     "execution_count": 137,
     "metadata": {},
     "output_type": "execute_result"
    }
   ],
   "source": [
    "st_arr = np.stack((first_arr,second_arr))\n",
    "st_arr "
   ]
  },
  {
   "cell_type": "code",
   "execution_count": 138,
   "id": "1ba1755e",
   "metadata": {},
   "outputs": [
    {
     "data": {
      "text/plain": [
       "array([ 1,  2,  3,  4,  5,  6,  7,  8,  9, 10, 11, 12, 13, 14, 15, 16, 17,\n",
       "       18, 19, 20])"
      ]
     },
     "execution_count": 138,
     "metadata": {},
     "output_type": "execute_result"
    }
   ],
   "source": [
    "hst_arr=np.hstack((first_arr,second_arr))\n",
    "hst_arr"
   ]
  },
  {
   "cell_type": "code",
   "execution_count": 139,
   "id": "1804fad8",
   "metadata": {},
   "outputs": [
    {
     "data": {
      "text/plain": [
       "array([[ 1,  2,  3,  4,  5,  6,  7,  8,  9, 10],\n",
       "       [11, 12, 13, 14, 15, 16, 17, 18, 19, 20]])"
      ]
     },
     "execution_count": 139,
     "metadata": {},
     "output_type": "execute_result"
    }
   ],
   "source": [
    "vst_arr=np.vstack((first_arr,second_arr))\n",
    "vst_arr"
   ]
  },
  {
   "cell_type": "code",
   "execution_count": 141,
   "id": "38fb94bb",
   "metadata": {},
   "outputs": [
    {
     "data": {
      "text/plain": [
       "array([ 1,  2,  3,  4,  5,  6,  7,  8,  9, 10, 11, 12])"
      ]
     },
     "execution_count": 141,
     "metadata": {},
     "output_type": "execute_result"
    }
   ],
   "source": [
    "fifth_arr=np.arange(1,13)\n",
    "fifth_arr"
   ]
  },
  {
   "cell_type": "code",
   "execution_count": 142,
   "id": "2614cf14",
   "metadata": {},
   "outputs": [
    {
     "data": {
      "text/plain": [
       "[array([1, 2, 3]), array([4, 5, 6]), array([7, 8, 9]), array([10, 11, 12])]"
      ]
     },
     "execution_count": 142,
     "metadata": {},
     "output_type": "execute_result"
    }
   ],
   "source": [
    "sp_arr=np.array_split(fifth_arr,4)\n",
    "sp_arr"
   ]
  },
  {
   "cell_type": "code",
   "execution_count": 143,
   "id": "11b8b8ef",
   "metadata": {},
   "outputs": [
    {
     "name": "stdout",
     "output_type": "stream",
     "text": [
      "[4 5 6]\n"
     ]
    }
   ],
   "source": [
    "print(sp_arr[1])"
   ]
  },
  {
   "cell_type": "code",
   "execution_count": 144,
   "id": "2a3cfd05",
   "metadata": {},
   "outputs": [
    {
     "data": {
      "text/plain": [
       "[array([1, 2]),\n",
       " array([3, 4]),\n",
       " array([5, 6]),\n",
       " array([7, 8]),\n",
       " array([9]),\n",
       " array([10]),\n",
       " array([11]),\n",
       " array([12])]"
      ]
     },
     "execution_count": 144,
     "metadata": {},
     "output_type": "execute_result"
    }
   ],
   "source": [
    "sp_arr=np.array_split(fifth_arr,8)\n",
    "sp_arr"
   ]
  },
  {
   "cell_type": "code",
   "execution_count": 147,
   "id": "91549364",
   "metadata": {},
   "outputs": [
    {
     "data": {
      "text/plain": [
       "[array([[1],\n",
       "        [6]]),\n",
       " array([[2],\n",
       "        [7]]),\n",
       " array([[3],\n",
       "        [8]]),\n",
       " array([[4],\n",
       "        [9]]),\n",
       " array([[ 5],\n",
       "        [10]])]"
      ]
     },
     "execution_count": 147,
     "metadata": {},
     "output_type": "execute_result"
    }
   ],
   "source": [
    "np.hsplit(third_2darr,5)\n"
   ]
  },
  {
   "cell_type": "code",
   "execution_count": 148,
   "id": "bb3bdc6f",
   "metadata": {},
   "outputs": [
    {
     "data": {
      "text/plain": [
       "[array([[1, 2, 3, 4, 5]]), array([[ 6,  7,  8,  9, 10]])]"
      ]
     },
     "execution_count": 148,
     "metadata": {},
     "output_type": "execute_result"
    }
   ],
   "source": [
    "vs_arr=np.vsplit(third_2darr,2)\n",
    "vs_arr"
   ]
  },
  {
   "cell_type": "markdown",
   "id": "e949545d",
   "metadata": {},
   "source": [
    "## Chapter 4 : Functions and Operations\n"
   ]
  },
  {
   "cell_type": "markdown",
   "id": "34a8036c",
   "metadata": {},
   "source": [
    "### Arithmetic operations"
   ]
  },
  {
   "cell_type": "code",
   "execution_count": 149,
   "id": "e8a0114a",
   "metadata": {},
   "outputs": [
    {
     "name": "stdout",
     "output_type": "stream",
     "text": [
      "a [ 1  2  3  4  5  6  7  8  9 10]\n",
      "b [21 22 23 24 25 26 27 28 29 30]\n"
     ]
    }
   ],
   "source": [
    "a=np.arange(1,11)\n",
    "b=np.arange(21,31)\n",
    "print(\"a\",a)\n",
    "print(\"b\",b)"
   ]
  },
  {
   "cell_type": "code",
   "execution_count": 150,
   "id": "feff6716",
   "metadata": {},
   "outputs": [
    {
     "data": {
      "text/plain": [
       "array([22, 24, 26, 28, 30, 32, 34, 36, 38, 40])"
      ]
     },
     "execution_count": 150,
     "metadata": {},
     "output_type": "execute_result"
    }
   ],
   "source": [
    "a+b"
   ]
  },
  {
   "cell_type": "code",
   "execution_count": 151,
   "id": "2e30c9e7",
   "metadata": {},
   "outputs": [
    {
     "data": {
      "text/plain": [
       "array([20, 20, 20, 20, 20, 20, 20, 20, 20, 20])"
      ]
     },
     "execution_count": 151,
     "metadata": {},
     "output_type": "execute_result"
    }
   ],
   "source": [
    "b-a"
   ]
  },
  {
   "cell_type": "code",
   "execution_count": 152,
   "id": "e8b9762c",
   "metadata": {},
   "outputs": [
    {
     "data": {
      "text/plain": [
       "array([ 21,  44,  69,  96, 125, 156, 189, 224, 261, 300])"
      ]
     },
     "execution_count": 152,
     "metadata": {},
     "output_type": "execute_result"
    }
   ],
   "source": [
    "a*b"
   ]
  },
  {
   "cell_type": "code",
   "execution_count": 153,
   "id": "5a371bec",
   "metadata": {},
   "outputs": [
    {
     "data": {
      "text/plain": [
       "array([21.        , 11.        ,  7.66666667,  6.        ,  5.        ,\n",
       "        4.33333333,  3.85714286,  3.5       ,  3.22222222,  3.        ])"
      ]
     },
     "execution_count": 153,
     "metadata": {},
     "output_type": "execute_result"
    }
   ],
   "source": [
    "b/a"
   ]
  },
  {
   "cell_type": "code",
   "execution_count": 154,
   "id": "da784d53",
   "metadata": {},
   "outputs": [
    {
     "data": {
      "text/plain": [
       "array([          1,     4194304,  -346101685,           0,   167814181,\n",
       "       -1543503872,    17998615,           0, -1635065239,  1073741824])"
      ]
     },
     "execution_count": 154,
     "metadata": {},
     "output_type": "execute_result"
    }
   ],
   "source": [
    "a**b"
   ]
  },
  {
   "cell_type": "code",
   "execution_count": 155,
   "id": "c31e8d52",
   "metadata": {},
   "outputs": [
    {
     "data": {
      "text/plain": [
       "array([ 2,  4,  6,  8, 10, 12, 14, 16, 18, 20])"
      ]
     },
     "execution_count": 155,
     "metadata": {},
     "output_type": "execute_result"
    }
   ],
   "source": [
    "a*2"
   ]
  },
  {
   "cell_type": "code",
   "execution_count": 156,
   "id": "9a89fc98",
   "metadata": {},
   "outputs": [
    {
     "data": {
      "text/plain": [
       "array([22, 24, 26, 28, 30, 32, 34, 36, 38, 40])"
      ]
     },
     "execution_count": 156,
     "metadata": {},
     "output_type": "execute_result"
    }
   ],
   "source": [
    "np.add(a,b)"
   ]
  },
  {
   "cell_type": "code",
   "execution_count": 157,
   "id": "3d750d86",
   "metadata": {},
   "outputs": [
    {
     "data": {
      "text/plain": [
       "array([20, 20, 20, 20, 20, 20, 20, 20, 20, 20])"
      ]
     },
     "execution_count": 157,
     "metadata": {},
     "output_type": "execute_result"
    }
   ],
   "source": [
    "np.subtract(b,a)\n"
   ]
  },
  {
   "cell_type": "code",
   "execution_count": 158,
   "id": "54e8c064",
   "metadata": {},
   "outputs": [
    {
     "data": {
      "text/plain": [
       "array([ 21,  44,  69,  96, 125, 156, 189, 224, 261, 300])"
      ]
     },
     "execution_count": 158,
     "metadata": {},
     "output_type": "execute_result"
    }
   ],
   "source": [
    "np.multiply(a,b)"
   ]
  },
  {
   "cell_type": "code",
   "execution_count": 159,
   "id": "9c6e644f",
   "metadata": {},
   "outputs": [
    {
     "data": {
      "text/plain": [
       "array([21.        , 11.        ,  7.66666667,  6.        ,  5.        ,\n",
       "        4.33333333,  3.85714286,  3.5       ,  3.22222222,  3.        ])"
      ]
     },
     "execution_count": 159,
     "metadata": {},
     "output_type": "execute_result"
    }
   ],
   "source": [
    "np.divide(b,a)"
   ]
  },
  {
   "cell_type": "code",
   "execution_count": 160,
   "id": "a55dba9c",
   "metadata": {},
   "outputs": [
    {
     "data": {
      "text/plain": [
       "array([0, 0, 2, 0, 0, 2, 6, 4, 2, 0])"
      ]
     },
     "execution_count": 160,
     "metadata": {},
     "output_type": "execute_result"
    }
   ],
   "source": [
    "np.mod(b,a)"
   ]
  },
  {
   "cell_type": "code",
   "execution_count": 161,
   "id": "9fb0083a",
   "metadata": {},
   "outputs": [
    {
     "data": {
      "text/plain": [
       "array([          1,     4194304,  -346101685,           0,   167814181,\n",
       "       -1543503872,    17998615,           0, -1635065239,  1073741824])"
      ]
     },
     "execution_count": 161,
     "metadata": {},
     "output_type": "execute_result"
    }
   ],
   "source": [
    "np.power(a,b)"
   ]
  },
  {
   "cell_type": "code",
   "execution_count": 162,
   "id": "c7dfda88",
   "metadata": {},
   "outputs": [
    {
     "data": {
      "text/plain": [
       "array([1.        , 1.41421356, 1.73205081, 2.        , 2.23606798,\n",
       "       2.44948974, 2.64575131, 2.82842712, 3.        , 3.16227766])"
      ]
     },
     "execution_count": 162,
     "metadata": {},
     "output_type": "execute_result"
    }
   ],
   "source": [
    "np.sqrt(a)"
   ]
  },
  {
   "cell_type": "markdown",
   "id": "fa90b16e",
   "metadata": {},
   "source": [
    "### Broadcasting"
   ]
  },
  {
   "cell_type": "code",
   "execution_count": 163,
   "id": "58e0ea67",
   "metadata": {},
   "outputs": [
    {
     "data": {
      "text/plain": [
       "array([[1, 2, 3],\n",
       "       [4, 5, 6],\n",
       "       [7, 8, 9]])"
      ]
     },
     "execution_count": 163,
     "metadata": {},
     "output_type": "execute_result"
    }
   ],
   "source": [
    "a=np.arange(1,10).reshape(3,3)\n",
    "a"
   ]
  },
  {
   "cell_type": "code",
   "execution_count": 164,
   "id": "e6b3c832",
   "metadata": {},
   "outputs": [
    {
     "data": {
      "text/plain": [
       "array([1, 2, 3])"
      ]
     },
     "execution_count": 164,
     "metadata": {},
     "output_type": "execute_result"
    }
   ],
   "source": [
    "b=np.arange(1,4)\n",
    "b"
   ]
  },
  {
   "cell_type": "code",
   "execution_count": 165,
   "id": "0cc9e881",
   "metadata": {},
   "outputs": [
    {
     "data": {
      "text/plain": [
       "array([[ 2,  4,  6],\n",
       "       [ 5,  7,  9],\n",
       "       [ 8, 10, 12]])"
      ]
     },
     "execution_count": 165,
     "metadata": {},
     "output_type": "execute_result"
    }
   ],
   "source": [
    "a+b"
   ]
  },
  {
   "cell_type": "code",
   "execution_count": 166,
   "id": "328ef674",
   "metadata": {},
   "outputs": [
    {
     "data": {
      "text/plain": [
       "array([1, 2])"
      ]
     },
     "execution_count": 166,
     "metadata": {},
     "output_type": "execute_result"
    }
   ],
   "source": [
    "c=np.arange(1,3)\n",
    "c"
   ]
  },
  {
   "cell_type": "code",
   "execution_count": 167,
   "id": "b436ce5b",
   "metadata": {},
   "outputs": [
    {
     "ename": "ValueError",
     "evalue": "operands could not be broadcast together with shapes (3,3) (2,) ",
     "output_type": "error",
     "traceback": [
      "\u001b[1;31m---------------------------------------------------------------------------\u001b[0m",
      "\u001b[1;31mValueError\u001b[0m                                Traceback (most recent call last)",
      "Input \u001b[1;32mIn [167]\u001b[0m, in \u001b[0;36m<module>\u001b[1;34m\u001b[0m\n\u001b[1;32m----> 1\u001b[0m \u001b[43ma\u001b[49m\u001b[38;5;241;43m+\u001b[39;49m\u001b[43mc\u001b[49m\n",
      "\u001b[1;31mValueError\u001b[0m: operands could not be broadcast together with shapes (3,3) (2,) "
     ]
    }
   ],
   "source": [
    "a+c"
   ]
  },
  {
   "cell_type": "code",
   "execution_count": 168,
   "id": "f0c330f6",
   "metadata": {},
   "outputs": [
    {
     "data": {
      "text/plain": [
       "array([[[ 0,  1,  2,  3],\n",
       "        [ 4,  5,  6,  7],\n",
       "        [ 8,  9, 10, 11]],\n",
       "\n",
       "       [[12, 13, 14, 15],\n",
       "        [16, 17, 18, 19],\n",
       "        [20, 21, 22, 23]]])"
      ]
     },
     "execution_count": 168,
     "metadata": {},
     "output_type": "execute_result"
    }
   ],
   "source": [
    "d=np.arange(24).reshape(2,3,4)\n",
    "d"
   ]
  },
  {
   "cell_type": "code",
   "execution_count": 169,
   "id": "fdbd23c3",
   "metadata": {},
   "outputs": [
    {
     "data": {
      "text/plain": [
       "array([0, 1, 2, 3])"
      ]
     },
     "execution_count": 169,
     "metadata": {},
     "output_type": "execute_result"
    }
   ],
   "source": [
    "e=np.arange(4)\n",
    "e"
   ]
  },
  {
   "cell_type": "code",
   "execution_count": 170,
   "id": "b2312d6a",
   "metadata": {},
   "outputs": [
    {
     "data": {
      "text/plain": [
       "array([[[ 0,  0,  0,  0],\n",
       "        [ 4,  4,  4,  4],\n",
       "        [ 8,  8,  8,  8]],\n",
       "\n",
       "       [[12, 12, 12, 12],\n",
       "        [16, 16, 16, 16],\n",
       "        [20, 20, 20, 20]]])"
      ]
     },
     "execution_count": 170,
     "metadata": {},
     "output_type": "execute_result"
    }
   ],
   "source": [
    "d-e"
   ]
  },
  {
   "cell_type": "markdown",
   "id": "439d5b3c",
   "metadata": {},
   "source": [
    "### Aggregate functions"
   ]
  },
  {
   "cell_type": "code",
   "execution_count": 171,
   "id": "7c166933",
   "metadata": {},
   "outputs": [
    {
     "data": {
      "text/plain": [
       "array([ 10,  20,  30,  40,  50,  60,  70,  80,  90, 100])"
      ]
     },
     "execution_count": 171,
     "metadata": {},
     "output_type": "execute_result"
    }
   ],
   "source": [
    "first_arr=np.arange(10,110,10)\n",
    "first_arr"
   ]
  },
  {
   "cell_type": "code",
   "execution_count": 172,
   "id": "13604dd0",
   "metadata": {},
   "outputs": [
    {
     "data": {
      "text/plain": [
       "array([[10, 20, 30],\n",
       "       [40, 50, 60],\n",
       "       [70, 80, 90]])"
      ]
     },
     "execution_count": 172,
     "metadata": {},
     "output_type": "execute_result"
    }
   ],
   "source": [
    "second_arr=np.arange(10,100,10).reshape(3,3)\n",
    "second_arr"
   ]
  },
  {
   "cell_type": "code",
   "execution_count": 173,
   "id": "2cd5e517",
   "metadata": {},
   "outputs": [
    {
     "data": {
      "text/plain": [
       "array([[ 10,  20,  30,  40,  50],\n",
       "       [ 60,  70,  80,  90, 100]])"
      ]
     },
     "execution_count": 173,
     "metadata": {},
     "output_type": "execute_result"
    }
   ],
   "source": [
    "third_arr=np.arange(10,110,10).reshape(2,5)\n",
    "third_arr"
   ]
  },
  {
   "cell_type": "code",
   "execution_count": 174,
   "id": "ce40d7d1",
   "metadata": {},
   "outputs": [
    {
     "data": {
      "text/plain": [
       "550"
      ]
     },
     "execution_count": 174,
     "metadata": {},
     "output_type": "execute_result"
    }
   ],
   "source": [
    "first_arr.sum()"
   ]
  },
  {
   "cell_type": "code",
   "execution_count": 175,
   "id": "8d2a65bd",
   "metadata": {},
   "outputs": [
    {
     "data": {
      "text/plain": [
       "450"
      ]
     },
     "execution_count": 175,
     "metadata": {},
     "output_type": "execute_result"
    }
   ],
   "source": [
    "second_arr.sum()"
   ]
  },
  {
   "cell_type": "code",
   "execution_count": 177,
   "id": "70efefb4",
   "metadata": {},
   "outputs": [
    {
     "data": {
      "text/plain": [
       "550"
      ]
     },
     "execution_count": 177,
     "metadata": {},
     "output_type": "execute_result"
    }
   ],
   "source": [
    "third_arr.sum()"
   ]
  },
  {
   "cell_type": "code",
   "execution_count": 178,
   "id": "ac02263d",
   "metadata": {},
   "outputs": [
    {
     "data": {
      "text/plain": [
       "array([120, 150, 180])"
      ]
     },
     "execution_count": 178,
     "metadata": {},
     "output_type": "execute_result"
    }
   ],
   "source": [
    "second_arr.sum(axis=0)"
   ]
  },
  {
   "cell_type": "code",
   "execution_count": 179,
   "id": "f8a9e16f",
   "metadata": {},
   "outputs": [
    {
     "data": {
      "text/plain": [
       "array([ 60, 150, 240])"
      ]
     },
     "execution_count": 179,
     "metadata": {},
     "output_type": "execute_result"
    }
   ],
   "source": [
    "second_arr.sum(axis=1)"
   ]
  },
  {
   "cell_type": "code",
   "execution_count": 180,
   "id": "50b0cc63",
   "metadata": {},
   "outputs": [
    {
     "data": {
      "text/plain": [
       "1704722432"
      ]
     },
     "execution_count": 180,
     "metadata": {},
     "output_type": "execute_result"
    }
   ],
   "source": [
    "first_arr.prod()"
   ]
  },
  {
   "cell_type": "code",
   "execution_count": 181,
   "id": "9ae7994b",
   "metadata": {},
   "outputs": [
    {
     "data": {
      "text/plain": [
       "-1786839040"
      ]
     },
     "execution_count": 181,
     "metadata": {},
     "output_type": "execute_result"
    }
   ],
   "source": [
    "second_arr.prod()"
   ]
  },
  {
   "cell_type": "code",
   "execution_count": 182,
   "id": "2efd897c",
   "metadata": {},
   "outputs": [
    {
     "data": {
      "text/plain": [
       "1704722432"
      ]
     },
     "execution_count": 182,
     "metadata": {},
     "output_type": "execute_result"
    }
   ],
   "source": [
    "third_arr.prod()"
   ]
  },
  {
   "cell_type": "code",
   "execution_count": 183,
   "id": "983a17ac",
   "metadata": {},
   "outputs": [
    {
     "data": {
      "text/plain": [
       "array([ 600, 1400, 2400, 3600, 5000])"
      ]
     },
     "execution_count": 183,
     "metadata": {},
     "output_type": "execute_result"
    }
   ],
   "source": [
    "third_arr.prod(axis=0)"
   ]
  },
  {
   "cell_type": "code",
   "execution_count": 184,
   "id": "9e5a26ea",
   "metadata": {},
   "outputs": [
    {
     "data": {
      "text/plain": [
       "55.0"
      ]
     },
     "execution_count": 184,
     "metadata": {},
     "output_type": "execute_result"
    }
   ],
   "source": [
    "np.average(first_arr)"
   ]
  },
  {
   "cell_type": "code",
   "execution_count": 185,
   "id": "dd992425",
   "metadata": {},
   "outputs": [
    {
     "data": {
      "text/plain": [
       "50.0"
      ]
     },
     "execution_count": 185,
     "metadata": {},
     "output_type": "execute_result"
    }
   ],
   "source": [
    "np.average(second_arr)"
   ]
  },
  {
   "cell_type": "code",
   "execution_count": 186,
   "id": "f42d8b47",
   "metadata": {},
   "outputs": [
    {
     "data": {
      "text/plain": [
       "55.0"
      ]
     },
     "execution_count": 186,
     "metadata": {},
     "output_type": "execute_result"
    }
   ],
   "source": [
    "np.average(third_arr)"
   ]
  },
  {
   "cell_type": "code",
   "execution_count": 187,
   "id": "966230c6",
   "metadata": {},
   "outputs": [
    {
     "data": {
      "text/plain": [
       "10"
      ]
     },
     "execution_count": 187,
     "metadata": {},
     "output_type": "execute_result"
    }
   ],
   "source": [
    "np.min(first_arr)"
   ]
  },
  {
   "cell_type": "code",
   "execution_count": 188,
   "id": "e01073c8",
   "metadata": {},
   "outputs": [
    {
     "data": {
      "text/plain": [
       "100"
      ]
     },
     "execution_count": 188,
     "metadata": {},
     "output_type": "execute_result"
    }
   ],
   "source": [
    "np.max(first_arr)"
   ]
  },
  {
   "cell_type": "code",
   "execution_count": 189,
   "id": "4ea29f3f",
   "metadata": {},
   "outputs": [
    {
     "data": {
      "text/plain": [
       "55.0"
      ]
     },
     "execution_count": 189,
     "metadata": {},
     "output_type": "execute_result"
    }
   ],
   "source": [
    "np.mean(first_arr)"
   ]
  },
  {
   "cell_type": "code",
   "execution_count": 190,
   "id": "366ac9bb",
   "metadata": {},
   "outputs": [
    {
     "data": {
      "text/plain": [
       "28.722813232690143"
      ]
     },
     "execution_count": 190,
     "metadata": {},
     "output_type": "execute_result"
    }
   ],
   "source": [
    "np.std(first_arr)"
   ]
  },
  {
   "cell_type": "markdown",
   "id": "13b3e580",
   "metadata": {},
   "source": [
    "### How to get unique items and counts"
   ]
  },
  {
   "cell_type": "code",
   "execution_count": 191,
   "id": "1b078d15",
   "metadata": {},
   "outputs": [],
   "source": [
    "first_arr=np.array([1,2,3,4,5,6,1,2,7,2,1,10,7,8])"
   ]
  },
  {
   "cell_type": "code",
   "execution_count": 192,
   "id": "8f6dcafc",
   "metadata": {},
   "outputs": [
    {
     "data": {
      "text/plain": [
       "array([ 1,  2,  3,  4,  5,  6,  7,  8, 10])"
      ]
     },
     "execution_count": 192,
     "metadata": {},
     "output_type": "execute_result"
    }
   ],
   "source": [
    "np.unique(first_arr)"
   ]
  },
  {
   "cell_type": "code",
   "execution_count": 193,
   "id": "5986fc02",
   "metadata": {},
   "outputs": [
    {
     "data": {
      "text/plain": [
       "array([[1, 1, 2, 1],\n",
       "       [3, 1, 2, 1],\n",
       "       [1, 1, 2, 1],\n",
       "       [7, 1, 1, 1]])"
      ]
     },
     "execution_count": 193,
     "metadata": {},
     "output_type": "execute_result"
    }
   ],
   "source": [
    "second_arr=np.array([[1, 1, 2,1] ,[ 3, 1, 2,1] , [1, 1, 2, 1], [ 7, 1, 1, 1]])\n",
    "second_arr"
   ]
  },
  {
   "cell_type": "code",
   "execution_count": 194,
   "id": "d588219c",
   "metadata": {},
   "outputs": [
    {
     "data": {
      "text/plain": [
       "array([1, 2, 3, 7])"
      ]
     },
     "execution_count": 194,
     "metadata": {},
     "output_type": "execute_result"
    }
   ],
   "source": [
    "np.unique(second_arr)"
   ]
  },
  {
   "cell_type": "code",
   "execution_count": 195,
   "id": "c6853841",
   "metadata": {},
   "outputs": [
    {
     "data": {
      "text/plain": [
       "array([[1, 1, 2, 1],\n",
       "       [3, 1, 2, 1],\n",
       "       [7, 1, 1, 1]])"
      ]
     },
     "execution_count": 195,
     "metadata": {},
     "output_type": "execute_result"
    }
   ],
   "source": [
    "np.unique(second_arr,axis=0)"
   ]
  },
  {
   "cell_type": "code",
   "execution_count": 196,
   "id": "39038da8",
   "metadata": {},
   "outputs": [
    {
     "data": {
      "text/plain": [
       "array([[1, 1, 2],\n",
       "       [1, 3, 2],\n",
       "       [1, 1, 2],\n",
       "       [1, 7, 1]])"
      ]
     },
     "execution_count": 196,
     "metadata": {},
     "output_type": "execute_result"
    }
   ],
   "source": [
    "np.unique(second_arr,axis=1)"
   ]
  },
  {
   "cell_type": "code",
   "execution_count": 197,
   "id": "aa1490e8",
   "metadata": {},
   "outputs": [
    {
     "data": {
      "text/plain": [
       "(array([ 1,  2,  3,  4,  5,  6,  7,  8, 10]),\n",
       " array([ 0,  1,  2,  3,  4,  5,  8, 13, 11], dtype=int64))"
      ]
     },
     "execution_count": 197,
     "metadata": {},
     "output_type": "execute_result"
    }
   ],
   "source": [
    "np.unique(first_arr,return_index= True)"
   ]
  },
  {
   "cell_type": "code",
   "execution_count": 198,
   "id": "fad37636",
   "metadata": {},
   "outputs": [
    {
     "data": {
      "text/plain": [
       "(array([1, 2, 3, 7]), array([11,  3,  1,  1], dtype=int64))"
      ]
     },
     "execution_count": 198,
     "metadata": {},
     "output_type": "execute_result"
    }
   ],
   "source": [
    "np.unique(second_arr,return_counts=True)"
   ]
  },
  {
   "cell_type": "markdown",
   "id": "9907cbd5",
   "metadata": {},
   "source": [
    "### Transpose like operations"
   ]
  },
  {
   "cell_type": "code",
   "execution_count": 199,
   "id": "55890570",
   "metadata": {},
   "outputs": [
    {
     "data": {
      "text/plain": [
       "array([[ 0,  1,  2,  3],\n",
       "       [ 4,  5,  6,  7],\n",
       "       [ 8,  9, 10, 11]])"
      ]
     },
     "execution_count": 199,
     "metadata": {},
     "output_type": "execute_result"
    }
   ],
   "source": [
    "first_2dimarr=np.arange(12).reshape((3,4))\n",
    "first_2dimarr"
   ]
  },
  {
   "cell_type": "code",
   "execution_count": 200,
   "id": "74c59641",
   "metadata": {},
   "outputs": [
    {
     "data": {
      "text/plain": [
       "array([[ 0,  4,  8],\n",
       "       [ 1,  5,  9],\n",
       "       [ 2,  6, 10],\n",
       "       [ 3,  7, 11]])"
      ]
     },
     "execution_count": 200,
     "metadata": {},
     "output_type": "execute_result"
    }
   ],
   "source": [
    "np.transpose(first_2dimarr)"
   ]
  },
  {
   "cell_type": "code",
   "execution_count": 201,
   "id": "f85a12cd",
   "metadata": {},
   "outputs": [
    {
     "data": {
      "text/plain": [
       "array([[0, 1],\n",
       "       [2, 3],\n",
       "       [4, 5]])"
      ]
     },
     "execution_count": 201,
     "metadata": {},
     "output_type": "execute_result"
    }
   ],
   "source": [
    "second_2dimarr=np.arange(6).reshape(3,2)\n",
    "second_2dimarr"
   ]
  },
  {
   "cell_type": "code",
   "execution_count": 202,
   "id": "f0af07fc",
   "metadata": {},
   "outputs": [
    {
     "data": {
      "text/plain": [
       "array([[0, 2, 4],\n",
       "       [1, 3, 5]])"
      ]
     },
     "execution_count": 202,
     "metadata": {},
     "output_type": "execute_result"
    }
   ],
   "source": [
    "np.transpose(second_2dimarr,(1,0))"
   ]
  },
  {
   "cell_type": "code",
   "execution_count": 203,
   "id": "9e2342cc",
   "metadata": {},
   "outputs": [
    {
     "data": {
      "text/plain": [
       "array([[[ 0,  1,  2,  3],\n",
       "        [ 4,  5,  6,  7],\n",
       "        [ 8,  9, 10, 11]],\n",
       "\n",
       "       [[12, 13, 14, 15],\n",
       "        [16, 17, 18, 19],\n",
       "        [20, 21, 22, 23]]])"
      ]
     },
     "execution_count": 203,
     "metadata": {},
     "output_type": "execute_result"
    }
   ],
   "source": [
    "first_3dimarr=np.arange(24).reshape(2,3,4)\n",
    "first_3dimarr"
   ]
  },
  {
   "cell_type": "code",
   "execution_count": 204,
   "id": "5e088246",
   "metadata": {},
   "outputs": [
    {
     "data": {
      "text/plain": [
       "array([[[ 0, 12],\n",
       "        [ 1, 13],\n",
       "        [ 2, 14],\n",
       "        [ 3, 15]],\n",
       "\n",
       "       [[ 4, 16],\n",
       "        [ 5, 17],\n",
       "        [ 6, 18],\n",
       "        [ 7, 19]],\n",
       "\n",
       "       [[ 8, 20],\n",
       "        [ 9, 21],\n",
       "        [10, 22],\n",
       "        [11, 23]]])"
      ]
     },
     "execution_count": 204,
     "metadata": {},
     "output_type": "execute_result"
    }
   ],
   "source": [
    "np.moveaxis(first_3dimarr,0,-1)"
   ]
  },
  {
   "cell_type": "code",
   "execution_count": 205,
   "id": "925c77e3",
   "metadata": {},
   "outputs": [
    {
     "data": {
      "text/plain": [
       "array([[[ 0, 12],\n",
       "        [ 4, 16],\n",
       "        [ 8, 20]],\n",
       "\n",
       "       [[ 1, 13],\n",
       "        [ 5, 17],\n",
       "        [ 9, 21]],\n",
       "\n",
       "       [[ 2, 14],\n",
       "        [ 6, 18],\n",
       "        [10, 22]],\n",
       "\n",
       "       [[ 3, 15],\n",
       "        [ 7, 19],\n",
       "        [11, 23]]])"
      ]
     },
     "execution_count": 205,
     "metadata": {},
     "output_type": "execute_result"
    }
   ],
   "source": [
    "np.swapaxes(first_3dimarr,0,2)"
   ]
  },
  {
   "cell_type": "markdown",
   "id": "2d47ac57",
   "metadata": {},
   "source": [
    "### Reversing an array"
   ]
  },
  {
   "cell_type": "code",
   "execution_count": 206,
   "id": "b8bc4587",
   "metadata": {},
   "outputs": [
    {
     "data": {
      "text/plain": [
       "[10, 1, 9, 2, 8, 3, 7, 4, 6, 5]"
      ]
     },
     "execution_count": 206,
     "metadata": {},
     "output_type": "execute_result"
    }
   ],
   "source": [
    "arr_1dim=[10,1,9,2,8,3,7,4,6,5]\n",
    "arr_1dim"
   ]
  },
  {
   "cell_type": "code",
   "execution_count": 207,
   "id": "b634b080",
   "metadata": {},
   "outputs": [
    {
     "data": {
      "text/plain": [
       "[5, 6, 4, 7, 3, 8, 2, 9, 1, 10]"
      ]
     },
     "execution_count": 207,
     "metadata": {},
     "output_type": "execute_result"
    }
   ],
   "source": [
    "arr_1dim[::-1]"
   ]
  },
  {
   "cell_type": "code",
   "execution_count": 208,
   "id": "53007c94",
   "metadata": {},
   "outputs": [
    {
     "data": {
      "text/plain": [
       "array([ 5,  6,  4,  7,  3,  8,  2,  9,  1, 10])"
      ]
     },
     "execution_count": 208,
     "metadata": {},
     "output_type": "execute_result"
    }
   ],
   "source": [
    "np.flip(arr_1dim)"
   ]
  },
  {
   "cell_type": "code",
   "execution_count": 209,
   "id": "8dc57098",
   "metadata": {},
   "outputs": [
    {
     "data": {
      "text/plain": [
       "array([[0, 1, 2],\n",
       "       [3, 4, 5],\n",
       "       [6, 7, 8]])"
      ]
     },
     "execution_count": 209,
     "metadata": {},
     "output_type": "execute_result"
    }
   ],
   "source": [
    "arr_2dim=np.arange(9).reshape(3,3)\n",
    "arr_2dim"
   ]
  },
  {
   "cell_type": "code",
   "execution_count": 210,
   "id": "9a6b5ecf",
   "metadata": {},
   "outputs": [
    {
     "data": {
      "text/plain": [
       "array([[8, 7, 6],\n",
       "       [5, 4, 3],\n",
       "       [2, 1, 0]])"
      ]
     },
     "execution_count": 210,
     "metadata": {},
     "output_type": "execute_result"
    }
   ],
   "source": [
    "np.flip(arr_2dim)"
   ]
  },
  {
   "cell_type": "code",
   "execution_count": 211,
   "id": "2561f920",
   "metadata": {},
   "outputs": [
    {
     "data": {
      "text/plain": [
       "array([[2, 1, 0],\n",
       "       [5, 4, 3],\n",
       "       [8, 7, 6]])"
      ]
     },
     "execution_count": 211,
     "metadata": {},
     "output_type": "execute_result"
    }
   ],
   "source": [
    "np.flip(arr_2dim,1)"
   ]
  },
  {
   "cell_type": "code",
   "execution_count": 212,
   "id": "6c723094",
   "metadata": {},
   "outputs": [
    {
     "data": {
      "text/plain": [
       "array([[[ 0,  1,  2,  3],\n",
       "        [ 4,  5,  6,  7],\n",
       "        [ 8,  9, 10, 11]],\n",
       "\n",
       "       [[12, 13, 14, 15],\n",
       "        [16, 17, 18, 19],\n",
       "        [20, 21, 22, 23]]])"
      ]
     },
     "execution_count": 212,
     "metadata": {},
     "output_type": "execute_result"
    }
   ],
   "source": [
    "arr_3dim=np.arange(24).reshape(2,3,4)\n",
    "arr_3dim"
   ]
  },
  {
   "cell_type": "code",
   "execution_count": 213,
   "id": "ffb7e83d",
   "metadata": {},
   "outputs": [
    {
     "data": {
      "text/plain": [
       "array([[[ 8,  9, 10, 11],\n",
       "        [ 4,  5,  6,  7],\n",
       "        [ 0,  1,  2,  3]],\n",
       "\n",
       "       [[20, 21, 22, 23],\n",
       "        [16, 17, 18, 19],\n",
       "        [12, 13, 14, 15]]])"
      ]
     },
     "execution_count": 213,
     "metadata": {},
     "output_type": "execute_result"
    }
   ],
   "source": [
    "np.flip(arr_3dim,1)"
   ]
  },
  {
   "cell_type": "code",
   "execution_count": 214,
   "id": "c3d01c4e",
   "metadata": {},
   "outputs": [
    {
     "data": {
      "text/plain": [
       "array([[[ 3,  2,  1,  0],\n",
       "        [ 7,  6,  5,  4],\n",
       "        [11, 10,  9,  8]],\n",
       "\n",
       "       [[15, 14, 13, 12],\n",
       "        [19, 18, 17, 16],\n",
       "        [23, 22, 21, 20]]])"
      ]
     },
     "execution_count": 214,
     "metadata": {},
     "output_type": "execute_result"
    }
   ],
   "source": [
    "np.flip(arr_3dim,2)"
   ]
  },
  {
   "cell_type": "code",
   "execution_count": null,
   "id": "122641c8",
   "metadata": {},
   "outputs": [],
   "source": []
  }
 ],
 "metadata": {
  "kernelspec": {
   "display_name": "Python 3 (ipykernel)",
   "language": "python",
   "name": "python3"
  },
  "language_info": {
   "codemirror_mode": {
    "name": "ipython",
    "version": 3
   },
   "file_extension": ".py",
   "mimetype": "text/x-python",
   "name": "python",
   "nbconvert_exporter": "python",
   "pygments_lexer": "ipython3",
   "version": "3.8.12"
  }
 },
 "nbformat": 4,
 "nbformat_minor": 5
}
