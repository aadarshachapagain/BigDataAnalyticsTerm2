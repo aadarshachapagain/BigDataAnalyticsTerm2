{
 "cells": [
  {
   "cell_type": "code",
   "execution_count": 1,
   "id": "0af73b36",
   "metadata": {},
   "outputs": [],
   "source": [
    "# import relevant modules\n",
    "import pandas as pd"
   ]
  },
  {
   "cell_type": "code",
   "execution_count": 2,
   "id": "5728d238",
   "metadata": {},
   "outputs": [],
   "source": [
    "# read grades dataset, save as a pandas dataframe\n",
    "grades = pd.read_csv('./grades.csv')"
   ]
  },
  {
   "cell_type": "code",
   "execution_count": 3,
   "id": "5941fb70",
   "metadata": {},
   "outputs": [
    {
     "data": {
      "text/html": [
       "<div>\n",
       "<style scoped>\n",
       "    .dataframe tbody tr th:only-of-type {\n",
       "        vertical-align: middle;\n",
       "    }\n",
       "\n",
       "    .dataframe tbody tr th {\n",
       "        vertical-align: top;\n",
       "    }\n",
       "\n",
       "    .dataframe thead th {\n",
       "        text-align: right;\n",
       "    }\n",
       "</style>\n",
       "<table border=\"1\" class=\"dataframe\">\n",
       "  <thead>\n",
       "    <tr style=\"text-align: right;\">\n",
       "      <th></th>\n",
       "      <th>exam</th>\n",
       "      <th>student_id</th>\n",
       "      <th>grade</th>\n",
       "    </tr>\n",
       "  </thead>\n",
       "  <tbody>\n",
       "    <tr>\n",
       "      <th>0</th>\n",
       "      <td>1</td>\n",
       "      <td>1</td>\n",
       "      <td>86.0</td>\n",
       "    </tr>\n",
       "    <tr>\n",
       "      <th>1</th>\n",
       "      <td>1</td>\n",
       "      <td>2</td>\n",
       "      <td>65.0</td>\n",
       "    </tr>\n",
       "    <tr>\n",
       "      <th>2</th>\n",
       "      <td>1</td>\n",
       "      <td>3</td>\n",
       "      <td>70.0</td>\n",
       "    </tr>\n",
       "    <tr>\n",
       "      <th>3</th>\n",
       "      <td>1</td>\n",
       "      <td>4</td>\n",
       "      <td>98.0</td>\n",
       "    </tr>\n",
       "    <tr>\n",
       "      <th>4</th>\n",
       "      <td>1</td>\n",
       "      <td>5</td>\n",
       "      <td>89.0</td>\n",
       "    </tr>\n",
       "  </tbody>\n",
       "</table>\n",
       "</div>"
      ],
      "text/plain": [
       "   exam  student_id  grade\n",
       "0     1           1   86.0\n",
       "1     1           2   65.0\n",
       "2     1           3   70.0\n",
       "3     1           4   98.0\n",
       "4     1           5   89.0"
      ]
     },
     "execution_count": 3,
     "metadata": {},
     "output_type": "execute_result"
    }
   ],
   "source": [
    "# display first few rows of grades\n",
    "grades.head()"
   ]
  },
  {
   "cell_type": "code",
   "execution_count": 4,
   "id": "2982ce12",
   "metadata": {},
   "outputs": [],
   "source": [
    "def lowest_grade(student_id):\n",
    "    \n",
    "    \"\"\"Find lowest grade across all exams for student with given student_id.\n",
    "    Treat missing exam grades as zeros.\"\"\"\n",
    "    \n",
    "    return grades.loc[grades['student_id'] == student_id]['grade'].fillna(0).min()"
   ]
  },
  {
   "cell_type": "code",
   "execution_count": 5,
   "id": "353c66d6",
   "metadata": {},
   "outputs": [
    {
     "name": "stdout",
     "output_type": "stream",
     "text": [
      "test passed\n"
     ]
    }
   ],
   "source": [
    "# test lowest_grade on student_id 1\n",
    "assert lowest_grade(1) == 0.0, 'test failed'\n",
    "print('test passed')"
   ]
  },
  {
   "cell_type": "code",
   "execution_count": 6,
   "id": "96e3bb75",
   "metadata": {},
   "outputs": [
    {
     "data": {
      "text/plain": [
       "array([ 1,  2,  3,  4,  5,  6,  7,  8,  9, 10], dtype=int64)"
      ]
     },
     "execution_count": 6,
     "metadata": {},
     "output_type": "execute_result"
    }
   ],
   "source": [
    "# sequence containing all distinct student ids\n",
    "student_ids = grades['student_id'].unique()\n",
    "student_ids"
   ]
  },
  {
   "cell_type": "code",
   "execution_count": 7,
   "id": "2d6a2924",
   "metadata": {},
   "outputs": [
    {
     "data": {
      "text/plain": [
       "[0.0, 0.0, 70.0, 0.0, 0.0, 0.0, 75.0, 56.0, 73.0, 75.0]"
      ]
     },
     "execution_count": 7,
     "metadata": {},
     "output_type": "execute_result"
    }
   ],
   "source": [
    "# apply lowest_grade to each student id\n",
    "list(map(lowest_grade, student_ids))"
   ]
  },
  {
   "cell_type": "markdown",
   "id": "f50d54d9",
   "metadata": {},
   "source": [
    "## Zip "
   ]
  },
  {
   "cell_type": "code",
   "execution_count": 8,
   "id": "1c072201",
   "metadata": {},
   "outputs": [],
   "source": [
    "# points scored by each of five players in game1\n",
    "points_game1 = [50, 40, 60, 70, 80]"
   ]
  },
  {
   "cell_type": "code",
   "execution_count": 9,
   "id": "aaa2e1d7",
   "metadata": {},
   "outputs": [],
   "source": [
    "# points scored by each of five players in game2\n",
    "points_game2 = [76, 81, 53, 92, 67]"
   ]
  },
  {
   "cell_type": "code",
   "execution_count": 10,
   "id": "8dd3b60e",
   "metadata": {},
   "outputs": [
    {
     "data": {
      "text/plain": [
       "[26, 41, 7, 22, 13]"
      ]
     },
     "execution_count": 10,
     "metadata": {},
     "output_type": "execute_result"
    }
   ],
   "source": [
    "# sequence where points differences will be saved\n",
    "diffs = []\n",
    "\n",
    "# iterate through points_game1 and points_game2 at the same time\n",
    "for x, y in zip(points_game1, points_game2):\n",
    "    # compute absolute difference in points between game1 and game2\n",
    "    # add to diffs\n",
    "    diffs.append(abs(x - y))\n",
    "    \n",
    "diffs"
   ]
  },
  {
   "cell_type": "markdown",
   "id": "b00e1362",
   "metadata": {},
   "source": [
    "## Filter"
   ]
  },
  {
   "cell_type": "code",
   "execution_count": 11,
   "id": "019c3d06",
   "metadata": {},
   "outputs": [],
   "source": [
    "def mean_atleast_70(student_id):\n",
    "    \n",
    "    \"\"\"Compute mean grade across all exams for student with given student_id.\n",
    "    Treat missing exam grades as zeros.\n",
    "    If mean grade is atleast 70, return True. Otherwise, return False.\"\"\"\n",
    "    \n",
    "    mean_grade = grades.loc[grades['student_id'] == student_id]['grade'].fillna(0).mean()\n",
    "    return mean_grade >= 70"
   ]
  },
  {
   "cell_type": "code",
   "execution_count": 12,
   "id": "6fba88d7",
   "metadata": {},
   "outputs": [
    {
     "name": "stdout",
     "output_type": "stream",
     "text": [
      "test passed\n"
     ]
    }
   ],
   "source": [
    "# test mean_grade on student_id 1\n",
    "assert mean_atleast_70(1) == False, 'test failed'\n",
    "print('test passed')"
   ]
  },
  {
   "cell_type": "code",
   "execution_count": 13,
   "id": "40a98878",
   "metadata": {},
   "outputs": [
    {
     "data": {
      "text/plain": [
       "array([ 1,  2,  3,  4,  5,  6,  7,  8,  9, 10], dtype=int64)"
      ]
     },
     "execution_count": 13,
     "metadata": {},
     "output_type": "execute_result"
    }
   ],
   "source": [
    "# sequence containing all distinct student ids\n",
    "student_ids = grades['student_id'].unique()\n",
    "student_ids"
   ]
  },
  {
   "cell_type": "code",
   "execution_count": 14,
   "id": "0de5423c",
   "metadata": {},
   "outputs": [
    {
     "data": {
      "text/plain": [
       "[3, 5, 7, 8, 9, 10]"
      ]
     },
     "execution_count": 14,
     "metadata": {},
     "output_type": "execute_result"
    }
   ],
   "source": [
    "list(filter(mean_atleast_70, student_ids))"
   ]
  },
  {
   "cell_type": "markdown",
   "id": "13b1b98b",
   "metadata": {},
   "source": [
    "## Numpy"
   ]
  },
  {
   "cell_type": "code",
   "execution_count": 16,
   "id": "7770730b",
   "metadata": {},
   "outputs": [],
   "source": [
    "# import relevant libraries\n",
    "import numpy as np"
   ]
  },
  {
   "cell_type": "code",
   "execution_count": 17,
   "id": "985e1106",
   "metadata": {},
   "outputs": [
    {
     "data": {
      "text/plain": [
       "array([], dtype=float64)"
      ]
     },
     "execution_count": 17,
     "metadata": {},
     "output_type": "execute_result"
    }
   ],
   "source": [
    "# create an empty numpy array & save in a variable\n",
    "array0 = np.array([])\n",
    "array0"
   ]
  },
  {
   "cell_type": "code",
   "execution_count": 18,
   "id": "9c94758a",
   "metadata": {},
   "outputs": [],
   "source": [
    "# initialize list1 as a Python list\n",
    "list1 = [1, 2, 3, 4, 5]"
   ]
  },
  {
   "cell_type": "code",
   "execution_count": 19,
   "id": "2215a3fa",
   "metadata": {},
   "outputs": [
    {
     "data": {
      "text/plain": [
       "array([1, 2, 3, 4, 5])"
      ]
     },
     "execution_count": 19,
     "metadata": {},
     "output_type": "execute_result"
    }
   ],
   "source": [
    "# create a one-dimensional numpy array from list1 & save in a variable\n",
    "array1 = np.array(list1)\n",
    "array1"
   ]
  },
  {
   "cell_type": "code",
   "execution_count": 20,
   "id": "3701b622",
   "metadata": {},
   "outputs": [],
   "source": [
    "# initialize list2 as a nested Python list\n",
    "list2 = [[1, 2, 3], [4, 5, 6], [7, 8, 9]]"
   ]
  },
  {
   "cell_type": "code",
   "execution_count": 21,
   "id": "24c33e61",
   "metadata": {},
   "outputs": [
    {
     "data": {
      "text/plain": [
       "array([[1, 2, 3],\n",
       "       [4, 5, 6],\n",
       "       [7, 8, 9]])"
      ]
     },
     "execution_count": 21,
     "metadata": {},
     "output_type": "execute_result"
    }
   ],
   "source": [
    "# create a two-dimensional numpy array from list2 \n",
    "array2 = np.array(list2)\n",
    "array2"
   ]
  },
  {
   "cell_type": "code",
   "execution_count": 22,
   "id": "f141ba64",
   "metadata": {},
   "outputs": [
    {
     "data": {
      "text/plain": [
       "array([0, 1, 2, 3, 4])"
      ]
     },
     "execution_count": 22,
     "metadata": {},
     "output_type": "execute_result"
    }
   ],
   "source": [
    "# create a numpy array containing integers 0 to 4 including 0 and 4\n",
    "np.arange(5)"
   ]
  },
  {
   "cell_type": "code",
   "execution_count": 23,
   "id": "f3e0ac86",
   "metadata": {},
   "outputs": [
    {
     "data": {
      "text/plain": [
       "array([ 0,  2,  4,  6,  8, 10])"
      ]
     },
     "execution_count": 23,
     "metadata": {},
     "output_type": "execute_result"
    }
   ],
   "source": [
    "# create a numpy array containing all even integers between 0 and 10 including 0 and 10\n",
    "np.arange(0, 11, 2)"
   ]
  },
  {
   "cell_type": "code",
   "execution_count": 24,
   "id": "2caa90a8",
   "metadata": {},
   "outputs": [
    {
     "data": {
      "text/plain": [
       "array([0., 0., 0., 0., 0.])"
      ]
     },
     "execution_count": 24,
     "metadata": {},
     "output_type": "execute_result"
    }
   ],
   "source": [
    "# create a one-dimenstional numpy array containing 5 zeros\n",
    "np.zeros(5)"
   ]
  },
  {
   "cell_type": "code",
   "execution_count": 25,
   "id": "43cc8636",
   "metadata": {},
   "outputs": [
    {
     "data": {
      "text/plain": [
       "array([[0., 0., 0., 0., 0.],\n",
       "       [0., 0., 0., 0., 0.],\n",
       "       [0., 0., 0., 0., 0.],\n",
       "       [0., 0., 0., 0., 0.]])"
      ]
     },
     "execution_count": 25,
     "metadata": {},
     "output_type": "execute_result"
    }
   ],
   "source": [
    "# create a two-dimensional numpy array of zeros having 4 rows and 5 columns\n",
    "np.zeros((4, 5))"
   ]
  },
  {
   "cell_type": "code",
   "execution_count": 26,
   "id": "721d5815",
   "metadata": {},
   "outputs": [
    {
     "data": {
      "text/plain": [
       "array([1., 1., 1., 1., 1., 1.])"
      ]
     },
     "execution_count": 26,
     "metadata": {},
     "output_type": "execute_result"
    }
   ],
   "source": [
    "# create a one-dimenstional numpy array containing 6 ones\n",
    "np.ones(6)"
   ]
  },
  {
   "cell_type": "code",
   "execution_count": 27,
   "id": "11375752",
   "metadata": {},
   "outputs": [
    {
     "data": {
      "text/plain": [
       "array([[1., 1., 1., 1., 1., 1.],\n",
       "       [1., 1., 1., 1., 1., 1.],\n",
       "       [1., 1., 1., 1., 1., 1.],\n",
       "       [1., 1., 1., 1., 1., 1.]])"
      ]
     },
     "execution_count": 27,
     "metadata": {},
     "output_type": "execute_result"
    }
   ],
   "source": [
    "# create a two-dimensional numpy array of ones having 4 rows and 6 columns\n",
    "np.ones((4, 6))"
   ]
  },
  {
   "cell_type": "code",
   "execution_count": 28,
   "id": "7cbf8811",
   "metadata": {},
   "outputs": [
    {
     "data": {
      "text/plain": [
       "array([1.   , 1.125, 1.25 , 1.375, 1.5  , 1.625, 1.75 , 1.875, 2.   ])"
      ]
     },
     "execution_count": 28,
     "metadata": {},
     "output_type": "execute_result"
    }
   ],
   "source": [
    "# create a numpy array of 9 evenly spaced numbers from 1 to 2, including 1 and 2\n",
    "np.linspace(1, 2, 9)"
   ]
  },
  {
   "cell_type": "code",
   "execution_count": 29,
   "id": "38e4b94e",
   "metadata": {},
   "outputs": [
    {
     "data": {
      "text/plain": [
       "array([42, 44, 48, 37, 38, 43, 43, 33, 42, 38])"
      ]
     },
     "execution_count": 29,
     "metadata": {},
     "output_type": "execute_result"
    }
   ],
   "source": [
    "# create a numpy array of 10 random integers from 20 to 50\n",
    "np.random.randint(20, 50, 10)"
   ]
  },
  {
   "cell_type": "markdown",
   "id": "de5efd53",
   "metadata": {},
   "source": [
    "## Min_max"
   ]
  },
  {
   "cell_type": "code",
   "execution_count": 30,
   "id": "0ba32ebb",
   "metadata": {},
   "outputs": [],
   "source": [
    "# import relevant libraries\n",
    "import numpy as np"
   ]
  },
  {
   "cell_type": "code",
   "execution_count": 31,
   "id": "bdf962e4",
   "metadata": {},
   "outputs": [
    {
     "data": {
      "text/plain": [
       "array([11, 20, 48, 46, 41, 32, 21, 38, 10,  7, 49,  6,  9, 18, 22, 24,  4,\n",
       "        4, 14, 10])"
      ]
     },
     "execution_count": 31,
     "metadata": {},
     "output_type": "execute_result"
    }
   ],
   "source": [
    "# create a numpy array of 20 random integers from 1 to 50 & save in a variable\n",
    "array_random = np.random.randint(1, 50, 20)\n",
    "array_random"
   ]
  },
  {
   "cell_type": "code",
   "execution_count": 32,
   "id": "5664218c",
   "metadata": {},
   "outputs": [
    {
     "data": {
      "text/plain": [
       "4"
      ]
     },
     "execution_count": 32,
     "metadata": {},
     "output_type": "execute_result"
    }
   ],
   "source": [
    "# find minimum value in array_random\n",
    "array_random.min()"
   ]
  },
  {
   "cell_type": "code",
   "execution_count": 33,
   "id": "a5482a6f",
   "metadata": {},
   "outputs": [
    {
     "data": {
      "text/plain": [
       "49"
      ]
     },
     "execution_count": 33,
     "metadata": {},
     "output_type": "execute_result"
    }
   ],
   "source": [
    "# find maximum value in array_random\n",
    "array_random.max()"
   ]
  },
  {
   "cell_type": "markdown",
   "id": "ba698ebe",
   "metadata": {},
   "source": [
    "## Indices of min_max "
   ]
  },
  {
   "cell_type": "code",
   "execution_count": 34,
   "id": "cb7a9472",
   "metadata": {},
   "outputs": [],
   "source": [
    "# import relevant libraries\n",
    "import numpy as np"
   ]
  },
  {
   "cell_type": "code",
   "execution_count": 35,
   "id": "056a2417",
   "metadata": {},
   "outputs": [
    {
     "data": {
      "text/plain": [
       "array([45, 49,  5, 24, 39,  9, 45, 22, 36, 15, 46,  8, 25, 15, 36, 48, 12,\n",
       "       20, 30,  9])"
      ]
     },
     "execution_count": 35,
     "metadata": {},
     "output_type": "execute_result"
    }
   ],
   "source": [
    "# create a numpy array of 20 random integers from 1 to 50 & save in a variable\n",
    "array_random = np.random.randint(1, 50, 20)\n",
    "array_random"
   ]
  },
  {
   "cell_type": "code",
   "execution_count": 36,
   "id": "2faf6aa9",
   "metadata": {},
   "outputs": [
    {
     "data": {
      "text/plain": [
       "2"
      ]
     },
     "execution_count": 36,
     "metadata": {},
     "output_type": "execute_result"
    }
   ],
   "source": [
    "# find index of minimum value in array_random\n",
    "array_random.argmin()"
   ]
  },
  {
   "cell_type": "code",
   "execution_count": 37,
   "id": "a03aaf9f",
   "metadata": {},
   "outputs": [
    {
     "data": {
      "text/plain": [
       "1"
      ]
     },
     "execution_count": 37,
     "metadata": {},
     "output_type": "execute_result"
    }
   ],
   "source": [
    "# find index of maximum value in array_random\n",
    "array_random.argmax()"
   ]
  },
  {
   "cell_type": "markdown",
   "id": "e371cc39",
   "metadata": {},
   "source": [
    "## Shapes"
   ]
  },
  {
   "cell_type": "code",
   "execution_count": 38,
   "id": "0261ac91",
   "metadata": {},
   "outputs": [],
   "source": [
    "# import relevant libraries\n",
    "import numpy as np"
   ]
  },
  {
   "cell_type": "code",
   "execution_count": 39,
   "id": "d28e7588",
   "metadata": {},
   "outputs": [],
   "source": [
    "array0 = np.array([])"
   ]
  },
  {
   "cell_type": "code",
   "execution_count": 40,
   "id": "f6b23567",
   "metadata": {},
   "outputs": [
    {
     "data": {
      "text/plain": [
       "(0,)"
      ]
     },
     "execution_count": 40,
     "metadata": {},
     "output_type": "execute_result"
    }
   ],
   "source": [
    "# find the shape of array0\n",
    "array0.shape"
   ]
  },
  {
   "cell_type": "code",
   "execution_count": 41,
   "id": "545cfd0c",
   "metadata": {},
   "outputs": [
    {
     "data": {
      "text/plain": [
       "(0,)"
      ]
     },
     "execution_count": 41,
     "metadata": {},
     "output_type": "execute_result"
    }
   ],
   "source": [
    "# find the shape of array0\n",
    "array0.shape\n"
   ]
  },
  {
   "cell_type": "code",
   "execution_count": 42,
   "id": "9fa45d6a",
   "metadata": {},
   "outputs": [],
   "source": [
    "array1 = np.array([1, 2, 3, 4, 5])"
   ]
  },
  {
   "cell_type": "code",
   "execution_count": 43,
   "id": "a4766646",
   "metadata": {},
   "outputs": [
    {
     "data": {
      "text/plain": [
       "(5,)"
      ]
     },
     "execution_count": 43,
     "metadata": {},
     "output_type": "execute_result"
    }
   ],
   "source": [
    "# find the shape of array1\n",
    "array1.shape"
   ]
  },
  {
   "cell_type": "code",
   "execution_count": 44,
   "id": "78ade2be",
   "metadata": {},
   "outputs": [],
   "source": [
    "array2 = np.array([[1, 2, 3], [4, 5, 6], [7, 8, 9]])"
   ]
  },
  {
   "cell_type": "code",
   "execution_count": 45,
   "id": "6443017e",
   "metadata": {},
   "outputs": [
    {
     "data": {
      "text/plain": [
       "(3, 3)"
      ]
     },
     "execution_count": 45,
     "metadata": {},
     "output_type": "execute_result"
    }
   ],
   "source": [
    "# find the shape of array2\n",
    "array2.shape"
   ]
  },
  {
   "cell_type": "code",
   "execution_count": 46,
   "id": "d9bb7554",
   "metadata": {},
   "outputs": [],
   "source": [
    "array_zeros = np.zeros((4, 5))"
   ]
  },
  {
   "cell_type": "code",
   "execution_count": 47,
   "id": "5184e861",
   "metadata": {},
   "outputs": [
    {
     "data": {
      "text/plain": [
       "(4, 5)"
      ]
     },
     "execution_count": 47,
     "metadata": {},
     "output_type": "execute_result"
    }
   ],
   "source": [
    "# find the shape of array_zeros\n",
    "array_zeros.shape"
   ]
  },
  {
   "cell_type": "code",
   "execution_count": 48,
   "id": "69151d95",
   "metadata": {},
   "outputs": [],
   "source": [
    "array_ones = np.ones((3, 6))"
   ]
  },
  {
   "cell_type": "code",
   "execution_count": 49,
   "id": "7108182e",
   "metadata": {},
   "outputs": [
    {
     "data": {
      "text/plain": [
       "(3, 6)"
      ]
     },
     "execution_count": 49,
     "metadata": {},
     "output_type": "execute_result"
    }
   ],
   "source": [
    "# find the shape of array_ones\n",
    "array_ones.shape"
   ]
  },
  {
   "cell_type": "code",
   "execution_count": 50,
   "id": "411ed882",
   "metadata": {},
   "outputs": [
    {
     "data": {
      "text/plain": [
       "array([10, 44, 14, 24, 10, 38, 49,  1, 10, 14, 10, 33, 30, 48, 20, 19, 32,\n",
       "       30,  3, 19, 26, 21,  2, 40,  8])"
      ]
     },
     "execution_count": 50,
     "metadata": {},
     "output_type": "execute_result"
    }
   ],
   "source": [
    "array_r0 = np.random.randint(1, 50, 25)\n",
    "array_r0"
   ]
  },
  {
   "cell_type": "code",
   "execution_count": 51,
   "id": "e819c74a",
   "metadata": {},
   "outputs": [
    {
     "data": {
      "text/plain": [
       "(25,)"
      ]
     },
     "execution_count": 51,
     "metadata": {},
     "output_type": "execute_result"
    }
   ],
   "source": [
    "# find the shape of array_r0\n",
    "array_r0.shape"
   ]
  },
  {
   "cell_type": "code",
   "execution_count": 52,
   "id": "3daf3af8",
   "metadata": {},
   "outputs": [
    {
     "data": {
      "text/plain": [
       "array([[10, 44, 14, 24, 10],\n",
       "       [38, 49,  1, 10, 14],\n",
       "       [10, 33, 30, 48, 20],\n",
       "       [19, 32, 30,  3, 19],\n",
       "       [26, 21,  2, 40,  8]])"
      ]
     },
     "execution_count": 52,
     "metadata": {},
     "output_type": "execute_result"
    }
   ],
   "source": [
    "# reshape array_r0 \n",
    "# to create a new multi-dimensional numpy array \n",
    "# containing array_r0's items with 5 rows & 5 columns\n",
    "array_r0.reshape((5, 5))"
   ]
  },
  {
   "cell_type": "code",
   "execution_count": 53,
   "id": "e8a32c93",
   "metadata": {},
   "outputs": [
    {
     "data": {
      "text/plain": [
       "array([10, 44, 14, 24, 10, 38, 49,  1, 10, 14, 10, 33, 30, 48, 20, 19, 32,\n",
       "       30,  3, 19, 26, 21,  2, 40,  8])"
      ]
     },
     "execution_count": 53,
     "metadata": {},
     "output_type": "execute_result"
    }
   ],
   "source": [
    "# note that array_r0 itself was not modified\n",
    "array_r0"
   ]
  },
  {
   "cell_type": "code",
   "execution_count": 54,
   "id": "e21a85e1",
   "metadata": {},
   "outputs": [
    {
     "data": {
      "text/plain": [
       "array([17, 35, 39, 27,  9, 15, 19, 20, 43, 14, 46, 18, 17, 36, 41, 33,  5,\n",
       "        2, 25, 11])"
      ]
     },
     "execution_count": 54,
     "metadata": {},
     "output_type": "execute_result"
    }
   ],
   "source": [
    "array_r1 = np.random.randint(1, 50, 20)\n",
    "array_r1"
   ]
  },
  {
   "cell_type": "code",
   "execution_count": 55,
   "id": "34a19347",
   "metadata": {},
   "outputs": [
    {
     "data": {
      "text/plain": [
       "(20,)"
      ]
     },
     "execution_count": 55,
     "metadata": {},
     "output_type": "execute_result"
    }
   ],
   "source": [
    "# find the shape of array_r1\n",
    "array_r1.shape"
   ]
  },
  {
   "cell_type": "code",
   "execution_count": 56,
   "id": "27a4b05e",
   "metadata": {},
   "outputs": [
    {
     "data": {
      "text/plain": [
       "array([[17, 35],\n",
       "       [39, 27],\n",
       "       [ 9, 15],\n",
       "       [19, 20],\n",
       "       [43, 14],\n",
       "       [46, 18],\n",
       "       [17, 36],\n",
       "       [41, 33],\n",
       "       [ 5,  2],\n",
       "       [25, 11]])"
      ]
     },
     "execution_count": 56,
     "metadata": {},
     "output_type": "execute_result"
    }
   ],
   "source": [
    "# reshape array_r1\n",
    "# to create a new multi-dimensional numpy array containing array_r1's items \n",
    "# with 10 rows & 2 columns\n",
    "array_r1.reshape((10, 2))"
   ]
  },
  {
   "cell_type": "code",
   "execution_count": 57,
   "id": "439d1f0c",
   "metadata": {},
   "outputs": [
    {
     "data": {
      "text/plain": [
       "array([[17, 35, 39, 27,  9, 15, 19, 20, 43, 14],\n",
       "       [46, 18, 17, 36, 41, 33,  5,  2, 25, 11]])"
      ]
     },
     "execution_count": 57,
     "metadata": {},
     "output_type": "execute_result"
    }
   ],
   "source": [
    "# reshape array_r1\n",
    "# to create a new multi-dimensional numpy array containing array_r1's items \n",
    "# with 2 rows & 10 columns\n",
    "array_r1.reshape((2, 10))"
   ]
  },
  {
   "cell_type": "code",
   "execution_count": 58,
   "id": "b57c2217",
   "metadata": {},
   "outputs": [
    {
     "data": {
      "text/plain": [
       "array([[17, 35, 39, 27,  9],\n",
       "       [15, 19, 20, 43, 14],\n",
       "       [46, 18, 17, 36, 41],\n",
       "       [33,  5,  2, 25, 11]])"
      ]
     },
     "execution_count": 58,
     "metadata": {},
     "output_type": "execute_result"
    }
   ],
   "source": [
    "# reshape array_r1\n",
    "# to create a new multi-dimensional numpy array containing array_r1's items \n",
    "# with 4 rows & 5 columns\n",
    "array_r1.reshape((4, 5))"
   ]
  },
  {
   "cell_type": "code",
   "execution_count": 59,
   "id": "abdf1af3",
   "metadata": {},
   "outputs": [
    {
     "data": {
      "text/plain": [
       "array([[17, 35, 39, 27],\n",
       "       [ 9, 15, 19, 20],\n",
       "       [43, 14, 46, 18],\n",
       "       [17, 36, 41, 33],\n",
       "       [ 5,  2, 25, 11]])"
      ]
     },
     "execution_count": 59,
     "metadata": {},
     "output_type": "execute_result"
    }
   ],
   "source": [
    "# reshape array_r1\n",
    "# to create a new multi-dimensional numpy array containing array_r1's items \n",
    "# with 5 rows & 4 columns\n",
    "array_r1.reshape((5, 4))"
   ]
  },
  {
   "cell_type": "code",
   "execution_count": 60,
   "id": "b0e2882e",
   "metadata": {},
   "outputs": [
    {
     "data": {
      "text/plain": [
       "array([17, 35, 39, 27,  9, 15, 19, 20, 43, 14, 46, 18, 17, 36, 41, 33,  5,\n",
       "        2, 25, 11])"
      ]
     },
     "execution_count": 60,
     "metadata": {},
     "output_type": "execute_result"
    }
   ],
   "source": [
    "# note that array_r1 itself was not modified\n",
    "array_r1"
   ]
  },
  {
   "cell_type": "code",
   "execution_count": 61,
   "id": "521f2d06",
   "metadata": {},
   "outputs": [
    {
     "data": {
      "text/plain": [
       "array([[10, 23, 34, 27],\n",
       "       [14, 15, 33,  8],\n",
       "       [31, 46, 36, 46],\n",
       "       [ 3,  8,  2, 23]])"
      ]
     },
     "execution_count": 61,
     "metadata": {},
     "output_type": "execute_result"
    }
   ],
   "source": [
    "array_r2 = np.random.randint(1, 50, (4, 4))\n",
    "array_r2"
   ]
  },
  {
   "cell_type": "code",
   "execution_count": 62,
   "id": "cc34dbe6",
   "metadata": {},
   "outputs": [
    {
     "data": {
      "text/plain": [
       "(4, 4)"
      ]
     },
     "execution_count": 62,
     "metadata": {},
     "output_type": "execute_result"
    }
   ],
   "source": [
    "# find the shape of array_r2\n",
    "array_r2.shape"
   ]
  },
  {
   "cell_type": "code",
   "execution_count": 63,
   "id": "a557694f",
   "metadata": {},
   "outputs": [
    {
     "data": {
      "text/plain": [
       "array([10, 23, 34, 27, 14, 15, 33,  8, 31, 46, 36, 46,  3,  8,  2, 23])"
      ]
     },
     "execution_count": 63,
     "metadata": {},
     "output_type": "execute_result"
    }
   ],
   "source": [
    "# reshape array_r2 \n",
    "# to create a new one-dimensional numpy array containing array_r2's items \n",
    "# with length 16\n",
    "array_r2.reshape(16)"
   ]
  },
  {
   "cell_type": "code",
   "execution_count": 64,
   "id": "6d6778b6",
   "metadata": {},
   "outputs": [
    {
     "data": {
      "text/plain": [
       "array([[10, 23, 34, 27],\n",
       "       [14, 15, 33,  8],\n",
       "       [31, 46, 36, 46],\n",
       "       [ 3,  8,  2, 23]])"
      ]
     },
     "execution_count": 64,
     "metadata": {},
     "output_type": "execute_result"
    }
   ],
   "source": [
    "# note that array_r2 itself was not modified\n",
    "array_r2"
   ]
  },
  {
   "cell_type": "markdown",
   "id": "b518680d",
   "metadata": {},
   "source": [
    "## Groups numpy"
   ]
  },
  {
   "cell_type": "code",
   "execution_count": 65,
   "id": "96ac3683",
   "metadata": {},
   "outputs": [
    {
     "data": {
      "text/plain": [
       "array([0, 1, 2, 3, 4])"
      ]
     },
     "execution_count": 65,
     "metadata": {},
     "output_type": "execute_result"
    }
   ],
   "source": [
    "# initialize array0 \n",
    "# as a one-dimensional numpy array containing integers 0 to 4 including 0 and 4\n",
    "array0 = np.arange(5)\n",
    "array0"
   ]
  },
  {
   "cell_type": "code",
   "execution_count": 66,
   "id": "28797f15",
   "metadata": {},
   "outputs": [
    {
     "data": {
      "text/plain": [
       "1"
      ]
     },
     "execution_count": 66,
     "metadata": {},
     "output_type": "execute_result"
    }
   ],
   "source": [
    "# select the item at index 1 from array0\n",
    "array0[1]"
   ]
  },
  {
   "cell_type": "code",
   "execution_count": 67,
   "id": "840d34e4",
   "metadata": {},
   "outputs": [
    {
     "data": {
      "text/plain": [
       "array([1, 2, 3])"
      ]
     },
     "execution_count": 67,
     "metadata": {},
     "output_type": "execute_result"
    }
   ],
   "source": [
    "# select the items at indices 1 to 3 inclusive from array0\n",
    "array0[1:4]"
   ]
  },
  {
   "cell_type": "code",
   "execution_count": 68,
   "id": "7aae35af",
   "metadata": {},
   "outputs": [
    {
     "data": {
      "text/plain": [
       "array([0, 1, 2, 3])"
      ]
     },
     "execution_count": 68,
     "metadata": {},
     "output_type": "execute_result"
    }
   ],
   "source": [
    "# select the items at indices 0 to 3 inclusive from array0\n",
    "array0[:4]"
   ]
  },
  {
   "cell_type": "code",
   "execution_count": 69,
   "id": "5eda87fa",
   "metadata": {},
   "outputs": [
    {
     "data": {
      "text/plain": [
       "array([3, 4])"
      ]
     },
     "execution_count": 69,
     "metadata": {},
     "output_type": "execute_result"
    }
   ],
   "source": [
    "# select the items starting at index 3 until the end of array0\n",
    "array0[3:]"
   ]
  },
  {
   "cell_type": "code",
   "execution_count": 70,
   "id": "50f34275",
   "metadata": {},
   "outputs": [
    {
     "data": {
      "text/plain": [
       "array([[1, 2, 3],\n",
       "       [4, 5, 6],\n",
       "       [7, 8, 9]])"
      ]
     },
     "execution_count": 70,
     "metadata": {},
     "output_type": "execute_result"
    }
   ],
   "source": [
    "# initialize array1 as a three-dimensional numpy array\n",
    "array1 = np.array([[1, 2, 3], [4, 5, 6], [7, 8, 9]])\n",
    "array1"
   ]
  },
  {
   "cell_type": "code",
   "execution_count": 71,
   "id": "9c5c9c45",
   "metadata": {},
   "outputs": [
    {
     "data": {
      "text/plain": [
       "1"
      ]
     },
     "execution_count": 71,
     "metadata": {},
     "output_type": "execute_result"
    }
   ],
   "source": [
    "# select the item in row 0 column 0 from array1 using double bracket notation\n",
    "array1[0][0]"
   ]
  },
  {
   "cell_type": "code",
   "execution_count": 72,
   "id": "b4a803fc",
   "metadata": {},
   "outputs": [
    {
     "data": {
      "text/plain": [
       "1"
      ]
     },
     "execution_count": 72,
     "metadata": {},
     "output_type": "execute_result"
    }
   ],
   "source": [
    "# select the item in row 0 column 0 from array1 using single bracket notation\n",
    "array1[0, 0]"
   ]
  },
  {
   "cell_type": "code",
   "execution_count": 73,
   "id": "93b3d870",
   "metadata": {},
   "outputs": [
    {
     "data": {
      "text/plain": [
       "6"
      ]
     },
     "execution_count": 73,
     "metadata": {},
     "output_type": "execute_result"
    }
   ],
   "source": [
    "# select the item in row 1 column 2 from array1 using double bracket notation\n",
    "array1[1][2]"
   ]
  },
  {
   "cell_type": "code",
   "execution_count": 74,
   "id": "fa0a41c7",
   "metadata": {},
   "outputs": [
    {
     "data": {
      "text/plain": [
       "6"
      ]
     },
     "execution_count": 74,
     "metadata": {},
     "output_type": "execute_result"
    }
   ],
   "source": [
    "# select the item in row 1 column 2 from array1 using single bracket notation\n",
    "array1[1, 2]"
   ]
  },
  {
   "cell_type": "code",
   "execution_count": 75,
   "id": "1a889ab4",
   "metadata": {},
   "outputs": [
    {
     "data": {
      "text/plain": [
       "array([[1, 2]])"
      ]
     },
     "execution_count": 75,
     "metadata": {},
     "output_type": "execute_result"
    }
   ],
   "source": [
    "# select first two items from row 0 of array1\n",
    "array1[:1, :2]"
   ]
  },
  {
   "cell_type": "code",
   "execution_count": 76,
   "id": "761cae61",
   "metadata": {},
   "outputs": [
    {
     "data": {
      "text/plain": [
       "array([[1, 2],\n",
       "       [4, 5]])"
      ]
     },
     "execution_count": 76,
     "metadata": {},
     "output_type": "execute_result"
    }
   ],
   "source": [
    "# select first two items from every row until row 1 inclusive from array1\n",
    "array1[:2, :2]"
   ]
  },
  {
   "cell_type": "code",
   "execution_count": 77,
   "id": "d4fc7f8b",
   "metadata": {},
   "outputs": [
    {
     "data": {
      "text/plain": [
       "array([[1, 2],\n",
       "       [4, 5],\n",
       "       [7, 8]])"
      ]
     },
     "execution_count": 77,
     "metadata": {},
     "output_type": "execute_result"
    }
   ],
   "source": [
    "# select first two items from each row of array1\n",
    "array1[:, :2]"
   ]
  },
  {
   "cell_type": "code",
   "execution_count": 78,
   "id": "23f53e85",
   "metadata": {},
   "outputs": [
    {
     "data": {
      "text/plain": [
       "array([1, 2, 3])"
      ]
     },
     "execution_count": 78,
     "metadata": {},
     "output_type": "execute_result"
    }
   ],
   "source": [
    "# select row 0 from array1\n",
    "array1[0]"
   ]
  },
  {
   "cell_type": "code",
   "execution_count": 79,
   "id": "5f9f00fd",
   "metadata": {},
   "outputs": [
    {
     "data": {
      "text/plain": [
       "array([[1, 2, 3],\n",
       "       [4, 5, 6]])"
      ]
     },
     "execution_count": 79,
     "metadata": {},
     "output_type": "execute_result"
    }
   ],
   "source": [
    "# select everything before row 2 from array1\n",
    "array1[:2]"
   ]
  },
  {
   "cell_type": "code",
   "execution_count": 80,
   "id": "ad45afc2",
   "metadata": {},
   "outputs": [
    {
     "data": {
      "text/plain": [
       "array([ 0,  2,  4,  6,  8, 10, 12, 14, 16, 18, 20])"
      ]
     },
     "execution_count": 80,
     "metadata": {},
     "output_type": "execute_result"
    }
   ],
   "source": [
    "# initialize array2 \n",
    "# as a one-dimensional numpy array containing all even integers between 0 and 20 inclusive\n",
    "array2 = np.arange(0, 21, 2)\n",
    "array2"
   ]
  },
  {
   "cell_type": "code",
   "execution_count": 81,
   "id": "c071d369",
   "metadata": {},
   "outputs": [
    {
     "data": {
      "text/plain": [
       "array([12, 14, 16, 18, 20])"
      ]
     },
     "execution_count": 81,
     "metadata": {},
     "output_type": "execute_result"
    }
   ],
   "source": [
    "# select the items from array2 that are greater than or equal to 12\n",
    "array2[array2 >= 12]"
   ]
  },
  {
   "cell_type": "code",
   "execution_count": 82,
   "id": "bd3e8faf",
   "metadata": {},
   "outputs": [
    {
     "data": {
      "text/plain": [
       "array([ 8, 10, 12])"
      ]
     },
     "execution_count": 82,
     "metadata": {},
     "output_type": "execute_result"
    }
   ],
   "source": [
    "# select the items from array2 that are greater than 7 and less than 13\n",
    "array2[(array2 > 7) & (array2 < 13)]"
   ]
  },
  {
   "cell_type": "markdown",
   "id": "4d9aadaa",
   "metadata": {},
   "source": [
    "## Arithmetic"
   ]
  },
  {
   "cell_type": "code",
   "execution_count": 83,
   "id": "c3df783a",
   "metadata": {},
   "outputs": [
    {
     "data": {
      "text/plain": [
       "array([ 1,  3,  5,  7,  9, 11, 13, 15, 17, 19])"
      ]
     },
     "execution_count": 83,
     "metadata": {},
     "output_type": "execute_result"
    }
   ],
   "source": [
    "# initialize arrayA as a one-dimensional numpy array\n",
    "# containing the odd integers between 1 and 20 inclusive\n",
    "arrayA = np.arange(1, 21, 2)\n",
    "arrayA"
   ]
  },
  {
   "cell_type": "code",
   "execution_count": 84,
   "id": "03e2b03c",
   "metadata": {},
   "outputs": [
    {
     "data": {
      "text/plain": [
       "array([ 1,  2,  3,  4,  5,  6,  7,  8,  9, 10])"
      ]
     },
     "execution_count": 84,
     "metadata": {},
     "output_type": "execute_result"
    }
   ],
   "source": [
    "# initialize arrayB as a one-dimensional numpy array \n",
    "# containing the integers 1 to 10 inclusive\n",
    "arrayB = np.arange(1, 11)\n",
    "arrayB"
   ]
  },
  {
   "cell_type": "code",
   "execution_count": 85,
   "id": "1c462b59",
   "metadata": {},
   "outputs": [
    {
     "data": {
      "text/plain": [
       "array([ 2,  5,  8, 11, 14, 17, 20, 23, 26, 29])"
      ]
     },
     "execution_count": 85,
     "metadata": {},
     "output_type": "execute_result"
    }
   ],
   "source": [
    "# add each element of arrayA to each corresponding element of arrayB,\n",
    "# creating a new numpy array\n",
    "arrayA + arrayB"
   ]
  },
  {
   "cell_type": "code",
   "execution_count": 86,
   "id": "c4dd1dbf",
   "metadata": {},
   "outputs": [
    {
     "data": {
      "text/plain": [
       "array([0, 1, 2, 3, 4, 5, 6, 7, 8, 9])"
      ]
     },
     "execution_count": 86,
     "metadata": {},
     "output_type": "execute_result"
    }
   ],
   "source": [
    "# subtract each element of arrayB from each corresponding element from arrayA,\n",
    "# creating a new numpy array\n",
    "arrayA - arrayB"
   ]
  },
  {
   "cell_type": "code",
   "execution_count": 87,
   "id": "a729af45",
   "metadata": {},
   "outputs": [
    {
     "data": {
      "text/plain": [
       "array([  1,   6,  15,  28,  45,  66,  91, 120, 153, 190])"
      ]
     },
     "execution_count": 87,
     "metadata": {},
     "output_type": "execute_result"
    }
   ],
   "source": [
    "# multiply each element of arrayA by each corresponding element of arrayB,\n",
    "# creating a new numpy array\n",
    "arrayA * arrayB"
   ]
  },
  {
   "cell_type": "code",
   "execution_count": 88,
   "id": "537f0741",
   "metadata": {},
   "outputs": [
    {
     "data": {
      "text/plain": [
       "array([1.        , 1.5       , 1.66666667, 1.75      , 1.8       ,\n",
       "       1.83333333, 1.85714286, 1.875     , 1.88888889, 1.9       ])"
      ]
     },
     "execution_count": 88,
     "metadata": {},
     "output_type": "execute_result"
    }
   ],
   "source": [
    "# divide each element of arrayA by each corresponding element of arrayB,\n",
    "# creating a new numpy array\n",
    "arrayA / arrayB"
   ]
  },
  {
   "cell_type": "code",
   "execution_count": 89,
   "id": "4f3a8a57",
   "metadata": {},
   "outputs": [
    {
     "data": {
      "text/plain": [
       "array([[1, 2, 3],\n",
       "       [4, 5, 6]])"
      ]
     },
     "execution_count": 89,
     "metadata": {},
     "output_type": "execute_result"
    }
   ],
   "source": [
    "# initialize arrayC as a multi-dimensional numpy array with 2 rows and 3 columns\n",
    "arrayC = np.array([[1, 2, 3], [4, 5, 6]])\n",
    "arrayC"
   ]
  },
  {
   "cell_type": "code",
   "execution_count": 90,
   "id": "924fec3b",
   "metadata": {},
   "outputs": [
    {
     "data": {
      "text/plain": [
       "array([[ 7,  8,  9],\n",
       "       [10, 11, 12]])"
      ]
     },
     "execution_count": 90,
     "metadata": {},
     "output_type": "execute_result"
    }
   ],
   "source": [
    "# initialize arrayD as another multi-dimensional numpy array with 2 rows and 3 columns\n",
    "arrayD = np.array([[7, 8, 9], [10, 11, 12]])\n",
    "arrayD"
   ]
  },
  {
   "cell_type": "code",
   "execution_count": 91,
   "id": "a8c85e8f",
   "metadata": {},
   "outputs": [
    {
     "data": {
      "text/plain": [
       "array([[ 8, 10, 12],\n",
       "       [14, 16, 18]])"
      ]
     },
     "execution_count": 91,
     "metadata": {},
     "output_type": "execute_result"
    }
   ],
   "source": [
    "# add each element of arrayC to each corresponding element of arrayD,\n",
    "# creating a new numpy array\n",
    "arrayC + arrayD"
   ]
  },
  {
   "cell_type": "code",
   "execution_count": 92,
   "id": "6f891093",
   "metadata": {},
   "outputs": [
    {
     "data": {
      "text/plain": [
       "array([[-6, -6, -6],\n",
       "       [-6, -6, -6]])"
      ]
     },
     "execution_count": 92,
     "metadata": {},
     "output_type": "execute_result"
    }
   ],
   "source": [
    "# subtract each element of arrayD from each corresponding element from arrayC,\n",
    "# creating a new numpy array\n",
    "arrayC - arrayD"
   ]
  },
  {
   "cell_type": "code",
   "execution_count": 93,
   "id": "a3583689",
   "metadata": {},
   "outputs": [
    {
     "data": {
      "text/plain": [
       "array([[ 7, 16, 27],\n",
       "       [40, 55, 72]])"
      ]
     },
     "execution_count": 93,
     "metadata": {},
     "output_type": "execute_result"
    }
   ],
   "source": [
    "# multiply each element of arrayC by each corresponding element of arrayD,\n",
    "# creating a new numpy array\n",
    "arrayC * arrayD"
   ]
  },
  {
   "cell_type": "code",
   "execution_count": 94,
   "id": "c02fc29d",
   "metadata": {},
   "outputs": [
    {
     "data": {
      "text/plain": [
       "array([[0.14285714, 0.25      , 0.33333333],\n",
       "       [0.4       , 0.45454545, 0.5       ]])"
      ]
     },
     "execution_count": 94,
     "metadata": {},
     "output_type": "execute_result"
    }
   ],
   "source": [
    "# divide each element of arrayC by each corresponding element of arrayD,\n",
    "# creating a new numpy array\n",
    "arrayC / arrayD"
   ]
  },
  {
   "cell_type": "markdown",
   "id": "21bdd1f4",
   "metadata": {},
   "source": [
    "## Scalar Numpy"
   ]
  },
  {
   "cell_type": "code",
   "execution_count": 96,
   "id": "0418b436",
   "metadata": {},
   "outputs": [
    {
     "data": {
      "text/plain": [
       "array([ 2,  4,  6,  8, 10, 12, 14, 16, 18, 20])"
      ]
     },
     "execution_count": 96,
     "metadata": {},
     "output_type": "execute_result"
    }
   ],
   "source": [
    "# initialize arrayA as a one-dimensional numpy array \n",
    "# containing the even integers between 2 and 20 inclusive\n",
    "arrayA = np.arange(2, 21, 2)\n",
    "arrayA"
   ]
  },
  {
   "cell_type": "code",
   "execution_count": 97,
   "id": "643562db",
   "metadata": {},
   "outputs": [
    {
     "data": {
      "text/plain": [
       "array([ 5,  7,  9, 11, 13, 15, 17, 19, 21, 23])"
      ]
     },
     "execution_count": 97,
     "metadata": {},
     "output_type": "execute_result"
    }
   ],
   "source": [
    "# add 3 to each element of arrayA, creating a new numpy array\n",
    "arrayA + 3"
   ]
  },
  {
   "cell_type": "code",
   "execution_count": 98,
   "id": "f0a694c0",
   "metadata": {},
   "outputs": [
    {
     "data": {
      "text/plain": [
       "array([-2,  0,  2,  4,  6,  8, 10, 12, 14, 16])"
      ]
     },
     "execution_count": 98,
     "metadata": {},
     "output_type": "execute_result"
    }
   ],
   "source": [
    "# subtract 4 from each element of arrayA, creating a new numpy array\n",
    "arrayA - 4"
   ]
  },
  {
   "cell_type": "code",
   "execution_count": 99,
   "id": "ac775775",
   "metadata": {},
   "outputs": [
    {
     "data": {
      "text/plain": [
       "array([ 10,  20,  30,  40,  50,  60,  70,  80,  90, 100])"
      ]
     },
     "execution_count": 99,
     "metadata": {},
     "output_type": "execute_result"
    }
   ],
   "source": [
    "# multiply each element of arrayA by 5, creating a new numpy array\n",
    "arrayA * 5"
   ]
  },
  {
   "cell_type": "code",
   "execution_count": 100,
   "id": "dcaea41a",
   "metadata": {},
   "outputs": [
    {
     "data": {
      "text/plain": [
       "array([ 1.,  2.,  3.,  4.,  5.,  6.,  7.,  8.,  9., 10.])"
      ]
     },
     "execution_count": 100,
     "metadata": {},
     "output_type": "execute_result"
    }
   ],
   "source": [
    "# divide each element of arrayA by 2, creating a new numpy array\n",
    "arrayA / 2"
   ]
  },
  {
   "cell_type": "code",
   "execution_count": 101,
   "id": "08e9c793",
   "metadata": {},
   "outputs": [
    {
     "data": {
      "text/plain": [
       "array([[1, 2, 3],\n",
       "       [4, 5, 6]])"
      ]
     },
     "execution_count": 101,
     "metadata": {},
     "output_type": "execute_result"
    }
   ],
   "source": [
    "# initialize arrayB as a multi-dimensional numpy array with 2 rows and 3 columns\n",
    "arrayB = np.array([[1, 2, 3], [4, 5, 6]])\n",
    "arrayB"
   ]
  },
  {
   "cell_type": "code",
   "execution_count": 102,
   "id": "5c174445",
   "metadata": {},
   "outputs": [
    {
     "data": {
      "text/plain": [
       "array([[4, 5, 6],\n",
       "       [7, 8, 9]])"
      ]
     },
     "execution_count": 102,
     "metadata": {},
     "output_type": "execute_result"
    }
   ],
   "source": [
    "# add 3 to each element of arrayB, creating a new numpy array\n",
    "arrayB + 3"
   ]
  },
  {
   "cell_type": "code",
   "execution_count": 103,
   "id": "6ce0e255",
   "metadata": {},
   "outputs": [
    {
     "data": {
      "text/plain": [
       "array([[ 5, 10, 15],\n",
       "       [20, 25, 30]])"
      ]
     },
     "execution_count": 103,
     "metadata": {},
     "output_type": "execute_result"
    }
   ],
   "source": [
    "# multiply each element of arrayB by 5, creating a new numpy array\n",
    "arrayB * 5"
   ]
  },
  {
   "cell_type": "code",
   "execution_count": 104,
   "id": "935ac587",
   "metadata": {},
   "outputs": [
    {
     "data": {
      "text/plain": [
       "array([[0.5, 1. , 1.5],\n",
       "       [2. , 2.5, 3. ]])"
      ]
     },
     "execution_count": 104,
     "metadata": {},
     "output_type": "execute_result"
    }
   ],
   "source": [
    "# divide each element of arrayB by 2, creating a new numpy array\n",
    "arrayB / 2"
   ]
  },
  {
   "cell_type": "markdown",
   "id": "0db3fbf2",
   "metadata": {},
   "source": [
    "## statistical"
   ]
  },
  {
   "cell_type": "code",
   "execution_count": 105,
   "id": "0e54e4f1",
   "metadata": {},
   "outputs": [],
   "source": [
    "# initialize arrayA as a numpy array \n",
    "# representing the scores of participants in a competition\n",
    "scores = np.random.randint(50, 101, 200)"
   ]
  },
  {
   "cell_type": "code",
   "execution_count": 106,
   "id": "cf41d414",
   "metadata": {},
   "outputs": [
    {
     "data": {
      "text/plain": [
       "73.0"
      ]
     },
     "execution_count": 106,
     "metadata": {},
     "output_type": "execute_result"
    }
   ],
   "source": [
    "# compute the median of scores\n",
    "np.median(scores)"
   ]
  },
  {
   "cell_type": "code",
   "execution_count": 107,
   "id": "2f3c3a5c",
   "metadata": {},
   "outputs": [
    {
     "data": {
      "text/plain": [
       "74.105"
      ]
     },
     "execution_count": 107,
     "metadata": {},
     "output_type": "execute_result"
    }
   ],
   "source": [
    "# compute the mean of scores\n",
    "np.mean(scores)"
   ]
  },
  {
   "cell_type": "code",
   "execution_count": 108,
   "id": "8b07b582",
   "metadata": {},
   "outputs": [
    {
     "data": {
      "text/plain": [
       "217.233975"
      ]
     },
     "execution_count": 108,
     "metadata": {},
     "output_type": "execute_result"
    }
   ],
   "source": [
    "# compute the variance of scores\n",
    "np.var(scores)"
   ]
  },
  {
   "cell_type": "code",
   "execution_count": 109,
   "id": "68796b99",
   "metadata": {},
   "outputs": [
    {
     "data": {
      "text/plain": [
       "14.738859352066562"
      ]
     },
     "execution_count": 109,
     "metadata": {},
     "output_type": "execute_result"
    }
   ],
   "source": [
    "# compute the standard deviation of scores\n",
    "np.std(scores)"
   ]
  },
  {
   "cell_type": "markdown",
   "id": "46a925ec",
   "metadata": {},
   "source": [
    "## Other functions"
   ]
  },
  {
   "cell_type": "code",
   "execution_count": 110,
   "id": "8d00102c",
   "metadata": {},
   "outputs": [
    {
     "data": {
      "text/plain": [
       "array([0, 1, 2, 3, 4, 5])"
      ]
     },
     "execution_count": 110,
     "metadata": {},
     "output_type": "execute_result"
    }
   ],
   "source": [
    "# initialize arrayA as a one-dimensional numpy array \n",
    "# containing the integers 0 to 5 inclusive\n",
    "arrayA = np.arange(6)\n",
    "arrayA"
   ]
  },
  {
   "cell_type": "code",
   "execution_count": 111,
   "id": "b3a48d7e",
   "metadata": {},
   "outputs": [
    {
     "data": {
      "text/plain": [
       "array([ 0,  1,  4,  9, 16, 25], dtype=int32)"
      ]
     },
     "execution_count": 111,
     "metadata": {},
     "output_type": "execute_result"
    }
   ],
   "source": [
    "# compute the square of each item in arrayA,\n",
    "# creating a new numpy array\n",
    "np.square(arrayA)"
   ]
  },
  {
   "cell_type": "code",
   "execution_count": 112,
   "id": "aa6560e4",
   "metadata": {},
   "outputs": [],
   "source": [
    "# initialize arrayB as the following one-dimensional numpy array\n",
    "arrayB = np.array([36, 49, 64, 81, 100, 121, 144, 169, 196, 225])"
   ]
  },
  {
   "cell_type": "code",
   "execution_count": 113,
   "id": "55aad803",
   "metadata": {},
   "outputs": [
    {
     "data": {
      "text/plain": [
       "array([ 6.,  7.,  8.,  9., 10., 11., 12., 13., 14., 15.])"
      ]
     },
     "execution_count": 113,
     "metadata": {},
     "output_type": "execute_result"
    }
   ],
   "source": [
    "# compute the square root of each item in arrayB,\n",
    "# creating a new numpy array\n",
    "np.sqrt(arrayB)"
   ]
  },
  {
   "cell_type": "code",
   "execution_count": 114,
   "id": "310b6af8",
   "metadata": {},
   "outputs": [
    {
     "data": {
      "text/plain": [
       "array([  1.        ,   2.71828183,   7.3890561 ,  20.08553692,\n",
       "        54.59815003, 148.4131591 ])"
      ]
     },
     "execution_count": 114,
     "metadata": {},
     "output_type": "execute_result"
    }
   ],
   "source": [
    "# compute the exponential of each item in arrayA,\n",
    "# creating a new numpy array\n",
    "np.exp(arrayA)"
   ]
  },
  {
   "cell_type": "code",
   "execution_count": 115,
   "id": "00b2cd67",
   "metadata": {},
   "outputs": [
    {
     "data": {
      "text/plain": [
       "array([ 1,  2,  3,  4,  5,  6,  7,  8,  9, 10])"
      ]
     },
     "execution_count": 115,
     "metadata": {},
     "output_type": "execute_result"
    }
   ],
   "source": [
    "# initialize arrayC as a one-dimensional numpy array \n",
    "# containing the integers 1 to 11 inclusive\n",
    "arrayC = np.arange(1, 11)\n",
    "arrayC"
   ]
  },
  {
   "cell_type": "code",
   "execution_count": 116,
   "id": "0cf267cb",
   "metadata": {},
   "outputs": [
    {
     "data": {
      "text/plain": [
       "array([0.        , 0.69314718, 1.09861229, 1.38629436, 1.60943791,\n",
       "       1.79175947, 1.94591015, 2.07944154, 2.19722458, 2.30258509])"
      ]
     },
     "execution_count": 116,
     "metadata": {},
     "output_type": "execute_result"
    }
   ],
   "source": [
    "# compute the natural logarithm of each item in arrayC,\n",
    "# creating a new numpy array\n",
    "np.log(arrayC)"
   ]
  },
  {
   "cell_type": "code",
   "execution_count": 117,
   "id": "34256098",
   "metadata": {},
   "outputs": [],
   "source": [
    "# initialize arrayD as a one-dimensional numpy array\n",
    "# representing some angles in radians\n",
    "arrayD = np.array([0, np.pi/6, np.pi/4, np.pi/3, np.pi/2, 2*np.pi/3, 3*np.pi/4, 5*np.pi/6, np.pi/2])"
   ]
  },
  {
   "cell_type": "code",
   "execution_count": 118,
   "id": "fd8fa7c2",
   "metadata": {},
   "outputs": [
    {
     "data": {
      "text/plain": [
       "array([0.        , 0.5       , 0.70710678, 0.8660254 , 1.        ,\n",
       "       0.8660254 , 0.70710678, 0.5       , 1.        ])"
      ]
     },
     "execution_count": 118,
     "metadata": {},
     "output_type": "execute_result"
    }
   ],
   "source": [
    "# compute the sine of each item in arrayD,\n",
    "# creating a new numpy array\n",
    "np.sin(arrayD)"
   ]
  },
  {
   "cell_type": "code",
   "execution_count": 119,
   "id": "d69ea4dc",
   "metadata": {},
   "outputs": [
    {
     "data": {
      "text/plain": [
       "array([-10,  -9,  -8,  -7,  -6,  -5,  -4,  -3,  -2,  -1,   0,   1,   2,\n",
       "         3,   4,   5,   6,   7,   8,   9,  10])"
      ]
     },
     "execution_count": 119,
     "metadata": {},
     "output_type": "execute_result"
    }
   ],
   "source": [
    "# initialize arrayE as a one-dimensional numpy array containing the integers -10 to 10 inclusive\n",
    "arrayE = np.arange(-10, 11)\n",
    "arrayE"
   ]
  },
  {
   "cell_type": "code",
   "execution_count": 120,
   "id": "8f8e0b6d",
   "metadata": {},
   "outputs": [
    {
     "data": {
      "text/plain": [
       "array([10,  9,  8,  7,  6,  5,  4,  3,  2,  1,  0,  1,  2,  3,  4,  5,  6,\n",
       "        7,  8,  9, 10])"
      ]
     },
     "execution_count": 120,
     "metadata": {},
     "output_type": "execute_result"
    }
   ],
   "source": [
    "# compute the absolute value of each item in arrayE,\n",
    "# creating a new numpy array\n",
    "np.abs(arrayE)"
   ]
  },
  {
   "cell_type": "code",
   "execution_count": 121,
   "id": "0844f526",
   "metadata": {},
   "outputs": [
    {
     "data": {
      "text/plain": [
       "array([ 0,  1,  2,  3,  4,  5,  6,  7,  8,  9, 10, 11, 12, 13, 14, 15, 16,\n",
       "       17, 18, 19, 20])"
      ]
     },
     "execution_count": 121,
     "metadata": {},
     "output_type": "execute_result"
    }
   ],
   "source": [
    "# initialize arrayF as the following one-dimensional numpy array\n",
    "arrayF = np.arange(21)\n",
    "arrayF"
   ]
  },
  {
   "cell_type": "code",
   "execution_count": 122,
   "id": "8a57fca7",
   "metadata": {},
   "outputs": [
    {
     "data": {
      "text/plain": [
       "210"
      ]
     },
     "execution_count": 122,
     "metadata": {},
     "output_type": "execute_result"
    }
   ],
   "source": [
    "# compute the sum of all the items in arrayF\n",
    "np.sum(arrayF)"
   ]
  },
  {
   "cell_type": "code",
   "execution_count": 123,
   "id": "e975b947",
   "metadata": {},
   "outputs": [
    {
     "data": {
      "text/plain": [
       "array([[1, 2, 3],\n",
       "       [4, 5, 6],\n",
       "       [7, 8, 9]])"
      ]
     },
     "execution_count": 123,
     "metadata": {},
     "output_type": "execute_result"
    }
   ],
   "source": [
    "# initialize arrayG as the following multi-dimensional numpy array\n",
    "arrayG = np.array([[1, 2, 3], [4, 5, 6], [7, 8, 9]])\n",
    "arrayG"
   ]
  },
  {
   "cell_type": "code",
   "execution_count": 124,
   "id": "f86adf5d",
   "metadata": {},
   "outputs": [
    {
     "data": {
      "text/plain": [
       "45"
      ]
     },
     "execution_count": 124,
     "metadata": {},
     "output_type": "execute_result"
    }
   ],
   "source": [
    "# compute the sum of all the items in arrayG\n",
    "np.sum(arrayG)"
   ]
  },
  {
   "cell_type": "code",
   "execution_count": 125,
   "id": "d709f3cb",
   "metadata": {},
   "outputs": [
    {
     "data": {
      "text/plain": [
       "array([12, 15, 18])"
      ]
     },
     "execution_count": 125,
     "metadata": {},
     "output_type": "execute_result"
    }
   ],
   "source": [
    "# compute the sum of the items in each column of arrayG,\n",
    "# creating a new numpy array containing the sum for each column\n",
    "np.sum(arrayG, axis=0)"
   ]
  },
  {
   "cell_type": "code",
   "execution_count": 126,
   "id": "a65d7d8f",
   "metadata": {},
   "outputs": [
    {
     "data": {
      "text/plain": [
       "array([ 6, 15, 24])"
      ]
     },
     "execution_count": 126,
     "metadata": {},
     "output_type": "execute_result"
    }
   ],
   "source": [
    "# compute the sum of the items in each row of arrayG,\n",
    "# creating a new numpy array containing the sum for each row\n",
    "np.sum(arrayG, axis=1)"
   ]
  },
  {
   "cell_type": "markdown",
   "id": "a10e8e5f",
   "metadata": {},
   "source": [
    "# Chapter 4"
   ]
  },
  {
   "cell_type": "markdown",
   "id": "27278a73",
   "metadata": {},
   "source": [
    "## Linear algebra"
   ]
  },
  {
   "cell_type": "code",
   "execution_count": 127,
   "id": "63eb90af",
   "metadata": {},
   "outputs": [],
   "source": [
    "# import relevant libraries and modules\n",
    "import numpy as np\n",
    "from scipy import linalg"
   ]
  },
  {
   "cell_type": "code",
   "execution_count": 128,
   "id": "df4ca238",
   "metadata": {},
   "outputs": [
    {
     "data": {
      "text/plain": [
       "array([[1, 2],\n",
       "       [3, 4]])"
      ]
     },
     "execution_count": 128,
     "metadata": {},
     "output_type": "execute_result"
    }
   ],
   "source": [
    "# create a numpy array representing a 2 by 2 matrix & save in variable\n",
    "matrix2by2 = np.array([[1, 2],\n",
    "                       [3, 4]])\n",
    "matrix2by2"
   ]
  },
  {
   "cell_type": "code",
   "execution_count": 129,
   "id": "b461a1e9",
   "metadata": {},
   "outputs": [
    {
     "data": {
      "text/plain": [
       "-2.0"
      ]
     },
     "execution_count": 129,
     "metadata": {},
     "output_type": "execute_result"
    }
   ],
   "source": [
    "# compute determinant of matrix2by2\n",
    "linalg.det(matrix2by2)"
   ]
  },
  {
   "cell_type": "code",
   "execution_count": 130,
   "id": "330d94b0",
   "metadata": {},
   "outputs": [
    {
     "data": {
      "text/plain": [
       "array([[-2. ,  1. ],\n",
       "       [ 1.5, -0.5]])"
      ]
     },
     "execution_count": 130,
     "metadata": {},
     "output_type": "execute_result"
    }
   ],
   "source": [
    "# compute inverse of matrix2by2 & save in variable\n",
    "inv_matrix2by2 = linalg.inv(matrix2by2)\n",
    "inv_matrix2by2"
   ]
  },
  {
   "cell_type": "markdown",
   "id": "8cb5eb61",
   "metadata": {},
   "source": [
    "## statistical"
   ]
  },
  {
   "cell_type": "code",
   "execution_count": 131,
   "id": "14ea27cf",
   "metadata": {},
   "outputs": [],
   "source": [
    "# import relevant libraries and modules\n",
    "import numpy as np\n",
    "from scipy import stats"
   ]
  },
  {
   "cell_type": "code",
   "execution_count": 132,
   "id": "b408614c",
   "metadata": {},
   "outputs": [],
   "source": [
    "# declare B to be a binomial discrete random variable with parameters 10 and 0.4\n",
    "B = stats.binom(10, 0.4)"
   ]
  },
  {
   "cell_type": "code",
   "execution_count": 133,
   "id": "2afe4dc8",
   "metadata": {},
   "outputs": [
    {
     "data": {
      "text/plain": [
       "0.12093235199999991"
      ]
     },
     "execution_count": 133,
     "metadata": {},
     "output_type": "execute_result"
    }
   ],
   "source": [
    "# compute value of its probability mass function at 2 \n",
    "B.pmf(2)"
   ]
  },
  {
   "cell_type": "code",
   "execution_count": 134,
   "id": "191b4eea",
   "metadata": {},
   "outputs": [
    {
     "data": {
      "text/plain": [
       "0.3822806015999999"
      ]
     },
     "execution_count": 134,
     "metadata": {},
     "output_type": "execute_result"
    }
   ],
   "source": [
    "# compute value of its cumulative density function at 3\n",
    "B.cdf(3)"
   ]
  },
  {
   "cell_type": "code",
   "execution_count": 135,
   "id": "216f21bd",
   "metadata": {},
   "outputs": [],
   "source": [
    "# declare P to be a poission discrete random variable with parameter 2\n",
    "P = stats.poisson(2)"
   ]
  },
  {
   "cell_type": "code",
   "execution_count": 136,
   "id": "cd06f856",
   "metadata": {},
   "outputs": [
    {
     "data": {
      "text/plain": [
       "0.2706705664732254"
      ]
     },
     "execution_count": 136,
     "metadata": {},
     "output_type": "execute_result"
    }
   ],
   "source": [
    "# compute value of its probability mass function at 2 \n",
    "P.pmf(2)"
   ]
  },
  {
   "cell_type": "code",
   "execution_count": 137,
   "id": "1fa3cde8",
   "metadata": {},
   "outputs": [
    {
     "data": {
      "text/plain": [
       "0.9473469826562889"
      ]
     },
     "execution_count": 137,
     "metadata": {},
     "output_type": "execute_result"
    }
   ],
   "source": [
    "# compute value of its cumulative density function at 4\n",
    "P.cdf(4)"
   ]
  },
  {
   "cell_type": "code",
   "execution_count": 138,
   "id": "f7d5216c",
   "metadata": {},
   "outputs": [],
   "source": [
    "# declare G to be a geometric discrete random variable with parameter 0.25\n",
    "G = stats.geom(0.25)"
   ]
  },
  {
   "cell_type": "code",
   "execution_count": 139,
   "id": "b7ff3281",
   "metadata": {},
   "outputs": [
    {
     "data": {
      "text/plain": [
       "0.140625"
      ]
     },
     "execution_count": 139,
     "metadata": {},
     "output_type": "execute_result"
    }
   ],
   "source": [
    "# compute value of its probability mass function at 3\n",
    "G.pmf(3)"
   ]
  },
  {
   "cell_type": "code",
   "execution_count": 140,
   "id": "84a57817",
   "metadata": {},
   "outputs": [
    {
     "data": {
      "text/plain": [
       "0.68359375"
      ]
     },
     "execution_count": 140,
     "metadata": {},
     "output_type": "execute_result"
    }
   ],
   "source": [
    "# compute value of its cumulative density function at 4\n",
    "G.cdf(4)"
   ]
  },
  {
   "cell_type": "code",
   "execution_count": 141,
   "id": "aee97099",
   "metadata": {},
   "outputs": [],
   "source": [
    "# declare N to be a normal continuous random variable with parameters 0 and 1\n",
    "N = stats.norm(0, 1)"
   ]
  },
  {
   "cell_type": "code",
   "execution_count": 142,
   "id": "7cadc6c8",
   "metadata": {},
   "outputs": [
    {
     "data": {
      "text/plain": [
       "0.3969525474770118"
      ]
     },
     "execution_count": 142,
     "metadata": {},
     "output_type": "execute_result"
    }
   ],
   "source": [
    "# compute its probability density at 0.1\n",
    "N.pdf(0.1)"
   ]
  },
  {
   "cell_type": "code",
   "execution_count": 143,
   "id": "e69529e0",
   "metadata": {},
   "outputs": [
    {
     "data": {
      "text/plain": [
       "0.42074029056089696"
      ]
     },
     "execution_count": 143,
     "metadata": {},
     "output_type": "execute_result"
    }
   ],
   "source": [
    "# compute its cumulative density at -0.2\n",
    "N.cdf(-0.2)"
   ]
  },
  {
   "cell_type": "code",
   "execution_count": 144,
   "id": "76ec50e3",
   "metadata": {},
   "outputs": [],
   "source": [
    "# declare E to be an exponential continuous random variable with parameter 4\n",
    "E = stats.expon(4)"
   ]
  },
  {
   "cell_type": "code",
   "execution_count": 145,
   "id": "d2a59ca3",
   "metadata": {},
   "outputs": [],
   "source": [
    "# declare X to be a beta continuous random variable with parameters 1 and 3\n",
    "X = stats.beta(1, 3)"
   ]
  },
  {
   "cell_type": "code",
   "execution_count": 146,
   "id": "43b2d3b6",
   "metadata": {},
   "outputs": [
    {
     "data": {
      "text/plain": [
       "0.4799999999999999"
      ]
     },
     "execution_count": 146,
     "metadata": {},
     "output_type": "execute_result"
    }
   ],
   "source": [
    "# compute its probability density at 0.6\n",
    "X.pdf(0.6)"
   ]
  },
  {
   "cell_type": "code",
   "execution_count": 147,
   "id": "3883727d",
   "metadata": {},
   "outputs": [
    {
     "data": {
      "text/plain": [
       "0.875"
      ]
     },
     "execution_count": 147,
     "metadata": {},
     "output_type": "execute_result"
    }
   ],
   "source": [
    "# compute its cumulative density at 0.5\n",
    "X.cdf(0.5)"
   ]
  },
  {
   "cell_type": "code",
   "execution_count": 148,
   "id": "3bbccf2a",
   "metadata": {},
   "outputs": [],
   "source": [
    "# create a variable named scores containing a numpy array \n",
    "# that represents the scores of participants in a competition\n",
    "scores = np.random.randint(50, 101, 300)"
   ]
  },
  {
   "cell_type": "code",
   "execution_count": 149,
   "id": "2933ea65",
   "metadata": {},
   "outputs": [
    {
     "data": {
      "text/plain": [
       "73.0"
      ]
     },
     "execution_count": 149,
     "metadata": {},
     "output_type": "execute_result"
    }
   ],
   "source": [
    "# compute the 50th percentile of scores\n",
    "stats.scoreatpercentile(scores, 50)"
   ]
  },
  {
   "cell_type": "code",
   "execution_count": 150,
   "id": "f11c9646",
   "metadata": {},
   "outputs": [
    {
     "data": {
      "text/plain": [
       "95.10000000000002"
      ]
     },
     "execution_count": 150,
     "metadata": {},
     "output_type": "execute_result"
    }
   ],
   "source": [
    "# compute the 90th percentile of scores\n",
    "stats.scoreatpercentile(scores, 90)"
   ]
  },
  {
   "cell_type": "code",
   "execution_count": 151,
   "id": "a22431d3",
   "metadata": {},
   "outputs": [],
   "source": [
    "# create a variable named round1_scores containing a numpy array\n",
    "# that represents the scores of participants from school A in competition\n",
    "schoolA_scores = np.random.normal(70, 15, size=100)"
   ]
  },
  {
   "cell_type": "code",
   "execution_count": 152,
   "id": "c01c78ce",
   "metadata": {},
   "outputs": [],
   "source": [
    "# create a variable named round2_scores containing a numpy array\n",
    "# that represents the scores of participants from school B in competition\n",
    "schoolB_scores = np.random.normal(80, 15, size=10)"
   ]
  },
  {
   "cell_type": "code",
   "execution_count": 153,
   "id": "867c4765",
   "metadata": {},
   "outputs": [
    {
     "data": {
      "text/plain": [
       "Ttest_indResult(statistic=-2.6210423934797293, pvalue=0.010029730310732704)"
      ]
     },
     "execution_count": 153,
     "metadata": {},
     "output_type": "execute_result"
    }
   ],
   "source": [
    "# conduct the T-test for the means of schoolA_scores and schoolB_scores \n",
    "stats.ttest_ind(schoolA_scores, schoolB_scores)"
   ]
  },
  {
   "cell_type": "markdown",
   "id": "e59e5a89",
   "metadata": {},
   "source": [
    "# Chapter 5"
   ]
  },
  {
   "cell_type": "code",
   "execution_count": 154,
   "id": "c59c7a7c",
   "metadata": {},
   "outputs": [
    {
     "data": {
      "text/plain": [
       "0    -3\n",
       "1     4\n",
       "2    10\n",
       "3     8\n",
       "4    -1\n",
       "5    -9\n",
       "6    -8\n",
       "7     2\n",
       "dtype: int32"
      ]
     },
     "execution_count": 154,
     "metadata": {},
     "output_type": "execute_result"
    }
   ],
   "source": [
    "# create a pandas series containing 8 random integers from -10 to 10 inclusive\n",
    "pd.Series(np.random.randint(-10, 11, size=8))"
   ]
  },
  {
   "cell_type": "code",
   "execution_count": 155,
   "id": "bd99965b",
   "metadata": {},
   "outputs": [
    {
     "data": {
      "text/plain": [
       "a    -1\n",
       "b    -5\n",
       "c     0\n",
       "d     9\n",
       "e     3\n",
       "f     3\n",
       "g     7\n",
       "h   -10\n",
       "dtype: int32"
      ]
     },
     "execution_count": 155,
     "metadata": {},
     "output_type": "execute_result"
    }
   ],
   "source": [
    "# create a pandas series containing 8 random integers from -10 to 10 inclusive \n",
    "# with index being a through h\n",
    "pd.Series(np.random.randint(-10, 11, size=8),\n",
    "         index=['a', 'b', 'c', 'd', 'e', 'f', 'g', 'h'])"
   ]
  },
  {
   "cell_type": "code",
   "execution_count": 156,
   "id": "3b41ffe5",
   "metadata": {},
   "outputs": [
    {
     "data": {
      "text/plain": [
       "Mon     True\n",
       "Tue    False\n",
       "Wed     True\n",
       "Thu    False\n",
       "Fri     True\n",
       "Sat    False\n",
       "Sun     True\n",
       "dtype: bool"
      ]
     },
     "execution_count": 156,
     "metadata": {},
     "output_type": "execute_result"
    }
   ],
   "source": [
    "# create a pandas series from a Python dictionary\n",
    "pd.Series({'Mon': True, 'Tue': False, 'Wed': True, 'Thu': False,\n",
    "          'Fri': True, 'Sat': False, 'Sun': True})"
   ]
  },
  {
   "cell_type": "code",
   "execution_count": 157,
   "id": "e6d50658",
   "metadata": {},
   "outputs": [
    {
     "data": {
      "text/plain": [
       "1     150\n",
       "2     150\n",
       "3     150\n",
       "4     150\n",
       "5     150\n",
       "6     150\n",
       "7     150\n",
       "8     150\n",
       "9     150\n",
       "10    150\n",
       "dtype: int64"
      ]
     },
     "execution_count": 157,
     "metadata": {},
     "output_type": "execute_result"
    }
   ],
   "source": [
    "# create a pandas series from a scalar value\n",
    "# to represent the maximum number of points students can earn \n",
    "# in each of 10 exams for a particular course\n",
    "pd.Series(150, index=np.arange(1, 11))"
   ]
  },
  {
   "cell_type": "code",
   "execution_count": 158,
   "id": "9b239a8b",
   "metadata": {},
   "outputs": [],
   "source": [
    "# read grades.csv into a pandas dataframe & save the dataframe in a variable\n",
    "grades = pd.read_csv('grades.csv')"
   ]
  },
  {
   "cell_type": "code",
   "execution_count": 159,
   "id": "8b4209ff",
   "metadata": {},
   "outputs": [
    {
     "data": {
      "text/html": [
       "<div>\n",
       "<style scoped>\n",
       "    .dataframe tbody tr th:only-of-type {\n",
       "        vertical-align: middle;\n",
       "    }\n",
       "\n",
       "    .dataframe tbody tr th {\n",
       "        vertical-align: top;\n",
       "    }\n",
       "\n",
       "    .dataframe thead th {\n",
       "        text-align: right;\n",
       "    }\n",
       "</style>\n",
       "<table border=\"1\" class=\"dataframe\">\n",
       "  <thead>\n",
       "    <tr style=\"text-align: right;\">\n",
       "      <th></th>\n",
       "      <th>exam</th>\n",
       "      <th>student_id</th>\n",
       "      <th>grade</th>\n",
       "    </tr>\n",
       "  </thead>\n",
       "  <tbody>\n",
       "    <tr>\n",
       "      <th>0</th>\n",
       "      <td>1</td>\n",
       "      <td>1</td>\n",
       "      <td>86.0</td>\n",
       "    </tr>\n",
       "    <tr>\n",
       "      <th>1</th>\n",
       "      <td>1</td>\n",
       "      <td>2</td>\n",
       "      <td>65.0</td>\n",
       "    </tr>\n",
       "    <tr>\n",
       "      <th>2</th>\n",
       "      <td>1</td>\n",
       "      <td>3</td>\n",
       "      <td>70.0</td>\n",
       "    </tr>\n",
       "    <tr>\n",
       "      <th>3</th>\n",
       "      <td>1</td>\n",
       "      <td>4</td>\n",
       "      <td>98.0</td>\n",
       "    </tr>\n",
       "    <tr>\n",
       "      <th>4</th>\n",
       "      <td>1</td>\n",
       "      <td>5</td>\n",
       "      <td>89.0</td>\n",
       "    </tr>\n",
       "    <tr>\n",
       "      <th>5</th>\n",
       "      <td>1</td>\n",
       "      <td>6</td>\n",
       "      <td>NaN</td>\n",
       "    </tr>\n",
       "    <tr>\n",
       "      <th>6</th>\n",
       "      <td>1</td>\n",
       "      <td>7</td>\n",
       "      <td>75.0</td>\n",
       "    </tr>\n",
       "    <tr>\n",
       "      <th>7</th>\n",
       "      <td>1</td>\n",
       "      <td>8</td>\n",
       "      <td>56.0</td>\n",
       "    </tr>\n",
       "    <tr>\n",
       "      <th>8</th>\n",
       "      <td>1</td>\n",
       "      <td>9</td>\n",
       "      <td>90.0</td>\n",
       "    </tr>\n",
       "    <tr>\n",
       "      <th>9</th>\n",
       "      <td>1</td>\n",
       "      <td>10</td>\n",
       "      <td>81.0</td>\n",
       "    </tr>\n",
       "    <tr>\n",
       "      <th>10</th>\n",
       "      <td>2</td>\n",
       "      <td>1</td>\n",
       "      <td>79.0</td>\n",
       "    </tr>\n",
       "    <tr>\n",
       "      <th>11</th>\n",
       "      <td>2</td>\n",
       "      <td>2</td>\n",
       "      <td>60.0</td>\n",
       "    </tr>\n",
       "    <tr>\n",
       "      <th>12</th>\n",
       "      <td>2</td>\n",
       "      <td>3</td>\n",
       "      <td>78.0</td>\n",
       "    </tr>\n",
       "    <tr>\n",
       "      <th>13</th>\n",
       "      <td>2</td>\n",
       "      <td>4</td>\n",
       "      <td>75.0</td>\n",
       "    </tr>\n",
       "    <tr>\n",
       "      <th>14</th>\n",
       "      <td>2</td>\n",
       "      <td>5</td>\n",
       "      <td>NaN</td>\n",
       "    </tr>\n",
       "    <tr>\n",
       "      <th>15</th>\n",
       "      <td>2</td>\n",
       "      <td>6</td>\n",
       "      <td>80.0</td>\n",
       "    </tr>\n",
       "    <tr>\n",
       "      <th>16</th>\n",
       "      <td>2</td>\n",
       "      <td>7</td>\n",
       "      <td>87.0</td>\n",
       "    </tr>\n",
       "    <tr>\n",
       "      <th>17</th>\n",
       "      <td>2</td>\n",
       "      <td>8</td>\n",
       "      <td>82.0</td>\n",
       "    </tr>\n",
       "    <tr>\n",
       "      <th>18</th>\n",
       "      <td>2</td>\n",
       "      <td>9</td>\n",
       "      <td>95.0</td>\n",
       "    </tr>\n",
       "    <tr>\n",
       "      <th>19</th>\n",
       "      <td>2</td>\n",
       "      <td>10</td>\n",
       "      <td>96.0</td>\n",
       "    </tr>\n",
       "    <tr>\n",
       "      <th>20</th>\n",
       "      <td>3</td>\n",
       "      <td>1</td>\n",
       "      <td>78.0</td>\n",
       "    </tr>\n",
       "    <tr>\n",
       "      <th>21</th>\n",
       "      <td>3</td>\n",
       "      <td>2</td>\n",
       "      <td>80.0</td>\n",
       "    </tr>\n",
       "    <tr>\n",
       "      <th>22</th>\n",
       "      <td>3</td>\n",
       "      <td>3</td>\n",
       "      <td>87.0</td>\n",
       "    </tr>\n",
       "    <tr>\n",
       "      <th>23</th>\n",
       "      <td>3</td>\n",
       "      <td>4</td>\n",
       "      <td>NaN</td>\n",
       "    </tr>\n",
       "    <tr>\n",
       "      <th>24</th>\n",
       "      <td>3</td>\n",
       "      <td>5</td>\n",
       "      <td>89.0</td>\n",
       "    </tr>\n",
       "    <tr>\n",
       "      <th>25</th>\n",
       "      <td>3</td>\n",
       "      <td>6</td>\n",
       "      <td>90.0</td>\n",
       "    </tr>\n",
       "    <tr>\n",
       "      <th>26</th>\n",
       "      <td>3</td>\n",
       "      <td>7</td>\n",
       "      <td>100.0</td>\n",
       "    </tr>\n",
       "    <tr>\n",
       "      <th>27</th>\n",
       "      <td>3</td>\n",
       "      <td>8</td>\n",
       "      <td>72.0</td>\n",
       "    </tr>\n",
       "    <tr>\n",
       "      <th>28</th>\n",
       "      <td>3</td>\n",
       "      <td>9</td>\n",
       "      <td>73.0</td>\n",
       "    </tr>\n",
       "    <tr>\n",
       "      <th>29</th>\n",
       "      <td>3</td>\n",
       "      <td>10</td>\n",
       "      <td>75.0</td>\n",
       "    </tr>\n",
       "    <tr>\n",
       "      <th>30</th>\n",
       "      <td>4</td>\n",
       "      <td>1</td>\n",
       "      <td>NaN</td>\n",
       "    </tr>\n",
       "    <tr>\n",
       "      <th>31</th>\n",
       "      <td>4</td>\n",
       "      <td>2</td>\n",
       "      <td>80.0</td>\n",
       "    </tr>\n",
       "    <tr>\n",
       "      <th>32</th>\n",
       "      <td>4</td>\n",
       "      <td>3</td>\n",
       "      <td>81.0</td>\n",
       "    </tr>\n",
       "    <tr>\n",
       "      <th>33</th>\n",
       "      <td>4</td>\n",
       "      <td>4</td>\n",
       "      <td>82.0</td>\n",
       "    </tr>\n",
       "    <tr>\n",
       "      <th>34</th>\n",
       "      <td>4</td>\n",
       "      <td>5</td>\n",
       "      <td>83.0</td>\n",
       "    </tr>\n",
       "    <tr>\n",
       "      <th>35</th>\n",
       "      <td>4</td>\n",
       "      <td>6</td>\n",
       "      <td>84.0</td>\n",
       "    </tr>\n",
       "    <tr>\n",
       "      <th>36</th>\n",
       "      <td>4</td>\n",
       "      <td>7</td>\n",
       "      <td>85.0</td>\n",
       "    </tr>\n",
       "    <tr>\n",
       "      <th>37</th>\n",
       "      <td>4</td>\n",
       "      <td>8</td>\n",
       "      <td>86.0</td>\n",
       "    </tr>\n",
       "    <tr>\n",
       "      <th>38</th>\n",
       "      <td>4</td>\n",
       "      <td>9</td>\n",
       "      <td>87.0</td>\n",
       "    </tr>\n",
       "    <tr>\n",
       "      <th>39</th>\n",
       "      <td>4</td>\n",
       "      <td>10</td>\n",
       "      <td>88.0</td>\n",
       "    </tr>\n",
       "    <tr>\n",
       "      <th>40</th>\n",
       "      <td>5</td>\n",
       "      <td>1</td>\n",
       "      <td>90.0</td>\n",
       "    </tr>\n",
       "    <tr>\n",
       "      <th>41</th>\n",
       "      <td>5</td>\n",
       "      <td>2</td>\n",
       "      <td>NaN</td>\n",
       "    </tr>\n",
       "    <tr>\n",
       "      <th>42</th>\n",
       "      <td>5</td>\n",
       "      <td>3</td>\n",
       "      <td>91.0</td>\n",
       "    </tr>\n",
       "    <tr>\n",
       "      <th>43</th>\n",
       "      <td>5</td>\n",
       "      <td>4</td>\n",
       "      <td>92.0</td>\n",
       "    </tr>\n",
       "    <tr>\n",
       "      <th>44</th>\n",
       "      <td>5</td>\n",
       "      <td>5</td>\n",
       "      <td>93.0</td>\n",
       "    </tr>\n",
       "    <tr>\n",
       "      <th>45</th>\n",
       "      <td>5</td>\n",
       "      <td>6</td>\n",
       "      <td>94.0</td>\n",
       "    </tr>\n",
       "    <tr>\n",
       "      <th>46</th>\n",
       "      <td>5</td>\n",
       "      <td>7</td>\n",
       "      <td>95.0</td>\n",
       "    </tr>\n",
       "    <tr>\n",
       "      <th>47</th>\n",
       "      <td>5</td>\n",
       "      <td>8</td>\n",
       "      <td>96.0</td>\n",
       "    </tr>\n",
       "    <tr>\n",
       "      <th>48</th>\n",
       "      <td>5</td>\n",
       "      <td>9</td>\n",
       "      <td>97.0</td>\n",
       "    </tr>\n",
       "    <tr>\n",
       "      <th>49</th>\n",
       "      <td>5</td>\n",
       "      <td>10</td>\n",
       "      <td>98.0</td>\n",
       "    </tr>\n",
       "  </tbody>\n",
       "</table>\n",
       "</div>"
      ],
      "text/plain": [
       "    exam  student_id  grade\n",
       "0      1           1   86.0\n",
       "1      1           2   65.0\n",
       "2      1           3   70.0\n",
       "3      1           4   98.0\n",
       "4      1           5   89.0\n",
       "5      1           6    NaN\n",
       "6      1           7   75.0\n",
       "7      1           8   56.0\n",
       "8      1           9   90.0\n",
       "9      1          10   81.0\n",
       "10     2           1   79.0\n",
       "11     2           2   60.0\n",
       "12     2           3   78.0\n",
       "13     2           4   75.0\n",
       "14     2           5    NaN\n",
       "15     2           6   80.0\n",
       "16     2           7   87.0\n",
       "17     2           8   82.0\n",
       "18     2           9   95.0\n",
       "19     2          10   96.0\n",
       "20     3           1   78.0\n",
       "21     3           2   80.0\n",
       "22     3           3   87.0\n",
       "23     3           4    NaN\n",
       "24     3           5   89.0\n",
       "25     3           6   90.0\n",
       "26     3           7  100.0\n",
       "27     3           8   72.0\n",
       "28     3           9   73.0\n",
       "29     3          10   75.0\n",
       "30     4           1    NaN\n",
       "31     4           2   80.0\n",
       "32     4           3   81.0\n",
       "33     4           4   82.0\n",
       "34     4           5   83.0\n",
       "35     4           6   84.0\n",
       "36     4           7   85.0\n",
       "37     4           8   86.0\n",
       "38     4           9   87.0\n",
       "39     4          10   88.0\n",
       "40     5           1   90.0\n",
       "41     5           2    NaN\n",
       "42     5           3   91.0\n",
       "43     5           4   92.0\n",
       "44     5           5   93.0\n",
       "45     5           6   94.0\n",
       "46     5           7   95.0\n",
       "47     5           8   96.0\n",
       "48     5           9   97.0\n",
       "49     5          10   98.0"
      ]
     },
     "execution_count": 159,
     "metadata": {},
     "output_type": "execute_result"
    }
   ],
   "source": [
    "# display grades\n",
    "grades"
   ]
  },
  {
   "cell_type": "code",
   "execution_count": 160,
   "id": "788ce6e6",
   "metadata": {},
   "outputs": [
    {
     "data": {
      "text/html": [
       "<div>\n",
       "<style scoped>\n",
       "    .dataframe tbody tr th:only-of-type {\n",
       "        vertical-align: middle;\n",
       "    }\n",
       "\n",
       "    .dataframe tbody tr th {\n",
       "        vertical-align: top;\n",
       "    }\n",
       "\n",
       "    .dataframe thead th {\n",
       "        text-align: right;\n",
       "    }\n",
       "</style>\n",
       "<table border=\"1\" class=\"dataframe\">\n",
       "  <thead>\n",
       "    <tr style=\"text-align: right;\">\n",
       "      <th></th>\n",
       "      <th>exam</th>\n",
       "      <th>student_id</th>\n",
       "      <th>grade</th>\n",
       "    </tr>\n",
       "  </thead>\n",
       "  <tbody>\n",
       "    <tr>\n",
       "      <th>0</th>\n",
       "      <td>1</td>\n",
       "      <td>1</td>\n",
       "      <td>86.0</td>\n",
       "    </tr>\n",
       "    <tr>\n",
       "      <th>1</th>\n",
       "      <td>1</td>\n",
       "      <td>2</td>\n",
       "      <td>65.0</td>\n",
       "    </tr>\n",
       "    <tr>\n",
       "      <th>2</th>\n",
       "      <td>1</td>\n",
       "      <td>3</td>\n",
       "      <td>70.0</td>\n",
       "    </tr>\n",
       "    <tr>\n",
       "      <th>3</th>\n",
       "      <td>1</td>\n",
       "      <td>4</td>\n",
       "      <td>98.0</td>\n",
       "    </tr>\n",
       "    <tr>\n",
       "      <th>4</th>\n",
       "      <td>1</td>\n",
       "      <td>5</td>\n",
       "      <td>89.0</td>\n",
       "    </tr>\n",
       "  </tbody>\n",
       "</table>\n",
       "</div>"
      ],
      "text/plain": [
       "   exam  student_id  grade\n",
       "0     1           1   86.0\n",
       "1     1           2   65.0\n",
       "2     1           3   70.0\n",
       "3     1           4   98.0\n",
       "4     1           5   89.0"
      ]
     },
     "execution_count": 160,
     "metadata": {},
     "output_type": "execute_result"
    }
   ],
   "source": [
    "# display first few rows of grades\n",
    "grades.head()"
   ]
  },
  {
   "cell_type": "code",
   "execution_count": 161,
   "id": "f1963c20",
   "metadata": {},
   "outputs": [
    {
     "data": {
      "text/html": [
       "<div>\n",
       "<style scoped>\n",
       "    .dataframe tbody tr th:only-of-type {\n",
       "        vertical-align: middle;\n",
       "    }\n",
       "\n",
       "    .dataframe tbody tr th {\n",
       "        vertical-align: top;\n",
       "    }\n",
       "\n",
       "    .dataframe thead th {\n",
       "        text-align: right;\n",
       "    }\n",
       "</style>\n",
       "<table border=\"1\" class=\"dataframe\">\n",
       "  <thead>\n",
       "    <tr style=\"text-align: right;\">\n",
       "      <th></th>\n",
       "      <th>player1</th>\n",
       "      <th>player2</th>\n",
       "    </tr>\n",
       "  </thead>\n",
       "  <tbody>\n",
       "    <tr>\n",
       "      <th>game1</th>\n",
       "      <td>15</td>\n",
       "      <td>10</td>\n",
       "    </tr>\n",
       "    <tr>\n",
       "      <th>game2</th>\n",
       "      <td>10</td>\n",
       "      <td>15</td>\n",
       "    </tr>\n",
       "    <tr>\n",
       "      <th>game3</th>\n",
       "      <td>20</td>\n",
       "      <td>23</td>\n",
       "    </tr>\n",
       "    <tr>\n",
       "      <th>game4</th>\n",
       "      <td>25</td>\n",
       "      <td>27</td>\n",
       "    </tr>\n",
       "  </tbody>\n",
       "</table>\n",
       "</div>"
      ],
      "text/plain": [
       "       player1  player2\n",
       "game1       15       10\n",
       "game2       10       15\n",
       "game3       20       23\n",
       "game4       25       27"
      ]
     },
     "execution_count": 161,
     "metadata": {},
     "output_type": "execute_result"
    }
   ],
   "source": [
    "# create a Python dictionary of Series & save in a variable named points\n",
    "points = {'player1': pd.Series([15, 10, 20, 25], \n",
    "                               index=['game1', 'game2', 'game3', 'game4']),\n",
    "         'player2': pd.Series([10, 15, 23, 27],\n",
    "                             index=['game1', 'game2', 'game3', 'game4'])}\n",
    "\n",
    "# create a pandas dataframe from points\n",
    "pd.DataFrame(points)"
   ]
  },
  {
   "cell_type": "code",
   "execution_count": 162,
   "id": "bd0ee174",
   "metadata": {},
   "outputs": [
    {
     "data": {
      "text/html": [
       "<div>\n",
       "<style scoped>\n",
       "    .dataframe tbody tr th:only-of-type {\n",
       "        vertical-align: middle;\n",
       "    }\n",
       "\n",
       "    .dataframe tbody tr th {\n",
       "        vertical-align: top;\n",
       "    }\n",
       "\n",
       "    .dataframe thead th {\n",
       "        text-align: right;\n",
       "    }\n",
       "</style>\n",
       "<table border=\"1\" class=\"dataframe\">\n",
       "  <thead>\n",
       "    <tr style=\"text-align: right;\">\n",
       "      <th></th>\n",
       "      <th>foodTruck1</th>\n",
       "      <th>foodTruck2</th>\n",
       "    </tr>\n",
       "  </thead>\n",
       "  <tbody>\n",
       "    <tr>\n",
       "      <th>day1</th>\n",
       "      <td>216</td>\n",
       "      <td>374</td>\n",
       "    </tr>\n",
       "    <tr>\n",
       "      <th>day2</th>\n",
       "      <td>275</td>\n",
       "      <td>90</td>\n",
       "    </tr>\n",
       "    <tr>\n",
       "      <th>day3</th>\n",
       "      <td>203</td>\n",
       "      <td>95</td>\n",
       "    </tr>\n",
       "    <tr>\n",
       "      <th>day4</th>\n",
       "      <td>210</td>\n",
       "      <td>115</td>\n",
       "    </tr>\n",
       "    <tr>\n",
       "      <th>day5</th>\n",
       "      <td>315</td>\n",
       "      <td>130</td>\n",
       "    </tr>\n",
       "    <tr>\n",
       "      <th>day6</th>\n",
       "      <td>402</td>\n",
       "      <td>150</td>\n",
       "    </tr>\n",
       "    <tr>\n",
       "      <th>day7</th>\n",
       "      <td>380</td>\n",
       "      <td>140</td>\n",
       "    </tr>\n",
       "  </tbody>\n",
       "</table>\n",
       "</div>"
      ],
      "text/plain": [
       "      foodTruck1  foodTruck2\n",
       "day1         216         374\n",
       "day2         275          90\n",
       "day3         203          95\n",
       "day4         210         115\n",
       "day5         315         130\n",
       "day6         402         150\n",
       "day7         380         140"
      ]
     },
     "execution_count": 162,
     "metadata": {},
     "output_type": "execute_result"
    }
   ],
   "source": [
    "# create a Python dictionary of lists & save in a variable named sales\n",
    "sales = {'foodTruck1': [216,275,203,210,315,402,380],\n",
    "        'foodTruck2': [374,90,95,115,130,150,140]}\n",
    "\n",
    "# create a pandas dataframe from sales with index being day1 through day7\n",
    "pd.DataFrame(sales, index=['day1', 'day2', 'day3', 'day4', 'day5', 'day6', 'day7'])"
   ]
  },
  {
   "cell_type": "code",
   "execution_count": 163,
   "id": "cfb8ddcb",
   "metadata": {},
   "outputs": [
    {
     "data": {
      "text/html": [
       "<div>\n",
       "<style scoped>\n",
       "    .dataframe tbody tr th:only-of-type {\n",
       "        vertical-align: middle;\n",
       "    }\n",
       "\n",
       "    .dataframe tbody tr th {\n",
       "        vertical-align: top;\n",
       "    }\n",
       "\n",
       "    .dataframe thead th {\n",
       "        text-align: right;\n",
       "    }\n",
       "</style>\n",
       "<table border=\"1\" class=\"dataframe\">\n",
       "  <thead>\n",
       "    <tr style=\"text-align: right;\">\n",
       "      <th></th>\n",
       "      <th>infants</th>\n",
       "      <th>children</th>\n",
       "      <th>adults</th>\n",
       "      <th>seniors</th>\n",
       "    </tr>\n",
       "  </thead>\n",
       "  <tbody>\n",
       "    <tr>\n",
       "      <th>plane1</th>\n",
       "      <td>20</td>\n",
       "      <td>40</td>\n",
       "      <td>60</td>\n",
       "      <td>80</td>\n",
       "    </tr>\n",
       "    <tr>\n",
       "      <th>plane2</th>\n",
       "      <td>15</td>\n",
       "      <td>30</td>\n",
       "      <td>45</td>\n",
       "      <td>60</td>\n",
       "    </tr>\n",
       "    <tr>\n",
       "      <th>plane3</th>\n",
       "      <td>10</td>\n",
       "      <td>20</td>\n",
       "      <td>30</td>\n",
       "      <td>40</td>\n",
       "    </tr>\n",
       "  </tbody>\n",
       "</table>\n",
       "</div>"
      ],
      "text/plain": [
       "        infants  children  adults  seniors\n",
       "plane1       20        40      60       80\n",
       "plane2       15        30      45       60\n",
       "plane3       10        20      30       40"
      ]
     },
     "execution_count": 163,
     "metadata": {},
     "output_type": "execute_result"
    }
   ],
   "source": [
    "# create a multi-dimensional numpy array & save in a variable named passengers\n",
    "passengers = np.array([[20, 40, 60, 80], [15, 30, 45, 60], [10, 20, 30, 40]])\n",
    "\n",
    "# create a pandas DataFrame from passengers\n",
    "# with index being plane1 through plane3 \n",
    "# and columns being infants, children, adults, seniors\n",
    "pd.DataFrame(passengers, \n",
    "             index=['plane1', 'plane2', 'plane3'], \n",
    "             columns=['infants', 'children', 'adults', 'seniors'])"
   ]
  },
  {
   "cell_type": "markdown",
   "id": "01eed199",
   "metadata": {},
   "source": [
    "## Select DataFrame"
   ]
  },
  {
   "cell_type": "code",
   "execution_count": 164,
   "id": "77a295b2",
   "metadata": {},
   "outputs": [],
   "source": [
    "# read grades.csv into a pandas dataframe & save the dataframe in a variable\n",
    "grades = pd.read_csv('grades.csv')"
   ]
  },
  {
   "cell_type": "code",
   "execution_count": 165,
   "id": "19bf686d",
   "metadata": {},
   "outputs": [
    {
     "data": {
      "text/html": [
       "<div>\n",
       "<style scoped>\n",
       "    .dataframe tbody tr th:only-of-type {\n",
       "        vertical-align: middle;\n",
       "    }\n",
       "\n",
       "    .dataframe tbody tr th {\n",
       "        vertical-align: top;\n",
       "    }\n",
       "\n",
       "    .dataframe thead th {\n",
       "        text-align: right;\n",
       "    }\n",
       "</style>\n",
       "<table border=\"1\" class=\"dataframe\">\n",
       "  <thead>\n",
       "    <tr style=\"text-align: right;\">\n",
       "      <th></th>\n",
       "      <th>exam</th>\n",
       "      <th>student_id</th>\n",
       "      <th>grade</th>\n",
       "    </tr>\n",
       "  </thead>\n",
       "  <tbody>\n",
       "    <tr>\n",
       "      <th>0</th>\n",
       "      <td>1</td>\n",
       "      <td>1</td>\n",
       "      <td>86.0</td>\n",
       "    </tr>\n",
       "    <tr>\n",
       "      <th>1</th>\n",
       "      <td>1</td>\n",
       "      <td>2</td>\n",
       "      <td>65.0</td>\n",
       "    </tr>\n",
       "    <tr>\n",
       "      <th>2</th>\n",
       "      <td>1</td>\n",
       "      <td>3</td>\n",
       "      <td>70.0</td>\n",
       "    </tr>\n",
       "    <tr>\n",
       "      <th>3</th>\n",
       "      <td>1</td>\n",
       "      <td>4</td>\n",
       "      <td>98.0</td>\n",
       "    </tr>\n",
       "    <tr>\n",
       "      <th>4</th>\n",
       "      <td>1</td>\n",
       "      <td>5</td>\n",
       "      <td>89.0</td>\n",
       "    </tr>\n",
       "  </tbody>\n",
       "</table>\n",
       "</div>"
      ],
      "text/plain": [
       "   exam  student_id  grade\n",
       "0     1           1   86.0\n",
       "1     1           2   65.0\n",
       "2     1           3   70.0\n",
       "3     1           4   98.0\n",
       "4     1           5   89.0"
      ]
     },
     "execution_count": 165,
     "metadata": {},
     "output_type": "execute_result"
    }
   ],
   "source": [
    "# display first few rows of grades\n",
    "grades.head()"
   ]
  },
  {
   "cell_type": "code",
   "execution_count": 166,
   "id": "58ff457b",
   "metadata": {},
   "outputs": [
    {
     "data": {
      "text/html": [
       "<div>\n",
       "<style scoped>\n",
       "    .dataframe tbody tr th:only-of-type {\n",
       "        vertical-align: middle;\n",
       "    }\n",
       "\n",
       "    .dataframe tbody tr th {\n",
       "        vertical-align: top;\n",
       "    }\n",
       "\n",
       "    .dataframe thead th {\n",
       "        text-align: right;\n",
       "    }\n",
       "</style>\n",
       "<table border=\"1\" class=\"dataframe\">\n",
       "  <thead>\n",
       "    <tr style=\"text-align: right;\">\n",
       "      <th></th>\n",
       "      <th>exam</th>\n",
       "      <th>grade</th>\n",
       "    </tr>\n",
       "  </thead>\n",
       "  <tbody>\n",
       "    <tr>\n",
       "      <th>0</th>\n",
       "      <td>1</td>\n",
       "      <td>86.0</td>\n",
       "    </tr>\n",
       "    <tr>\n",
       "      <th>1</th>\n",
       "      <td>1</td>\n",
       "      <td>65.0</td>\n",
       "    </tr>\n",
       "    <tr>\n",
       "      <th>2</th>\n",
       "      <td>1</td>\n",
       "      <td>70.0</td>\n",
       "    </tr>\n",
       "    <tr>\n",
       "      <th>3</th>\n",
       "      <td>1</td>\n",
       "      <td>98.0</td>\n",
       "    </tr>\n",
       "    <tr>\n",
       "      <th>4</th>\n",
       "      <td>1</td>\n",
       "      <td>89.0</td>\n",
       "    </tr>\n",
       "    <tr>\n",
       "      <th>5</th>\n",
       "      <td>1</td>\n",
       "      <td>NaN</td>\n",
       "    </tr>\n",
       "    <tr>\n",
       "      <th>6</th>\n",
       "      <td>1</td>\n",
       "      <td>75.0</td>\n",
       "    </tr>\n",
       "    <tr>\n",
       "      <th>7</th>\n",
       "      <td>1</td>\n",
       "      <td>56.0</td>\n",
       "    </tr>\n",
       "    <tr>\n",
       "      <th>8</th>\n",
       "      <td>1</td>\n",
       "      <td>90.0</td>\n",
       "    </tr>\n",
       "    <tr>\n",
       "      <th>9</th>\n",
       "      <td>1</td>\n",
       "      <td>81.0</td>\n",
       "    </tr>\n",
       "    <tr>\n",
       "      <th>10</th>\n",
       "      <td>2</td>\n",
       "      <td>79.0</td>\n",
       "    </tr>\n",
       "    <tr>\n",
       "      <th>11</th>\n",
       "      <td>2</td>\n",
       "      <td>60.0</td>\n",
       "    </tr>\n",
       "    <tr>\n",
       "      <th>12</th>\n",
       "      <td>2</td>\n",
       "      <td>78.0</td>\n",
       "    </tr>\n",
       "    <tr>\n",
       "      <th>13</th>\n",
       "      <td>2</td>\n",
       "      <td>75.0</td>\n",
       "    </tr>\n",
       "    <tr>\n",
       "      <th>14</th>\n",
       "      <td>2</td>\n",
       "      <td>NaN</td>\n",
       "    </tr>\n",
       "    <tr>\n",
       "      <th>15</th>\n",
       "      <td>2</td>\n",
       "      <td>80.0</td>\n",
       "    </tr>\n",
       "    <tr>\n",
       "      <th>16</th>\n",
       "      <td>2</td>\n",
       "      <td>87.0</td>\n",
       "    </tr>\n",
       "    <tr>\n",
       "      <th>17</th>\n",
       "      <td>2</td>\n",
       "      <td>82.0</td>\n",
       "    </tr>\n",
       "    <tr>\n",
       "      <th>18</th>\n",
       "      <td>2</td>\n",
       "      <td>95.0</td>\n",
       "    </tr>\n",
       "    <tr>\n",
       "      <th>19</th>\n",
       "      <td>2</td>\n",
       "      <td>96.0</td>\n",
       "    </tr>\n",
       "    <tr>\n",
       "      <th>20</th>\n",
       "      <td>3</td>\n",
       "      <td>78.0</td>\n",
       "    </tr>\n",
       "    <tr>\n",
       "      <th>21</th>\n",
       "      <td>3</td>\n",
       "      <td>80.0</td>\n",
       "    </tr>\n",
       "    <tr>\n",
       "      <th>22</th>\n",
       "      <td>3</td>\n",
       "      <td>87.0</td>\n",
       "    </tr>\n",
       "    <tr>\n",
       "      <th>23</th>\n",
       "      <td>3</td>\n",
       "      <td>NaN</td>\n",
       "    </tr>\n",
       "    <tr>\n",
       "      <th>24</th>\n",
       "      <td>3</td>\n",
       "      <td>89.0</td>\n",
       "    </tr>\n",
       "    <tr>\n",
       "      <th>25</th>\n",
       "      <td>3</td>\n",
       "      <td>90.0</td>\n",
       "    </tr>\n",
       "    <tr>\n",
       "      <th>26</th>\n",
       "      <td>3</td>\n",
       "      <td>100.0</td>\n",
       "    </tr>\n",
       "    <tr>\n",
       "      <th>27</th>\n",
       "      <td>3</td>\n",
       "      <td>72.0</td>\n",
       "    </tr>\n",
       "    <tr>\n",
       "      <th>28</th>\n",
       "      <td>3</td>\n",
       "      <td>73.0</td>\n",
       "    </tr>\n",
       "    <tr>\n",
       "      <th>29</th>\n",
       "      <td>3</td>\n",
       "      <td>75.0</td>\n",
       "    </tr>\n",
       "    <tr>\n",
       "      <th>30</th>\n",
       "      <td>4</td>\n",
       "      <td>NaN</td>\n",
       "    </tr>\n",
       "    <tr>\n",
       "      <th>31</th>\n",
       "      <td>4</td>\n",
       "      <td>80.0</td>\n",
       "    </tr>\n",
       "    <tr>\n",
       "      <th>32</th>\n",
       "      <td>4</td>\n",
       "      <td>81.0</td>\n",
       "    </tr>\n",
       "    <tr>\n",
       "      <th>33</th>\n",
       "      <td>4</td>\n",
       "      <td>82.0</td>\n",
       "    </tr>\n",
       "    <tr>\n",
       "      <th>34</th>\n",
       "      <td>4</td>\n",
       "      <td>83.0</td>\n",
       "    </tr>\n",
       "    <tr>\n",
       "      <th>35</th>\n",
       "      <td>4</td>\n",
       "      <td>84.0</td>\n",
       "    </tr>\n",
       "    <tr>\n",
       "      <th>36</th>\n",
       "      <td>4</td>\n",
       "      <td>85.0</td>\n",
       "    </tr>\n",
       "    <tr>\n",
       "      <th>37</th>\n",
       "      <td>4</td>\n",
       "      <td>86.0</td>\n",
       "    </tr>\n",
       "    <tr>\n",
       "      <th>38</th>\n",
       "      <td>4</td>\n",
       "      <td>87.0</td>\n",
       "    </tr>\n",
       "    <tr>\n",
       "      <th>39</th>\n",
       "      <td>4</td>\n",
       "      <td>88.0</td>\n",
       "    </tr>\n",
       "    <tr>\n",
       "      <th>40</th>\n",
       "      <td>5</td>\n",
       "      <td>90.0</td>\n",
       "    </tr>\n",
       "    <tr>\n",
       "      <th>41</th>\n",
       "      <td>5</td>\n",
       "      <td>NaN</td>\n",
       "    </tr>\n",
       "    <tr>\n",
       "      <th>42</th>\n",
       "      <td>5</td>\n",
       "      <td>91.0</td>\n",
       "    </tr>\n",
       "    <tr>\n",
       "      <th>43</th>\n",
       "      <td>5</td>\n",
       "      <td>92.0</td>\n",
       "    </tr>\n",
       "    <tr>\n",
       "      <th>44</th>\n",
       "      <td>5</td>\n",
       "      <td>93.0</td>\n",
       "    </tr>\n",
       "    <tr>\n",
       "      <th>45</th>\n",
       "      <td>5</td>\n",
       "      <td>94.0</td>\n",
       "    </tr>\n",
       "    <tr>\n",
       "      <th>46</th>\n",
       "      <td>5</td>\n",
       "      <td>95.0</td>\n",
       "    </tr>\n",
       "    <tr>\n",
       "      <th>47</th>\n",
       "      <td>5</td>\n",
       "      <td>96.0</td>\n",
       "    </tr>\n",
       "    <tr>\n",
       "      <th>48</th>\n",
       "      <td>5</td>\n",
       "      <td>97.0</td>\n",
       "    </tr>\n",
       "    <tr>\n",
       "      <th>49</th>\n",
       "      <td>5</td>\n",
       "      <td>98.0</td>\n",
       "    </tr>\n",
       "  </tbody>\n",
       "</table>\n",
       "</div>"
      ],
      "text/plain": [
       "    exam  grade\n",
       "0      1   86.0\n",
       "1      1   65.0\n",
       "2      1   70.0\n",
       "3      1   98.0\n",
       "4      1   89.0\n",
       "5      1    NaN\n",
       "6      1   75.0\n",
       "7      1   56.0\n",
       "8      1   90.0\n",
       "9      1   81.0\n",
       "10     2   79.0\n",
       "11     2   60.0\n",
       "12     2   78.0\n",
       "13     2   75.0\n",
       "14     2    NaN\n",
       "15     2   80.0\n",
       "16     2   87.0\n",
       "17     2   82.0\n",
       "18     2   95.0\n",
       "19     2   96.0\n",
       "20     3   78.0\n",
       "21     3   80.0\n",
       "22     3   87.0\n",
       "23     3    NaN\n",
       "24     3   89.0\n",
       "25     3   90.0\n",
       "26     3  100.0\n",
       "27     3   72.0\n",
       "28     3   73.0\n",
       "29     3   75.0\n",
       "30     4    NaN\n",
       "31     4   80.0\n",
       "32     4   81.0\n",
       "33     4   82.0\n",
       "34     4   83.0\n",
       "35     4   84.0\n",
       "36     4   85.0\n",
       "37     4   86.0\n",
       "38     4   87.0\n",
       "39     4   88.0\n",
       "40     5   90.0\n",
       "41     5    NaN\n",
       "42     5   91.0\n",
       "43     5   92.0\n",
       "44     5   93.0\n",
       "45     5   94.0\n",
       "46     5   95.0\n",
       "47     5   96.0\n",
       "48     5   97.0\n",
       "49     5   98.0"
      ]
     },
     "execution_count": 166,
     "metadata": {},
     "output_type": "execute_result"
    }
   ],
   "source": [
    "# select exam column and grade column from grades dataframe\n",
    "# result will be a pandas dataframe containing just those two columns\n",
    "grades.loc[:, ['exam', 'grade']]"
   ]
  },
  {
   "cell_type": "code",
   "execution_count": 167,
   "id": "2fafedd6",
   "metadata": {},
   "outputs": [
    {
     "data": {
      "text/html": [
       "<div>\n",
       "<style scoped>\n",
       "    .dataframe tbody tr th:only-of-type {\n",
       "        vertical-align: middle;\n",
       "    }\n",
       "\n",
       "    .dataframe tbody tr th {\n",
       "        vertical-align: top;\n",
       "    }\n",
       "\n",
       "    .dataframe thead th {\n",
       "        text-align: right;\n",
       "    }\n",
       "</style>\n",
       "<table border=\"1\" class=\"dataframe\">\n",
       "  <thead>\n",
       "    <tr style=\"text-align: right;\">\n",
       "      <th></th>\n",
       "      <th>grade</th>\n",
       "    </tr>\n",
       "  </thead>\n",
       "  <tbody>\n",
       "    <tr>\n",
       "      <th>0</th>\n",
       "      <td>86.0</td>\n",
       "    </tr>\n",
       "    <tr>\n",
       "      <th>1</th>\n",
       "      <td>65.0</td>\n",
       "    </tr>\n",
       "    <tr>\n",
       "      <th>2</th>\n",
       "      <td>70.0</td>\n",
       "    </tr>\n",
       "    <tr>\n",
       "      <th>3</th>\n",
       "      <td>98.0</td>\n",
       "    </tr>\n",
       "    <tr>\n",
       "      <th>4</th>\n",
       "      <td>89.0</td>\n",
       "    </tr>\n",
       "    <tr>\n",
       "      <th>5</th>\n",
       "      <td>NaN</td>\n",
       "    </tr>\n",
       "    <tr>\n",
       "      <th>6</th>\n",
       "      <td>75.0</td>\n",
       "    </tr>\n",
       "    <tr>\n",
       "      <th>7</th>\n",
       "      <td>56.0</td>\n",
       "    </tr>\n",
       "    <tr>\n",
       "      <th>8</th>\n",
       "      <td>90.0</td>\n",
       "    </tr>\n",
       "    <tr>\n",
       "      <th>9</th>\n",
       "      <td>81.0</td>\n",
       "    </tr>\n",
       "    <tr>\n",
       "      <th>10</th>\n",
       "      <td>79.0</td>\n",
       "    </tr>\n",
       "    <tr>\n",
       "      <th>11</th>\n",
       "      <td>60.0</td>\n",
       "    </tr>\n",
       "    <tr>\n",
       "      <th>12</th>\n",
       "      <td>78.0</td>\n",
       "    </tr>\n",
       "    <tr>\n",
       "      <th>13</th>\n",
       "      <td>75.0</td>\n",
       "    </tr>\n",
       "    <tr>\n",
       "      <th>14</th>\n",
       "      <td>NaN</td>\n",
       "    </tr>\n",
       "    <tr>\n",
       "      <th>15</th>\n",
       "      <td>80.0</td>\n",
       "    </tr>\n",
       "    <tr>\n",
       "      <th>16</th>\n",
       "      <td>87.0</td>\n",
       "    </tr>\n",
       "    <tr>\n",
       "      <th>17</th>\n",
       "      <td>82.0</td>\n",
       "    </tr>\n",
       "    <tr>\n",
       "      <th>18</th>\n",
       "      <td>95.0</td>\n",
       "    </tr>\n",
       "    <tr>\n",
       "      <th>19</th>\n",
       "      <td>96.0</td>\n",
       "    </tr>\n",
       "    <tr>\n",
       "      <th>20</th>\n",
       "      <td>78.0</td>\n",
       "    </tr>\n",
       "    <tr>\n",
       "      <th>21</th>\n",
       "      <td>80.0</td>\n",
       "    </tr>\n",
       "    <tr>\n",
       "      <th>22</th>\n",
       "      <td>87.0</td>\n",
       "    </tr>\n",
       "    <tr>\n",
       "      <th>23</th>\n",
       "      <td>NaN</td>\n",
       "    </tr>\n",
       "    <tr>\n",
       "      <th>24</th>\n",
       "      <td>89.0</td>\n",
       "    </tr>\n",
       "    <tr>\n",
       "      <th>25</th>\n",
       "      <td>90.0</td>\n",
       "    </tr>\n",
       "    <tr>\n",
       "      <th>26</th>\n",
       "      <td>100.0</td>\n",
       "    </tr>\n",
       "    <tr>\n",
       "      <th>27</th>\n",
       "      <td>72.0</td>\n",
       "    </tr>\n",
       "    <tr>\n",
       "      <th>28</th>\n",
       "      <td>73.0</td>\n",
       "    </tr>\n",
       "    <tr>\n",
       "      <th>29</th>\n",
       "      <td>75.0</td>\n",
       "    </tr>\n",
       "    <tr>\n",
       "      <th>30</th>\n",
       "      <td>NaN</td>\n",
       "    </tr>\n",
       "    <tr>\n",
       "      <th>31</th>\n",
       "      <td>80.0</td>\n",
       "    </tr>\n",
       "    <tr>\n",
       "      <th>32</th>\n",
       "      <td>81.0</td>\n",
       "    </tr>\n",
       "    <tr>\n",
       "      <th>33</th>\n",
       "      <td>82.0</td>\n",
       "    </tr>\n",
       "    <tr>\n",
       "      <th>34</th>\n",
       "      <td>83.0</td>\n",
       "    </tr>\n",
       "    <tr>\n",
       "      <th>35</th>\n",
       "      <td>84.0</td>\n",
       "    </tr>\n",
       "    <tr>\n",
       "      <th>36</th>\n",
       "      <td>85.0</td>\n",
       "    </tr>\n",
       "    <tr>\n",
       "      <th>37</th>\n",
       "      <td>86.0</td>\n",
       "    </tr>\n",
       "    <tr>\n",
       "      <th>38</th>\n",
       "      <td>87.0</td>\n",
       "    </tr>\n",
       "    <tr>\n",
       "      <th>39</th>\n",
       "      <td>88.0</td>\n",
       "    </tr>\n",
       "    <tr>\n",
       "      <th>40</th>\n",
       "      <td>90.0</td>\n",
       "    </tr>\n",
       "    <tr>\n",
       "      <th>41</th>\n",
       "      <td>NaN</td>\n",
       "    </tr>\n",
       "    <tr>\n",
       "      <th>42</th>\n",
       "      <td>91.0</td>\n",
       "    </tr>\n",
       "    <tr>\n",
       "      <th>43</th>\n",
       "      <td>92.0</td>\n",
       "    </tr>\n",
       "    <tr>\n",
       "      <th>44</th>\n",
       "      <td>93.0</td>\n",
       "    </tr>\n",
       "    <tr>\n",
       "      <th>45</th>\n",
       "      <td>94.0</td>\n",
       "    </tr>\n",
       "    <tr>\n",
       "      <th>46</th>\n",
       "      <td>95.0</td>\n",
       "    </tr>\n",
       "    <tr>\n",
       "      <th>47</th>\n",
       "      <td>96.0</td>\n",
       "    </tr>\n",
       "    <tr>\n",
       "      <th>48</th>\n",
       "      <td>97.0</td>\n",
       "    </tr>\n",
       "    <tr>\n",
       "      <th>49</th>\n",
       "      <td>98.0</td>\n",
       "    </tr>\n",
       "  </tbody>\n",
       "</table>\n",
       "</div>"
      ],
      "text/plain": [
       "    grade\n",
       "0    86.0\n",
       "1    65.0\n",
       "2    70.0\n",
       "3    98.0\n",
       "4    89.0\n",
       "5     NaN\n",
       "6    75.0\n",
       "7    56.0\n",
       "8    90.0\n",
       "9    81.0\n",
       "10   79.0\n",
       "11   60.0\n",
       "12   78.0\n",
       "13   75.0\n",
       "14    NaN\n",
       "15   80.0\n",
       "16   87.0\n",
       "17   82.0\n",
       "18   95.0\n",
       "19   96.0\n",
       "20   78.0\n",
       "21   80.0\n",
       "22   87.0\n",
       "23    NaN\n",
       "24   89.0\n",
       "25   90.0\n",
       "26  100.0\n",
       "27   72.0\n",
       "28   73.0\n",
       "29   75.0\n",
       "30    NaN\n",
       "31   80.0\n",
       "32   81.0\n",
       "33   82.0\n",
       "34   83.0\n",
       "35   84.0\n",
       "36   85.0\n",
       "37   86.0\n",
       "38   87.0\n",
       "39   88.0\n",
       "40   90.0\n",
       "41    NaN\n",
       "42   91.0\n",
       "43   92.0\n",
       "44   93.0\n",
       "45   94.0\n",
       "46   95.0\n",
       "47   96.0\n",
       "48   97.0\n",
       "49   98.0"
      ]
     },
     "execution_count": 167,
     "metadata": {},
     "output_type": "execute_result"
    }
   ],
   "source": [
    "# select grade column from grades dataframe\n",
    "# result will be a pandas dataframe containing just that column\n",
    "grades.loc[:, ['grade']]"
   ]
  },
  {
   "cell_type": "code",
   "execution_count": 168,
   "id": "4298a54a",
   "metadata": {},
   "outputs": [
    {
     "data": {
      "text/plain": [
       "exam           1.0\n",
       "student_id     1.0\n",
       "grade         86.0\n",
       "Name: 0, dtype: float64"
      ]
     },
     "execution_count": 168,
     "metadata": {},
     "output_type": "execute_result"
    }
   ],
   "source": [
    "# select row 0 from grades dataframe such that result is a pandas series\n",
    "grades.iloc[0]"
   ]
  },
  {
   "cell_type": "code",
   "execution_count": 169,
   "id": "74973771",
   "metadata": {},
   "outputs": [
    {
     "data": {
      "text/html": [
       "<div>\n",
       "<style scoped>\n",
       "    .dataframe tbody tr th:only-of-type {\n",
       "        vertical-align: middle;\n",
       "    }\n",
       "\n",
       "    .dataframe tbody tr th {\n",
       "        vertical-align: top;\n",
       "    }\n",
       "\n",
       "    .dataframe thead th {\n",
       "        text-align: right;\n",
       "    }\n",
       "</style>\n",
       "<table border=\"1\" class=\"dataframe\">\n",
       "  <thead>\n",
       "    <tr style=\"text-align: right;\">\n",
       "      <th></th>\n",
       "      <th>exam</th>\n",
       "      <th>student_id</th>\n",
       "      <th>grade</th>\n",
       "    </tr>\n",
       "  </thead>\n",
       "  <tbody>\n",
       "    <tr>\n",
       "      <th>0</th>\n",
       "      <td>1</td>\n",
       "      <td>1</td>\n",
       "      <td>86.0</td>\n",
       "    </tr>\n",
       "  </tbody>\n",
       "</table>\n",
       "</div>"
      ],
      "text/plain": [
       "   exam  student_id  grade\n",
       "0     1           1   86.0"
      ]
     },
     "execution_count": 169,
     "metadata": {},
     "output_type": "execute_result"
    }
   ],
   "source": [
    "# select row 0 from grades dataframe such that result is a pandas dataframe\n",
    "grades.iloc[[0], :]"
   ]
  },
  {
   "cell_type": "code",
   "execution_count": 170,
   "id": "8243cd7d",
   "metadata": {},
   "outputs": [
    {
     "data": {
      "text/html": [
       "<div>\n",
       "<style scoped>\n",
       "    .dataframe tbody tr th:only-of-type {\n",
       "        vertical-align: middle;\n",
       "    }\n",
       "\n",
       "    .dataframe tbody tr th {\n",
       "        vertical-align: top;\n",
       "    }\n",
       "\n",
       "    .dataframe thead th {\n",
       "        text-align: right;\n",
       "    }\n",
       "</style>\n",
       "<table border=\"1\" class=\"dataframe\">\n",
       "  <thead>\n",
       "    <tr style=\"text-align: right;\">\n",
       "      <th></th>\n",
       "      <th>exam</th>\n",
       "      <th>student_id</th>\n",
       "      <th>grade</th>\n",
       "    </tr>\n",
       "  </thead>\n",
       "  <tbody>\n",
       "    <tr>\n",
       "      <th>0</th>\n",
       "      <td>1</td>\n",
       "      <td>1</td>\n",
       "      <td>86.0</td>\n",
       "    </tr>\n",
       "    <tr>\n",
       "      <th>10</th>\n",
       "      <td>2</td>\n",
       "      <td>1</td>\n",
       "      <td>79.0</td>\n",
       "    </tr>\n",
       "  </tbody>\n",
       "</table>\n",
       "</div>"
      ],
      "text/plain": [
       "    exam  student_id  grade\n",
       "0      1           1   86.0\n",
       "10     2           1   79.0"
      ]
     },
     "execution_count": 170,
     "metadata": {},
     "output_type": "execute_result"
    }
   ],
   "source": [
    "# select row 0 and row 4 from grades dataframe\n",
    "# result will be a pandas dataframe\n",
    "grades.iloc[[0, 10], :]"
   ]
  },
  {
   "cell_type": "code",
   "execution_count": 171,
   "id": "a964f3bd",
   "metadata": {},
   "outputs": [
    {
     "data": {
      "text/plain": [
       "89.0"
      ]
     },
     "execution_count": 171,
     "metadata": {},
     "output_type": "execute_result"
    }
   ],
   "source": [
    "# select item at row 4 column 2 from grades dataframe\n",
    "grades.iloc[4, 2]"
   ]
  },
  {
   "cell_type": "code",
   "execution_count": 172,
   "id": "778cc95c",
   "metadata": {},
   "outputs": [
    {
     "data": {
      "text/html": [
       "<div>\n",
       "<style scoped>\n",
       "    .dataframe tbody tr th:only-of-type {\n",
       "        vertical-align: middle;\n",
       "    }\n",
       "\n",
       "    .dataframe tbody tr th {\n",
       "        vertical-align: top;\n",
       "    }\n",
       "\n",
       "    .dataframe thead th {\n",
       "        text-align: right;\n",
       "    }\n",
       "</style>\n",
       "<table border=\"1\" class=\"dataframe\">\n",
       "  <thead>\n",
       "    <tr style=\"text-align: right;\">\n",
       "      <th></th>\n",
       "      <th>exam</th>\n",
       "      <th>grade</th>\n",
       "    </tr>\n",
       "  </thead>\n",
       "  <tbody>\n",
       "    <tr>\n",
       "      <th>0</th>\n",
       "      <td>1</td>\n",
       "      <td>86.0</td>\n",
       "    </tr>\n",
       "    <tr>\n",
       "      <th>1</th>\n",
       "      <td>1</td>\n",
       "      <td>65.0</td>\n",
       "    </tr>\n",
       "    <tr>\n",
       "      <th>2</th>\n",
       "      <td>1</td>\n",
       "      <td>70.0</td>\n",
       "    </tr>\n",
       "    <tr>\n",
       "      <th>3</th>\n",
       "      <td>1</td>\n",
       "      <td>98.0</td>\n",
       "    </tr>\n",
       "    <tr>\n",
       "      <th>4</th>\n",
       "      <td>1</td>\n",
       "      <td>89.0</td>\n",
       "    </tr>\n",
       "    <tr>\n",
       "      <th>5</th>\n",
       "      <td>1</td>\n",
       "      <td>NaN</td>\n",
       "    </tr>\n",
       "    <tr>\n",
       "      <th>6</th>\n",
       "      <td>1</td>\n",
       "      <td>75.0</td>\n",
       "    </tr>\n",
       "    <tr>\n",
       "      <th>7</th>\n",
       "      <td>1</td>\n",
       "      <td>56.0</td>\n",
       "    </tr>\n",
       "    <tr>\n",
       "      <th>8</th>\n",
       "      <td>1</td>\n",
       "      <td>90.0</td>\n",
       "    </tr>\n",
       "    <tr>\n",
       "      <th>9</th>\n",
       "      <td>1</td>\n",
       "      <td>81.0</td>\n",
       "    </tr>\n",
       "    <tr>\n",
       "      <th>10</th>\n",
       "      <td>2</td>\n",
       "      <td>79.0</td>\n",
       "    </tr>\n",
       "    <tr>\n",
       "      <th>11</th>\n",
       "      <td>2</td>\n",
       "      <td>60.0</td>\n",
       "    </tr>\n",
       "    <tr>\n",
       "      <th>12</th>\n",
       "      <td>2</td>\n",
       "      <td>78.0</td>\n",
       "    </tr>\n",
       "    <tr>\n",
       "      <th>13</th>\n",
       "      <td>2</td>\n",
       "      <td>75.0</td>\n",
       "    </tr>\n",
       "    <tr>\n",
       "      <th>14</th>\n",
       "      <td>2</td>\n",
       "      <td>NaN</td>\n",
       "    </tr>\n",
       "    <tr>\n",
       "      <th>15</th>\n",
       "      <td>2</td>\n",
       "      <td>80.0</td>\n",
       "    </tr>\n",
       "    <tr>\n",
       "      <th>16</th>\n",
       "      <td>2</td>\n",
       "      <td>87.0</td>\n",
       "    </tr>\n",
       "    <tr>\n",
       "      <th>17</th>\n",
       "      <td>2</td>\n",
       "      <td>82.0</td>\n",
       "    </tr>\n",
       "    <tr>\n",
       "      <th>18</th>\n",
       "      <td>2</td>\n",
       "      <td>95.0</td>\n",
       "    </tr>\n",
       "    <tr>\n",
       "      <th>19</th>\n",
       "      <td>2</td>\n",
       "      <td>96.0</td>\n",
       "    </tr>\n",
       "    <tr>\n",
       "      <th>20</th>\n",
       "      <td>3</td>\n",
       "      <td>78.0</td>\n",
       "    </tr>\n",
       "    <tr>\n",
       "      <th>21</th>\n",
       "      <td>3</td>\n",
       "      <td>80.0</td>\n",
       "    </tr>\n",
       "    <tr>\n",
       "      <th>22</th>\n",
       "      <td>3</td>\n",
       "      <td>87.0</td>\n",
       "    </tr>\n",
       "    <tr>\n",
       "      <th>23</th>\n",
       "      <td>3</td>\n",
       "      <td>NaN</td>\n",
       "    </tr>\n",
       "    <tr>\n",
       "      <th>24</th>\n",
       "      <td>3</td>\n",
       "      <td>89.0</td>\n",
       "    </tr>\n",
       "    <tr>\n",
       "      <th>25</th>\n",
       "      <td>3</td>\n",
       "      <td>90.0</td>\n",
       "    </tr>\n",
       "    <tr>\n",
       "      <th>26</th>\n",
       "      <td>3</td>\n",
       "      <td>100.0</td>\n",
       "    </tr>\n",
       "    <tr>\n",
       "      <th>27</th>\n",
       "      <td>3</td>\n",
       "      <td>72.0</td>\n",
       "    </tr>\n",
       "    <tr>\n",
       "      <th>28</th>\n",
       "      <td>3</td>\n",
       "      <td>73.0</td>\n",
       "    </tr>\n",
       "    <tr>\n",
       "      <th>29</th>\n",
       "      <td>3</td>\n",
       "      <td>75.0</td>\n",
       "    </tr>\n",
       "    <tr>\n",
       "      <th>30</th>\n",
       "      <td>4</td>\n",
       "      <td>NaN</td>\n",
       "    </tr>\n",
       "    <tr>\n",
       "      <th>31</th>\n",
       "      <td>4</td>\n",
       "      <td>80.0</td>\n",
       "    </tr>\n",
       "    <tr>\n",
       "      <th>32</th>\n",
       "      <td>4</td>\n",
       "      <td>81.0</td>\n",
       "    </tr>\n",
       "    <tr>\n",
       "      <th>33</th>\n",
       "      <td>4</td>\n",
       "      <td>82.0</td>\n",
       "    </tr>\n",
       "    <tr>\n",
       "      <th>34</th>\n",
       "      <td>4</td>\n",
       "      <td>83.0</td>\n",
       "    </tr>\n",
       "    <tr>\n",
       "      <th>35</th>\n",
       "      <td>4</td>\n",
       "      <td>84.0</td>\n",
       "    </tr>\n",
       "    <tr>\n",
       "      <th>36</th>\n",
       "      <td>4</td>\n",
       "      <td>85.0</td>\n",
       "    </tr>\n",
       "    <tr>\n",
       "      <th>37</th>\n",
       "      <td>4</td>\n",
       "      <td>86.0</td>\n",
       "    </tr>\n",
       "    <tr>\n",
       "      <th>38</th>\n",
       "      <td>4</td>\n",
       "      <td>87.0</td>\n",
       "    </tr>\n",
       "    <tr>\n",
       "      <th>39</th>\n",
       "      <td>4</td>\n",
       "      <td>88.0</td>\n",
       "    </tr>\n",
       "    <tr>\n",
       "      <th>40</th>\n",
       "      <td>5</td>\n",
       "      <td>90.0</td>\n",
       "    </tr>\n",
       "    <tr>\n",
       "      <th>41</th>\n",
       "      <td>5</td>\n",
       "      <td>NaN</td>\n",
       "    </tr>\n",
       "    <tr>\n",
       "      <th>42</th>\n",
       "      <td>5</td>\n",
       "      <td>91.0</td>\n",
       "    </tr>\n",
       "    <tr>\n",
       "      <th>43</th>\n",
       "      <td>5</td>\n",
       "      <td>92.0</td>\n",
       "    </tr>\n",
       "    <tr>\n",
       "      <th>44</th>\n",
       "      <td>5</td>\n",
       "      <td>93.0</td>\n",
       "    </tr>\n",
       "    <tr>\n",
       "      <th>45</th>\n",
       "      <td>5</td>\n",
       "      <td>94.0</td>\n",
       "    </tr>\n",
       "    <tr>\n",
       "      <th>46</th>\n",
       "      <td>5</td>\n",
       "      <td>95.0</td>\n",
       "    </tr>\n",
       "    <tr>\n",
       "      <th>47</th>\n",
       "      <td>5</td>\n",
       "      <td>96.0</td>\n",
       "    </tr>\n",
       "    <tr>\n",
       "      <th>48</th>\n",
       "      <td>5</td>\n",
       "      <td>97.0</td>\n",
       "    </tr>\n",
       "    <tr>\n",
       "      <th>49</th>\n",
       "      <td>5</td>\n",
       "      <td>98.0</td>\n",
       "    </tr>\n",
       "  </tbody>\n",
       "</table>\n",
       "</div>"
      ],
      "text/plain": [
       "    exam  grade\n",
       "0      1   86.0\n",
       "1      1   65.0\n",
       "2      1   70.0\n",
       "3      1   98.0\n",
       "4      1   89.0\n",
       "5      1    NaN\n",
       "6      1   75.0\n",
       "7      1   56.0\n",
       "8      1   90.0\n",
       "9      1   81.0\n",
       "10     2   79.0\n",
       "11     2   60.0\n",
       "12     2   78.0\n",
       "13     2   75.0\n",
       "14     2    NaN\n",
       "15     2   80.0\n",
       "16     2   87.0\n",
       "17     2   82.0\n",
       "18     2   95.0\n",
       "19     2   96.0\n",
       "20     3   78.0\n",
       "21     3   80.0\n",
       "22     3   87.0\n",
       "23     3    NaN\n",
       "24     3   89.0\n",
       "25     3   90.0\n",
       "26     3  100.0\n",
       "27     3   72.0\n",
       "28     3   73.0\n",
       "29     3   75.0\n",
       "30     4    NaN\n",
       "31     4   80.0\n",
       "32     4   81.0\n",
       "33     4   82.0\n",
       "34     4   83.0\n",
       "35     4   84.0\n",
       "36     4   85.0\n",
       "37     4   86.0\n",
       "38     4   87.0\n",
       "39     4   88.0\n",
       "40     5   90.0\n",
       "41     5    NaN\n",
       "42     5   91.0\n",
       "43     5   92.0\n",
       "44     5   93.0\n",
       "45     5   94.0\n",
       "46     5   95.0\n",
       "47     5   96.0\n",
       "48     5   97.0\n",
       "49     5   98.0"
      ]
     },
     "execution_count": 172,
     "metadata": {},
     "output_type": "execute_result"
    }
   ],
   "source": [
    "# select column 0 and column 2 from grades dataframe\n",
    "# result will be a pandas dataframe\n",
    "grades.iloc[:, [0, 2]]"
   ]
  },
  {
   "cell_type": "code",
   "execution_count": 173,
   "id": "c2dbf755",
   "metadata": {},
   "outputs": [
    {
     "data": {
      "text/html": [
       "<div>\n",
       "<style scoped>\n",
       "    .dataframe tbody tr th:only-of-type {\n",
       "        vertical-align: middle;\n",
       "    }\n",
       "\n",
       "    .dataframe tbody tr th {\n",
       "        vertical-align: top;\n",
       "    }\n",
       "\n",
       "    .dataframe thead th {\n",
       "        text-align: right;\n",
       "    }\n",
       "</style>\n",
       "<table border=\"1\" class=\"dataframe\">\n",
       "  <thead>\n",
       "    <tr style=\"text-align: right;\">\n",
       "      <th></th>\n",
       "      <th>exam</th>\n",
       "      <th>student_id</th>\n",
       "      <th>grade</th>\n",
       "    </tr>\n",
       "  </thead>\n",
       "  <tbody>\n",
       "    <tr>\n",
       "      <th>0</th>\n",
       "      <td>1</td>\n",
       "      <td>1</td>\n",
       "      <td>86.0</td>\n",
       "    </tr>\n",
       "    <tr>\n",
       "      <th>2</th>\n",
       "      <td>1</td>\n",
       "      <td>3</td>\n",
       "      <td>70.0</td>\n",
       "    </tr>\n",
       "  </tbody>\n",
       "</table>\n",
       "</div>"
      ],
      "text/plain": [
       "   exam  student_id  grade\n",
       "0     1           1   86.0\n",
       "2     1           3   70.0"
      ]
     },
     "execution_count": 173,
     "metadata": {},
     "output_type": "execute_result"
    }
   ],
   "source": [
    "# select row 0 and row 2 from grades dataframe\n",
    "# result will be a pandas dataframe\n",
    "grades.iloc[[0, 2], :]"
   ]
  },
  {
   "cell_type": "code",
   "execution_count": 174,
   "id": "dddd0032",
   "metadata": {},
   "outputs": [
    {
     "data": {
      "text/html": [
       "<div>\n",
       "<style scoped>\n",
       "    .dataframe tbody tr th:only-of-type {\n",
       "        vertical-align: middle;\n",
       "    }\n",
       "\n",
       "    .dataframe tbody tr th {\n",
       "        vertical-align: top;\n",
       "    }\n",
       "\n",
       "    .dataframe thead th {\n",
       "        text-align: right;\n",
       "    }\n",
       "</style>\n",
       "<table border=\"1\" class=\"dataframe\">\n",
       "  <thead>\n",
       "    <tr style=\"text-align: right;\">\n",
       "      <th></th>\n",
       "      <th>exam</th>\n",
       "      <th>grade</th>\n",
       "    </tr>\n",
       "  </thead>\n",
       "  <tbody>\n",
       "    <tr>\n",
       "      <th>35</th>\n",
       "      <td>4</td>\n",
       "      <td>84.0</td>\n",
       "    </tr>\n",
       "    <tr>\n",
       "      <th>45</th>\n",
       "      <td>5</td>\n",
       "      <td>94.0</td>\n",
       "    </tr>\n",
       "  </tbody>\n",
       "</table>\n",
       "</div>"
      ],
      "text/plain": [
       "    exam  grade\n",
       "35     4   84.0\n",
       "45     5   94.0"
      ]
     },
     "execution_count": 174,
     "metadata": {},
     "output_type": "execute_result"
    }
   ],
   "source": [
    "# select rows 35 and 45 and columns 0 and 2 from grades dataframe\n",
    "# result will be a pandas dataframe\n",
    "grades.iloc[[35, 45], [0, 2]]"
   ]
  },
  {
   "cell_type": "code",
   "execution_count": 175,
   "id": "6edf2847",
   "metadata": {},
   "outputs": [
    {
     "data": {
      "text/html": [
       "<div>\n",
       "<style scoped>\n",
       "    .dataframe tbody tr th:only-of-type {\n",
       "        vertical-align: middle;\n",
       "    }\n",
       "\n",
       "    .dataframe tbody tr th {\n",
       "        vertical-align: top;\n",
       "    }\n",
       "\n",
       "    .dataframe thead th {\n",
       "        text-align: right;\n",
       "    }\n",
       "</style>\n",
       "<table border=\"1\" class=\"dataframe\">\n",
       "  <thead>\n",
       "    <tr style=\"text-align: right;\">\n",
       "      <th></th>\n",
       "      <th>exam</th>\n",
       "      <th>student_id</th>\n",
       "      <th>grade</th>\n",
       "    </tr>\n",
       "  </thead>\n",
       "  <tbody>\n",
       "    <tr>\n",
       "      <th>0</th>\n",
       "      <td>1</td>\n",
       "      <td>1</td>\n",
       "      <td>86.0</td>\n",
       "    </tr>\n",
       "    <tr>\n",
       "      <th>2</th>\n",
       "      <td>1</td>\n",
       "      <td>3</td>\n",
       "      <td>70.0</td>\n",
       "    </tr>\n",
       "    <tr>\n",
       "      <th>3</th>\n",
       "      <td>1</td>\n",
       "      <td>4</td>\n",
       "      <td>98.0</td>\n",
       "    </tr>\n",
       "    <tr>\n",
       "      <th>4</th>\n",
       "      <td>1</td>\n",
       "      <td>5</td>\n",
       "      <td>89.0</td>\n",
       "    </tr>\n",
       "    <tr>\n",
       "      <th>6</th>\n",
       "      <td>1</td>\n",
       "      <td>7</td>\n",
       "      <td>75.0</td>\n",
       "    </tr>\n",
       "    <tr>\n",
       "      <th>8</th>\n",
       "      <td>1</td>\n",
       "      <td>9</td>\n",
       "      <td>90.0</td>\n",
       "    </tr>\n",
       "    <tr>\n",
       "      <th>9</th>\n",
       "      <td>1</td>\n",
       "      <td>10</td>\n",
       "      <td>81.0</td>\n",
       "    </tr>\n",
       "    <tr>\n",
       "      <th>10</th>\n",
       "      <td>2</td>\n",
       "      <td>1</td>\n",
       "      <td>79.0</td>\n",
       "    </tr>\n",
       "    <tr>\n",
       "      <th>12</th>\n",
       "      <td>2</td>\n",
       "      <td>3</td>\n",
       "      <td>78.0</td>\n",
       "    </tr>\n",
       "    <tr>\n",
       "      <th>13</th>\n",
       "      <td>2</td>\n",
       "      <td>4</td>\n",
       "      <td>75.0</td>\n",
       "    </tr>\n",
       "    <tr>\n",
       "      <th>15</th>\n",
       "      <td>2</td>\n",
       "      <td>6</td>\n",
       "      <td>80.0</td>\n",
       "    </tr>\n",
       "    <tr>\n",
       "      <th>16</th>\n",
       "      <td>2</td>\n",
       "      <td>7</td>\n",
       "      <td>87.0</td>\n",
       "    </tr>\n",
       "    <tr>\n",
       "      <th>17</th>\n",
       "      <td>2</td>\n",
       "      <td>8</td>\n",
       "      <td>82.0</td>\n",
       "    </tr>\n",
       "    <tr>\n",
       "      <th>18</th>\n",
       "      <td>2</td>\n",
       "      <td>9</td>\n",
       "      <td>95.0</td>\n",
       "    </tr>\n",
       "    <tr>\n",
       "      <th>19</th>\n",
       "      <td>2</td>\n",
       "      <td>10</td>\n",
       "      <td>96.0</td>\n",
       "    </tr>\n",
       "    <tr>\n",
       "      <th>20</th>\n",
       "      <td>3</td>\n",
       "      <td>1</td>\n",
       "      <td>78.0</td>\n",
       "    </tr>\n",
       "    <tr>\n",
       "      <th>21</th>\n",
       "      <td>3</td>\n",
       "      <td>2</td>\n",
       "      <td>80.0</td>\n",
       "    </tr>\n",
       "    <tr>\n",
       "      <th>22</th>\n",
       "      <td>3</td>\n",
       "      <td>3</td>\n",
       "      <td>87.0</td>\n",
       "    </tr>\n",
       "    <tr>\n",
       "      <th>24</th>\n",
       "      <td>3</td>\n",
       "      <td>5</td>\n",
       "      <td>89.0</td>\n",
       "    </tr>\n",
       "    <tr>\n",
       "      <th>25</th>\n",
       "      <td>3</td>\n",
       "      <td>6</td>\n",
       "      <td>90.0</td>\n",
       "    </tr>\n",
       "    <tr>\n",
       "      <th>26</th>\n",
       "      <td>3</td>\n",
       "      <td>7</td>\n",
       "      <td>100.0</td>\n",
       "    </tr>\n",
       "    <tr>\n",
       "      <th>27</th>\n",
       "      <td>3</td>\n",
       "      <td>8</td>\n",
       "      <td>72.0</td>\n",
       "    </tr>\n",
       "    <tr>\n",
       "      <th>28</th>\n",
       "      <td>3</td>\n",
       "      <td>9</td>\n",
       "      <td>73.0</td>\n",
       "    </tr>\n",
       "    <tr>\n",
       "      <th>29</th>\n",
       "      <td>3</td>\n",
       "      <td>10</td>\n",
       "      <td>75.0</td>\n",
       "    </tr>\n",
       "    <tr>\n",
       "      <th>31</th>\n",
       "      <td>4</td>\n",
       "      <td>2</td>\n",
       "      <td>80.0</td>\n",
       "    </tr>\n",
       "    <tr>\n",
       "      <th>32</th>\n",
       "      <td>4</td>\n",
       "      <td>3</td>\n",
       "      <td>81.0</td>\n",
       "    </tr>\n",
       "    <tr>\n",
       "      <th>33</th>\n",
       "      <td>4</td>\n",
       "      <td>4</td>\n",
       "      <td>82.0</td>\n",
       "    </tr>\n",
       "    <tr>\n",
       "      <th>34</th>\n",
       "      <td>4</td>\n",
       "      <td>5</td>\n",
       "      <td>83.0</td>\n",
       "    </tr>\n",
       "    <tr>\n",
       "      <th>35</th>\n",
       "      <td>4</td>\n",
       "      <td>6</td>\n",
       "      <td>84.0</td>\n",
       "    </tr>\n",
       "    <tr>\n",
       "      <th>36</th>\n",
       "      <td>4</td>\n",
       "      <td>7</td>\n",
       "      <td>85.0</td>\n",
       "    </tr>\n",
       "    <tr>\n",
       "      <th>37</th>\n",
       "      <td>4</td>\n",
       "      <td>8</td>\n",
       "      <td>86.0</td>\n",
       "    </tr>\n",
       "    <tr>\n",
       "      <th>38</th>\n",
       "      <td>4</td>\n",
       "      <td>9</td>\n",
       "      <td>87.0</td>\n",
       "    </tr>\n",
       "    <tr>\n",
       "      <th>39</th>\n",
       "      <td>4</td>\n",
       "      <td>10</td>\n",
       "      <td>88.0</td>\n",
       "    </tr>\n",
       "    <tr>\n",
       "      <th>40</th>\n",
       "      <td>5</td>\n",
       "      <td>1</td>\n",
       "      <td>90.0</td>\n",
       "    </tr>\n",
       "    <tr>\n",
       "      <th>42</th>\n",
       "      <td>5</td>\n",
       "      <td>3</td>\n",
       "      <td>91.0</td>\n",
       "    </tr>\n",
       "    <tr>\n",
       "      <th>43</th>\n",
       "      <td>5</td>\n",
       "      <td>4</td>\n",
       "      <td>92.0</td>\n",
       "    </tr>\n",
       "    <tr>\n",
       "      <th>44</th>\n",
       "      <td>5</td>\n",
       "      <td>5</td>\n",
       "      <td>93.0</td>\n",
       "    </tr>\n",
       "    <tr>\n",
       "      <th>45</th>\n",
       "      <td>5</td>\n",
       "      <td>6</td>\n",
       "      <td>94.0</td>\n",
       "    </tr>\n",
       "    <tr>\n",
       "      <th>46</th>\n",
       "      <td>5</td>\n",
       "      <td>7</td>\n",
       "      <td>95.0</td>\n",
       "    </tr>\n",
       "    <tr>\n",
       "      <th>47</th>\n",
       "      <td>5</td>\n",
       "      <td>8</td>\n",
       "      <td>96.0</td>\n",
       "    </tr>\n",
       "    <tr>\n",
       "      <th>48</th>\n",
       "      <td>5</td>\n",
       "      <td>9</td>\n",
       "      <td>97.0</td>\n",
       "    </tr>\n",
       "    <tr>\n",
       "      <th>49</th>\n",
       "      <td>5</td>\n",
       "      <td>10</td>\n",
       "      <td>98.0</td>\n",
       "    </tr>\n",
       "  </tbody>\n",
       "</table>\n",
       "</div>"
      ],
      "text/plain": [
       "    exam  student_id  grade\n",
       "0      1           1   86.0\n",
       "2      1           3   70.0\n",
       "3      1           4   98.0\n",
       "4      1           5   89.0\n",
       "6      1           7   75.0\n",
       "8      1           9   90.0\n",
       "9      1          10   81.0\n",
       "10     2           1   79.0\n",
       "12     2           3   78.0\n",
       "13     2           4   75.0\n",
       "15     2           6   80.0\n",
       "16     2           7   87.0\n",
       "17     2           8   82.0\n",
       "18     2           9   95.0\n",
       "19     2          10   96.0\n",
       "20     3           1   78.0\n",
       "21     3           2   80.0\n",
       "22     3           3   87.0\n",
       "24     3           5   89.0\n",
       "25     3           6   90.0\n",
       "26     3           7  100.0\n",
       "27     3           8   72.0\n",
       "28     3           9   73.0\n",
       "29     3          10   75.0\n",
       "31     4           2   80.0\n",
       "32     4           3   81.0\n",
       "33     4           4   82.0\n",
       "34     4           5   83.0\n",
       "35     4           6   84.0\n",
       "36     4           7   85.0\n",
       "37     4           8   86.0\n",
       "38     4           9   87.0\n",
       "39     4          10   88.0\n",
       "40     5           1   90.0\n",
       "42     5           3   91.0\n",
       "43     5           4   92.0\n",
       "44     5           5   93.0\n",
       "45     5           6   94.0\n",
       "46     5           7   95.0\n",
       "47     5           8   96.0\n",
       "48     5           9   97.0\n",
       "49     5          10   98.0"
      ]
     },
     "execution_count": 175,
     "metadata": {},
     "output_type": "execute_result"
    }
   ],
   "source": [
    "# select every row from grades dataframe for which entry in grade column is atleast 70.0\n",
    "grades[grades['grade'] >= 70.0]"
   ]
  },
  {
   "cell_type": "code",
   "execution_count": 176,
   "id": "6e42ef32",
   "metadata": {},
   "outputs": [
    {
     "data": {
      "text/html": [
       "<div>\n",
       "<style scoped>\n",
       "    .dataframe tbody tr th:only-of-type {\n",
       "        vertical-align: middle;\n",
       "    }\n",
       "\n",
       "    .dataframe tbody tr th {\n",
       "        vertical-align: top;\n",
       "    }\n",
       "\n",
       "    .dataframe thead th {\n",
       "        text-align: right;\n",
       "    }\n",
       "</style>\n",
       "<table border=\"1\" class=\"dataframe\">\n",
       "  <thead>\n",
       "    <tr style=\"text-align: right;\">\n",
       "      <th></th>\n",
       "      <th>exam</th>\n",
       "      <th>student_id</th>\n",
       "      <th>grade</th>\n",
       "    </tr>\n",
       "  </thead>\n",
       "  <tbody>\n",
       "    <tr>\n",
       "      <th>40</th>\n",
       "      <td>5</td>\n",
       "      <td>1</td>\n",
       "      <td>90.0</td>\n",
       "    </tr>\n",
       "    <tr>\n",
       "      <th>42</th>\n",
       "      <td>5</td>\n",
       "      <td>3</td>\n",
       "      <td>91.0</td>\n",
       "    </tr>\n",
       "    <tr>\n",
       "      <th>43</th>\n",
       "      <td>5</td>\n",
       "      <td>4</td>\n",
       "      <td>92.0</td>\n",
       "    </tr>\n",
       "    <tr>\n",
       "      <th>44</th>\n",
       "      <td>5</td>\n",
       "      <td>5</td>\n",
       "      <td>93.0</td>\n",
       "    </tr>\n",
       "    <tr>\n",
       "      <th>45</th>\n",
       "      <td>5</td>\n",
       "      <td>6</td>\n",
       "      <td>94.0</td>\n",
       "    </tr>\n",
       "    <tr>\n",
       "      <th>46</th>\n",
       "      <td>5</td>\n",
       "      <td>7</td>\n",
       "      <td>95.0</td>\n",
       "    </tr>\n",
       "    <tr>\n",
       "      <th>47</th>\n",
       "      <td>5</td>\n",
       "      <td>8</td>\n",
       "      <td>96.0</td>\n",
       "    </tr>\n",
       "    <tr>\n",
       "      <th>48</th>\n",
       "      <td>5</td>\n",
       "      <td>9</td>\n",
       "      <td>97.0</td>\n",
       "    </tr>\n",
       "    <tr>\n",
       "      <th>49</th>\n",
       "      <td>5</td>\n",
       "      <td>10</td>\n",
       "      <td>98.0</td>\n",
       "    </tr>\n",
       "  </tbody>\n",
       "</table>\n",
       "</div>"
      ],
      "text/plain": [
       "    exam  student_id  grade\n",
       "40     5           1   90.0\n",
       "42     5           3   91.0\n",
       "43     5           4   92.0\n",
       "44     5           5   93.0\n",
       "45     5           6   94.0\n",
       "46     5           7   95.0\n",
       "47     5           8   96.0\n",
       "48     5           9   97.0\n",
       "49     5          10   98.0"
      ]
     },
     "execution_count": 176,
     "metadata": {},
     "output_type": "execute_result"
    }
   ],
   "source": [
    "# select all data representing students' grades on exam no. 5 that were atleast 70.0%\n",
    "# in other words, select every row from grades dataframe for which \n",
    "# entry in exam column is 5 and entry in grade column is atleast 70.0\n",
    "grades[(grades['exam'] == 5) & (grades['grade'] >= 70.0)]"
   ]
  },
  {
   "cell_type": "markdown",
   "id": "e4b7c7ef",
   "metadata": {},
   "source": [
    "## Modifying pandas objects"
   ]
  },
  {
   "cell_type": "code",
   "execution_count": 177,
   "id": "d1f2fe9b",
   "metadata": {},
   "outputs": [],
   "source": [
    "# read grades.csv into a pandas dataframe & save the dataframe in a variable\n",
    "grades = pd.read_csv('grades.csv')"
   ]
  },
  {
   "cell_type": "code",
   "execution_count": 178,
   "id": "55c37b95",
   "metadata": {},
   "outputs": [
    {
     "data": {
      "text/html": [
       "<div>\n",
       "<style scoped>\n",
       "    .dataframe tbody tr th:only-of-type {\n",
       "        vertical-align: middle;\n",
       "    }\n",
       "\n",
       "    .dataframe tbody tr th {\n",
       "        vertical-align: top;\n",
       "    }\n",
       "\n",
       "    .dataframe thead th {\n",
       "        text-align: right;\n",
       "    }\n",
       "</style>\n",
       "<table border=\"1\" class=\"dataframe\">\n",
       "  <thead>\n",
       "    <tr style=\"text-align: right;\">\n",
       "      <th></th>\n",
       "      <th>exam</th>\n",
       "      <th>student_id</th>\n",
       "      <th>grade</th>\n",
       "    </tr>\n",
       "  </thead>\n",
       "  <tbody>\n",
       "    <tr>\n",
       "      <th>0</th>\n",
       "      <td>1</td>\n",
       "      <td>1</td>\n",
       "      <td>86.0</td>\n",
       "    </tr>\n",
       "    <tr>\n",
       "      <th>1</th>\n",
       "      <td>1</td>\n",
       "      <td>2</td>\n",
       "      <td>65.0</td>\n",
       "    </tr>\n",
       "    <tr>\n",
       "      <th>2</th>\n",
       "      <td>1</td>\n",
       "      <td>3</td>\n",
       "      <td>70.0</td>\n",
       "    </tr>\n",
       "    <tr>\n",
       "      <th>3</th>\n",
       "      <td>1</td>\n",
       "      <td>4</td>\n",
       "      <td>98.0</td>\n",
       "    </tr>\n",
       "    <tr>\n",
       "      <th>4</th>\n",
       "      <td>1</td>\n",
       "      <td>5</td>\n",
       "      <td>89.0</td>\n",
       "    </tr>\n",
       "    <tr>\n",
       "      <th>5</th>\n",
       "      <td>1</td>\n",
       "      <td>6</td>\n",
       "      <td>NaN</td>\n",
       "    </tr>\n",
       "    <tr>\n",
       "      <th>6</th>\n",
       "      <td>1</td>\n",
       "      <td>7</td>\n",
       "      <td>75.0</td>\n",
       "    </tr>\n",
       "    <tr>\n",
       "      <th>7</th>\n",
       "      <td>1</td>\n",
       "      <td>8</td>\n",
       "      <td>56.0</td>\n",
       "    </tr>\n",
       "    <tr>\n",
       "      <th>8</th>\n",
       "      <td>1</td>\n",
       "      <td>9</td>\n",
       "      <td>90.0</td>\n",
       "    </tr>\n",
       "    <tr>\n",
       "      <th>9</th>\n",
       "      <td>1</td>\n",
       "      <td>10</td>\n",
       "      <td>81.0</td>\n",
       "    </tr>\n",
       "    <tr>\n",
       "      <th>10</th>\n",
       "      <td>2</td>\n",
       "      <td>1</td>\n",
       "      <td>79.0</td>\n",
       "    </tr>\n",
       "    <tr>\n",
       "      <th>11</th>\n",
       "      <td>2</td>\n",
       "      <td>2</td>\n",
       "      <td>60.0</td>\n",
       "    </tr>\n",
       "    <tr>\n",
       "      <th>12</th>\n",
       "      <td>2</td>\n",
       "      <td>3</td>\n",
       "      <td>78.0</td>\n",
       "    </tr>\n",
       "    <tr>\n",
       "      <th>13</th>\n",
       "      <td>2</td>\n",
       "      <td>4</td>\n",
       "      <td>75.0</td>\n",
       "    </tr>\n",
       "    <tr>\n",
       "      <th>14</th>\n",
       "      <td>2</td>\n",
       "      <td>5</td>\n",
       "      <td>NaN</td>\n",
       "    </tr>\n",
       "    <tr>\n",
       "      <th>15</th>\n",
       "      <td>2</td>\n",
       "      <td>6</td>\n",
       "      <td>80.0</td>\n",
       "    </tr>\n",
       "    <tr>\n",
       "      <th>16</th>\n",
       "      <td>2</td>\n",
       "      <td>7</td>\n",
       "      <td>87.0</td>\n",
       "    </tr>\n",
       "    <tr>\n",
       "      <th>17</th>\n",
       "      <td>2</td>\n",
       "      <td>8</td>\n",
       "      <td>82.0</td>\n",
       "    </tr>\n",
       "    <tr>\n",
       "      <th>18</th>\n",
       "      <td>2</td>\n",
       "      <td>9</td>\n",
       "      <td>95.0</td>\n",
       "    </tr>\n",
       "    <tr>\n",
       "      <th>19</th>\n",
       "      <td>2</td>\n",
       "      <td>10</td>\n",
       "      <td>96.0</td>\n",
       "    </tr>\n",
       "    <tr>\n",
       "      <th>20</th>\n",
       "      <td>3</td>\n",
       "      <td>1</td>\n",
       "      <td>78.0</td>\n",
       "    </tr>\n",
       "    <tr>\n",
       "      <th>21</th>\n",
       "      <td>3</td>\n",
       "      <td>2</td>\n",
       "      <td>80.0</td>\n",
       "    </tr>\n",
       "    <tr>\n",
       "      <th>22</th>\n",
       "      <td>3</td>\n",
       "      <td>3</td>\n",
       "      <td>87.0</td>\n",
       "    </tr>\n",
       "    <tr>\n",
       "      <th>23</th>\n",
       "      <td>3</td>\n",
       "      <td>4</td>\n",
       "      <td>NaN</td>\n",
       "    </tr>\n",
       "    <tr>\n",
       "      <th>24</th>\n",
       "      <td>3</td>\n",
       "      <td>5</td>\n",
       "      <td>89.0</td>\n",
       "    </tr>\n",
       "    <tr>\n",
       "      <th>25</th>\n",
       "      <td>3</td>\n",
       "      <td>6</td>\n",
       "      <td>90.0</td>\n",
       "    </tr>\n",
       "    <tr>\n",
       "      <th>26</th>\n",
       "      <td>3</td>\n",
       "      <td>7</td>\n",
       "      <td>100.0</td>\n",
       "    </tr>\n",
       "    <tr>\n",
       "      <th>27</th>\n",
       "      <td>3</td>\n",
       "      <td>8</td>\n",
       "      <td>72.0</td>\n",
       "    </tr>\n",
       "    <tr>\n",
       "      <th>28</th>\n",
       "      <td>3</td>\n",
       "      <td>9</td>\n",
       "      <td>73.0</td>\n",
       "    </tr>\n",
       "    <tr>\n",
       "      <th>29</th>\n",
       "      <td>3</td>\n",
       "      <td>10</td>\n",
       "      <td>75.0</td>\n",
       "    </tr>\n",
       "    <tr>\n",
       "      <th>30</th>\n",
       "      <td>4</td>\n",
       "      <td>1</td>\n",
       "      <td>NaN</td>\n",
       "    </tr>\n",
       "    <tr>\n",
       "      <th>31</th>\n",
       "      <td>4</td>\n",
       "      <td>2</td>\n",
       "      <td>80.0</td>\n",
       "    </tr>\n",
       "    <tr>\n",
       "      <th>32</th>\n",
       "      <td>4</td>\n",
       "      <td>3</td>\n",
       "      <td>81.0</td>\n",
       "    </tr>\n",
       "    <tr>\n",
       "      <th>33</th>\n",
       "      <td>4</td>\n",
       "      <td>4</td>\n",
       "      <td>82.0</td>\n",
       "    </tr>\n",
       "    <tr>\n",
       "      <th>34</th>\n",
       "      <td>4</td>\n",
       "      <td>5</td>\n",
       "      <td>83.0</td>\n",
       "    </tr>\n",
       "    <tr>\n",
       "      <th>35</th>\n",
       "      <td>4</td>\n",
       "      <td>6</td>\n",
       "      <td>84.0</td>\n",
       "    </tr>\n",
       "    <tr>\n",
       "      <th>36</th>\n",
       "      <td>4</td>\n",
       "      <td>7</td>\n",
       "      <td>85.0</td>\n",
       "    </tr>\n",
       "    <tr>\n",
       "      <th>37</th>\n",
       "      <td>4</td>\n",
       "      <td>8</td>\n",
       "      <td>86.0</td>\n",
       "    </tr>\n",
       "    <tr>\n",
       "      <th>38</th>\n",
       "      <td>4</td>\n",
       "      <td>9</td>\n",
       "      <td>87.0</td>\n",
       "    </tr>\n",
       "    <tr>\n",
       "      <th>39</th>\n",
       "      <td>4</td>\n",
       "      <td>10</td>\n",
       "      <td>88.0</td>\n",
       "    </tr>\n",
       "    <tr>\n",
       "      <th>40</th>\n",
       "      <td>5</td>\n",
       "      <td>1</td>\n",
       "      <td>90.0</td>\n",
       "    </tr>\n",
       "    <tr>\n",
       "      <th>41</th>\n",
       "      <td>5</td>\n",
       "      <td>2</td>\n",
       "      <td>NaN</td>\n",
       "    </tr>\n",
       "    <tr>\n",
       "      <th>42</th>\n",
       "      <td>5</td>\n",
       "      <td>3</td>\n",
       "      <td>91.0</td>\n",
       "    </tr>\n",
       "    <tr>\n",
       "      <th>43</th>\n",
       "      <td>5</td>\n",
       "      <td>4</td>\n",
       "      <td>92.0</td>\n",
       "    </tr>\n",
       "    <tr>\n",
       "      <th>44</th>\n",
       "      <td>5</td>\n",
       "      <td>5</td>\n",
       "      <td>93.0</td>\n",
       "    </tr>\n",
       "    <tr>\n",
       "      <th>45</th>\n",
       "      <td>5</td>\n",
       "      <td>6</td>\n",
       "      <td>94.0</td>\n",
       "    </tr>\n",
       "    <tr>\n",
       "      <th>46</th>\n",
       "      <td>5</td>\n",
       "      <td>7</td>\n",
       "      <td>95.0</td>\n",
       "    </tr>\n",
       "    <tr>\n",
       "      <th>47</th>\n",
       "      <td>5</td>\n",
       "      <td>8</td>\n",
       "      <td>96.0</td>\n",
       "    </tr>\n",
       "    <tr>\n",
       "      <th>48</th>\n",
       "      <td>5</td>\n",
       "      <td>9</td>\n",
       "      <td>97.0</td>\n",
       "    </tr>\n",
       "    <tr>\n",
       "      <th>49</th>\n",
       "      <td>5</td>\n",
       "      <td>10</td>\n",
       "      <td>98.0</td>\n",
       "    </tr>\n",
       "  </tbody>\n",
       "</table>\n",
       "</div>"
      ],
      "text/plain": [
       "    exam  student_id  grade\n",
       "0      1           1   86.0\n",
       "1      1           2   65.0\n",
       "2      1           3   70.0\n",
       "3      1           4   98.0\n",
       "4      1           5   89.0\n",
       "5      1           6    NaN\n",
       "6      1           7   75.0\n",
       "7      1           8   56.0\n",
       "8      1           9   90.0\n",
       "9      1          10   81.0\n",
       "10     2           1   79.0\n",
       "11     2           2   60.0\n",
       "12     2           3   78.0\n",
       "13     2           4   75.0\n",
       "14     2           5    NaN\n",
       "15     2           6   80.0\n",
       "16     2           7   87.0\n",
       "17     2           8   82.0\n",
       "18     2           9   95.0\n",
       "19     2          10   96.0\n",
       "20     3           1   78.0\n",
       "21     3           2   80.0\n",
       "22     3           3   87.0\n",
       "23     3           4    NaN\n",
       "24     3           5   89.0\n",
       "25     3           6   90.0\n",
       "26     3           7  100.0\n",
       "27     3           8   72.0\n",
       "28     3           9   73.0\n",
       "29     3          10   75.0\n",
       "30     4           1    NaN\n",
       "31     4           2   80.0\n",
       "32     4           3   81.0\n",
       "33     4           4   82.0\n",
       "34     4           5   83.0\n",
       "35     4           6   84.0\n",
       "36     4           7   85.0\n",
       "37     4           8   86.0\n",
       "38     4           9   87.0\n",
       "39     4          10   88.0\n",
       "40     5           1   90.0\n",
       "41     5           2    NaN\n",
       "42     5           3   91.0\n",
       "43     5           4   92.0\n",
       "44     5           5   93.0\n",
       "45     5           6   94.0\n",
       "46     5           7   95.0\n",
       "47     5           8   96.0\n",
       "48     5           9   97.0\n",
       "49     5          10   98.0"
      ]
     },
     "execution_count": 178,
     "metadata": {},
     "output_type": "execute_result"
    }
   ],
   "source": [
    "# display grades\n",
    "grades"
   ]
  },
  {
   "cell_type": "code",
   "execution_count": 179,
   "id": "98f32fb1",
   "metadata": {},
   "outputs": [],
   "source": [
    "# fill missing values in grade column with zeros\n",
    "grades['grade'] = grades['grade'].fillna(0)"
   ]
  },
  {
   "cell_type": "code",
   "execution_count": 180,
   "id": "8defcff2",
   "metadata": {},
   "outputs": [
    {
     "data": {
      "text/html": [
       "<div>\n",
       "<style scoped>\n",
       "    .dataframe tbody tr th:only-of-type {\n",
       "        vertical-align: middle;\n",
       "    }\n",
       "\n",
       "    .dataframe tbody tr th {\n",
       "        vertical-align: top;\n",
       "    }\n",
       "\n",
       "    .dataframe thead th {\n",
       "        text-align: right;\n",
       "    }\n",
       "</style>\n",
       "<table border=\"1\" class=\"dataframe\">\n",
       "  <thead>\n",
       "    <tr style=\"text-align: right;\">\n",
       "      <th></th>\n",
       "      <th>exam</th>\n",
       "      <th>student_id</th>\n",
       "      <th>grade</th>\n",
       "    </tr>\n",
       "  </thead>\n",
       "  <tbody>\n",
       "    <tr>\n",
       "      <th>0</th>\n",
       "      <td>1</td>\n",
       "      <td>1</td>\n",
       "      <td>86.0</td>\n",
       "    </tr>\n",
       "    <tr>\n",
       "      <th>1</th>\n",
       "      <td>1</td>\n",
       "      <td>2</td>\n",
       "      <td>65.0</td>\n",
       "    </tr>\n",
       "    <tr>\n",
       "      <th>2</th>\n",
       "      <td>1</td>\n",
       "      <td>3</td>\n",
       "      <td>70.0</td>\n",
       "    </tr>\n",
       "    <tr>\n",
       "      <th>3</th>\n",
       "      <td>1</td>\n",
       "      <td>4</td>\n",
       "      <td>98.0</td>\n",
       "    </tr>\n",
       "    <tr>\n",
       "      <th>4</th>\n",
       "      <td>1</td>\n",
       "      <td>5</td>\n",
       "      <td>89.0</td>\n",
       "    </tr>\n",
       "    <tr>\n",
       "      <th>5</th>\n",
       "      <td>1</td>\n",
       "      <td>6</td>\n",
       "      <td>0.0</td>\n",
       "    </tr>\n",
       "    <tr>\n",
       "      <th>6</th>\n",
       "      <td>1</td>\n",
       "      <td>7</td>\n",
       "      <td>75.0</td>\n",
       "    </tr>\n",
       "    <tr>\n",
       "      <th>7</th>\n",
       "      <td>1</td>\n",
       "      <td>8</td>\n",
       "      <td>56.0</td>\n",
       "    </tr>\n",
       "    <tr>\n",
       "      <th>8</th>\n",
       "      <td>1</td>\n",
       "      <td>9</td>\n",
       "      <td>90.0</td>\n",
       "    </tr>\n",
       "    <tr>\n",
       "      <th>9</th>\n",
       "      <td>1</td>\n",
       "      <td>10</td>\n",
       "      <td>81.0</td>\n",
       "    </tr>\n",
       "    <tr>\n",
       "      <th>10</th>\n",
       "      <td>2</td>\n",
       "      <td>1</td>\n",
       "      <td>79.0</td>\n",
       "    </tr>\n",
       "    <tr>\n",
       "      <th>11</th>\n",
       "      <td>2</td>\n",
       "      <td>2</td>\n",
       "      <td>60.0</td>\n",
       "    </tr>\n",
       "    <tr>\n",
       "      <th>12</th>\n",
       "      <td>2</td>\n",
       "      <td>3</td>\n",
       "      <td>78.0</td>\n",
       "    </tr>\n",
       "    <tr>\n",
       "      <th>13</th>\n",
       "      <td>2</td>\n",
       "      <td>4</td>\n",
       "      <td>75.0</td>\n",
       "    </tr>\n",
       "    <tr>\n",
       "      <th>14</th>\n",
       "      <td>2</td>\n",
       "      <td>5</td>\n",
       "      <td>0.0</td>\n",
       "    </tr>\n",
       "    <tr>\n",
       "      <th>15</th>\n",
       "      <td>2</td>\n",
       "      <td>6</td>\n",
       "      <td>80.0</td>\n",
       "    </tr>\n",
       "    <tr>\n",
       "      <th>16</th>\n",
       "      <td>2</td>\n",
       "      <td>7</td>\n",
       "      <td>87.0</td>\n",
       "    </tr>\n",
       "    <tr>\n",
       "      <th>17</th>\n",
       "      <td>2</td>\n",
       "      <td>8</td>\n",
       "      <td>82.0</td>\n",
       "    </tr>\n",
       "    <tr>\n",
       "      <th>18</th>\n",
       "      <td>2</td>\n",
       "      <td>9</td>\n",
       "      <td>95.0</td>\n",
       "    </tr>\n",
       "    <tr>\n",
       "      <th>19</th>\n",
       "      <td>2</td>\n",
       "      <td>10</td>\n",
       "      <td>96.0</td>\n",
       "    </tr>\n",
       "    <tr>\n",
       "      <th>20</th>\n",
       "      <td>3</td>\n",
       "      <td>1</td>\n",
       "      <td>78.0</td>\n",
       "    </tr>\n",
       "    <tr>\n",
       "      <th>21</th>\n",
       "      <td>3</td>\n",
       "      <td>2</td>\n",
       "      <td>80.0</td>\n",
       "    </tr>\n",
       "    <tr>\n",
       "      <th>22</th>\n",
       "      <td>3</td>\n",
       "      <td>3</td>\n",
       "      <td>87.0</td>\n",
       "    </tr>\n",
       "    <tr>\n",
       "      <th>23</th>\n",
       "      <td>3</td>\n",
       "      <td>4</td>\n",
       "      <td>0.0</td>\n",
       "    </tr>\n",
       "    <tr>\n",
       "      <th>24</th>\n",
       "      <td>3</td>\n",
       "      <td>5</td>\n",
       "      <td>89.0</td>\n",
       "    </tr>\n",
       "    <tr>\n",
       "      <th>25</th>\n",
       "      <td>3</td>\n",
       "      <td>6</td>\n",
       "      <td>90.0</td>\n",
       "    </tr>\n",
       "    <tr>\n",
       "      <th>26</th>\n",
       "      <td>3</td>\n",
       "      <td>7</td>\n",
       "      <td>100.0</td>\n",
       "    </tr>\n",
       "    <tr>\n",
       "      <th>27</th>\n",
       "      <td>3</td>\n",
       "      <td>8</td>\n",
       "      <td>72.0</td>\n",
       "    </tr>\n",
       "    <tr>\n",
       "      <th>28</th>\n",
       "      <td>3</td>\n",
       "      <td>9</td>\n",
       "      <td>73.0</td>\n",
       "    </tr>\n",
       "    <tr>\n",
       "      <th>29</th>\n",
       "      <td>3</td>\n",
       "      <td>10</td>\n",
       "      <td>75.0</td>\n",
       "    </tr>\n",
       "    <tr>\n",
       "      <th>30</th>\n",
       "      <td>4</td>\n",
       "      <td>1</td>\n",
       "      <td>0.0</td>\n",
       "    </tr>\n",
       "    <tr>\n",
       "      <th>31</th>\n",
       "      <td>4</td>\n",
       "      <td>2</td>\n",
       "      <td>80.0</td>\n",
       "    </tr>\n",
       "    <tr>\n",
       "      <th>32</th>\n",
       "      <td>4</td>\n",
       "      <td>3</td>\n",
       "      <td>81.0</td>\n",
       "    </tr>\n",
       "    <tr>\n",
       "      <th>33</th>\n",
       "      <td>4</td>\n",
       "      <td>4</td>\n",
       "      <td>82.0</td>\n",
       "    </tr>\n",
       "    <tr>\n",
       "      <th>34</th>\n",
       "      <td>4</td>\n",
       "      <td>5</td>\n",
       "      <td>83.0</td>\n",
       "    </tr>\n",
       "    <tr>\n",
       "      <th>35</th>\n",
       "      <td>4</td>\n",
       "      <td>6</td>\n",
       "      <td>84.0</td>\n",
       "    </tr>\n",
       "    <tr>\n",
       "      <th>36</th>\n",
       "      <td>4</td>\n",
       "      <td>7</td>\n",
       "      <td>85.0</td>\n",
       "    </tr>\n",
       "    <tr>\n",
       "      <th>37</th>\n",
       "      <td>4</td>\n",
       "      <td>8</td>\n",
       "      <td>86.0</td>\n",
       "    </tr>\n",
       "    <tr>\n",
       "      <th>38</th>\n",
       "      <td>4</td>\n",
       "      <td>9</td>\n",
       "      <td>87.0</td>\n",
       "    </tr>\n",
       "    <tr>\n",
       "      <th>39</th>\n",
       "      <td>4</td>\n",
       "      <td>10</td>\n",
       "      <td>88.0</td>\n",
       "    </tr>\n",
       "    <tr>\n",
       "      <th>40</th>\n",
       "      <td>5</td>\n",
       "      <td>1</td>\n",
       "      <td>90.0</td>\n",
       "    </tr>\n",
       "    <tr>\n",
       "      <th>41</th>\n",
       "      <td>5</td>\n",
       "      <td>2</td>\n",
       "      <td>0.0</td>\n",
       "    </tr>\n",
       "    <tr>\n",
       "      <th>42</th>\n",
       "      <td>5</td>\n",
       "      <td>3</td>\n",
       "      <td>91.0</td>\n",
       "    </tr>\n",
       "    <tr>\n",
       "      <th>43</th>\n",
       "      <td>5</td>\n",
       "      <td>4</td>\n",
       "      <td>92.0</td>\n",
       "    </tr>\n",
       "    <tr>\n",
       "      <th>44</th>\n",
       "      <td>5</td>\n",
       "      <td>5</td>\n",
       "      <td>93.0</td>\n",
       "    </tr>\n",
       "    <tr>\n",
       "      <th>45</th>\n",
       "      <td>5</td>\n",
       "      <td>6</td>\n",
       "      <td>94.0</td>\n",
       "    </tr>\n",
       "    <tr>\n",
       "      <th>46</th>\n",
       "      <td>5</td>\n",
       "      <td>7</td>\n",
       "      <td>95.0</td>\n",
       "    </tr>\n",
       "    <tr>\n",
       "      <th>47</th>\n",
       "      <td>5</td>\n",
       "      <td>8</td>\n",
       "      <td>96.0</td>\n",
       "    </tr>\n",
       "    <tr>\n",
       "      <th>48</th>\n",
       "      <td>5</td>\n",
       "      <td>9</td>\n",
       "      <td>97.0</td>\n",
       "    </tr>\n",
       "    <tr>\n",
       "      <th>49</th>\n",
       "      <td>5</td>\n",
       "      <td>10</td>\n",
       "      <td>98.0</td>\n",
       "    </tr>\n",
       "  </tbody>\n",
       "</table>\n",
       "</div>"
      ],
      "text/plain": [
       "    exam  student_id  grade\n",
       "0      1           1   86.0\n",
       "1      1           2   65.0\n",
       "2      1           3   70.0\n",
       "3      1           4   98.0\n",
       "4      1           5   89.0\n",
       "5      1           6    0.0\n",
       "6      1           7   75.0\n",
       "7      1           8   56.0\n",
       "8      1           9   90.0\n",
       "9      1          10   81.0\n",
       "10     2           1   79.0\n",
       "11     2           2   60.0\n",
       "12     2           3   78.0\n",
       "13     2           4   75.0\n",
       "14     2           5    0.0\n",
       "15     2           6   80.0\n",
       "16     2           7   87.0\n",
       "17     2           8   82.0\n",
       "18     2           9   95.0\n",
       "19     2          10   96.0\n",
       "20     3           1   78.0\n",
       "21     3           2   80.0\n",
       "22     3           3   87.0\n",
       "23     3           4    0.0\n",
       "24     3           5   89.0\n",
       "25     3           6   90.0\n",
       "26     3           7  100.0\n",
       "27     3           8   72.0\n",
       "28     3           9   73.0\n",
       "29     3          10   75.0\n",
       "30     4           1    0.0\n",
       "31     4           2   80.0\n",
       "32     4           3   81.0\n",
       "33     4           4   82.0\n",
       "34     4           5   83.0\n",
       "35     4           6   84.0\n",
       "36     4           7   85.0\n",
       "37     4           8   86.0\n",
       "38     4           9   87.0\n",
       "39     4          10   88.0\n",
       "40     5           1   90.0\n",
       "41     5           2    0.0\n",
       "42     5           3   91.0\n",
       "43     5           4   92.0\n",
       "44     5           5   93.0\n",
       "45     5           6   94.0\n",
       "46     5           7   95.0\n",
       "47     5           8   96.0\n",
       "48     5           9   97.0\n",
       "49     5          10   98.0"
      ]
     },
     "execution_count": 180,
     "metadata": {},
     "output_type": "execute_result"
    }
   ],
   "source": [
    "# display grades \n",
    "grades"
   ]
  },
  {
   "cell_type": "code",
   "execution_count": 181,
   "id": "d120c832",
   "metadata": {},
   "outputs": [],
   "source": [
    "# drop student_id column from grades \n",
    "grades = grades.drop(columns=['student_id'])"
   ]
  },
  {
   "cell_type": "code",
   "execution_count": 182,
   "id": "821f326b",
   "metadata": {},
   "outputs": [
    {
     "data": {
      "text/html": [
       "<div>\n",
       "<style scoped>\n",
       "    .dataframe tbody tr th:only-of-type {\n",
       "        vertical-align: middle;\n",
       "    }\n",
       "\n",
       "    .dataframe tbody tr th {\n",
       "        vertical-align: top;\n",
       "    }\n",
       "\n",
       "    .dataframe thead th {\n",
       "        text-align: right;\n",
       "    }\n",
       "</style>\n",
       "<table border=\"1\" class=\"dataframe\">\n",
       "  <thead>\n",
       "    <tr style=\"text-align: right;\">\n",
       "      <th></th>\n",
       "      <th>exam</th>\n",
       "      <th>grade</th>\n",
       "    </tr>\n",
       "  </thead>\n",
       "  <tbody>\n",
       "    <tr>\n",
       "      <th>0</th>\n",
       "      <td>1</td>\n",
       "      <td>86.0</td>\n",
       "    </tr>\n",
       "    <tr>\n",
       "      <th>1</th>\n",
       "      <td>1</td>\n",
       "      <td>65.0</td>\n",
       "    </tr>\n",
       "    <tr>\n",
       "      <th>2</th>\n",
       "      <td>1</td>\n",
       "      <td>70.0</td>\n",
       "    </tr>\n",
       "    <tr>\n",
       "      <th>3</th>\n",
       "      <td>1</td>\n",
       "      <td>98.0</td>\n",
       "    </tr>\n",
       "    <tr>\n",
       "      <th>4</th>\n",
       "      <td>1</td>\n",
       "      <td>89.0</td>\n",
       "    </tr>\n",
       "    <tr>\n",
       "      <th>5</th>\n",
       "      <td>1</td>\n",
       "      <td>0.0</td>\n",
       "    </tr>\n",
       "    <tr>\n",
       "      <th>6</th>\n",
       "      <td>1</td>\n",
       "      <td>75.0</td>\n",
       "    </tr>\n",
       "    <tr>\n",
       "      <th>7</th>\n",
       "      <td>1</td>\n",
       "      <td>56.0</td>\n",
       "    </tr>\n",
       "    <tr>\n",
       "      <th>8</th>\n",
       "      <td>1</td>\n",
       "      <td>90.0</td>\n",
       "    </tr>\n",
       "    <tr>\n",
       "      <th>9</th>\n",
       "      <td>1</td>\n",
       "      <td>81.0</td>\n",
       "    </tr>\n",
       "    <tr>\n",
       "      <th>10</th>\n",
       "      <td>2</td>\n",
       "      <td>79.0</td>\n",
       "    </tr>\n",
       "    <tr>\n",
       "      <th>11</th>\n",
       "      <td>2</td>\n",
       "      <td>60.0</td>\n",
       "    </tr>\n",
       "    <tr>\n",
       "      <th>12</th>\n",
       "      <td>2</td>\n",
       "      <td>78.0</td>\n",
       "    </tr>\n",
       "    <tr>\n",
       "      <th>13</th>\n",
       "      <td>2</td>\n",
       "      <td>75.0</td>\n",
       "    </tr>\n",
       "    <tr>\n",
       "      <th>14</th>\n",
       "      <td>2</td>\n",
       "      <td>0.0</td>\n",
       "    </tr>\n",
       "    <tr>\n",
       "      <th>15</th>\n",
       "      <td>2</td>\n",
       "      <td>80.0</td>\n",
       "    </tr>\n",
       "    <tr>\n",
       "      <th>16</th>\n",
       "      <td>2</td>\n",
       "      <td>87.0</td>\n",
       "    </tr>\n",
       "    <tr>\n",
       "      <th>17</th>\n",
       "      <td>2</td>\n",
       "      <td>82.0</td>\n",
       "    </tr>\n",
       "    <tr>\n",
       "      <th>18</th>\n",
       "      <td>2</td>\n",
       "      <td>95.0</td>\n",
       "    </tr>\n",
       "    <tr>\n",
       "      <th>19</th>\n",
       "      <td>2</td>\n",
       "      <td>96.0</td>\n",
       "    </tr>\n",
       "    <tr>\n",
       "      <th>20</th>\n",
       "      <td>3</td>\n",
       "      <td>78.0</td>\n",
       "    </tr>\n",
       "    <tr>\n",
       "      <th>21</th>\n",
       "      <td>3</td>\n",
       "      <td>80.0</td>\n",
       "    </tr>\n",
       "    <tr>\n",
       "      <th>22</th>\n",
       "      <td>3</td>\n",
       "      <td>87.0</td>\n",
       "    </tr>\n",
       "    <tr>\n",
       "      <th>23</th>\n",
       "      <td>3</td>\n",
       "      <td>0.0</td>\n",
       "    </tr>\n",
       "    <tr>\n",
       "      <th>24</th>\n",
       "      <td>3</td>\n",
       "      <td>89.0</td>\n",
       "    </tr>\n",
       "    <tr>\n",
       "      <th>25</th>\n",
       "      <td>3</td>\n",
       "      <td>90.0</td>\n",
       "    </tr>\n",
       "    <tr>\n",
       "      <th>26</th>\n",
       "      <td>3</td>\n",
       "      <td>100.0</td>\n",
       "    </tr>\n",
       "    <tr>\n",
       "      <th>27</th>\n",
       "      <td>3</td>\n",
       "      <td>72.0</td>\n",
       "    </tr>\n",
       "    <tr>\n",
       "      <th>28</th>\n",
       "      <td>3</td>\n",
       "      <td>73.0</td>\n",
       "    </tr>\n",
       "    <tr>\n",
       "      <th>29</th>\n",
       "      <td>3</td>\n",
       "      <td>75.0</td>\n",
       "    </tr>\n",
       "    <tr>\n",
       "      <th>30</th>\n",
       "      <td>4</td>\n",
       "      <td>0.0</td>\n",
       "    </tr>\n",
       "    <tr>\n",
       "      <th>31</th>\n",
       "      <td>4</td>\n",
       "      <td>80.0</td>\n",
       "    </tr>\n",
       "    <tr>\n",
       "      <th>32</th>\n",
       "      <td>4</td>\n",
       "      <td>81.0</td>\n",
       "    </tr>\n",
       "    <tr>\n",
       "      <th>33</th>\n",
       "      <td>4</td>\n",
       "      <td>82.0</td>\n",
       "    </tr>\n",
       "    <tr>\n",
       "      <th>34</th>\n",
       "      <td>4</td>\n",
       "      <td>83.0</td>\n",
       "    </tr>\n",
       "    <tr>\n",
       "      <th>35</th>\n",
       "      <td>4</td>\n",
       "      <td>84.0</td>\n",
       "    </tr>\n",
       "    <tr>\n",
       "      <th>36</th>\n",
       "      <td>4</td>\n",
       "      <td>85.0</td>\n",
       "    </tr>\n",
       "    <tr>\n",
       "      <th>37</th>\n",
       "      <td>4</td>\n",
       "      <td>86.0</td>\n",
       "    </tr>\n",
       "    <tr>\n",
       "      <th>38</th>\n",
       "      <td>4</td>\n",
       "      <td>87.0</td>\n",
       "    </tr>\n",
       "    <tr>\n",
       "      <th>39</th>\n",
       "      <td>4</td>\n",
       "      <td>88.0</td>\n",
       "    </tr>\n",
       "    <tr>\n",
       "      <th>40</th>\n",
       "      <td>5</td>\n",
       "      <td>90.0</td>\n",
       "    </tr>\n",
       "    <tr>\n",
       "      <th>41</th>\n",
       "      <td>5</td>\n",
       "      <td>0.0</td>\n",
       "    </tr>\n",
       "    <tr>\n",
       "      <th>42</th>\n",
       "      <td>5</td>\n",
       "      <td>91.0</td>\n",
       "    </tr>\n",
       "    <tr>\n",
       "      <th>43</th>\n",
       "      <td>5</td>\n",
       "      <td>92.0</td>\n",
       "    </tr>\n",
       "    <tr>\n",
       "      <th>44</th>\n",
       "      <td>5</td>\n",
       "      <td>93.0</td>\n",
       "    </tr>\n",
       "    <tr>\n",
       "      <th>45</th>\n",
       "      <td>5</td>\n",
       "      <td>94.0</td>\n",
       "    </tr>\n",
       "    <tr>\n",
       "      <th>46</th>\n",
       "      <td>5</td>\n",
       "      <td>95.0</td>\n",
       "    </tr>\n",
       "    <tr>\n",
       "      <th>47</th>\n",
       "      <td>5</td>\n",
       "      <td>96.0</td>\n",
       "    </tr>\n",
       "    <tr>\n",
       "      <th>48</th>\n",
       "      <td>5</td>\n",
       "      <td>97.0</td>\n",
       "    </tr>\n",
       "    <tr>\n",
       "      <th>49</th>\n",
       "      <td>5</td>\n",
       "      <td>98.0</td>\n",
       "    </tr>\n",
       "  </tbody>\n",
       "</table>\n",
       "</div>"
      ],
      "text/plain": [
       "    exam  grade\n",
       "0      1   86.0\n",
       "1      1   65.0\n",
       "2      1   70.0\n",
       "3      1   98.0\n",
       "4      1   89.0\n",
       "5      1    0.0\n",
       "6      1   75.0\n",
       "7      1   56.0\n",
       "8      1   90.0\n",
       "9      1   81.0\n",
       "10     2   79.0\n",
       "11     2   60.0\n",
       "12     2   78.0\n",
       "13     2   75.0\n",
       "14     2    0.0\n",
       "15     2   80.0\n",
       "16     2   87.0\n",
       "17     2   82.0\n",
       "18     2   95.0\n",
       "19     2   96.0\n",
       "20     3   78.0\n",
       "21     3   80.0\n",
       "22     3   87.0\n",
       "23     3    0.0\n",
       "24     3   89.0\n",
       "25     3   90.0\n",
       "26     3  100.0\n",
       "27     3   72.0\n",
       "28     3   73.0\n",
       "29     3   75.0\n",
       "30     4    0.0\n",
       "31     4   80.0\n",
       "32     4   81.0\n",
       "33     4   82.0\n",
       "34     4   83.0\n",
       "35     4   84.0\n",
       "36     4   85.0\n",
       "37     4   86.0\n",
       "38     4   87.0\n",
       "39     4   88.0\n",
       "40     5   90.0\n",
       "41     5    0.0\n",
       "42     5   91.0\n",
       "43     5   92.0\n",
       "44     5   93.0\n",
       "45     5   94.0\n",
       "46     5   95.0\n",
       "47     5   96.0\n",
       "48     5   97.0\n",
       "49     5   98.0"
      ]
     },
     "execution_count": 182,
     "metadata": {},
     "output_type": "execute_result"
    }
   ],
   "source": [
    "# display grades\n",
    "grades"
   ]
  },
  {
   "cell_type": "code",
   "execution_count": 183,
   "id": "ef80073c",
   "metadata": {},
   "outputs": [],
   "source": [
    "# rename exam column --- change that column's label from 'exam' to 'exam #'\n",
    "grades = grades.rename(columns={'exam': 'exam #'})"
   ]
  },
  {
   "cell_type": "code",
   "execution_count": 184,
   "id": "f8b6709f",
   "metadata": {},
   "outputs": [
    {
     "data": {
      "text/html": [
       "<div>\n",
       "<style scoped>\n",
       "    .dataframe tbody tr th:only-of-type {\n",
       "        vertical-align: middle;\n",
       "    }\n",
       "\n",
       "    .dataframe tbody tr th {\n",
       "        vertical-align: top;\n",
       "    }\n",
       "\n",
       "    .dataframe thead th {\n",
       "        text-align: right;\n",
       "    }\n",
       "</style>\n",
       "<table border=\"1\" class=\"dataframe\">\n",
       "  <thead>\n",
       "    <tr style=\"text-align: right;\">\n",
       "      <th></th>\n",
       "      <th>exam #</th>\n",
       "      <th>grade</th>\n",
       "    </tr>\n",
       "  </thead>\n",
       "  <tbody>\n",
       "    <tr>\n",
       "      <th>0</th>\n",
       "      <td>1</td>\n",
       "      <td>86.0</td>\n",
       "    </tr>\n",
       "    <tr>\n",
       "      <th>1</th>\n",
       "      <td>1</td>\n",
       "      <td>65.0</td>\n",
       "    </tr>\n",
       "    <tr>\n",
       "      <th>2</th>\n",
       "      <td>1</td>\n",
       "      <td>70.0</td>\n",
       "    </tr>\n",
       "    <tr>\n",
       "      <th>3</th>\n",
       "      <td>1</td>\n",
       "      <td>98.0</td>\n",
       "    </tr>\n",
       "    <tr>\n",
       "      <th>4</th>\n",
       "      <td>1</td>\n",
       "      <td>89.0</td>\n",
       "    </tr>\n",
       "    <tr>\n",
       "      <th>5</th>\n",
       "      <td>1</td>\n",
       "      <td>0.0</td>\n",
       "    </tr>\n",
       "    <tr>\n",
       "      <th>6</th>\n",
       "      <td>1</td>\n",
       "      <td>75.0</td>\n",
       "    </tr>\n",
       "    <tr>\n",
       "      <th>7</th>\n",
       "      <td>1</td>\n",
       "      <td>56.0</td>\n",
       "    </tr>\n",
       "    <tr>\n",
       "      <th>8</th>\n",
       "      <td>1</td>\n",
       "      <td>90.0</td>\n",
       "    </tr>\n",
       "    <tr>\n",
       "      <th>9</th>\n",
       "      <td>1</td>\n",
       "      <td>81.0</td>\n",
       "    </tr>\n",
       "    <tr>\n",
       "      <th>10</th>\n",
       "      <td>2</td>\n",
       "      <td>79.0</td>\n",
       "    </tr>\n",
       "    <tr>\n",
       "      <th>11</th>\n",
       "      <td>2</td>\n",
       "      <td>60.0</td>\n",
       "    </tr>\n",
       "    <tr>\n",
       "      <th>12</th>\n",
       "      <td>2</td>\n",
       "      <td>78.0</td>\n",
       "    </tr>\n",
       "    <tr>\n",
       "      <th>13</th>\n",
       "      <td>2</td>\n",
       "      <td>75.0</td>\n",
       "    </tr>\n",
       "    <tr>\n",
       "      <th>14</th>\n",
       "      <td>2</td>\n",
       "      <td>0.0</td>\n",
       "    </tr>\n",
       "    <tr>\n",
       "      <th>15</th>\n",
       "      <td>2</td>\n",
       "      <td>80.0</td>\n",
       "    </tr>\n",
       "    <tr>\n",
       "      <th>16</th>\n",
       "      <td>2</td>\n",
       "      <td>87.0</td>\n",
       "    </tr>\n",
       "    <tr>\n",
       "      <th>17</th>\n",
       "      <td>2</td>\n",
       "      <td>82.0</td>\n",
       "    </tr>\n",
       "    <tr>\n",
       "      <th>18</th>\n",
       "      <td>2</td>\n",
       "      <td>95.0</td>\n",
       "    </tr>\n",
       "    <tr>\n",
       "      <th>19</th>\n",
       "      <td>2</td>\n",
       "      <td>96.0</td>\n",
       "    </tr>\n",
       "    <tr>\n",
       "      <th>20</th>\n",
       "      <td>3</td>\n",
       "      <td>78.0</td>\n",
       "    </tr>\n",
       "    <tr>\n",
       "      <th>21</th>\n",
       "      <td>3</td>\n",
       "      <td>80.0</td>\n",
       "    </tr>\n",
       "    <tr>\n",
       "      <th>22</th>\n",
       "      <td>3</td>\n",
       "      <td>87.0</td>\n",
       "    </tr>\n",
       "    <tr>\n",
       "      <th>23</th>\n",
       "      <td>3</td>\n",
       "      <td>0.0</td>\n",
       "    </tr>\n",
       "    <tr>\n",
       "      <th>24</th>\n",
       "      <td>3</td>\n",
       "      <td>89.0</td>\n",
       "    </tr>\n",
       "    <tr>\n",
       "      <th>25</th>\n",
       "      <td>3</td>\n",
       "      <td>90.0</td>\n",
       "    </tr>\n",
       "    <tr>\n",
       "      <th>26</th>\n",
       "      <td>3</td>\n",
       "      <td>100.0</td>\n",
       "    </tr>\n",
       "    <tr>\n",
       "      <th>27</th>\n",
       "      <td>3</td>\n",
       "      <td>72.0</td>\n",
       "    </tr>\n",
       "    <tr>\n",
       "      <th>28</th>\n",
       "      <td>3</td>\n",
       "      <td>73.0</td>\n",
       "    </tr>\n",
       "    <tr>\n",
       "      <th>29</th>\n",
       "      <td>3</td>\n",
       "      <td>75.0</td>\n",
       "    </tr>\n",
       "    <tr>\n",
       "      <th>30</th>\n",
       "      <td>4</td>\n",
       "      <td>0.0</td>\n",
       "    </tr>\n",
       "    <tr>\n",
       "      <th>31</th>\n",
       "      <td>4</td>\n",
       "      <td>80.0</td>\n",
       "    </tr>\n",
       "    <tr>\n",
       "      <th>32</th>\n",
       "      <td>4</td>\n",
       "      <td>81.0</td>\n",
       "    </tr>\n",
       "    <tr>\n",
       "      <th>33</th>\n",
       "      <td>4</td>\n",
       "      <td>82.0</td>\n",
       "    </tr>\n",
       "    <tr>\n",
       "      <th>34</th>\n",
       "      <td>4</td>\n",
       "      <td>83.0</td>\n",
       "    </tr>\n",
       "    <tr>\n",
       "      <th>35</th>\n",
       "      <td>4</td>\n",
       "      <td>84.0</td>\n",
       "    </tr>\n",
       "    <tr>\n",
       "      <th>36</th>\n",
       "      <td>4</td>\n",
       "      <td>85.0</td>\n",
       "    </tr>\n",
       "    <tr>\n",
       "      <th>37</th>\n",
       "      <td>4</td>\n",
       "      <td>86.0</td>\n",
       "    </tr>\n",
       "    <tr>\n",
       "      <th>38</th>\n",
       "      <td>4</td>\n",
       "      <td>87.0</td>\n",
       "    </tr>\n",
       "    <tr>\n",
       "      <th>39</th>\n",
       "      <td>4</td>\n",
       "      <td>88.0</td>\n",
       "    </tr>\n",
       "    <tr>\n",
       "      <th>40</th>\n",
       "      <td>5</td>\n",
       "      <td>90.0</td>\n",
       "    </tr>\n",
       "    <tr>\n",
       "      <th>41</th>\n",
       "      <td>5</td>\n",
       "      <td>0.0</td>\n",
       "    </tr>\n",
       "    <tr>\n",
       "      <th>42</th>\n",
       "      <td>5</td>\n",
       "      <td>91.0</td>\n",
       "    </tr>\n",
       "    <tr>\n",
       "      <th>43</th>\n",
       "      <td>5</td>\n",
       "      <td>92.0</td>\n",
       "    </tr>\n",
       "    <tr>\n",
       "      <th>44</th>\n",
       "      <td>5</td>\n",
       "      <td>93.0</td>\n",
       "    </tr>\n",
       "    <tr>\n",
       "      <th>45</th>\n",
       "      <td>5</td>\n",
       "      <td>94.0</td>\n",
       "    </tr>\n",
       "    <tr>\n",
       "      <th>46</th>\n",
       "      <td>5</td>\n",
       "      <td>95.0</td>\n",
       "    </tr>\n",
       "    <tr>\n",
       "      <th>47</th>\n",
       "      <td>5</td>\n",
       "      <td>96.0</td>\n",
       "    </tr>\n",
       "    <tr>\n",
       "      <th>48</th>\n",
       "      <td>5</td>\n",
       "      <td>97.0</td>\n",
       "    </tr>\n",
       "    <tr>\n",
       "      <th>49</th>\n",
       "      <td>5</td>\n",
       "      <td>98.0</td>\n",
       "    </tr>\n",
       "  </tbody>\n",
       "</table>\n",
       "</div>"
      ],
      "text/plain": [
       "    exam #  grade\n",
       "0        1   86.0\n",
       "1        1   65.0\n",
       "2        1   70.0\n",
       "3        1   98.0\n",
       "4        1   89.0\n",
       "5        1    0.0\n",
       "6        1   75.0\n",
       "7        1   56.0\n",
       "8        1   90.0\n",
       "9        1   81.0\n",
       "10       2   79.0\n",
       "11       2   60.0\n",
       "12       2   78.0\n",
       "13       2   75.0\n",
       "14       2    0.0\n",
       "15       2   80.0\n",
       "16       2   87.0\n",
       "17       2   82.0\n",
       "18       2   95.0\n",
       "19       2   96.0\n",
       "20       3   78.0\n",
       "21       3   80.0\n",
       "22       3   87.0\n",
       "23       3    0.0\n",
       "24       3   89.0\n",
       "25       3   90.0\n",
       "26       3  100.0\n",
       "27       3   72.0\n",
       "28       3   73.0\n",
       "29       3   75.0\n",
       "30       4    0.0\n",
       "31       4   80.0\n",
       "32       4   81.0\n",
       "33       4   82.0\n",
       "34       4   83.0\n",
       "35       4   84.0\n",
       "36       4   85.0\n",
       "37       4   86.0\n",
       "38       4   87.0\n",
       "39       4   88.0\n",
       "40       5   90.0\n",
       "41       5    0.0\n",
       "42       5   91.0\n",
       "43       5   92.0\n",
       "44       5   93.0\n",
       "45       5   94.0\n",
       "46       5   95.0\n",
       "47       5   96.0\n",
       "48       5   97.0\n",
       "49       5   98.0"
      ]
     },
     "execution_count": 184,
     "metadata": {},
     "output_type": "execute_result"
    }
   ],
   "source": [
    "# display grades\n",
    "grades"
   ]
  },
  {
   "cell_type": "markdown",
   "id": "131f818f",
   "metadata": {},
   "source": [
    "## Combining Data"
   ]
  },
  {
   "cell_type": "code",
   "execution_count": 185,
   "id": "e5536d6b",
   "metadata": {},
   "outputs": [],
   "source": [
    "# create a pandas dataframe containing grades on exam #1 \n",
    "# for students with student id numbers 1 through 5\n",
    "exam1_grades = pd.DataFrame({'SID': [1, 2, 3, 4, 5], \n",
    "                             'exam1': [86.0, 65.0, 70.0, 98.0, 89.0]})\n",
    "\n",
    "# create a pandas dataframe containing grades on exam #2 \n",
    "# for students with student id numbers 1 through 5\n",
    "exam2_grades = pd.DataFrame({'SID': [1, 2, 3, 4, 5], \n",
    "                             'exam2': [80.0, 87.0, 82.0, 95.0, 96.0]})"
   ]
  },
  {
   "cell_type": "code",
   "execution_count": 186,
   "id": "becb305a",
   "metadata": {},
   "outputs": [],
   "source": [
    "# create a pandas dataframe containing grades on exam #1 and exam #2 \n",
    "# for students with id numbers 1 through 7\n",
    "sid_1_to_7 = pd.DataFrame({'SID': [1, 2, 3, 4, 5, 6, 7],\n",
    "              'exam1': [86.0, 65.0, 70.0, 98.0, 89.0, 75.0, 56.0],\n",
    "              'exam2': [80.0, 87.0, 82.0, 95.0, 96.0, 78.0, 80.0]})\n",
    "\n",
    "# create a pandas dataframe containing grades on exam #1 and exam #2 \n",
    "# for students with id numbers 8 through 10\n",
    "sid_8_to_10 = pd.DataFrame({'SID': [8, 9, 10], \n",
    "                            'exam1': [90.0, 81.0, 0.0], \n",
    "                            'exam2': [87.0, 82.0, 95.0]})"
   ]
  },
  {
   "cell_type": "code",
   "execution_count": 187,
   "id": "660e285e",
   "metadata": {},
   "outputs": [],
   "source": [
    "# create a pandas dataframe containing grades on exam #1 and exam #2 \n",
    "# for students 1 through 5\n",
    "exams1and2 = pd.DataFrame({'exam1': [86.0, 65.0, 70.0, 98.0, 89.0],\n",
    "              'exam2': [80.0, 87.0, 82.0, 95.0, 96.0]},\n",
    "              index=['student1', 'student2', 'student3', 'student4', 'student5'])\n",
    "\n",
    "# create a pandas dataframe containing grades on exam #3 for students 1 through 5\n",
    "exam3 = pd.DataFrame({'exam3': [78.0, 80.0, 87.0, 89.0, 89.0]},\n",
    "              index=['student1', 'student2', 'student3', 'student4', 'student5'])"
   ]
  },
  {
   "cell_type": "code",
   "execution_count": 188,
   "id": "0d8e427e",
   "metadata": {},
   "outputs": [
    {
     "data": {
      "text/html": [
       "<div>\n",
       "<style scoped>\n",
       "    .dataframe tbody tr th:only-of-type {\n",
       "        vertical-align: middle;\n",
       "    }\n",
       "\n",
       "    .dataframe tbody tr th {\n",
       "        vertical-align: top;\n",
       "    }\n",
       "\n",
       "    .dataframe thead th {\n",
       "        text-align: right;\n",
       "    }\n",
       "</style>\n",
       "<table border=\"1\" class=\"dataframe\">\n",
       "  <thead>\n",
       "    <tr style=\"text-align: right;\">\n",
       "      <th></th>\n",
       "      <th>SID</th>\n",
       "      <th>exam1</th>\n",
       "    </tr>\n",
       "  </thead>\n",
       "  <tbody>\n",
       "    <tr>\n",
       "      <th>0</th>\n",
       "      <td>1</td>\n",
       "      <td>86.0</td>\n",
       "    </tr>\n",
       "    <tr>\n",
       "      <th>1</th>\n",
       "      <td>2</td>\n",
       "      <td>65.0</td>\n",
       "    </tr>\n",
       "    <tr>\n",
       "      <th>2</th>\n",
       "      <td>3</td>\n",
       "      <td>70.0</td>\n",
       "    </tr>\n",
       "    <tr>\n",
       "      <th>3</th>\n",
       "      <td>4</td>\n",
       "      <td>98.0</td>\n",
       "    </tr>\n",
       "    <tr>\n",
       "      <th>4</th>\n",
       "      <td>5</td>\n",
       "      <td>89.0</td>\n",
       "    </tr>\n",
       "  </tbody>\n",
       "</table>\n",
       "</div>"
      ],
      "text/plain": [
       "   SID  exam1\n",
       "0    1   86.0\n",
       "1    2   65.0\n",
       "2    3   70.0\n",
       "3    4   98.0\n",
       "4    5   89.0"
      ]
     },
     "execution_count": 188,
     "metadata": {},
     "output_type": "execute_result"
    }
   ],
   "source": [
    "# display exam1_grades\n",
    "exam1_grades"
   ]
  },
  {
   "cell_type": "code",
   "execution_count": 189,
   "id": "c68ffb45",
   "metadata": {},
   "outputs": [
    {
     "data": {
      "text/html": [
       "<div>\n",
       "<style scoped>\n",
       "    .dataframe tbody tr th:only-of-type {\n",
       "        vertical-align: middle;\n",
       "    }\n",
       "\n",
       "    .dataframe tbody tr th {\n",
       "        vertical-align: top;\n",
       "    }\n",
       "\n",
       "    .dataframe thead th {\n",
       "        text-align: right;\n",
       "    }\n",
       "</style>\n",
       "<table border=\"1\" class=\"dataframe\">\n",
       "  <thead>\n",
       "    <tr style=\"text-align: right;\">\n",
       "      <th></th>\n",
       "      <th>SID</th>\n",
       "      <th>exam2</th>\n",
       "    </tr>\n",
       "  </thead>\n",
       "  <tbody>\n",
       "    <tr>\n",
       "      <th>0</th>\n",
       "      <td>1</td>\n",
       "      <td>80.0</td>\n",
       "    </tr>\n",
       "    <tr>\n",
       "      <th>1</th>\n",
       "      <td>2</td>\n",
       "      <td>87.0</td>\n",
       "    </tr>\n",
       "    <tr>\n",
       "      <th>2</th>\n",
       "      <td>3</td>\n",
       "      <td>82.0</td>\n",
       "    </tr>\n",
       "    <tr>\n",
       "      <th>3</th>\n",
       "      <td>4</td>\n",
       "      <td>95.0</td>\n",
       "    </tr>\n",
       "    <tr>\n",
       "      <th>4</th>\n",
       "      <td>5</td>\n",
       "      <td>96.0</td>\n",
       "    </tr>\n",
       "  </tbody>\n",
       "</table>\n",
       "</div>"
      ],
      "text/plain": [
       "   SID  exam2\n",
       "0    1   80.0\n",
       "1    2   87.0\n",
       "2    3   82.0\n",
       "3    4   95.0\n",
       "4    5   96.0"
      ]
     },
     "execution_count": 189,
     "metadata": {},
     "output_type": "execute_result"
    }
   ],
   "source": [
    "# display exam2_grades\n",
    "exam2_grades"
   ]
  },
  {
   "cell_type": "code",
   "execution_count": 190,
   "id": "0641d5b0",
   "metadata": {},
   "outputs": [
    {
     "data": {
      "text/html": [
       "<div>\n",
       "<style scoped>\n",
       "    .dataframe tbody tr th:only-of-type {\n",
       "        vertical-align: middle;\n",
       "    }\n",
       "\n",
       "    .dataframe tbody tr th {\n",
       "        vertical-align: top;\n",
       "    }\n",
       "\n",
       "    .dataframe thead th {\n",
       "        text-align: right;\n",
       "    }\n",
       "</style>\n",
       "<table border=\"1\" class=\"dataframe\">\n",
       "  <thead>\n",
       "    <tr style=\"text-align: right;\">\n",
       "      <th></th>\n",
       "      <th>SID</th>\n",
       "      <th>exam1</th>\n",
       "      <th>exam2</th>\n",
       "    </tr>\n",
       "  </thead>\n",
       "  <tbody>\n",
       "    <tr>\n",
       "      <th>0</th>\n",
       "      <td>1</td>\n",
       "      <td>86.0</td>\n",
       "      <td>80.0</td>\n",
       "    </tr>\n",
       "    <tr>\n",
       "      <th>1</th>\n",
       "      <td>2</td>\n",
       "      <td>65.0</td>\n",
       "      <td>87.0</td>\n",
       "    </tr>\n",
       "    <tr>\n",
       "      <th>2</th>\n",
       "      <td>3</td>\n",
       "      <td>70.0</td>\n",
       "      <td>82.0</td>\n",
       "    </tr>\n",
       "    <tr>\n",
       "      <th>3</th>\n",
       "      <td>4</td>\n",
       "      <td>98.0</td>\n",
       "      <td>95.0</td>\n",
       "    </tr>\n",
       "    <tr>\n",
       "      <th>4</th>\n",
       "      <td>5</td>\n",
       "      <td>89.0</td>\n",
       "      <td>96.0</td>\n",
       "    </tr>\n",
       "  </tbody>\n",
       "</table>\n",
       "</div>"
      ],
      "text/plain": [
       "   SID  exam1  exam2\n",
       "0    1   86.0   80.0\n",
       "1    2   65.0   87.0\n",
       "2    3   70.0   82.0\n",
       "3    4   98.0   95.0\n",
       "4    5   89.0   96.0"
      ]
     },
     "execution_count": 190,
     "metadata": {},
     "output_type": "execute_result"
    }
   ],
   "source": [
    "# merge exam1_grades and exam2_grades on 'SID'\n",
    "# result will be a new pandas dataframe\n",
    "pd.merge(exam1_grades, exam2_grades, on='SID')"
   ]
  },
  {
   "cell_type": "code",
   "execution_count": 191,
   "id": "adbc5b7e",
   "metadata": {},
   "outputs": [
    {
     "data": {
      "text/html": [
       "<div>\n",
       "<style scoped>\n",
       "    .dataframe tbody tr th:only-of-type {\n",
       "        vertical-align: middle;\n",
       "    }\n",
       "\n",
       "    .dataframe tbody tr th {\n",
       "        vertical-align: top;\n",
       "    }\n",
       "\n",
       "    .dataframe thead th {\n",
       "        text-align: right;\n",
       "    }\n",
       "</style>\n",
       "<table border=\"1\" class=\"dataframe\">\n",
       "  <thead>\n",
       "    <tr style=\"text-align: right;\">\n",
       "      <th></th>\n",
       "      <th>SID</th>\n",
       "      <th>exam1</th>\n",
       "      <th>exam2</th>\n",
       "    </tr>\n",
       "  </thead>\n",
       "  <tbody>\n",
       "    <tr>\n",
       "      <th>0</th>\n",
       "      <td>1</td>\n",
       "      <td>86.0</td>\n",
       "      <td>80.0</td>\n",
       "    </tr>\n",
       "    <tr>\n",
       "      <th>1</th>\n",
       "      <td>2</td>\n",
       "      <td>65.0</td>\n",
       "      <td>87.0</td>\n",
       "    </tr>\n",
       "    <tr>\n",
       "      <th>2</th>\n",
       "      <td>3</td>\n",
       "      <td>70.0</td>\n",
       "      <td>82.0</td>\n",
       "    </tr>\n",
       "    <tr>\n",
       "      <th>3</th>\n",
       "      <td>4</td>\n",
       "      <td>98.0</td>\n",
       "      <td>95.0</td>\n",
       "    </tr>\n",
       "    <tr>\n",
       "      <th>4</th>\n",
       "      <td>5</td>\n",
       "      <td>89.0</td>\n",
       "      <td>96.0</td>\n",
       "    </tr>\n",
       "    <tr>\n",
       "      <th>5</th>\n",
       "      <td>6</td>\n",
       "      <td>75.0</td>\n",
       "      <td>78.0</td>\n",
       "    </tr>\n",
       "    <tr>\n",
       "      <th>6</th>\n",
       "      <td>7</td>\n",
       "      <td>56.0</td>\n",
       "      <td>80.0</td>\n",
       "    </tr>\n",
       "  </tbody>\n",
       "</table>\n",
       "</div>"
      ],
      "text/plain": [
       "   SID  exam1  exam2\n",
       "0    1   86.0   80.0\n",
       "1    2   65.0   87.0\n",
       "2    3   70.0   82.0\n",
       "3    4   98.0   95.0\n",
       "4    5   89.0   96.0\n",
       "5    6   75.0   78.0\n",
       "6    7   56.0   80.0"
      ]
     },
     "execution_count": 191,
     "metadata": {},
     "output_type": "execute_result"
    }
   ],
   "source": [
    "# display sid_1_to_7\n",
    "sid_1_to_7"
   ]
  },
  {
   "cell_type": "code",
   "execution_count": 192,
   "id": "95a35c89",
   "metadata": {},
   "outputs": [
    {
     "data": {
      "text/html": [
       "<div>\n",
       "<style scoped>\n",
       "    .dataframe tbody tr th:only-of-type {\n",
       "        vertical-align: middle;\n",
       "    }\n",
       "\n",
       "    .dataframe tbody tr th {\n",
       "        vertical-align: top;\n",
       "    }\n",
       "\n",
       "    .dataframe thead th {\n",
       "        text-align: right;\n",
       "    }\n",
       "</style>\n",
       "<table border=\"1\" class=\"dataframe\">\n",
       "  <thead>\n",
       "    <tr style=\"text-align: right;\">\n",
       "      <th></th>\n",
       "      <th>SID</th>\n",
       "      <th>exam1</th>\n",
       "      <th>exam2</th>\n",
       "    </tr>\n",
       "  </thead>\n",
       "  <tbody>\n",
       "    <tr>\n",
       "      <th>0</th>\n",
       "      <td>8</td>\n",
       "      <td>90.0</td>\n",
       "      <td>87.0</td>\n",
       "    </tr>\n",
       "    <tr>\n",
       "      <th>1</th>\n",
       "      <td>9</td>\n",
       "      <td>81.0</td>\n",
       "      <td>82.0</td>\n",
       "    </tr>\n",
       "    <tr>\n",
       "      <th>2</th>\n",
       "      <td>10</td>\n",
       "      <td>0.0</td>\n",
       "      <td>95.0</td>\n",
       "    </tr>\n",
       "  </tbody>\n",
       "</table>\n",
       "</div>"
      ],
      "text/plain": [
       "   SID  exam1  exam2\n",
       "0    8   90.0   87.0\n",
       "1    9   81.0   82.0\n",
       "2   10    0.0   95.0"
      ]
     },
     "execution_count": 192,
     "metadata": {},
     "output_type": "execute_result"
    }
   ],
   "source": [
    "# display sid_8_to_10\n",
    "sid_8_to_10"
   ]
  },
  {
   "cell_type": "code",
   "execution_count": 193,
   "id": "79e8f079",
   "metadata": {},
   "outputs": [
    {
     "data": {
      "text/html": [
       "<div>\n",
       "<style scoped>\n",
       "    .dataframe tbody tr th:only-of-type {\n",
       "        vertical-align: middle;\n",
       "    }\n",
       "\n",
       "    .dataframe tbody tr th {\n",
       "        vertical-align: top;\n",
       "    }\n",
       "\n",
       "    .dataframe thead th {\n",
       "        text-align: right;\n",
       "    }\n",
       "</style>\n",
       "<table border=\"1\" class=\"dataframe\">\n",
       "  <thead>\n",
       "    <tr style=\"text-align: right;\">\n",
       "      <th></th>\n",
       "      <th>SID</th>\n",
       "      <th>exam1</th>\n",
       "      <th>exam2</th>\n",
       "    </tr>\n",
       "  </thead>\n",
       "  <tbody>\n",
       "    <tr>\n",
       "      <th>0</th>\n",
       "      <td>1</td>\n",
       "      <td>86.0</td>\n",
       "      <td>80.0</td>\n",
       "    </tr>\n",
       "    <tr>\n",
       "      <th>1</th>\n",
       "      <td>2</td>\n",
       "      <td>65.0</td>\n",
       "      <td>87.0</td>\n",
       "    </tr>\n",
       "    <tr>\n",
       "      <th>2</th>\n",
       "      <td>3</td>\n",
       "      <td>70.0</td>\n",
       "      <td>82.0</td>\n",
       "    </tr>\n",
       "    <tr>\n",
       "      <th>3</th>\n",
       "      <td>4</td>\n",
       "      <td>98.0</td>\n",
       "      <td>95.0</td>\n",
       "    </tr>\n",
       "    <tr>\n",
       "      <th>4</th>\n",
       "      <td>5</td>\n",
       "      <td>89.0</td>\n",
       "      <td>96.0</td>\n",
       "    </tr>\n",
       "    <tr>\n",
       "      <th>5</th>\n",
       "      <td>6</td>\n",
       "      <td>75.0</td>\n",
       "      <td>78.0</td>\n",
       "    </tr>\n",
       "    <tr>\n",
       "      <th>6</th>\n",
       "      <td>7</td>\n",
       "      <td>56.0</td>\n",
       "      <td>80.0</td>\n",
       "    </tr>\n",
       "    <tr>\n",
       "      <th>0</th>\n",
       "      <td>8</td>\n",
       "      <td>90.0</td>\n",
       "      <td>87.0</td>\n",
       "    </tr>\n",
       "    <tr>\n",
       "      <th>1</th>\n",
       "      <td>9</td>\n",
       "      <td>81.0</td>\n",
       "      <td>82.0</td>\n",
       "    </tr>\n",
       "    <tr>\n",
       "      <th>2</th>\n",
       "      <td>10</td>\n",
       "      <td>0.0</td>\n",
       "      <td>95.0</td>\n",
       "    </tr>\n",
       "  </tbody>\n",
       "</table>\n",
       "</div>"
      ],
      "text/plain": [
       "   SID  exam1  exam2\n",
       "0    1   86.0   80.0\n",
       "1    2   65.0   87.0\n",
       "2    3   70.0   82.0\n",
       "3    4   98.0   95.0\n",
       "4    5   89.0   96.0\n",
       "5    6   75.0   78.0\n",
       "6    7   56.0   80.0\n",
       "0    8   90.0   87.0\n",
       "1    9   81.0   82.0\n",
       "2   10    0.0   95.0"
      ]
     },
     "execution_count": 193,
     "metadata": {},
     "output_type": "execute_result"
    }
   ],
   "source": [
    "# concatenate sid_1_to_7 and sid_8_to_10 along the rows (along axis 0)\n",
    "# result will be a new pandas dataframe\n",
    "pd.concat([sid_1_to_7, sid_8_to_10], axis=0)"
   ]
  },
  {
   "cell_type": "code",
   "execution_count": 194,
   "id": "7f68642f",
   "metadata": {},
   "outputs": [
    {
     "data": {
      "text/html": [
       "<div>\n",
       "<style scoped>\n",
       "    .dataframe tbody tr th:only-of-type {\n",
       "        vertical-align: middle;\n",
       "    }\n",
       "\n",
       "    .dataframe tbody tr th {\n",
       "        vertical-align: top;\n",
       "    }\n",
       "\n",
       "    .dataframe thead th {\n",
       "        text-align: right;\n",
       "    }\n",
       "</style>\n",
       "<table border=\"1\" class=\"dataframe\">\n",
       "  <thead>\n",
       "    <tr style=\"text-align: right;\">\n",
       "      <th></th>\n",
       "      <th>exam1</th>\n",
       "      <th>exam2</th>\n",
       "    </tr>\n",
       "  </thead>\n",
       "  <tbody>\n",
       "    <tr>\n",
       "      <th>student1</th>\n",
       "      <td>86.0</td>\n",
       "      <td>80.0</td>\n",
       "    </tr>\n",
       "    <tr>\n",
       "      <th>student2</th>\n",
       "      <td>65.0</td>\n",
       "      <td>87.0</td>\n",
       "    </tr>\n",
       "    <tr>\n",
       "      <th>student3</th>\n",
       "      <td>70.0</td>\n",
       "      <td>82.0</td>\n",
       "    </tr>\n",
       "    <tr>\n",
       "      <th>student4</th>\n",
       "      <td>98.0</td>\n",
       "      <td>95.0</td>\n",
       "    </tr>\n",
       "    <tr>\n",
       "      <th>student5</th>\n",
       "      <td>89.0</td>\n",
       "      <td>96.0</td>\n",
       "    </tr>\n",
       "  </tbody>\n",
       "</table>\n",
       "</div>"
      ],
      "text/plain": [
       "          exam1  exam2\n",
       "student1   86.0   80.0\n",
       "student2   65.0   87.0\n",
       "student3   70.0   82.0\n",
       "student4   98.0   95.0\n",
       "student5   89.0   96.0"
      ]
     },
     "execution_count": 194,
     "metadata": {},
     "output_type": "execute_result"
    }
   ],
   "source": [
    "# display exams1and2\n",
    "exams1and2"
   ]
  },
  {
   "cell_type": "code",
   "execution_count": 195,
   "id": "9f96fe9f",
   "metadata": {},
   "outputs": [
    {
     "data": {
      "text/html": [
       "<div>\n",
       "<style scoped>\n",
       "    .dataframe tbody tr th:only-of-type {\n",
       "        vertical-align: middle;\n",
       "    }\n",
       "\n",
       "    .dataframe tbody tr th {\n",
       "        vertical-align: top;\n",
       "    }\n",
       "\n",
       "    .dataframe thead th {\n",
       "        text-align: right;\n",
       "    }\n",
       "</style>\n",
       "<table border=\"1\" class=\"dataframe\">\n",
       "  <thead>\n",
       "    <tr style=\"text-align: right;\">\n",
       "      <th></th>\n",
       "      <th>exam3</th>\n",
       "    </tr>\n",
       "  </thead>\n",
       "  <tbody>\n",
       "    <tr>\n",
       "      <th>student1</th>\n",
       "      <td>78.0</td>\n",
       "    </tr>\n",
       "    <tr>\n",
       "      <th>student2</th>\n",
       "      <td>80.0</td>\n",
       "    </tr>\n",
       "    <tr>\n",
       "      <th>student3</th>\n",
       "      <td>87.0</td>\n",
       "    </tr>\n",
       "    <tr>\n",
       "      <th>student4</th>\n",
       "      <td>89.0</td>\n",
       "    </tr>\n",
       "    <tr>\n",
       "      <th>student5</th>\n",
       "      <td>89.0</td>\n",
       "    </tr>\n",
       "  </tbody>\n",
       "</table>\n",
       "</div>"
      ],
      "text/plain": [
       "          exam3\n",
       "student1   78.0\n",
       "student2   80.0\n",
       "student3   87.0\n",
       "student4   89.0\n",
       "student5   89.0"
      ]
     },
     "execution_count": 195,
     "metadata": {},
     "output_type": "execute_result"
    }
   ],
   "source": [
    "# display exam3\n",
    "exam3"
   ]
  },
  {
   "cell_type": "code",
   "execution_count": 196,
   "id": "8ee58d0d",
   "metadata": {},
   "outputs": [
    {
     "data": {
      "text/html": [
       "<div>\n",
       "<style scoped>\n",
       "    .dataframe tbody tr th:only-of-type {\n",
       "        vertical-align: middle;\n",
       "    }\n",
       "\n",
       "    .dataframe tbody tr th {\n",
       "        vertical-align: top;\n",
       "    }\n",
       "\n",
       "    .dataframe thead th {\n",
       "        text-align: right;\n",
       "    }\n",
       "</style>\n",
       "<table border=\"1\" class=\"dataframe\">\n",
       "  <thead>\n",
       "    <tr style=\"text-align: right;\">\n",
       "      <th></th>\n",
       "      <th>exam1</th>\n",
       "      <th>exam2</th>\n",
       "      <th>exam3</th>\n",
       "    </tr>\n",
       "  </thead>\n",
       "  <tbody>\n",
       "    <tr>\n",
       "      <th>student1</th>\n",
       "      <td>86.0</td>\n",
       "      <td>80.0</td>\n",
       "      <td>78.0</td>\n",
       "    </tr>\n",
       "    <tr>\n",
       "      <th>student2</th>\n",
       "      <td>65.0</td>\n",
       "      <td>87.0</td>\n",
       "      <td>80.0</td>\n",
       "    </tr>\n",
       "    <tr>\n",
       "      <th>student3</th>\n",
       "      <td>70.0</td>\n",
       "      <td>82.0</td>\n",
       "      <td>87.0</td>\n",
       "    </tr>\n",
       "    <tr>\n",
       "      <th>student4</th>\n",
       "      <td>98.0</td>\n",
       "      <td>95.0</td>\n",
       "      <td>89.0</td>\n",
       "    </tr>\n",
       "    <tr>\n",
       "      <th>student5</th>\n",
       "      <td>89.0</td>\n",
       "      <td>96.0</td>\n",
       "      <td>89.0</td>\n",
       "    </tr>\n",
       "  </tbody>\n",
       "</table>\n",
       "</div>"
      ],
      "text/plain": [
       "          exam1  exam2  exam3\n",
       "student1   86.0   80.0   78.0\n",
       "student2   65.0   87.0   80.0\n",
       "student3   70.0   82.0   87.0\n",
       "student4   98.0   95.0   89.0\n",
       "student5   89.0   96.0   89.0"
      ]
     },
     "execution_count": 196,
     "metadata": {},
     "output_type": "execute_result"
    }
   ],
   "source": [
    "# concatenate exams1and2 and exam3 along the columns (along axis 1)\n",
    "# result will be a new pandas dataframe\n",
    "pd.concat([exams1and2, exam3], axis=1)"
   ]
  },
  {
   "cell_type": "markdown",
   "id": "0f653ae6",
   "metadata": {},
   "source": [
    "## Grouping Data Pandas"
   ]
  },
  {
   "cell_type": "code",
   "execution_count": 197,
   "id": "ed6a1330",
   "metadata": {},
   "outputs": [],
   "source": [
    "# read grades.csv into a pandas dataframe & save the dataframe in a variable\n",
    "grades = pd.read_csv('grades.csv')"
   ]
  },
  {
   "cell_type": "code",
   "execution_count": 198,
   "id": "89036530",
   "metadata": {},
   "outputs": [
    {
     "data": {
      "text/html": [
       "<div>\n",
       "<style scoped>\n",
       "    .dataframe tbody tr th:only-of-type {\n",
       "        vertical-align: middle;\n",
       "    }\n",
       "\n",
       "    .dataframe tbody tr th {\n",
       "        vertical-align: top;\n",
       "    }\n",
       "\n",
       "    .dataframe thead th {\n",
       "        text-align: right;\n",
       "    }\n",
       "</style>\n",
       "<table border=\"1\" class=\"dataframe\">\n",
       "  <thead>\n",
       "    <tr style=\"text-align: right;\">\n",
       "      <th></th>\n",
       "      <th>exam</th>\n",
       "      <th>student_id</th>\n",
       "      <th>grade</th>\n",
       "    </tr>\n",
       "  </thead>\n",
       "  <tbody>\n",
       "    <tr>\n",
       "      <th>0</th>\n",
       "      <td>1</td>\n",
       "      <td>1</td>\n",
       "      <td>86.0</td>\n",
       "    </tr>\n",
       "    <tr>\n",
       "      <th>1</th>\n",
       "      <td>1</td>\n",
       "      <td>2</td>\n",
       "      <td>65.0</td>\n",
       "    </tr>\n",
       "    <tr>\n",
       "      <th>2</th>\n",
       "      <td>1</td>\n",
       "      <td>3</td>\n",
       "      <td>70.0</td>\n",
       "    </tr>\n",
       "    <tr>\n",
       "      <th>3</th>\n",
       "      <td>1</td>\n",
       "      <td>4</td>\n",
       "      <td>98.0</td>\n",
       "    </tr>\n",
       "    <tr>\n",
       "      <th>4</th>\n",
       "      <td>1</td>\n",
       "      <td>5</td>\n",
       "      <td>89.0</td>\n",
       "    </tr>\n",
       "    <tr>\n",
       "      <th>5</th>\n",
       "      <td>1</td>\n",
       "      <td>6</td>\n",
       "      <td>NaN</td>\n",
       "    </tr>\n",
       "    <tr>\n",
       "      <th>6</th>\n",
       "      <td>1</td>\n",
       "      <td>7</td>\n",
       "      <td>75.0</td>\n",
       "    </tr>\n",
       "    <tr>\n",
       "      <th>7</th>\n",
       "      <td>1</td>\n",
       "      <td>8</td>\n",
       "      <td>56.0</td>\n",
       "    </tr>\n",
       "    <tr>\n",
       "      <th>8</th>\n",
       "      <td>1</td>\n",
       "      <td>9</td>\n",
       "      <td>90.0</td>\n",
       "    </tr>\n",
       "    <tr>\n",
       "      <th>9</th>\n",
       "      <td>1</td>\n",
       "      <td>10</td>\n",
       "      <td>81.0</td>\n",
       "    </tr>\n",
       "    <tr>\n",
       "      <th>10</th>\n",
       "      <td>2</td>\n",
       "      <td>1</td>\n",
       "      <td>79.0</td>\n",
       "    </tr>\n",
       "    <tr>\n",
       "      <th>11</th>\n",
       "      <td>2</td>\n",
       "      <td>2</td>\n",
       "      <td>60.0</td>\n",
       "    </tr>\n",
       "    <tr>\n",
       "      <th>12</th>\n",
       "      <td>2</td>\n",
       "      <td>3</td>\n",
       "      <td>78.0</td>\n",
       "    </tr>\n",
       "    <tr>\n",
       "      <th>13</th>\n",
       "      <td>2</td>\n",
       "      <td>4</td>\n",
       "      <td>75.0</td>\n",
       "    </tr>\n",
       "    <tr>\n",
       "      <th>14</th>\n",
       "      <td>2</td>\n",
       "      <td>5</td>\n",
       "      <td>NaN</td>\n",
       "    </tr>\n",
       "    <tr>\n",
       "      <th>15</th>\n",
       "      <td>2</td>\n",
       "      <td>6</td>\n",
       "      <td>80.0</td>\n",
       "    </tr>\n",
       "    <tr>\n",
       "      <th>16</th>\n",
       "      <td>2</td>\n",
       "      <td>7</td>\n",
       "      <td>87.0</td>\n",
       "    </tr>\n",
       "    <tr>\n",
       "      <th>17</th>\n",
       "      <td>2</td>\n",
       "      <td>8</td>\n",
       "      <td>82.0</td>\n",
       "    </tr>\n",
       "    <tr>\n",
       "      <th>18</th>\n",
       "      <td>2</td>\n",
       "      <td>9</td>\n",
       "      <td>95.0</td>\n",
       "    </tr>\n",
       "    <tr>\n",
       "      <th>19</th>\n",
       "      <td>2</td>\n",
       "      <td>10</td>\n",
       "      <td>96.0</td>\n",
       "    </tr>\n",
       "    <tr>\n",
       "      <th>20</th>\n",
       "      <td>3</td>\n",
       "      <td>1</td>\n",
       "      <td>78.0</td>\n",
       "    </tr>\n",
       "    <tr>\n",
       "      <th>21</th>\n",
       "      <td>3</td>\n",
       "      <td>2</td>\n",
       "      <td>80.0</td>\n",
       "    </tr>\n",
       "    <tr>\n",
       "      <th>22</th>\n",
       "      <td>3</td>\n",
       "      <td>3</td>\n",
       "      <td>87.0</td>\n",
       "    </tr>\n",
       "    <tr>\n",
       "      <th>23</th>\n",
       "      <td>3</td>\n",
       "      <td>4</td>\n",
       "      <td>NaN</td>\n",
       "    </tr>\n",
       "    <tr>\n",
       "      <th>24</th>\n",
       "      <td>3</td>\n",
       "      <td>5</td>\n",
       "      <td>89.0</td>\n",
       "    </tr>\n",
       "    <tr>\n",
       "      <th>25</th>\n",
       "      <td>3</td>\n",
       "      <td>6</td>\n",
       "      <td>90.0</td>\n",
       "    </tr>\n",
       "    <tr>\n",
       "      <th>26</th>\n",
       "      <td>3</td>\n",
       "      <td>7</td>\n",
       "      <td>100.0</td>\n",
       "    </tr>\n",
       "    <tr>\n",
       "      <th>27</th>\n",
       "      <td>3</td>\n",
       "      <td>8</td>\n",
       "      <td>72.0</td>\n",
       "    </tr>\n",
       "    <tr>\n",
       "      <th>28</th>\n",
       "      <td>3</td>\n",
       "      <td>9</td>\n",
       "      <td>73.0</td>\n",
       "    </tr>\n",
       "    <tr>\n",
       "      <th>29</th>\n",
       "      <td>3</td>\n",
       "      <td>10</td>\n",
       "      <td>75.0</td>\n",
       "    </tr>\n",
       "    <tr>\n",
       "      <th>30</th>\n",
       "      <td>4</td>\n",
       "      <td>1</td>\n",
       "      <td>NaN</td>\n",
       "    </tr>\n",
       "    <tr>\n",
       "      <th>31</th>\n",
       "      <td>4</td>\n",
       "      <td>2</td>\n",
       "      <td>80.0</td>\n",
       "    </tr>\n",
       "    <tr>\n",
       "      <th>32</th>\n",
       "      <td>4</td>\n",
       "      <td>3</td>\n",
       "      <td>81.0</td>\n",
       "    </tr>\n",
       "    <tr>\n",
       "      <th>33</th>\n",
       "      <td>4</td>\n",
       "      <td>4</td>\n",
       "      <td>82.0</td>\n",
       "    </tr>\n",
       "    <tr>\n",
       "      <th>34</th>\n",
       "      <td>4</td>\n",
       "      <td>5</td>\n",
       "      <td>83.0</td>\n",
       "    </tr>\n",
       "    <tr>\n",
       "      <th>35</th>\n",
       "      <td>4</td>\n",
       "      <td>6</td>\n",
       "      <td>84.0</td>\n",
       "    </tr>\n",
       "    <tr>\n",
       "      <th>36</th>\n",
       "      <td>4</td>\n",
       "      <td>7</td>\n",
       "      <td>85.0</td>\n",
       "    </tr>\n",
       "    <tr>\n",
       "      <th>37</th>\n",
       "      <td>4</td>\n",
       "      <td>8</td>\n",
       "      <td>86.0</td>\n",
       "    </tr>\n",
       "    <tr>\n",
       "      <th>38</th>\n",
       "      <td>4</td>\n",
       "      <td>9</td>\n",
       "      <td>87.0</td>\n",
       "    </tr>\n",
       "    <tr>\n",
       "      <th>39</th>\n",
       "      <td>4</td>\n",
       "      <td>10</td>\n",
       "      <td>88.0</td>\n",
       "    </tr>\n",
       "    <tr>\n",
       "      <th>40</th>\n",
       "      <td>5</td>\n",
       "      <td>1</td>\n",
       "      <td>90.0</td>\n",
       "    </tr>\n",
       "    <tr>\n",
       "      <th>41</th>\n",
       "      <td>5</td>\n",
       "      <td>2</td>\n",
       "      <td>NaN</td>\n",
       "    </tr>\n",
       "    <tr>\n",
       "      <th>42</th>\n",
       "      <td>5</td>\n",
       "      <td>3</td>\n",
       "      <td>91.0</td>\n",
       "    </tr>\n",
       "    <tr>\n",
       "      <th>43</th>\n",
       "      <td>5</td>\n",
       "      <td>4</td>\n",
       "      <td>92.0</td>\n",
       "    </tr>\n",
       "    <tr>\n",
       "      <th>44</th>\n",
       "      <td>5</td>\n",
       "      <td>5</td>\n",
       "      <td>93.0</td>\n",
       "    </tr>\n",
       "    <tr>\n",
       "      <th>45</th>\n",
       "      <td>5</td>\n",
       "      <td>6</td>\n",
       "      <td>94.0</td>\n",
       "    </tr>\n",
       "    <tr>\n",
       "      <th>46</th>\n",
       "      <td>5</td>\n",
       "      <td>7</td>\n",
       "      <td>95.0</td>\n",
       "    </tr>\n",
       "    <tr>\n",
       "      <th>47</th>\n",
       "      <td>5</td>\n",
       "      <td>8</td>\n",
       "      <td>96.0</td>\n",
       "    </tr>\n",
       "    <tr>\n",
       "      <th>48</th>\n",
       "      <td>5</td>\n",
       "      <td>9</td>\n",
       "      <td>97.0</td>\n",
       "    </tr>\n",
       "    <tr>\n",
       "      <th>49</th>\n",
       "      <td>5</td>\n",
       "      <td>10</td>\n",
       "      <td>98.0</td>\n",
       "    </tr>\n",
       "  </tbody>\n",
       "</table>\n",
       "</div>"
      ],
      "text/plain": [
       "    exam  student_id  grade\n",
       "0      1           1   86.0\n",
       "1      1           2   65.0\n",
       "2      1           3   70.0\n",
       "3      1           4   98.0\n",
       "4      1           5   89.0\n",
       "5      1           6    NaN\n",
       "6      1           7   75.0\n",
       "7      1           8   56.0\n",
       "8      1           9   90.0\n",
       "9      1          10   81.0\n",
       "10     2           1   79.0\n",
       "11     2           2   60.0\n",
       "12     2           3   78.0\n",
       "13     2           4   75.0\n",
       "14     2           5    NaN\n",
       "15     2           6   80.0\n",
       "16     2           7   87.0\n",
       "17     2           8   82.0\n",
       "18     2           9   95.0\n",
       "19     2          10   96.0\n",
       "20     3           1   78.0\n",
       "21     3           2   80.0\n",
       "22     3           3   87.0\n",
       "23     3           4    NaN\n",
       "24     3           5   89.0\n",
       "25     3           6   90.0\n",
       "26     3           7  100.0\n",
       "27     3           8   72.0\n",
       "28     3           9   73.0\n",
       "29     3          10   75.0\n",
       "30     4           1    NaN\n",
       "31     4           2   80.0\n",
       "32     4           3   81.0\n",
       "33     4           4   82.0\n",
       "34     4           5   83.0\n",
       "35     4           6   84.0\n",
       "36     4           7   85.0\n",
       "37     4           8   86.0\n",
       "38     4           9   87.0\n",
       "39     4          10   88.0\n",
       "40     5           1   90.0\n",
       "41     5           2    NaN\n",
       "42     5           3   91.0\n",
       "43     5           4   92.0\n",
       "44     5           5   93.0\n",
       "45     5           6   94.0\n",
       "46     5           7   95.0\n",
       "47     5           8   96.0\n",
       "48     5           9   97.0\n",
       "49     5          10   98.0"
      ]
     },
     "execution_count": 198,
     "metadata": {},
     "output_type": "execute_result"
    }
   ],
   "source": [
    "# display grades\n",
    "grades"
   ]
  },
  {
   "cell_type": "code",
   "execution_count": 199,
   "id": "f7aaa1d2",
   "metadata": {},
   "outputs": [
    {
     "data": {
      "text/html": [
       "<div>\n",
       "<style scoped>\n",
       "    .dataframe tbody tr th:only-of-type {\n",
       "        vertical-align: middle;\n",
       "    }\n",
       "\n",
       "    .dataframe tbody tr th {\n",
       "        vertical-align: top;\n",
       "    }\n",
       "\n",
       "    .dataframe thead th {\n",
       "        text-align: right;\n",
       "    }\n",
       "</style>\n",
       "<table border=\"1\" class=\"dataframe\">\n",
       "  <thead>\n",
       "    <tr style=\"text-align: right;\">\n",
       "      <th></th>\n",
       "      <th>grade</th>\n",
       "    </tr>\n",
       "    <tr>\n",
       "      <th>student_id</th>\n",
       "      <th></th>\n",
       "    </tr>\n",
       "  </thead>\n",
       "  <tbody>\n",
       "    <tr>\n",
       "      <th>1</th>\n",
       "      <td>83.25</td>\n",
       "    </tr>\n",
       "    <tr>\n",
       "      <th>2</th>\n",
       "      <td>71.25</td>\n",
       "    </tr>\n",
       "    <tr>\n",
       "      <th>3</th>\n",
       "      <td>81.40</td>\n",
       "    </tr>\n",
       "    <tr>\n",
       "      <th>4</th>\n",
       "      <td>86.75</td>\n",
       "    </tr>\n",
       "    <tr>\n",
       "      <th>5</th>\n",
       "      <td>88.50</td>\n",
       "    </tr>\n",
       "    <tr>\n",
       "      <th>6</th>\n",
       "      <td>87.00</td>\n",
       "    </tr>\n",
       "    <tr>\n",
       "      <th>7</th>\n",
       "      <td>88.40</td>\n",
       "    </tr>\n",
       "    <tr>\n",
       "      <th>8</th>\n",
       "      <td>78.40</td>\n",
       "    </tr>\n",
       "    <tr>\n",
       "      <th>9</th>\n",
       "      <td>88.40</td>\n",
       "    </tr>\n",
       "    <tr>\n",
       "      <th>10</th>\n",
       "      <td>87.60</td>\n",
       "    </tr>\n",
       "  </tbody>\n",
       "</table>\n",
       "</div>"
      ],
      "text/plain": [
       "            grade\n",
       "student_id       \n",
       "1           83.25\n",
       "2           71.25\n",
       "3           81.40\n",
       "4           86.75\n",
       "5           88.50\n",
       "6           87.00\n",
       "7           88.40\n",
       "8           78.40\n",
       "9           88.40\n",
       "10          87.60"
      ]
     },
     "execution_count": 199,
     "metadata": {},
     "output_type": "execute_result"
    }
   ],
   "source": [
    "# drop exam column from grades, group by student_id, \n",
    "# and compute mean grade for each student_id\n",
    "# result will be a new pandas dataframe\n",
    "grades.drop(columns='exam').groupby('student_id').mean()"
   ]
  },
  {
   "cell_type": "code",
   "execution_count": 200,
   "id": "7884626f",
   "metadata": {},
   "outputs": [
    {
     "data": {
      "text/html": [
       "<div>\n",
       "<style scoped>\n",
       "    .dataframe tbody tr th:only-of-type {\n",
       "        vertical-align: middle;\n",
       "    }\n",
       "\n",
       "    .dataframe tbody tr th {\n",
       "        vertical-align: top;\n",
       "    }\n",
       "\n",
       "    .dataframe thead th {\n",
       "        text-align: right;\n",
       "    }\n",
       "</style>\n",
       "<table border=\"1\" class=\"dataframe\">\n",
       "  <thead>\n",
       "    <tr style=\"text-align: right;\">\n",
       "      <th></th>\n",
       "      <th>grade</th>\n",
       "    </tr>\n",
       "    <tr>\n",
       "      <th>exam</th>\n",
       "      <th></th>\n",
       "    </tr>\n",
       "  </thead>\n",
       "  <tbody>\n",
       "    <tr>\n",
       "      <th>1</th>\n",
       "      <td>78.888889</td>\n",
       "    </tr>\n",
       "    <tr>\n",
       "      <th>2</th>\n",
       "      <td>81.333333</td>\n",
       "    </tr>\n",
       "    <tr>\n",
       "      <th>3</th>\n",
       "      <td>82.666667</td>\n",
       "    </tr>\n",
       "    <tr>\n",
       "      <th>4</th>\n",
       "      <td>84.000000</td>\n",
       "    </tr>\n",
       "    <tr>\n",
       "      <th>5</th>\n",
       "      <td>94.000000</td>\n",
       "    </tr>\n",
       "  </tbody>\n",
       "</table>\n",
       "</div>"
      ],
      "text/plain": [
       "          grade\n",
       "exam           \n",
       "1     78.888889\n",
       "2     81.333333\n",
       "3     82.666667\n",
       "4     84.000000\n",
       "5     94.000000"
      ]
     },
     "execution_count": 200,
     "metadata": {},
     "output_type": "execute_result"
    }
   ],
   "source": [
    "# drop student_id column from grades, group by exam, \n",
    "# and compute mean grade for each exam\n",
    "# result will be a new pandas dataframe\n",
    "grades.drop(columns='student_id').groupby('exam').mean()"
   ]
  },
  {
   "cell_type": "markdown",
   "id": "d3c01e8c",
   "metadata": {},
   "source": [
    "## Chapter 6"
   ]
  },
  {
   "cell_type": "markdown",
   "id": "e9620d76",
   "metadata": {},
   "source": [
    "## Line Plots"
   ]
  },
  {
   "cell_type": "code",
   "execution_count": 205,
   "id": "2da5799d",
   "metadata": {},
   "outputs": [],
   "source": [
    "# import relevant libraries and modules\n",
    "import pandas as pd\n",
    "import matplotlib.pyplot as plt"
   ]
  },
  {
   "cell_type": "code",
   "execution_count": 206,
   "id": "a46d6f9b",
   "metadata": {},
   "outputs": [],
   "source": [
    "# create a list of days\n",
    "days = [1,2,3,4,5,6,7]\n",
    "\n",
    "# create a list of temperatures (in fahrenheit)\n",
    "temps = [72,73,77,81,79,72,68]\n",
    "\n",
    "# create a pandas dataframe \n",
    "# containing the temperatues (in fahrenheit) for 7 consecutive days in Santa Barbara, CA\n",
    "temp_sb = pd.DataFrame(data={'day':days,'temperature':temps})"
   ]
  },
  {
   "cell_type": "code",
   "execution_count": 207,
   "id": "37db4646",
   "metadata": {},
   "outputs": [],
   "source": [
    "# create a list of days\n",
    "days = [1,2,3,4,5,6,7]\n",
    "\n",
    "# create a list of temperatures (in fahrenheit)\n",
    "temps = [93,91,91,91,91,88,90]\n",
    "\n",
    "# create a pandas dataframe \n",
    "# containing the temperatues (in fahrenheit) for 7 consecutive days in Memphis, TN\n",
    "temp_mem = pd.DataFrame(data={'day':days,'temperature':temps})"
   ]
  },
  {
   "cell_type": "code",
   "execution_count": 208,
   "id": "eb5429a9",
   "metadata": {},
   "outputs": [
    {
     "data": {
      "text/html": [
       "<div>\n",
       "<style scoped>\n",
       "    .dataframe tbody tr th:only-of-type {\n",
       "        vertical-align: middle;\n",
       "    }\n",
       "\n",
       "    .dataframe tbody tr th {\n",
       "        vertical-align: top;\n",
       "    }\n",
       "\n",
       "    .dataframe thead th {\n",
       "        text-align: right;\n",
       "    }\n",
       "</style>\n",
       "<table border=\"1\" class=\"dataframe\">\n",
       "  <thead>\n",
       "    <tr style=\"text-align: right;\">\n",
       "      <th></th>\n",
       "      <th>day</th>\n",
       "      <th>temperature</th>\n",
       "    </tr>\n",
       "  </thead>\n",
       "  <tbody>\n",
       "    <tr>\n",
       "      <th>0</th>\n",
       "      <td>1</td>\n",
       "      <td>72</td>\n",
       "    </tr>\n",
       "    <tr>\n",
       "      <th>1</th>\n",
       "      <td>2</td>\n",
       "      <td>73</td>\n",
       "    </tr>\n",
       "    <tr>\n",
       "      <th>2</th>\n",
       "      <td>3</td>\n",
       "      <td>77</td>\n",
       "    </tr>\n",
       "    <tr>\n",
       "      <th>3</th>\n",
       "      <td>4</td>\n",
       "      <td>81</td>\n",
       "    </tr>\n",
       "    <tr>\n",
       "      <th>4</th>\n",
       "      <td>5</td>\n",
       "      <td>79</td>\n",
       "    </tr>\n",
       "    <tr>\n",
       "      <th>5</th>\n",
       "      <td>6</td>\n",
       "      <td>72</td>\n",
       "    </tr>\n",
       "    <tr>\n",
       "      <th>6</th>\n",
       "      <td>7</td>\n",
       "      <td>68</td>\n",
       "    </tr>\n",
       "  </tbody>\n",
       "</table>\n",
       "</div>"
      ],
      "text/plain": [
       "   day  temperature\n",
       "0    1           72\n",
       "1    2           73\n",
       "2    3           77\n",
       "3    4           81\n",
       "4    5           79\n",
       "5    6           72\n",
       "6    7           68"
      ]
     },
     "execution_count": 208,
     "metadata": {},
     "output_type": "execute_result"
    }
   ],
   "source": [
    "# display temp_sb\n",
    "temp_sb"
   ]
  },
  {
   "cell_type": "code",
   "execution_count": 209,
   "id": "6c2bb228",
   "metadata": {},
   "outputs": [
    {
     "data": {
      "text/html": [
       "<div>\n",
       "<style scoped>\n",
       "    .dataframe tbody tr th:only-of-type {\n",
       "        vertical-align: middle;\n",
       "    }\n",
       "\n",
       "    .dataframe tbody tr th {\n",
       "        vertical-align: top;\n",
       "    }\n",
       "\n",
       "    .dataframe thead th {\n",
       "        text-align: right;\n",
       "    }\n",
       "</style>\n",
       "<table border=\"1\" class=\"dataframe\">\n",
       "  <thead>\n",
       "    <tr style=\"text-align: right;\">\n",
       "      <th></th>\n",
       "      <th>day</th>\n",
       "      <th>temperature</th>\n",
       "    </tr>\n",
       "  </thead>\n",
       "  <tbody>\n",
       "    <tr>\n",
       "      <th>0</th>\n",
       "      <td>1</td>\n",
       "      <td>93</td>\n",
       "    </tr>\n",
       "    <tr>\n",
       "      <th>1</th>\n",
       "      <td>2</td>\n",
       "      <td>91</td>\n",
       "    </tr>\n",
       "    <tr>\n",
       "      <th>2</th>\n",
       "      <td>3</td>\n",
       "      <td>91</td>\n",
       "    </tr>\n",
       "    <tr>\n",
       "      <th>3</th>\n",
       "      <td>4</td>\n",
       "      <td>91</td>\n",
       "    </tr>\n",
       "    <tr>\n",
       "      <th>4</th>\n",
       "      <td>5</td>\n",
       "      <td>91</td>\n",
       "    </tr>\n",
       "    <tr>\n",
       "      <th>5</th>\n",
       "      <td>6</td>\n",
       "      <td>88</td>\n",
       "    </tr>\n",
       "    <tr>\n",
       "      <th>6</th>\n",
       "      <td>7</td>\n",
       "      <td>90</td>\n",
       "    </tr>\n",
       "  </tbody>\n",
       "</table>\n",
       "</div>"
      ],
      "text/plain": [
       "   day  temperature\n",
       "0    1           93\n",
       "1    2           91\n",
       "2    3           91\n",
       "3    4           91\n",
       "4    5           91\n",
       "5    6           88\n",
       "6    7           90"
      ]
     },
     "execution_count": 209,
     "metadata": {},
     "output_type": "execute_result"
    }
   ],
   "source": [
    "# display temp_mem\n",
    "temp_mem"
   ]
  },
  {
   "cell_type": "code",
   "execution_count": 210,
   "id": "24b43cbd",
   "metadata": {},
   "outputs": [
    {
     "data": {
      "image/png": "[encoded data removed]",
      "text/plain": [
       "<Figure size 432x288 with 1 Axes>"
      ]
     },
     "metadata": {
      "needs_background": "light"
     },
     "output_type": "display_data"
    }
   ],
   "source": [
    "# create a line plot of Santa Barbara data:\n",
    "# plot temperature versus day in Santa Barbara\n",
    "plt.plot(temp_sb['day'], temp_sb['temperature'])\n",
    "plt.xlabel('Day')\n",
    "plt.ylabel('Temperature (Fahrenheit)')\n",
    "plt.title('Temperature versus Day in Santa Barbara, CA')\n",
    "plt.show()"
   ]
  },
  {
   "cell_type": "code",
   "execution_count": 211,
   "id": "b55d6f70",
   "metadata": {},
   "outputs": [
    {
     "data": {
      "image/png": "[encoded data removed]",
      "text/plain": [
       "<Figure size 432x288 with 1 Axes>"
      ]
     },
     "metadata": {
      "needs_background": "light"
     },
     "output_type": "display_data"
    }
   ],
   "source": [
    "# create a line plot of Memphis data:\n",
    "# plot temperature versus day in Memphis\n",
    "plt.plot(temp_mem['day'], temp_mem['temperature'])\n",
    "plt.xlabel('Day')\n",
    "plt.ylabel('Temperature (Fahrenheit)')\n",
    "plt.title('Temperature versus Day in Memphis, TN')\n",
    "plt.show()"
   ]
  },
  {
   "cell_type": "code",
   "execution_count": 212,
   "id": "c68fa093",
   "metadata": {},
   "outputs": [
    {
     "data": {
      "image/png": "[encoded data removed]",
      "text/plain": [
       "<Figure size 432x288 with 1 Axes>"
      ]
     },
     "metadata": {
      "needs_background": "light"
     },
     "output_type": "display_data"
    }
   ],
   "source": [
    "# plot santa barbara data and memphis data on the same line plot with a legend\n",
    "plt.plot(temp_sb['day'], temp_sb['temperature'], label='Santa Barbara, CA')\n",
    "plt.plot(temp_mem['day'], temp_mem['temperature'], label='Memphis, TN')\n",
    "plt.xlabel('Day')\n",
    "plt.ylabel('Temperature (Fahrenheit)')\n",
    "plt.legend()\n",
    "plt.show()"
   ]
  },
  {
   "cell_type": "markdown",
   "id": "f4c6c3dc",
   "metadata": {},
   "source": [
    "## Scatter Plot"
   ]
  },
  {
   "cell_type": "code",
   "execution_count": 213,
   "id": "f9692e15",
   "metadata": {},
   "outputs": [],
   "source": [
    "# import relevant libraries and modules\n",
    "import pandas as pd\n",
    "import matplotlib.pyplot as plt"
   ]
  },
  {
   "cell_type": "code",
   "execution_count": 214,
   "id": "c4621f5f",
   "metadata": {},
   "outputs": [],
   "source": [
    "# create a list of temperatures (in fahrenheit)\n",
    "temp = [78, 89, 73, 75, 90, 99, 101,100,50,68,81, 85, 86, 70]\n",
    "\n",
    "# create a list of sales (in $)\n",
    "sale = [216,275,203,210,315,402,380,374,90,95,115,130,150,140]\n",
    "\n",
    "# create a pandas dataframe containing the the sales \n",
    "# (in dollars) of an ice cream truck for 14 days \n",
    "# and the (temperature) in fahrenheit for each day\n",
    "sales = pd.DataFrame(data={'temp':temp,'ice cream truck sale':sale})"
   ]
  },
  {
   "cell_type": "code",
   "execution_count": 215,
   "id": "b089f908",
   "metadata": {},
   "outputs": [
    {
     "data": {
      "text/html": [
       "<div>\n",
       "<style scoped>\n",
       "    .dataframe tbody tr th:only-of-type {\n",
       "        vertical-align: middle;\n",
       "    }\n",
       "\n",
       "    .dataframe tbody tr th {\n",
       "        vertical-align: top;\n",
       "    }\n",
       "\n",
       "    .dataframe thead th {\n",
       "        text-align: right;\n",
       "    }\n",
       "</style>\n",
       "<table border=\"1\" class=\"dataframe\">\n",
       "  <thead>\n",
       "    <tr style=\"text-align: right;\">\n",
       "      <th></th>\n",
       "      <th>temp</th>\n",
       "      <th>ice cream truck sale</th>\n",
       "    </tr>\n",
       "  </thead>\n",
       "  <tbody>\n",
       "    <tr>\n",
       "      <th>0</th>\n",
       "      <td>78</td>\n",
       "      <td>216</td>\n",
       "    </tr>\n",
       "    <tr>\n",
       "      <th>1</th>\n",
       "      <td>89</td>\n",
       "      <td>275</td>\n",
       "    </tr>\n",
       "    <tr>\n",
       "      <th>2</th>\n",
       "      <td>73</td>\n",
       "      <td>203</td>\n",
       "    </tr>\n",
       "    <tr>\n",
       "      <th>3</th>\n",
       "      <td>75</td>\n",
       "      <td>210</td>\n",
       "    </tr>\n",
       "    <tr>\n",
       "      <th>4</th>\n",
       "      <td>90</td>\n",
       "      <td>315</td>\n",
       "    </tr>\n",
       "    <tr>\n",
       "      <th>5</th>\n",
       "      <td>99</td>\n",
       "      <td>402</td>\n",
       "    </tr>\n",
       "    <tr>\n",
       "      <th>6</th>\n",
       "      <td>101</td>\n",
       "      <td>380</td>\n",
       "    </tr>\n",
       "    <tr>\n",
       "      <th>7</th>\n",
       "      <td>100</td>\n",
       "      <td>374</td>\n",
       "    </tr>\n",
       "    <tr>\n",
       "      <th>8</th>\n",
       "      <td>50</td>\n",
       "      <td>90</td>\n",
       "    </tr>\n",
       "    <tr>\n",
       "      <th>9</th>\n",
       "      <td>68</td>\n",
       "      <td>95</td>\n",
       "    </tr>\n",
       "    <tr>\n",
       "      <th>10</th>\n",
       "      <td>81</td>\n",
       "      <td>115</td>\n",
       "    </tr>\n",
       "    <tr>\n",
       "      <th>11</th>\n",
       "      <td>85</td>\n",
       "      <td>130</td>\n",
       "    </tr>\n",
       "    <tr>\n",
       "      <th>12</th>\n",
       "      <td>86</td>\n",
       "      <td>150</td>\n",
       "    </tr>\n",
       "    <tr>\n",
       "      <th>13</th>\n",
       "      <td>70</td>\n",
       "      <td>140</td>\n",
       "    </tr>\n",
       "  </tbody>\n",
       "</table>\n",
       "</div>"
      ],
      "text/plain": [
       "    temp  ice cream truck sale\n",
       "0     78                   216\n",
       "1     89                   275\n",
       "2     73                   203\n",
       "3     75                   210\n",
       "4     90                   315\n",
       "5     99                   402\n",
       "6    101                   380\n",
       "7    100                   374\n",
       "8     50                    90\n",
       "9     68                    95\n",
       "10    81                   115\n",
       "11    85                   130\n",
       "12    86                   150\n",
       "13    70                   140"
      ]
     },
     "execution_count": 215,
     "metadata": {},
     "output_type": "execute_result"
    }
   ],
   "source": [
    "# display sales\n",
    "sales"
   ]
  },
  {
   "cell_type": "code",
   "execution_count": 204,
   "id": "c9f9caee",
   "metadata": {},
   "outputs": [
    {
     "data": {
      "image/png": "[encoded data removed]",
      "text/plain": [
       "<Figure size 432x288 with 1 Axes>"
      ]
     },
     "metadata": {
      "needs_background": "light"
     },
     "output_type": "display_data"
    }
   ],
   "source": [
    "# create a scatter plot --- plot ice cream truck sale versus temp\n",
    "plt.scatter(sales['temp'], sales['ice cream truck sale'])\n",
    "plt.xlabel('Temperature (Fahrenheit)')\n",
    "plt.ylabel('Ice Cream Truck Sale ($)')\n",
    "plt.title('Ice Cream Truck Sale versus Temperature')\n",
    "plt.show()"
   ]
  },
  {
   "cell_type": "markdown",
   "id": "bea49955",
   "metadata": {},
   "source": [
    "## Bar Plots"
   ]
  },
  {
   "cell_type": "code",
   "execution_count": 216,
   "id": "80f6294e",
   "metadata": {},
   "outputs": [],
   "source": [
    "# create a pandas dataframe containing the means for five exams taken by a set of students\n",
    "# save in a variable named exam_means\n",
    "exam_means = pd.DataFrame(data={'exam':[1,2,3,4,5],\n",
    "                                'mean':[73.2,71.5,79.0,62.0,84.6]})"
   ]
  },
  {
   "cell_type": "code",
   "execution_count": 217,
   "id": "804d3dc0",
   "metadata": {},
   "outputs": [
    {
     "data": {
      "text/html": [
       "<div>\n",
       "<style scoped>\n",
       "    .dataframe tbody tr th:only-of-type {\n",
       "        vertical-align: middle;\n",
       "    }\n",
       "\n",
       "    .dataframe tbody tr th {\n",
       "        vertical-align: top;\n",
       "    }\n",
       "\n",
       "    .dataframe thead th {\n",
       "        text-align: right;\n",
       "    }\n",
       "</style>\n",
       "<table border=\"1\" class=\"dataframe\">\n",
       "  <thead>\n",
       "    <tr style=\"text-align: right;\">\n",
       "      <th></th>\n",
       "      <th>exam</th>\n",
       "      <th>mean</th>\n",
       "    </tr>\n",
       "  </thead>\n",
       "  <tbody>\n",
       "    <tr>\n",
       "      <th>0</th>\n",
       "      <td>1</td>\n",
       "      <td>73.2</td>\n",
       "    </tr>\n",
       "    <tr>\n",
       "      <th>1</th>\n",
       "      <td>2</td>\n",
       "      <td>71.5</td>\n",
       "    </tr>\n",
       "    <tr>\n",
       "      <th>2</th>\n",
       "      <td>3</td>\n",
       "      <td>79.0</td>\n",
       "    </tr>\n",
       "    <tr>\n",
       "      <th>3</th>\n",
       "      <td>4</td>\n",
       "      <td>62.0</td>\n",
       "    </tr>\n",
       "    <tr>\n",
       "      <th>4</th>\n",
       "      <td>5</td>\n",
       "      <td>84.6</td>\n",
       "    </tr>\n",
       "  </tbody>\n",
       "</table>\n",
       "</div>"
      ],
      "text/plain": [
       "   exam  mean\n",
       "0     1  73.2\n",
       "1     2  71.5\n",
       "2     3  79.0\n",
       "3     4  62.0\n",
       "4     5  84.6"
      ]
     },
     "execution_count": 217,
     "metadata": {},
     "output_type": "execute_result"
    }
   ],
   "source": [
    "# display exam_means\n",
    "exam_means"
   ]
  },
  {
   "cell_type": "code",
   "execution_count": 218,
   "id": "83d0da84",
   "metadata": {},
   "outputs": [
    {
     "data": {
      "image/png": "[encoded data removed]",
      "text/plain": [
       "<Figure size 432x288 with 1 Axes>"
      ]
     },
     "metadata": {
      "needs_background": "light"
     },
     "output_type": "display_data"
    }
   ],
   "source": [
    "# create a bar plot --- plot mean versus exam\n",
    "plt.bar(exam_means['exam'], exam_means['mean'])\n",
    "plt.xlabel('Exam')\n",
    "plt.ylabel('Mean')\n",
    "plt.show()"
   ]
  },
  {
   "cell_type": "markdown",
   "id": "09449a5a",
   "metadata": {},
   "source": [
    "## Pie Chart\n"
   ]
  },
  {
   "cell_type": "code",
   "execution_count": 219,
   "id": "0c1a11e7",
   "metadata": {},
   "outputs": [],
   "source": [
    "# create a list of categories\n",
    "categ = ['Homework', 'Labs', 'Quizzes', 'Midterm', 'Final']\n",
    "\n",
    "# create a list of weights (in %)\n",
    "weights = [15, 15, 15, 22, 33]\n",
    "\n",
    "# create a pandas dataframe containing the weighted components \n",
    "# used to give students their grades in a particular course\n",
    "breakdown = pd.DataFrame(data={'category':categ,'weight':weights})"
   ]
  },
  {
   "cell_type": "code",
   "execution_count": 220,
   "id": "abb0dd39",
   "metadata": {},
   "outputs": [
    {
     "data": {
      "text/html": [
       "<div>\n",
       "<style scoped>\n",
       "    .dataframe tbody tr th:only-of-type {\n",
       "        vertical-align: middle;\n",
       "    }\n",
       "\n",
       "    .dataframe tbody tr th {\n",
       "        vertical-align: top;\n",
       "    }\n",
       "\n",
       "    .dataframe thead th {\n",
       "        text-align: right;\n",
       "    }\n",
       "</style>\n",
       "<table border=\"1\" class=\"dataframe\">\n",
       "  <thead>\n",
       "    <tr style=\"text-align: right;\">\n",
       "      <th></th>\n",
       "      <th>category</th>\n",
       "      <th>weight</th>\n",
       "    </tr>\n",
       "  </thead>\n",
       "  <tbody>\n",
       "    <tr>\n",
       "      <th>0</th>\n",
       "      <td>Homework</td>\n",
       "      <td>15</td>\n",
       "    </tr>\n",
       "    <tr>\n",
       "      <th>1</th>\n",
       "      <td>Labs</td>\n",
       "      <td>15</td>\n",
       "    </tr>\n",
       "    <tr>\n",
       "      <th>2</th>\n",
       "      <td>Quizzes</td>\n",
       "      <td>15</td>\n",
       "    </tr>\n",
       "    <tr>\n",
       "      <th>3</th>\n",
       "      <td>Midterm</td>\n",
       "      <td>22</td>\n",
       "    </tr>\n",
       "    <tr>\n",
       "      <th>4</th>\n",
       "      <td>Final</td>\n",
       "      <td>33</td>\n",
       "    </tr>\n",
       "  </tbody>\n",
       "</table>\n",
       "</div>"
      ],
      "text/plain": [
       "   category  weight\n",
       "0  Homework      15\n",
       "1      Labs      15\n",
       "2   Quizzes      15\n",
       "3   Midterm      22\n",
       "4     Final      33"
      ]
     },
     "execution_count": 220,
     "metadata": {},
     "output_type": "execute_result"
    }
   ],
   "source": [
    "# display breakdown\n",
    "breakdown"
   ]
  },
  {
   "cell_type": "code",
   "execution_count": 221,
   "id": "4b3fa34a",
   "metadata": {},
   "outputs": [
    {
     "data": {
      "image/png": "[encoded data removed]",
      "text/plain": [
       "<Figure size 504x504 with 1 Axes>"
      ]
     },
     "metadata": {},
     "output_type": "display_data"
    }
   ],
   "source": [
    "# create a pie chart --- illustrate the breakdown of students' course \n",
    "# grades in a particular course\n",
    "plt.figure(figsize=(7,7))\n",
    "plt.pie(breakdown['weight'], labels=breakdown['category'], \n",
    "        autopct='%1.0f%%')\n",
    "plt.title('Breakdown of Course Grade')\n",
    "plt.show()"
   ]
  },
  {
   "cell_type": "markdown",
   "id": "fc5f953a",
   "metadata": {},
   "source": [
    "## Histogram"
   ]
  },
  {
   "cell_type": "code",
   "execution_count": 222,
   "id": "a9216d32",
   "metadata": {},
   "outputs": [],
   "source": [
    "# create a pandas series containing students' grades on Exam #1 in a particular course\n",
    "exam1_grades = pd.Series(np.random.normal(50, 15, 400))"
   ]
  },
  {
   "cell_type": "code",
   "execution_count": 223,
   "id": "32e7c626",
   "metadata": {},
   "outputs": [
    {
     "data": {
      "text/plain": [
       "0    56.979267\n",
       "1    48.140717\n",
       "2    46.521488\n",
       "3    30.051874\n",
       "4    53.095763\n",
       "dtype: float64"
      ]
     },
     "execution_count": 223,
     "metadata": {},
     "output_type": "execute_result"
    }
   ],
   "source": [
    "# display first few values in exam1_grades\n",
    "exam1_grades.head()"
   ]
  },
  {
   "cell_type": "code",
   "execution_count": 224,
   "id": "e32dd6e9",
   "metadata": {},
   "outputs": [
    {
     "data": {
      "image/png": "[encoded data removed]",
      "text/plain": [
       "<Figure size 432x288 with 1 Axes>"
      ]
     },
     "metadata": {
      "needs_background": "light"
     },
     "output_type": "display_data"
    }
   ],
   "source": [
    "# create a histogram --- visualize exam1_grades\n",
    "plt.hist(exam1_grades)\n",
    "plt.xlabel('Grade (%)')\n",
    "plt.ylabel('Count')\n",
    "plt.title('Distribution of Grades for Exam #1')\n",
    "plt.show()"
   ]
  },
  {
   "cell_type": "markdown",
   "id": "36b27a5c",
   "metadata": {},
   "source": [
    "## Subplots"
   ]
  },
  {
   "cell_type": "code",
   "execution_count": 225,
   "id": "04ee11f2",
   "metadata": {},
   "outputs": [],
   "source": [
    "# create a pandas series containing students' grades on Exam #1 in a particular course\n",
    "exam1_grades = pd.Series(np.random.normal(50, 15, 400))"
   ]
  },
  {
   "cell_type": "code",
   "execution_count": 226,
   "id": "5de7de1a",
   "metadata": {},
   "outputs": [],
   "source": [
    "# create a pandas series containing students' grades on Exam #2 in the same course\n",
    "exam2_grades = pd.Series(np.random.normal(60, 10, 400))"
   ]
  },
  {
   "cell_type": "code",
   "execution_count": 227,
   "id": "e663b09b",
   "metadata": {},
   "outputs": [
    {
     "data": {
      "text/plain": [
       "0    42.144654\n",
       "1    58.725325\n",
       "2    49.573887\n",
       "3    53.166365\n",
       "4    53.719261\n",
       "dtype: float64"
      ]
     },
     "execution_count": 227,
     "metadata": {},
     "output_type": "execute_result"
    }
   ],
   "source": [
    "# display first few values in exam1_grades\n",
    "exam1_grades.head()"
   ]
  },
  {
   "cell_type": "code",
   "execution_count": 228,
   "id": "24d09921",
   "metadata": {},
   "outputs": [
    {
     "data": {
      "text/plain": [
       "0    55.975289\n",
       "1    51.774943\n",
       "2    81.480904\n",
       "3    62.079183\n",
       "4    46.547136\n",
       "dtype: float64"
      ]
     },
     "execution_count": 228,
     "metadata": {},
     "output_type": "execute_result"
    }
   ],
   "source": [
    "# display first few values in exam2_grades\n",
    "exam2_grades.head()"
   ]
  },
  {
   "cell_type": "code",
   "execution_count": 229,
   "id": "8c766158",
   "metadata": {},
   "outputs": [
    {
     "data": {
      "image/png": "[encoded data removed]",
      "text/plain": [
       "<Figure size 720x360 with 2 Axes>"
      ]
     },
     "metadata": {
      "needs_background": "light"
     },
     "output_type": "display_data"
    }
   ],
   "source": [
    "# create 2 horizontally stacked subplots:\n",
    "# display histogram for exam1_grades and histogram for exam2_grades side by side\n",
    "\n",
    "figure, axes = plt.subplots(1, 2, figsize=(10,5))\n",
    "\n",
    "axes[0].hist(exam1_grades, color='green')\n",
    "axes[0].set_title('Distribution of Grades for Exam #1')\n",
    "axes[1].hist(exam2_grades, color='blue')\n",
    "axes[1].set_title('Distribution of Grades for Exam #2')\n",
    "\n",
    "for a in axes.flat:\n",
    "    a.set(xlabel='Grade (%)', ylabel='Count')\n",
    "    \n",
    "plt.show()"
   ]
  },
  {
   "cell_type": "markdown",
   "id": "8ec43bda",
   "metadata": {},
   "source": [
    "## Chapter 7"
   ]
  },
  {
   "cell_type": "markdown",
   "id": "29cc58ba",
   "metadata": {},
   "source": [
    "## BoxPlots"
   ]
  },
  {
   "cell_type": "code",
   "execution_count": 233,
   "id": "810ee537",
   "metadata": {},
   "outputs": [],
   "source": [
    "# import relevant libraries\n",
    "import pandas as pd\n",
    "import seaborn as sns\n",
    "# read grades.csv into a pandas dataframe & save the dataframe in a variable\n",
    "grades = pd.read_csv('grades.csv')"
   ]
  },
  {
   "cell_type": "code",
   "execution_count": 234,
   "id": "721424c8",
   "metadata": {},
   "outputs": [
    {
     "data": {
      "text/html": [
       "<div>\n",
       "<style scoped>\n",
       "    .dataframe tbody tr th:only-of-type {\n",
       "        vertical-align: middle;\n",
       "    }\n",
       "\n",
       "    .dataframe tbody tr th {\n",
       "        vertical-align: top;\n",
       "    }\n",
       "\n",
       "    .dataframe thead th {\n",
       "        text-align: right;\n",
       "    }\n",
       "</style>\n",
       "<table border=\"1\" class=\"dataframe\">\n",
       "  <thead>\n",
       "    <tr style=\"text-align: right;\">\n",
       "      <th></th>\n",
       "      <th>exam</th>\n",
       "      <th>student_id</th>\n",
       "      <th>grade</th>\n",
       "    </tr>\n",
       "  </thead>\n",
       "  <tbody>\n",
       "    <tr>\n",
       "      <th>0</th>\n",
       "      <td>1</td>\n",
       "      <td>1</td>\n",
       "      <td>86.0</td>\n",
       "    </tr>\n",
       "    <tr>\n",
       "      <th>1</th>\n",
       "      <td>1</td>\n",
       "      <td>2</td>\n",
       "      <td>65.0</td>\n",
       "    </tr>\n",
       "    <tr>\n",
       "      <th>2</th>\n",
       "      <td>1</td>\n",
       "      <td>3</td>\n",
       "      <td>70.0</td>\n",
       "    </tr>\n",
       "    <tr>\n",
       "      <th>3</th>\n",
       "      <td>1</td>\n",
       "      <td>4</td>\n",
       "      <td>98.0</td>\n",
       "    </tr>\n",
       "    <tr>\n",
       "      <th>4</th>\n",
       "      <td>1</td>\n",
       "      <td>5</td>\n",
       "      <td>89.0</td>\n",
       "    </tr>\n",
       "  </tbody>\n",
       "</table>\n",
       "</div>"
      ],
      "text/plain": [
       "   exam  student_id  grade\n",
       "0     1           1   86.0\n",
       "1     1           2   65.0\n",
       "2     1           3   70.0\n",
       "3     1           4   98.0\n",
       "4     1           5   89.0"
      ]
     },
     "execution_count": 234,
     "metadata": {},
     "output_type": "execute_result"
    }
   ],
   "source": [
    "# display first few rows of grades\n",
    "grades.head()"
   ]
  },
  {
   "cell_type": "code",
   "execution_count": 235,
   "id": "99986ed0",
   "metadata": {},
   "outputs": [
    {
     "data": {
      "image/png": "[encoded data removed]",
      "text/plain": [
       "<Figure size 432x288 with 1 Axes>"
      ]
     },
     "metadata": {
      "needs_background": "light"
     },
     "output_type": "display_data"
    }
   ],
   "source": [
    "# create a vertical box plot of the data in the grade column of the grades dataset\n",
    "sns.boxplot(y='grade', data=grades);"
   ]
  },
  {
   "cell_type": "code",
   "execution_count": 236,
   "id": "7b43d848",
   "metadata": {},
   "outputs": [
    {
     "data": {
      "image/png": "[encoded data removed]",
      "text/plain": [
       "<Figure size 432x288 with 1 Axes>"
      ]
     },
     "metadata": {
      "needs_background": "light"
     },
     "output_type": "display_data"
    }
   ],
   "source": [
    "# create a vertical boxplot of the data in the grade column of the grades dataset \n",
    "# grouped by exam\n",
    "sns.boxplot(x='exam', y='grade', data=grades);"
   ]
  },
  {
   "cell_type": "markdown",
   "id": "0a00a16b",
   "metadata": {},
   "source": [
    "## Kernel Density"
   ]
  },
  {
   "cell_type": "code",
   "execution_count": 237,
   "id": "4d5cf582",
   "metadata": {},
   "outputs": [],
   "source": [
    "# create a pandas series representing the scores of 400 students \n",
    "# on a particular exam\n",
    "scores = pd.Series(np.random.normal(70, 15, size=400))"
   ]
  },
  {
   "cell_type": "code",
   "execution_count": 238,
   "id": "f6196659",
   "metadata": {},
   "outputs": [],
   "source": [
    "# initialize mean as a list containing two means, \n",
    "# corresponding to the bivariate distribution\n",
    "mean = [60, 70]\n",
    "\n",
    "# initialize covariance_matrix as the covariance matrix \n",
    "# of the bivariate distribution\n",
    "covariance_matrix = [(1, .5), (.5, 1)]\n",
    "\n",
    "# initialize data as a two-dimensional numpy array containing \n",
    "# random samples drawn from \n",
    "# the specified bivariate normal distribution\n",
    "data = np.random.multivariate_normal(mean, \n",
    "                                     covariance_matrix, size=400)\n",
    "\n",
    "# initialize midterms as a pandas dataframe \n",
    "# containing data as column values \n",
    "# and midterm1, midterm2 as column labels\n",
    "midterms = pd.DataFrame(data, columns=[\"midterm1\", \"midterm2\"])"
   ]
  },
  {
   "cell_type": "code",
   "execution_count": 239,
   "id": "ab21af24",
   "metadata": {},
   "outputs": [
    {
     "data": {
      "text/plain": [
       "0    66.287644\n",
       "1    66.828713\n",
       "2    50.950913\n",
       "3    62.745157\n",
       "4    64.495271\n",
       "dtype: float64"
      ]
     },
     "execution_count": 239,
     "metadata": {},
     "output_type": "execute_result"
    }
   ],
   "source": [
    "# display first few values in scores\n",
    "scores.head()"
   ]
  },
  {
   "cell_type": "code",
   "execution_count": 240,
   "id": "9978a82f",
   "metadata": {},
   "outputs": [
    {
     "data": {
      "image/png": "[encoded data removed]",
      "text/plain": [
       "<Figure size 432x288 with 1 Axes>"
      ]
     },
     "metadata": {
      "needs_background": "light"
     },
     "output_type": "display_data"
    }
   ],
   "source": [
    "# create a kernel density estimate plot\n",
    "# to visualize the univariate distribution of scores\n",
    "sns.kdeplot(scores);"
   ]
  },
  {
   "cell_type": "code",
   "execution_count": 241,
   "id": "805f7039",
   "metadata": {},
   "outputs": [
    {
     "data": {
      "image/png": "[encoded data removed]",
      "text/plain": [
       "<Figure size 432x288 with 1 Axes>"
      ]
     },
     "metadata": {
      "needs_background": "light"
     },
     "output_type": "display_data"
    }
   ],
   "source": [
    "# create a shaded kernel density estimate plot\n",
    "# to visualize the univariate distribution of scores\n",
    "sns.kdeplot(scores, shade=True);"
   ]
  },
  {
   "cell_type": "code",
   "execution_count": 242,
   "id": "a68edcf3",
   "metadata": {},
   "outputs": [
    {
     "data": {
      "text/html": [
       "<div>\n",
       "<style scoped>\n",
       "    .dataframe tbody tr th:only-of-type {\n",
       "        vertical-align: middle;\n",
       "    }\n",
       "\n",
       "    .dataframe tbody tr th {\n",
       "        vertical-align: top;\n",
       "    }\n",
       "\n",
       "    .dataframe thead th {\n",
       "        text-align: right;\n",
       "    }\n",
       "</style>\n",
       "<table border=\"1\" class=\"dataframe\">\n",
       "  <thead>\n",
       "    <tr style=\"text-align: right;\">\n",
       "      <th></th>\n",
       "      <th>midterm1</th>\n",
       "      <th>midterm2</th>\n",
       "    </tr>\n",
       "  </thead>\n",
       "  <tbody>\n",
       "    <tr>\n",
       "      <th>0</th>\n",
       "      <td>59.850150</td>\n",
       "      <td>69.704398</td>\n",
       "    </tr>\n",
       "    <tr>\n",
       "      <th>1</th>\n",
       "      <td>60.497660</td>\n",
       "      <td>71.662953</td>\n",
       "    </tr>\n",
       "    <tr>\n",
       "      <th>2</th>\n",
       "      <td>59.089453</td>\n",
       "      <td>69.945242</td>\n",
       "    </tr>\n",
       "    <tr>\n",
       "      <th>3</th>\n",
       "      <td>58.844031</td>\n",
       "      <td>68.423547</td>\n",
       "    </tr>\n",
       "    <tr>\n",
       "      <th>4</th>\n",
       "      <td>59.241816</td>\n",
       "      <td>70.689407</td>\n",
       "    </tr>\n",
       "  </tbody>\n",
       "</table>\n",
       "</div>"
      ],
      "text/plain": [
       "    midterm1   midterm2\n",
       "0  59.850150  69.704398\n",
       "1  60.497660  71.662953\n",
       "2  59.089453  69.945242\n",
       "3  58.844031  68.423547\n",
       "4  59.241816  70.689407"
      ]
     },
     "execution_count": 242,
     "metadata": {},
     "output_type": "execute_result"
    }
   ],
   "source": [
    "# display first few rows of midterms\n",
    "midterms.head()"
   ]
  },
  {
   "cell_type": "code",
   "execution_count": 243,
   "id": "73c67dbc",
   "metadata": {},
   "outputs": [
    {
     "name": "stderr",
     "output_type": "stream",
     "text": [
      "S:\\Anaconda\\lib\\site-packages\\seaborn\\_decorators.py:36: FutureWarning: Pass the following variable as a keyword arg: y. From version 0.12, the only valid positional argument will be `data`, and passing other arguments without an explicit keyword will result in an error or misinterpretation.\n",
      "  warnings.warn(\n"
     ]
    },
    {
     "data": {
      "image/png": "[encoded data removed]",
      "text/plain": [
       "<Figure size 432x288 with 1 Axes>"
      ]
     },
     "metadata": {
      "needs_background": "light"
     },
     "output_type": "display_data"
    }
   ],
   "source": [
    "# create a two-dimensional kernel density estimate plot \n",
    "# to visualize the bivariate distribution of midterm1 and midterm2\n",
    "sns.kdeplot(midterms['midterm1'], midterms['midterm2']);"
   ]
  },
  {
   "cell_type": "code",
   "execution_count": 244,
   "id": "51018ea7",
   "metadata": {},
   "outputs": [
    {
     "name": "stderr",
     "output_type": "stream",
     "text": [
      "S:\\Anaconda\\lib\\site-packages\\seaborn\\_decorators.py:36: FutureWarning: Pass the following variable as a keyword arg: y. From version 0.12, the only valid positional argument will be `data`, and passing other arguments without an explicit keyword will result in an error or misinterpretation.\n",
      "  warnings.warn(\n"
     ]
    },
    {
     "data": {
      "image/png": "[encoded data removed]",
      "text/plain": [
       "<Figure size 432x288 with 1 Axes>"
      ]
     },
     "metadata": {
      "needs_background": "light"
     },
     "output_type": "display_data"
    }
   ],
   "source": [
    "# create a shaded two-dimensional kernel density estimate plot \n",
    "# to visualize the bivariate distribution of midterm1 and midterm2\n",
    "sns.kdeplot(midterms['midterm1'], midterms['midterm2'], shade=True);"
   ]
  },
  {
   "cell_type": "markdown",
   "id": "cefcfd62",
   "metadata": {},
   "source": [
    "## Violin Plots"
   ]
  },
  {
   "cell_type": "code",
   "execution_count": 245,
   "id": "b59a37c4",
   "metadata": {},
   "outputs": [],
   "source": [
    "# create a numpy array representing the scores of 400 students \n",
    "# on midterm1\n",
    "m1 = np.random.normal(70, 10, size=400)\n",
    "\n",
    "# create a numpy array representing the students' scores\n",
    "# on midterm2\n",
    "m2 = np.random.normal(80, 15, size=400)\n",
    "\n",
    "# create a numpy array representing the students' scores\n",
    "# on the final exam\n",
    "final = np.random.normal(75, 20, size=400)\n",
    "\n",
    "# create a list of the exam types\n",
    "exams = ['midterm1']*400 + ['midterm2']*400 + ['final']*400\n",
    "\n",
    "# create a numpy array containing all the scores\n",
    "scores = np.append(m1, np.array([m2, final]))\n",
    "\n",
    "# create a pandas dataframe representing midterm1, midterm2, and final exam scores\n",
    "# for the class of 400 students \n",
    "exam_scores = pd.DataFrame({'exam': exams, 'score': scores})"
   ]
  },
  {
   "cell_type": "code",
   "execution_count": 246,
   "id": "c2315ecd",
   "metadata": {},
   "outputs": [
    {
     "data": {
      "text/html": [
       "<div>\n",
       "<style scoped>\n",
       "    .dataframe tbody tr th:only-of-type {\n",
       "        vertical-align: middle;\n",
       "    }\n",
       "\n",
       "    .dataframe tbody tr th {\n",
       "        vertical-align: top;\n",
       "    }\n",
       "\n",
       "    .dataframe thead th {\n",
       "        text-align: right;\n",
       "    }\n",
       "</style>\n",
       "<table border=\"1\" class=\"dataframe\">\n",
       "  <thead>\n",
       "    <tr style=\"text-align: right;\">\n",
       "      <th></th>\n",
       "      <th>exam</th>\n",
       "      <th>score</th>\n",
       "    </tr>\n",
       "  </thead>\n",
       "  <tbody>\n",
       "    <tr>\n",
       "      <th>0</th>\n",
       "      <td>midterm1</td>\n",
       "      <td>63.484465</td>\n",
       "    </tr>\n",
       "    <tr>\n",
       "      <th>1</th>\n",
       "      <td>midterm1</td>\n",
       "      <td>65.329124</td>\n",
       "    </tr>\n",
       "    <tr>\n",
       "      <th>2</th>\n",
       "      <td>midterm1</td>\n",
       "      <td>71.971705</td>\n",
       "    </tr>\n",
       "    <tr>\n",
       "      <th>3</th>\n",
       "      <td>midterm1</td>\n",
       "      <td>62.939158</td>\n",
       "    </tr>\n",
       "    <tr>\n",
       "      <th>4</th>\n",
       "      <td>midterm1</td>\n",
       "      <td>77.619794</td>\n",
       "    </tr>\n",
       "  </tbody>\n",
       "</table>\n",
       "</div>"
      ],
      "text/plain": [
       "       exam      score\n",
       "0  midterm1  63.484465\n",
       "1  midterm1  65.329124\n",
       "2  midterm1  71.971705\n",
       "3  midterm1  62.939158\n",
       "4  midterm1  77.619794"
      ]
     },
     "execution_count": 246,
     "metadata": {},
     "output_type": "execute_result"
    }
   ],
   "source": [
    "# display first few rows of exam_scores\n",
    "exam_scores.head()"
   ]
  },
  {
   "cell_type": "code",
   "execution_count": 247,
   "id": "5e9e06d1",
   "metadata": {},
   "outputs": [
    {
     "data": {
      "image/png": "[encoded data removed]",
      "text/plain": [
       "<Figure size 432x288 with 1 Axes>"
      ]
     },
     "metadata": {
      "needs_background": "light"
     },
     "output_type": "display_data"
    }
   ],
   "source": [
    "# draw a vertical violin plot of the scores\n",
    "sns.violinplot(y='score', data=exam_scores);"
   ]
  },
  {
   "cell_type": "code",
   "execution_count": 248,
   "id": "80b953ad",
   "metadata": {},
   "outputs": [
    {
     "data": {
      "image/png": "[encoded data removed]",
      "text/plain": [
       "<Figure size 432x288 with 1 Axes>"
      ]
     },
     "metadata": {
      "needs_background": "light"
     },
     "output_type": "display_data"
    }
   ],
   "source": [
    "# draw a vertical violin plot of the scores grouped by exam type\n",
    "sns.violinplot(x='exam', y='score', data=exam_scores);"
   ]
  },
  {
   "cell_type": "markdown",
   "id": "d5a3aab4",
   "metadata": {},
   "source": [
    "## Heatmaps\n"
   ]
  },
  {
   "cell_type": "code",
   "execution_count": 249,
   "id": "cad84d7a",
   "metadata": {},
   "outputs": [],
   "source": [
    "# create a variable that contains a numpy array representing the sales of a small business for each of 12 months\n",
    "data = np.random.randint(100, 301, size=(12,12))\n",
    "\n",
    "# create a variable that contains the list of months\n",
    "months = ['January', 'February', 'March', 'April', 'May', 'June', 'July',\n",
    "         'August', 'September', 'October', 'November', 'December']\n",
    "\n",
    "# create a variable that contains a list of the years from 2008 to 2019 inclusive\n",
    "years = [2008, 2009, 2010, 2011, 2012, 2013, 2014, 2015, 2016, 2017, 2018, 2019]\n",
    "\n",
    "# create a variable named sales that contains a dataframe \n",
    "# the dataframe consists of the sales of a small business across 12 months\n",
    "# there is an entry for each month of each year between 2008 and 2019 inclusive\n",
    "sales = pd.DataFrame(data, index=months, columns=years)"
   ]
  },
  {
   "cell_type": "code",
   "execution_count": 250,
   "id": "ea0bac1e",
   "metadata": {},
   "outputs": [
    {
     "data": {
      "text/html": [
       "<div>\n",
       "<style scoped>\n",
       "    .dataframe tbody tr th:only-of-type {\n",
       "        vertical-align: middle;\n",
       "    }\n",
       "\n",
       "    .dataframe tbody tr th {\n",
       "        vertical-align: top;\n",
       "    }\n",
       "\n",
       "    .dataframe thead th {\n",
       "        text-align: right;\n",
       "    }\n",
       "</style>\n",
       "<table border=\"1\" class=\"dataframe\">\n",
       "  <thead>\n",
       "    <tr style=\"text-align: right;\">\n",
       "      <th></th>\n",
       "      <th>2008</th>\n",
       "      <th>2009</th>\n",
       "      <th>2010</th>\n",
       "      <th>2011</th>\n",
       "      <th>2012</th>\n",
       "      <th>2013</th>\n",
       "      <th>2014</th>\n",
       "      <th>2015</th>\n",
       "      <th>2016</th>\n",
       "      <th>2017</th>\n",
       "      <th>2018</th>\n",
       "      <th>2019</th>\n",
       "    </tr>\n",
       "  </thead>\n",
       "  <tbody>\n",
       "    <tr>\n",
       "      <th>January</th>\n",
       "      <td>228</td>\n",
       "      <td>269</td>\n",
       "      <td>176</td>\n",
       "      <td>201</td>\n",
       "      <td>300</td>\n",
       "      <td>188</td>\n",
       "      <td>109</td>\n",
       "      <td>105</td>\n",
       "      <td>116</td>\n",
       "      <td>151</td>\n",
       "      <td>280</td>\n",
       "      <td>297</td>\n",
       "    </tr>\n",
       "    <tr>\n",
       "      <th>February</th>\n",
       "      <td>163</td>\n",
       "      <td>268</td>\n",
       "      <td>256</td>\n",
       "      <td>104</td>\n",
       "      <td>165</td>\n",
       "      <td>131</td>\n",
       "      <td>236</td>\n",
       "      <td>109</td>\n",
       "      <td>202</td>\n",
       "      <td>235</td>\n",
       "      <td>252</td>\n",
       "      <td>153</td>\n",
       "    </tr>\n",
       "    <tr>\n",
       "      <th>March</th>\n",
       "      <td>215</td>\n",
       "      <td>177</td>\n",
       "      <td>147</td>\n",
       "      <td>113</td>\n",
       "      <td>286</td>\n",
       "      <td>183</td>\n",
       "      <td>229</td>\n",
       "      <td>220</td>\n",
       "      <td>209</td>\n",
       "      <td>256</td>\n",
       "      <td>294</td>\n",
       "      <td>108</td>\n",
       "    </tr>\n",
       "    <tr>\n",
       "      <th>April</th>\n",
       "      <td>285</td>\n",
       "      <td>291</td>\n",
       "      <td>198</td>\n",
       "      <td>164</td>\n",
       "      <td>256</td>\n",
       "      <td>194</td>\n",
       "      <td>126</td>\n",
       "      <td>266</td>\n",
       "      <td>203</td>\n",
       "      <td>296</td>\n",
       "      <td>261</td>\n",
       "      <td>150</td>\n",
       "    </tr>\n",
       "    <tr>\n",
       "      <th>May</th>\n",
       "      <td>237</td>\n",
       "      <td>295</td>\n",
       "      <td>217</td>\n",
       "      <td>128</td>\n",
       "      <td>226</td>\n",
       "      <td>300</td>\n",
       "      <td>259</td>\n",
       "      <td>121</td>\n",
       "      <td>121</td>\n",
       "      <td>292</td>\n",
       "      <td>122</td>\n",
       "      <td>155</td>\n",
       "    </tr>\n",
       "  </tbody>\n",
       "</table>\n",
       "</div>"
      ],
      "text/plain": [
       "          2008  2009  2010  2011  2012  2013  2014  2015  2016  2017  2018  \\\n",
       "January    228   269   176   201   300   188   109   105   116   151   280   \n",
       "February   163   268   256   104   165   131   236   109   202   235   252   \n",
       "March      215   177   147   113   286   183   229   220   209   256   294   \n",
       "April      285   291   198   164   256   194   126   266   203   296   261   \n",
       "May        237   295   217   128   226   300   259   121   121   292   122   \n",
       "\n",
       "          2019  \n",
       "January    297  \n",
       "February   153  \n",
       "March      108  \n",
       "April      150  \n",
       "May        155  "
      ]
     },
     "execution_count": 250,
     "metadata": {},
     "output_type": "execute_result"
    }
   ],
   "source": [
    "# display first few rows of sales\n",
    "sales.head()"
   ]
  },
  {
   "cell_type": "code",
   "execution_count": 251,
   "id": "c0f9194e",
   "metadata": {},
   "outputs": [
    {
     "data": {
      "image/png": "[encoded data removed]",
      "text/plain": [
       "<Figure size 432x288 with 2 Axes>"
      ]
     },
     "metadata": {
      "needs_background": "light"
     },
     "output_type": "display_data"
    }
   ],
   "source": [
    "# create a heatmap of sales\n",
    "sns.heatmap(sales);"
   ]
  },
  {
   "cell_type": "code",
   "execution_count": null,
   "id": "14f60be1",
   "metadata": {},
   "outputs": [],
   "source": []
  }
 ],
 "metadata": {
  "kernelspec": {
   "display_name": "Python 3 (ipykernel)",
   "language": "python",
   "name": "python3"
  },
  "language_info": {
   "codemirror_mode": {
    "name": "ipython",
    "version": 3
   },
   "file_extension": ".py",
   "mimetype": "text/x-python",
   "name": "python",
   "nbconvert_exporter": "python",
   "pygments_lexer": "ipython3",
   "version": "3.9.7"
  }
 },
 "nbformat": 4,
 "nbformat_minor": 5
}
